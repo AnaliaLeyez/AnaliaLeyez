{
  "cells": [
    {
      "cell_type": "markdown",
      "metadata": {
        "id": "view-in-github",
        "colab_type": "text"
      },
      "source": [
        "<a href=\"https://colab.research.google.com/github/AnaliaLeyez/AnaliaLeyez/blob/main/TP2_Leyez_Anal%C3%ADa.ipynb\" target=\"_parent\"><img src=\"https://colab.research.google.com/assets/colab-badge.svg\" alt=\"Open In Colab\"/></a>"
      ]
    },
    {
      "cell_type": "markdown",
      "id": "2902cc57",
      "metadata": {
        "id": "2902cc57"
      },
      "source": [
        "# TRABAJO PRÁCTICO 2\n",
        "---  \n",
        "El trabajo práctico consiste en responder una serie de preguntas utilizando mayormente las funciones de agrupamiento de pandas. Se utilizan dos archivos csv en google drive con información de emisión de gases de efecto invernadero provenientes de la FAO. Un archivo con datos correspondientes a todos los paises del mundo y el otro archivo solo con paises de América del Sur.\n",
        "\n",
        "Los datos con los que se trabajan correponden al año 2020 y son una porcion del dataset \"Emissions Totals\" de FAOSTAT que resume las emisiones de gases de efecto invernadero (GHG) generadas por los sistemas agroalimentarios y que se difunden en los dominios de Emisiones del Cambio Climático de FAOSTAT.\n",
        "\n",
        "Nota: Se recomienda revisar la descripción detallada del dataset en: [\"Emissions Totals\"](https://www.fao.org/faostat/es/#data/GT)"
      ]
    },
    {
      "cell_type": "markdown",
      "id": "15927c77",
      "metadata": {
        "id": "15927c77"
      },
      "source": [
        "## INFORMACIÓN PRELIMINAR"
      ]
    },
    {
      "cell_type": "markdown",
      "id": "e34b9493",
      "metadata": {
        "id": "e34b9493"
      },
      "source": [
        "La siguiente celda prepara dos dataframe **ghg_mundo** y **ghg_amesur** leyendo archivos ubicados en google drive que contienen una porción del dataset Totales de Emisión de la FAOSTAT.\n",
        "\n",
        "**DataFrames**\n",
        "\n",
        "* **ghg_mundo**: contienen los datos de emision de todos los paises del mundo\n",
        "* **ghg_amesur**: contienen los datos de emision de los paises de america del sur\n",
        "\n",
        "**Columnas**\n",
        "\n",
        "* **Ambito** Dominio/ sección del dataset FAOSTAT, en este caso \"Emisiones Totales\"\n",
        "* **Area**   Pais de origen de las emisiones\n",
        "* **Elemento** Nombre del gas de efecto invernadero (GHG)\n",
        "* **Producto** Nombre del item/producto/accion que genera la emisión\n",
        "* **Año**      Año del valor informado\n",
        "* **\"Unidad** Unidad del valor informado (en miles de toneladas)\n",
        "* **Valor** Valor informado\n",
        "\n",
        "**Fuentes**\n",
        "\n",
        "* **Origen** [FAOSTAT Emissions Totals\"](https://www.fao.org/faostat/es/#data/GT)\n",
        "\n"
      ]
    },
    {
      "cell_type": "markdown",
      "source": [
        "# IMPORTS"
      ],
      "metadata": {
        "id": "KT1xObNtk4K2"
      },
      "id": "KT1xObNtk4K2"
    },
    {
      "cell_type": "code",
      "execution_count": null,
      "id": "252e140d",
      "metadata": {
        "id": "252e140d"
      },
      "outputs": [],
      "source": [
        "import pandas as pd\n",
        "import numpy as np\n",
        "\n",
        "# opciones de pandas\n",
        "pd.options.display.max_columns = 20\n",
        "pd.options.display.max_rows = 120\n",
        "pd.options.display.min_rows = 80\n",
        "pd.options.display.max_colwidth = 80"
      ]
    },
    {
      "cell_type": "markdown",
      "source": [
        "# DATA"
      ],
      "metadata": {
        "id": "F1sQEoGekzuw"
      },
      "id": "F1sQEoGekzuw"
    },
    {
      "cell_type": "code",
      "source": [
        "# Esta celda prepara los dataframes necesarios para responder los ejercicios del trabajo práctico.\n",
        "url_mundo = \"https://drive.google.com/u/1/uc?id=1n_pkLS9Tn0K6yclNTzwYlAWRdHRqZM3a&export=download\"\n",
        "url_amesur = \"https://drive.google.com/u/1/uc?id=1vpEwDzzeiIiWM6-5LksiZNuKgy3DuDea&export=download\"\n",
        "\n",
        "# Preparamos los dos dataframe: ghg_mundo y ghg_amesur\n",
        "ghg_mundo = pd.read_csv(url_mundo)\n",
        "ghg_amesur = pd.read_csv(url_amesur)"
      ],
      "metadata": {
        "id": "hGmPtT9e31Rw"
      },
      "id": "hGmPtT9e31Rw",
      "execution_count": null,
      "outputs": []
    },
    {
      "cell_type": "markdown",
      "id": "db48410a",
      "metadata": {
        "id": "db48410a"
      },
      "source": [
        "# CONSIGNA Y RESOLUCIÓN\n",
        "\n",
        "Utilizando los dataframe preparados arriba:\n",
        "\n",
        "* **ghg_mundo**: con los datos a nivel del mundo\n",
        "* **ghg_amesur**: con los datos de america del sur\n",
        "\n",
        "Responder las siguientes preguntas y ejercicios:"
      ]
    },
    {
      "cell_type": "markdown",
      "source": [
        "## 1. Mostrar información general sobre las columnas, tipos de datos y cantidad de registros"
      ],
      "metadata": {
        "id": "IorKLoPWlwSt"
      },
      "id": "IorKLoPWlwSt"
    },
    {
      "cell_type": "code",
      "source": [
        "# 1. Mostrar información general sobre las columnas, tipos de datos y cantidad de registros\n",
        "\n",
        "#Información general del DataFrame mundial\n",
        "print(\"-------Información general del DataFrame ghg_mundo-------\\n\")\n",
        "ghg_mundo.info()\n",
        "\n",
        "\n",
        "#Información general del DataFrame de América del Sur\n",
        "print(\"\\n\\n-------Información general del DataFrame ghg_amesur------\\n\")\n",
        "ghg_amesur.info()"
      ],
      "metadata": {
        "id": "wI5bPfTNgjUu"
      },
      "id": "wI5bPfTNgjUu",
      "execution_count": null,
      "outputs": []
    },
    {
      "cell_type": "markdown",
      "source": [
        "__Conclusiones luego de correr el código.__\n",
        "\n",
        "* <u>DataFrame ghg_mundo</u>\n",
        "\n",
        "___Cantidad de registros:___ 11436\n",
        "\n",
        "___Columnas:___ 7\n",
        "\n",
        "___Nulos:___ No hay ya que la cantidad de non-null en cada columna coincide con el total de registros, por lo que no es necesario ver si eliminamos o cómo rellenamos los nulos.\n",
        "\n",
        "Solo las columnas Año y Valor son de tipo numérico, las demás columnas son tipo object\n",
        "\n",
        "---\n",
        "\n",
        "* <u>DataFrame ghg_amesur</u>\n",
        "\n",
        "___Cantidad de registros:___ 710\n",
        "\n",
        "___Columnas:___ 7\n",
        "\n",
        "___Nulos:___ No hay ya que la cantidad de non-null en cada columna coincide con el total de registros, por lo que no es necesario ver si eliminamos o cómo rellenamos los nulos.\n",
        "\n",
        "Solo las columnas Año y Valor son de tipo numérico, las demás columnas son tipo object"
      ],
      "metadata": {
        "id": "Htky9qIv4Veg"
      },
      "id": "Htky9qIv4Veg"
    },
    {
      "cell_type": "markdown",
      "source": [
        "## 2. Todos los valores informados tienen la misma unidad?"
      ],
      "metadata": {
        "id": "oi37Rj_Jlywd"
      },
      "id": "oi37Rj_Jlywd"
    },
    {
      "cell_type": "code",
      "execution_count": null,
      "id": "d7c7d8a3",
      "metadata": {
        "id": "d7c7d8a3"
      },
      "outputs": [],
      "source": [
        "# 2. Todos los valores informados tienen la misma unidad?\n",
        "\n",
        "#Traigo los valores de la columna \"Unidad\" sin repetir, por lo que uso unique()\n",
        "unidades_mundo = ghg_mundo['Unidad'].unique()\n",
        "unidades_amesur = ghg_amesur['Unidad'].unique()\n",
        "\n",
        "print(\"Las unidades de medición en ghg_mundo son: \\n\", unidades_mundo)\n",
        "print(\"\\n\\nLas unidades de medición en ghg_amesur son: \\n\", unidades_amesur)\n"
      ]
    },
    {
      "cell_type": "markdown",
      "source": [
        "__Respuesta__\n",
        "\n",
        "Sí, todos los valores informados tienen la misma unidad, tanto en ghg_mundo como en ghg_amesur. Todos se miden en \"mil toneladas\" (ya que al aplicar unique() no encontramos otra unidad), lo que facilita la comparación de mediciones.\n"
      ],
      "metadata": {
        "id": "CljJCZYk5CCG"
      },
      "id": "CljJCZYk5CCG"
    },
    {
      "cell_type": "markdown",
      "source": [
        "## 3. Cuales son los gases de efecto invernadero (GHG) informados?"
      ],
      "metadata": {
        "id": "Tb1sQkpil2QH"
      },
      "id": "Tb1sQkpil2QH"
    },
    {
      "cell_type": "code",
      "execution_count": null,
      "id": "06942ad5",
      "metadata": {
        "id": "06942ad5"
      },
      "outputs": [],
      "source": [
        "# 3. Cuales son los gases de efecto invernadero (GHG) informados?\n",
        "\n",
        "#Traigo los valores de la columna \"Elemento\" sin repetir, por lo que uso unique()\n",
        "gases_mundo = ghg_mundo['Elemento'].unique()\n",
        "gases_amesur = ghg_amesur['Elemento'].unique()\n",
        "\n",
        "print(\"Los gases de efecto invernadero (GHG) informados en ghg_mundo son: \\n\", gases_mundo)\n",
        "print(\"\\n\\nLos gases de efecto invernadero (GHG) informados en ghg_mundo son: \\n\", gases_amesur)"
      ]
    },
    {
      "cell_type": "markdown",
      "source": [
        "__Respuesta__\n",
        "Se consultó el DataFrame con los datos de América del Sur y del mundo para entender mejor si hubiera gases que se informan a nivel mundial pero no en América del Sur.\n",
        "Se observa que en ambos casos los gases informados son los mismos, Estos son:\n",
        "\n",
        "N2O, CH4 y CO2"
      ],
      "metadata": {
        "id": "QDufl8VndO07"
      },
      "id": "QDufl8VndO07"
    },
    {
      "cell_type": "markdown",
      "source": [
        "## 4. Cuales son los \"Productos\" que cuentan en la emisión de GHG a nivel mundial ?"
      ],
      "metadata": {
        "id": "XtvYCAdWl5Ir"
      },
      "id": "XtvYCAdWl5Ir"
    },
    {
      "cell_type": "code",
      "execution_count": null,
      "id": "2e381b53",
      "metadata": {
        "id": "2e381b53"
      },
      "outputs": [],
      "source": [
        "# 4. Cuales son los \"Productos\" que cuentan en la emisión de GHG a nivel mundial ?\n",
        "\n",
        "#Traigo los valores de la columna \"Producto\" sin repetir, por lo que uso unique()\n",
        "productos_mundo = ghg_mundo['Producto'].unique()\n",
        "\n",
        "print(\"Los productos que cuentan en la emisión de GHG a nivel mundial son: \\n\", productos_mundo)"
      ]
    },
    {
      "cell_type": "markdown",
      "source": [
        "## 5. Cual es el total de emision mundial ?"
      ],
      "metadata": {
        "id": "cjzlJZqRl9zV"
      },
      "id": "cjzlJZqRl9zV"
    },
    {
      "cell_type": "code",
      "execution_count": null,
      "id": "6437e23b",
      "metadata": {
        "id": "6437e23b"
      },
      "outputs": [],
      "source": [
        "# 5. Cual es el total de emision mundial ?\n",
        "\n",
        "#Sumo todos los valores de la columna \"Valor\"\n",
        "total_mundial = ghg_mundo['Valor'].sum().round(2)\n",
        "\n",
        "print(f\"El total de emisión mundial es: {total_mundial} mil toneladas\")"
      ]
    },
    {
      "cell_type": "markdown",
      "source": [
        "## 6. Cuales son los paises que más emiten y cuales los que menos emiten (mostrar 3 por cada caso)?"
      ],
      "metadata": {
        "id": "ycvbEIzUmBsB"
      },
      "id": "ycvbEIzUmBsB"
    },
    {
      "cell_type": "code",
      "execution_count": null,
      "id": "83ad9032",
      "metadata": {
        "id": "83ad9032"
      },
      "outputs": [],
      "source": [
        "# 6. Cuales son los paises que más emiten y cuales los que menos emiten (mostrar 3 por cada caso)?\n",
        "\n",
        "#Sumo el valor emitido, habiendo agrupado por área (país)\n",
        "emision_total_por_pais = ghg_mundo.groupby('Area')['Valor'].sum().round(2).reset_index()\n",
        "\n",
        "#Países que más emiten, ordeno de menor a mayor y tomo los últimos 3\n",
        "paises_mayor_emision = emision_total_por_pais.sort_values(by='Valor').tail(3)\n",
        "\n",
        "#Países que menos emiten, ordeno de menor a mayor y tomo los primeros 3\n",
        "paises_menor_emision= emision_total_por_pais.sort_values(by='Valor').head(3)\n",
        "\n",
        "print(\"Países que más emiten:\\n\", paises_mayor_emision)\n",
        "print(\"\\n\\nPaíses que menos emiten:\\n\", paises_menor_emision)"
      ]
    },
    {
      "cell_type": "markdown",
      "source": [
        "__Observación:__\n",
        "\n",
        "Debido a que los paises que menos emiten registran un valor negativo, busqué si esto era posible o debía elliminar dichos registros. Encontré que efectivamente es posible y sería un indicativo de queel paí está removiendo más gases de efecto invernadero de los que emite."
      ],
      "metadata": {
        "id": "RYbik9UvB8iw"
      },
      "id": "RYbik9UvB8iw"
    },
    {
      "cell_type": "markdown",
      "source": [
        "## 7. Cuál es la cantidad total de cada gas emitidos a nivel mundial?"
      ],
      "metadata": {
        "id": "t-jdy4iimFsV"
      },
      "id": "t-jdy4iimFsV"
    },
    {
      "cell_type": "code",
      "execution_count": null,
      "id": "b30a5ad1",
      "metadata": {
        "id": "b30a5ad1"
      },
      "outputs": [],
      "source": [
        "# 7. Cuales es la cantidad total de cada gas emitidos a nivel mundial?\n",
        "\n",
        "#Sumo el valor emitido, habiendo agrupado por Elemento\n",
        "emision_mundial_por_elemento = ghg_mundo.groupby('Elemento')['Valor'].sum().round(2).reset_index()\n",
        "\n",
        "print(\"Cantidad total de cada gas emitido a nivel mundial: \\n\", emision_mundial_por_elemento)"
      ]
    },
    {
      "cell_type": "markdown",
      "source": [
        "## 8. En américa del sur, cuales son los valores totales de cada gas emitido?"
      ],
      "metadata": {
        "id": "xH_j4PpSmJKt"
      },
      "id": "xH_j4PpSmJKt"
    },
    {
      "cell_type": "code",
      "execution_count": null,
      "id": "075b3517",
      "metadata": {
        "id": "075b3517"
      },
      "outputs": [],
      "source": [
        "# 8. En américa del sur, cuales son los valores totales de cada gas emitido?\n",
        "\n",
        "#Sumo el valor emitido, habiendo agrupado por Elemento\n",
        "emision_amesur_por_elemento = ghg_amesur.groupby('Elemento')['Valor'].sum().round(2).reset_index()\n",
        "\n",
        "print(\"Cantidad total de cada gas emitido en América del Sur: \\n\", emision_amesur_por_elemento)"
      ]
    },
    {
      "cell_type": "markdown",
      "source": [
        "América del Sur representa al rededor del 10% de las emisiones mundiales de gases GHG."
      ],
      "metadata": {
        "id": "DWugevAIGbXt"
      },
      "id": "DWugevAIGbXt"
    },
    {
      "cell_type": "markdown",
      "source": [
        "## 9. Basado en 7 y 8, indicar que porcentaje de cada gas corresponde a américa latina respecto del mundo."
      ],
      "metadata": {
        "id": "D9hWUysgmMpR"
      },
      "id": "D9hWUysgmMpR"
    },
    {
      "cell_type": "code",
      "execution_count": null,
      "id": "a7bd8163",
      "metadata": {
        "id": "a7bd8163"
      },
      "outputs": [],
      "source": [
        "# 9. Basado en 7 y 8, indicar que porcentaje de cada gas corresponde a américa latina respecto del mundo.\n",
        "\n",
        "#Calculo el porcentaje usando las variables ya declaradas en los puntos 7 y 8\n",
        "porcentaje = (emision_amesur_por_elemento['Valor'] / emision_mundial_por_elemento['Valor']) * 100\n",
        "porcentaje = porcentaje.round(2)\n",
        "\n",
        "#Creo una copia del Df usado en el punto 8 para luego sumarle el valor mundial y la nueva columna Porcentaje\n",
        "amesur_por_elemento = emision_amesur_por_elemento.copy()\n",
        "\n",
        "#Renombro 'Valor' por 'Valor AmeSur' para mayor claridad y distinción\n",
        "amesur_por_elemento.rename(columns={'Valor': 'Valor AmeSur'}, inplace=True)\n",
        "\n",
        "#Sumo la columna que muestra el valor mundial, para ver mejor la comparativa\n",
        "amesur_por_elemento['Valor mundial'] = emision_mundial_por_elemento['Valor']\n",
        "\n",
        "#Sumo una columna de porcentaje al Df\n",
        "amesur_por_elemento['Porcentaje AmeSur/Mundial'] = porcentaje\n",
        "\n",
        "print(\"Porcentaje de emisión de cada gas en América del Sur respecto al mundo:\\n\", amesur_por_elemento)"
      ]
    },
    {
      "cell_type": "markdown",
      "source": [
        "## 10. En america del sur, que productos emiten más GHG y cuales menos (mostrar todos)?"
      ],
      "metadata": {
        "id": "SC6NFPmDmSBq"
      },
      "id": "SC6NFPmDmSBq"
    },
    {
      "cell_type": "code",
      "execution_count": null,
      "id": "51902a6a",
      "metadata": {
        "id": "51902a6a"
      },
      "outputs": [],
      "source": [
        "# 10. En america del sur, que productos emiten más GHG y cuales menos (mostrar todos)?\n",
        "\n",
        "#Sumo las emisiones habiendo agrupado por Producto\n",
        "emision_amesur_por_producto = ghg_amesur.groupby('Producto')['Valor'].sum().round(2).reset_index()\n",
        "\n",
        "#Ordeno de mayor a menor emisión\n",
        "productos_amesur_ordenados = emision_amesur_por_producto.sort_values(by='Valor', ascending=False)\n",
        "\n",
        "print(\"Emisión de GHG por producto en América del Sur:\\n\", productos_amesur_ordenados)"
      ]
    },
    {
      "cell_type": "markdown",
      "source": [
        "## 11. Y en el mundo..., que productos emiten más GHG y cuales menos (mostrar todos)?"
      ],
      "metadata": {
        "id": "At1K8PzZmVWn"
      },
      "id": "At1K8PzZmVWn"
    },
    {
      "cell_type": "code",
      "execution_count": null,
      "id": "83774a84",
      "metadata": {
        "id": "83774a84"
      },
      "outputs": [],
      "source": [
        "# 11. Y en el mundo..., que productos emiten más GHG y cuales menos (mostrar todos)?\n",
        "\n",
        "#Sumo las emisiones habiendo agrupado por Producto\n",
        "emision_mundo_por_producto = ghg_mundo.groupby('Producto')['Valor'].sum().round(2).reset_index()\n",
        "\n",
        "#Ordeno de mayor a menor emisión\n",
        "productos_mundo_ordenados = emision_mundo_por_producto.sort_values(by='Valor', ascending=False)\n",
        "\n",
        "print(\"Emisión de GHG por producto en el mundo:\\n\", productos_mundo_ordenados)"
      ]
    },
    {
      "cell_type": "markdown",
      "source": [
        "## 12. En América del Sur, cuales son los paises que más y menos emiten (mostrar 3 por cada caso)?"
      ],
      "metadata": {
        "id": "C7hCD_bzmYLT"
      },
      "id": "C7hCD_bzmYLT"
    },
    {
      "cell_type": "code",
      "execution_count": null,
      "id": "3c27baec",
      "metadata": {
        "id": "3c27baec"
      },
      "outputs": [],
      "source": [
        "# 12. En América del Sur, cuales son los paises que más y menos emiten (mostrar 3 por cada caso)?\n",
        "\n",
        "#Sumo el valor emitido, habiendo agrupado por área país, usnado del Df de América del Sur\n",
        "emision_amesur_por_pais = ghg_amesur.groupby('Area')['Valor'].sum().round(2).reset_index()\n",
        "\n",
        "#Países que más emiten, ordeno de menor a mayor y tomo los últimos 3\n",
        "paises_mayor_emision_amesur = emision_amesur_por_pais.sort_values(by='Valor').tail(3)\n",
        "\n",
        "#Países que menos emiten, ordeno de menor a mayor y tomo los primeros 3\n",
        "paises_menor_emision_amesur= emision_amesur_por_pais.sort_values(by='Valor').head(3)\n",
        "\n",
        "print(\"Países que más emiten:\\n\", paises_mayor_emision_amesur)\n",
        "print(\"\\n\\nPaíses que menos emiten:\\n\", paises_menor_emision_amesur)"
      ]
    }
  ],
  "metadata": {
    "kernelspec": {
      "display_name": "Python 3 (ipykernel)",
      "language": "python",
      "name": "python3"
    },
    "language_info": {
      "codemirror_mode": {
        "name": "ipython",
        "version": 3
      },
      "file_extension": ".py",
      "mimetype": "text/x-python",
      "name": "python",
      "nbconvert_exporter": "python",
      "pygments_lexer": "ipython3",
      "version": "3.10.10"
    },
    "colab": {
      "provenance": [],
      "include_colab_link": true
    }
  },
  "nbformat": 4,
  "nbformat_minor": 5
}