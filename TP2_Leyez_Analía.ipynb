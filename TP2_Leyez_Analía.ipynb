{
  "cells": [
    {
      "cell_type": "markdown",
      "metadata": {
        "id": "view-in-github",
        "colab_type": "text"
      },
      "source": [
        "<a href=\"https://colab.research.google.com/github/AnaliaLeyez/AnaliaLeyez/blob/main/TP2_Leyez_Anal%C3%ADa.ipynb\" target=\"_parent\"><img src=\"https://colab.research.google.com/assets/colab-badge.svg\" alt=\"Open In Colab\"/></a>"
      ]
    },
    {
      "cell_type": "markdown",
      "id": "2902cc57",
      "metadata": {
        "id": "2902cc57"
      },
      "source": [
        "# TRABAJO PRÁCTICO 2\n",
        "---  \n",
        "El trabajo práctico consiste en responder una serie de preguntas utilizando mayormente las funciones de agrupamiento de pandas. Se utilizan dos archivos csv en google drive con información de emisión de gases de efecto invernadero provenientes de la FAO. Un archivo con datos correspondientes a todos los paises del mundo y el otro archivo solo con paises de América del Sur.\n",
        "\n",
        "Los datos con los que se trabajan correponden al año 2020 y son una porcion del dataset \"Emissions Totals\" de FAOSTAT que resume las emisiones de gases de efecto invernadero (GHG) generadas por los sistemas agroalimentarios y que se difunden en los dominios de Emisiones del Cambio Climático de FAOSTAT.\n",
        "\n",
        "Nota: Se recomienda revisar la descripción detallada del dataset en: [\"Emissions Totals\"](https://www.fao.org/faostat/es/#data/GT)"
      ]
    },
    {
      "cell_type": "markdown",
      "id": "15927c77",
      "metadata": {
        "id": "15927c77"
      },
      "source": [
        "## INFORMACIÓN PRELIMINAR"
      ]
    },
    {
      "cell_type": "markdown",
      "id": "e34b9493",
      "metadata": {
        "id": "e34b9493"
      },
      "source": [
        "La siguiente celda prepara dos dataframe **ghg_mundo** y **ghg_amesur** leyendo archivos ubicados en google drive que contienen una porción del dataset Totales de Emisión de la FAOSTAT.\n",
        "\n",
        "**DataFrames**\n",
        "\n",
        "* **ghg_mundo**: contienen los datos de emision de todos los paises del mundo\n",
        "* **ghg_amesur**: contienen los datos de emision de los paises de america del sur\n",
        "\n",
        "**Columnas**\n",
        "\n",
        "* **Ambito** Dominio/ sección del dataset FAOSTAT, en este caso \"Emisiones Totales\"\n",
        "* **Area**   Pais de origen de las emisiones\n",
        "* **Elemento** Nombre del gas de efecto invernadero (GHG)\n",
        "* **Producto** Nombre del item/producto/accion que genera la emisión\n",
        "* **Año**      Año del valor informado\n",
        "* **\"Unidad** Unidad del valor informado (en miles de toneladas)\n",
        "* **Valor** Valor informado\n",
        "\n",
        "**Fuentes**\n",
        "\n",
        "* **Origen** [FAOSTAT Emissions Totals\"](https://www.fao.org/faostat/es/#data/GT)\n",
        "\n"
      ]
    },
    {
      "cell_type": "markdown",
      "source": [
        "# IMPORTS"
      ],
      "metadata": {
        "id": "KT1xObNtk4K2"
      },
      "id": "KT1xObNtk4K2"
    },
    {
      "cell_type": "code",
      "execution_count": null,
      "id": "252e140d",
      "metadata": {
        "id": "252e140d"
      },
      "outputs": [],
      "source": [
        "import pandas as pd\n",
        "import numpy as np\n",
        "\n",
        "# opciones de pandas\n",
        "pd.options.display.max_columns = 20\n",
        "pd.options.display.max_rows = 120\n",
        "pd.options.display.min_rows = 80\n",
        "pd.options.display.max_colwidth = 80"
      ]
    },
    {
      "cell_type": "markdown",
      "source": [
        "# DATA"
      ],
      "metadata": {
        "id": "F1sQEoGekzuw"
      },
      "id": "F1sQEoGekzuw"
    },
    {
      "cell_type": "code",
      "source": [
        "# Esta celda prepara los dataframes necesarios para responder los ejercicios del trabajo práctico.\n",
        "url_mundo = \"https://drive.google.com/u/1/uc?id=1n_pkLS9Tn0K6yclNTzwYlAWRdHRqZM3a&export=download\"\n",
        "url_amesur = \"https://drive.google.com/u/1/uc?id=1vpEwDzzeiIiWM6-5LksiZNuKgy3DuDea&export=download\"\n",
        "\n",
        "# Preparamos los dos dataframe: ghg_mundo y ghg_amesur\n",
        "ghg_mundo = pd.read_csv(url_mundo)\n",
        "ghg_amesur = pd.read_csv(url_amesur)"
      ],
      "metadata": {
        "id": "hGmPtT9e31Rw"
      },
      "id": "hGmPtT9e31Rw",
      "execution_count": null,
      "outputs": []
    },
    {
      "cell_type": "markdown",
      "id": "db48410a",
      "metadata": {
        "id": "db48410a"
      },
      "source": [
        "# CONSIGNA Y RESOLUCIÓN\n",
        "\n",
        "Utilizando los dataframe preparados arriba:\n",
        "\n",
        "* **ghg_mundo**: con los datos a nivel del mundo\n",
        "* **ghg_amesur**: con los datos de america del sur\n",
        "\n",
        "Responder las siguientes preguntas y ejercicios:"
      ]
    },
    {
      "cell_type": "markdown",
      "source": [
        "## 1. Mostrar información general sobre las columnas, tipos de datos y cantidad de registros"
      ],
      "metadata": {
        "id": "IorKLoPWlwSt"
      },
      "id": "IorKLoPWlwSt"
    },
    {
      "cell_type": "code",
      "source": [
        "# 1. Mostrar información general sobre las columnas, tipos de datos y cantidad de registros\n",
        "\n"
      ],
      "metadata": {
        "id": "wI5bPfTNgjUu"
      },
      "id": "wI5bPfTNgjUu",
      "execution_count": null,
      "outputs": []
    },
    {
      "cell_type": "markdown",
      "source": [
        "## 2. Todos los valores informados tienen la misma unidad?"
      ],
      "metadata": {
        "id": "oi37Rj_Jlywd"
      },
      "id": "oi37Rj_Jlywd"
    },
    {
      "cell_type": "code",
      "execution_count": null,
      "id": "d7c7d8a3",
      "metadata": {
        "id": "d7c7d8a3"
      },
      "outputs": [],
      "source": [
        "# 2. Todos los valores informados tienen la misma unidad?\n",
        "\n",
        "\n"
      ]
    },
    {
      "cell_type": "markdown",
      "source": [
        "## 3. Cuales son los gases de efecto invernadero (GHG) informados?"
      ],
      "metadata": {
        "id": "Tb1sQkpil2QH"
      },
      "id": "Tb1sQkpil2QH"
    },
    {
      "cell_type": "code",
      "execution_count": null,
      "id": "06942ad5",
      "metadata": {
        "id": "06942ad5"
      },
      "outputs": [],
      "source": [
        "# 3. Cuales son los gases de efecto invernadero (GHG) informados?\n",
        "\n"
      ]
    },
    {
      "cell_type": "markdown",
      "source": [
        "## 4. Cuales son los \"Productos\" que cuentan en la emisión de GHG a nivel mundial ?"
      ],
      "metadata": {
        "id": "XtvYCAdWl5Ir"
      },
      "id": "XtvYCAdWl5Ir"
    },
    {
      "cell_type": "code",
      "execution_count": null,
      "id": "2e381b53",
      "metadata": {
        "id": "2e381b53"
      },
      "outputs": [],
      "source": [
        "# 4. Cuales son los \"Productos\" que cuentan en la emisión de GHG a nivel mundial ?\n"
      ]
    },
    {
      "cell_type": "markdown",
      "source": [
        "## 5. Cual es el total de emision mundial ?"
      ],
      "metadata": {
        "id": "cjzlJZqRl9zV"
      },
      "id": "cjzlJZqRl9zV"
    },
    {
      "cell_type": "code",
      "execution_count": null,
      "id": "6437e23b",
      "metadata": {
        "id": "6437e23b"
      },
      "outputs": [],
      "source": [
        "# 5. Cual es el total de emision mundial ?\n",
        "\n"
      ]
    },
    {
      "cell_type": "markdown",
      "source": [
        "## 6. Cuales son los paises que más emiten y cuales los que menos emiten (mostrar 3 por cada caso)?"
      ],
      "metadata": {
        "id": "ycvbEIzUmBsB"
      },
      "id": "ycvbEIzUmBsB"
    },
    {
      "cell_type": "code",
      "execution_count": null,
      "id": "83ad9032",
      "metadata": {
        "id": "83ad9032"
      },
      "outputs": [],
      "source": [
        "# 6. Cuales son los paises que más emiten y cuales los que menos emiten (mostrar 3 por cada caso)?\n",
        "\n",
        "\n"
      ]
    },
    {
      "cell_type": "markdown",
      "source": [
        "## 7. Cuales es la cantidad total de cada gas emitidos a nivel mundial?"
      ],
      "metadata": {
        "id": "t-jdy4iimFsV"
      },
      "id": "t-jdy4iimFsV"
    },
    {
      "cell_type": "code",
      "execution_count": null,
      "id": "b30a5ad1",
      "metadata": {
        "id": "b30a5ad1"
      },
      "outputs": [],
      "source": [
        "# 7. Cuales es la cantidad total de cada gas emitidos a nivel mundial?\n",
        "\n",
        "\n"
      ]
    },
    {
      "cell_type": "markdown",
      "source": [
        "## 8. En américa del sur, cuales son los valores totales de cada gas emitido?"
      ],
      "metadata": {
        "id": "xH_j4PpSmJKt"
      },
      "id": "xH_j4PpSmJKt"
    },
    {
      "cell_type": "code",
      "execution_count": null,
      "id": "075b3517",
      "metadata": {
        "id": "075b3517"
      },
      "outputs": [],
      "source": [
        "# 8. En américa del sur, cuales son los valores totales de cada gas emitido?\n",
        "\n",
        "\n"
      ]
    },
    {
      "cell_type": "markdown",
      "source": [
        "## 9. Basado en 7 y 8, indicar que porcentaje de cada gas corresponde a américa latina respecto del mundo."
      ],
      "metadata": {
        "id": "D9hWUysgmMpR"
      },
      "id": "D9hWUysgmMpR"
    },
    {
      "cell_type": "code",
      "execution_count": null,
      "id": "a7bd8163",
      "metadata": {
        "id": "a7bd8163"
      },
      "outputs": [],
      "source": [
        "# 9. Basado en 7 y 8, indicar que porcentaje de cada gas corresponde a américa latina respecto del mundo.\n"
      ]
    },
    {
      "cell_type": "markdown",
      "source": [
        "## 10. En america del sur, que productos emiten más GHG y cuales menos (mostrar todos)?"
      ],
      "metadata": {
        "id": "SC6NFPmDmSBq"
      },
      "id": "SC6NFPmDmSBq"
    },
    {
      "cell_type": "code",
      "execution_count": null,
      "id": "51902a6a",
      "metadata": {
        "id": "51902a6a"
      },
      "outputs": [],
      "source": [
        "# 10. En america del sur, que productos emiten más GHG y cuales menos (mostrar todos)?\n",
        "\n",
        "\n"
      ]
    },
    {
      "cell_type": "markdown",
      "source": [
        "## 11. Y en el mundo..., que productos emiten más GHG y cuales menos (mostrar todos)?"
      ],
      "metadata": {
        "id": "At1K8PzZmVWn"
      },
      "id": "At1K8PzZmVWn"
    },
    {
      "cell_type": "code",
      "execution_count": null,
      "id": "83774a84",
      "metadata": {
        "id": "83774a84"
      },
      "outputs": [],
      "source": [
        "# 11. Y en el mundo..., que productos emiten más GHG y cuales menos (mostrar todos)?\n",
        "\n",
        "\n"
      ]
    },
    {
      "cell_type": "markdown",
      "source": [
        "## 12. En América del Sur, cuales son los paises que más y menos emiten (mostrar 3 por cada caso)?"
      ],
      "metadata": {
        "id": "C7hCD_bzmYLT"
      },
      "id": "C7hCD_bzmYLT"
    },
    {
      "cell_type": "code",
      "execution_count": null,
      "id": "3c27baec",
      "metadata": {
        "id": "3c27baec"
      },
      "outputs": [],
      "source": [
        "# 12. En América del Sur, cuales son los paises que más y menos emiten (mostrar 3 por cada caso)?\n",
        "\n",
        "\n"
      ]
    }
  ],
  "metadata": {
    "kernelspec": {
      "display_name": "Python 3 (ipykernel)",
      "language": "python",
      "name": "python3"
    },
    "language_info": {
      "codemirror_mode": {
        "name": "ipython",
        "version": 3
      },
      "file_extension": ".py",
      "mimetype": "text/x-python",
      "name": "python",
      "nbconvert_exporter": "python",
      "pygments_lexer": "ipython3",
      "version": "3.10.10"
    },
    "colab": {
      "provenance": [],
      "include_colab_link": true
    }
  },
  "nbformat": 4,
  "nbformat_minor": 5
}