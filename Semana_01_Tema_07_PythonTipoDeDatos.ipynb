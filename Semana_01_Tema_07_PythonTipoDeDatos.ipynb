{
  "nbformat": 4,
  "nbformat_minor": 0,
  "metadata": {
    "colab": {
      "provenance": [],
      "include_colab_link": true
    },
    "kernelspec": {
      "name": "python3",
      "display_name": "Python 3"
    },
    "language_info": {
      "name": "python"
    }
  },
  "cells": [
    {
      "cell_type": "markdown",
      "metadata": {
        "id": "view-in-github",
        "colab_type": "text"
      },
      "source": [
        "<a href=\"https://colab.research.google.com/github/AnaliaLeyez/AnaliaLeyez/blob/main/Semana_01_Tema_07_PythonTipoDeDatos.ipynb\" target=\"_parent\"><img src=\"https://colab.research.google.com/assets/colab-badge.svg\" alt=\"Open In Colab\"/></a>"
      ]
    },
    {
      "cell_type": "markdown",
      "source": [
        "# str\n"
      ],
      "metadata": {
        "id": "yHEDfw1dDPVo"
      }
    },
    {
      "cell_type": "code",
      "source": [
        "str_:str=\"Hola mundo!\"\n",
        "print(f\"str_: {str_} - tipo: {type(str_)}\")"
      ],
      "metadata": {
        "colab": {
          "base_uri": "https://localhost:8080/"
        },
        "id": "faYqMOFiDQxB",
        "outputId": "2b9868c0-5bd5-4d3b-cbc1-c61d04fc63f8"
      },
      "execution_count": null,
      "outputs": [
        {
          "output_type": "stream",
          "name": "stdout",
          "text": [
            "str_: Hola mundo! - tipo: <class 'str'>\n"
          ]
        }
      ]
    },
    {
      "cell_type": "code",
      "source": [
        "a=\" hola \"\n",
        "b=\"MUNDo! \"\n",
        "c= a+b\n",
        "print(f\"a=#{a}# - b=#{b}#\")\n",
        "print(\"-----\")\n",
        "\n",
        "print(\"a+b=#\", c, \"#\")\n",
        "print(\"-----\")\n",
        "\n",
        "c=\"%s%s\" % (a,b)\n",
        "print('\"%s%s\" % (a,b)=#', c, \"#\")\n",
        "print(\"-----\")\n",
        "\n",
        "c=\"{}{}\".format(a,b)\n",
        "print('\"{}{}\".format(a,b)=#', c, \"#\")\n",
        "print(\"-----\")\n",
        "\n",
        "c=f\"{a+b}\"\n",
        "print('f\"{a+b}\"=#',c, \"#\")\n",
        "print(\"-----\")\n",
        "\n",
        "c=f\"{a}{b}\"\n",
        "print('f\"{a}{b}\"=#',c, \"#\")"
      ],
      "metadata": {
        "colab": {
          "base_uri": "https://localhost:8080/"
        },
        "id": "U6RYCkBIDxdg",
        "outputId": "d4f93901-596a-4c93-9228-ea35c79cb320"
      },
      "execution_count": null,
      "outputs": [
        {
          "output_type": "stream",
          "name": "stdout",
          "text": [
            "a=# hola # - b=#MUNDo! #\n",
            "-----\n",
            "a+b=#  hola MUNDo!  #\n",
            "-----\n",
            "\"%s%s\" % (a,b)=#  hola MUNDo!  #\n",
            "-----\n",
            "\"{}{}\".format(a,b)=#  hola MUNDo!  #\n",
            "-----\n",
            "f\"{a+b}\"=#  hola MUNDo!  #\n",
            "-----\n",
            "f\"{a}{b}\"=#  hola MUNDo!  #\n"
          ]
        }
      ]
    },
    {
      "cell_type": "code",
      "source": [
        "print(f\"original: #{c}#\")\n",
        "# lower\n",
        "print(f\"lower: #{c.lower()}#\")\n",
        "# upper\n",
        "print(f\"upper: #{c.upper()}#\")\n",
        "# capitalize\n",
        "print(f\"capitalize: #{c.strip().capitalize()}#\")\n",
        "# startswith\n",
        "print(f\"startswith ( ho): {c.startswith(' ho')}\")\n",
        "print(f\"startswith ( ha): {c.startswith(' ha')}\")\n",
        "# endswith\n",
        "print(f\"endswith (! ): {c.endswith('! ')}\")\n",
        "print(f\"endswith (  ): {c.endswith('  ')}\")\n",
        "# strip, lstrip, rstrip\n",
        "print(f\"strip: #{c.strip()}#\")\n",
        "print(f\"lstrip: #{c.lstrip()}#\")\n",
        "print(f\"rstrip: #{c.rstrip()}#\")\n",
        "# split\n",
        "print(f\"split (o): #{c.split('o')}#\")\n",
        "\n"
      ],
      "metadata": {
        "colab": {
          "base_uri": "https://localhost:8080/"
        },
        "id": "J2r_yLHREeTt",
        "outputId": "eea3e1d3-cc12-470f-fd88-f47cf1f54ba7"
      },
      "execution_count": null,
      "outputs": [
        {
          "output_type": "stream",
          "name": "stdout",
          "text": [
            "original: # hola MUNDo! #\n",
            "lower: # hola mundo! #\n",
            "upper: # HOLA MUNDO! #\n",
            "capitalize: #Hola mundo!#\n",
            "startswith ( ho): True\n",
            "startswith ( ha): False\n",
            "endswith (! ): True\n",
            "endswith (  ): False\n",
            "strip: #hola MUNDo!#\n",
            "lstrip: #hola MUNDo! #\n",
            "rstrip: # hola MUNDo!#\n",
            "split (o): #[' h', 'la MUND', '! ']#\n"
          ]
        }
      ]
    },
    {
      "cell_type": "markdown",
      "source": [
        "# bool"
      ],
      "metadata": {
        "id": "Yi10q79NGJh0"
      }
    },
    {
      "cell_type": "code",
      "source": [
        "bool_:bool = True # False\n",
        "print(f\"bool_: {bool_} - tipo: {type(bool_)}\")"
      ],
      "metadata": {
        "colab": {
          "base_uri": "https://localhost:8080/"
        },
        "id": "aApKCzu3GL3m",
        "outputId": "44872d4b-ac6c-4b17-dddf-5aeee8694448"
      },
      "execution_count": null,
      "outputs": [
        {
          "output_type": "stream",
          "name": "stdout",
          "text": [
            "bool_: True - tipo: <class 'bool'>\n"
          ]
        }
      ]
    },
    {
      "cell_type": "code",
      "source": [
        "print(\"NOT\")\n",
        "print(f\"bool_: {bool_} - not bool_: {not bool_}\")\n",
        "print()\n",
        "print(\"AND\")\n",
        "print(f\"bool_1 and bool_2 = resultado\")\n",
        "print(f\"True   and True   = {True  and True}\")\n",
        "print(f\"True   and False  = {True  and False}\")\n",
        "print(f\"False  and True   = {False and True}\")\n",
        "print(f\"False  and False  = {False and False}\")\n",
        "print()\n",
        "print(\"OR\")\n",
        "print(f\"bool_1 or bool_2 = resultado\")\n",
        "print(f\"True   or True   = {True  or True}\")\n",
        "print(f\"True   or False  = {True  or False}\")\n",
        "print(f\"False  or True   = {False or True}\")\n",
        "print(f\"False  or False  = {False or False}\")"
      ],
      "metadata": {
        "colab": {
          "base_uri": "https://localhost:8080/"
        },
        "id": "KVQ6ELXjGrMk",
        "outputId": "5765f37c-27fe-4437-a257-0fa244262523"
      },
      "execution_count": null,
      "outputs": [
        {
          "output_type": "stream",
          "name": "stdout",
          "text": [
            "NOT\n",
            "bool_: True - not bool_: False\n",
            "\n",
            "AND\n",
            "bool_1 and bool_2 = resultado\n",
            "True   and True   = True\n",
            "True   and False  = False\n",
            "False  and True   = False\n",
            "False  and False  = False\n",
            "\n",
            "OR\n",
            "bool_1 or bool_2 = resultado\n",
            "True   or True   = True\n",
            "True   or False  = True\n",
            "False  or True   = True\n",
            "False  or False  = False\n"
          ]
        }
      ]
    },
    {
      "cell_type": "markdown",
      "source": [
        "## not\n",
        "\n",
        "| bool_ | resultado |\n",
        "| --- | --- |\n",
        "| True | False |\n",
        "| False | True |"
      ],
      "metadata": {
        "id": "Hpeoyj15G6Pr"
      }
    },
    {
      "cell_type": "markdown",
      "source": [
        "## and\n",
        "\n",
        "| bool_1 | bool_2 | resultado |\n",
        "| --- | --- | --- |\n",
        "| True | True | True |\n",
        "| True | False | False |\n",
        "| False | False | False |\n",
        "| False | True | False"
      ],
      "metadata": {
        "id": "OiFP_JBSG8GE"
      }
    },
    {
      "cell_type": "markdown",
      "source": [
        "\n",
        "## or\n",
        "\n",
        "| bool_1 | bool_2 | resultado |\n",
        "| --- | --- | --- |\n",
        "| True | True | True |\n",
        "| True | False | True |\n",
        "| False | False | False |\n",
        "| False | True | True |\n"
      ],
      "metadata": {
        "id": "seOjJC46HRsb"
      }
    },
    {
      "cell_type": "markdown",
      "source": [
        "# int / float"
      ],
      "metadata": {
        "id": "lXyPCzDfHROv"
      }
    },
    {
      "cell_type": "code",
      "source": [
        "int_:int = 10\n",
        "float_:float = 10.5\n",
        "print(f\"int_: {int_} - tipo: {type(int_)}\")\n",
        "print(f\"float_: {float_} - tipo: {type(float_)}\")"
      ],
      "metadata": {
        "colab": {
          "base_uri": "https://localhost:8080/"
        },
        "id": "ayOOIvfXHft3",
        "outputId": "1e99cfcd-2f15-4b38-a49b-926e115a5859"
      },
      "execution_count": null,
      "outputs": [
        {
          "output_type": "stream",
          "name": "stdout",
          "text": [
            "int_: 10 - tipo: <class 'int'>\n",
            "float_: 10.5 - tipo: <class 'float'>\n"
          ]
        }
      ]
    },
    {
      "cell_type": "code",
      "source": [
        "int_1:int=5\n",
        "int_2:int=2\n",
        "# + suma\n",
        "print(f\"suma: {int_1} + {int_2} = {int_1 + int_2}\")\n",
        "# - resta\n",
        "print(f\"resta: {int_1} - {int_2} = {int_1 - int_2}\")\n",
        "# * multiplicación\n",
        "print(f\"multiplicación: {int_1} * {int_2} = {int_1 * int_2}\")\n",
        "# / división\n",
        "print(f\"división: {int_1} / {int_2} = {int_1 / int_2}\")\n",
        "# // división entera\n",
        "print(f\"división entera: {int_1} // {int_2} = {int_1 // int_2}\")\n",
        "# ** potencia\n",
        "print(f\"potencia: {int_1} ** {int_2} = {int_1 ** int_2}\")\n",
        "# % módulo o resto de la división\n",
        "print(f\"módulo o resto de la división: {int_1} % {int_2} = {int_1 % int_2}\")"
      ],
      "metadata": {
        "colab": {
          "base_uri": "https://localhost:8080/"
        },
        "id": "24hUnXGtISQe",
        "outputId": "277a7869-d3b5-4c80-c6ef-221fafe02c8e"
      },
      "execution_count": null,
      "outputs": [
        {
          "output_type": "stream",
          "name": "stdout",
          "text": [
            "suma: 5 + 2 = 7\n",
            "resta: 5 - 2 = 3\n",
            "multiplicación: 5 * 2 = 10\n",
            "división: 5 / 2 = 2.5\n",
            "división entera: 5 // 2 = 2\n",
            "potencia: 5 ** 2 = 25\n",
            "módulo o resto de la división: 5 % 2 = 1\n"
          ]
        }
      ]
    },
    {
      "cell_type": "markdown",
      "source": [
        "# date y datetime"
      ],
      "metadata": {
        "id": "nRTp_J4_IWKo"
      }
    },
    {
      "cell_type": "code",
      "source": [
        "from datetime import date, datetime\n",
        "\n",
        "date_:date=date(1990,1,1)\n",
        "print(f\"date_: {date_} - tipo: {type(date_)}\")"
      ],
      "metadata": {
        "colab": {
          "base_uri": "https://localhost:8080/"
        },
        "id": "YGsKmASwIbOv",
        "outputId": "25e7e974-ae9e-45b7-f86a-63dbc8221e87"
      },
      "execution_count": null,
      "outputs": [
        {
          "output_type": "stream",
          "name": "stdout",
          "text": [
            "date_: 1990-11-22 - tipo: <class 'datetime.date'>\n"
          ]
        }
      ]
    },
    {
      "cell_type": "code",
      "source": [
        "datetime_:datetime=datetime(1990,1,1, 2,55,36)\n",
        "print(f\"datetime_: {datetime_} - tipo: {type(datetime_)}\")"
      ],
      "metadata": {
        "colab": {
          "base_uri": "https://localhost:8080/"
        },
        "id": "hAuu3CXhI1CO",
        "outputId": "561a5fab-be8b-4578-ee3c-55c7b0bd923d"
      },
      "execution_count": null,
      "outputs": [
        {
          "output_type": "stream",
          "name": "stdout",
          "text": [
            "datetime_: 1990-01-01 02:55:36 - tipo: <class 'datetime.datetime'>\n"
          ]
        }
      ]
    },
    {
      "cell_type": "code",
      "source": [
        "#strftime\n",
        "datetime_to_str:str=datetime_.strftime(\"%d/%m/%Y %H:%M:%S\")\n",
        "print(f\"datetime_to_str: {datetime_to_str} - tipo: {type(datetime_to_str)}\")"
      ],
      "metadata": {
        "colab": {
          "base_uri": "https://localhost:8080/"
        },
        "id": "sJH4I4DwJA1O",
        "outputId": "9ee925a1-6599-4421-96e7-109ec9148143"
      },
      "execution_count": null,
      "outputs": [
        {
          "output_type": "stream",
          "name": "stdout",
          "text": [
            "datetime_to_str: 01/01/1990 02:55:36 - tipo: <class 'str'>\n"
          ]
        }
      ]
    },
    {
      "cell_type": "code",
      "source": [
        "#strptime\n",
        "str_to_datetime:datetime=datetime.strptime(datetime_to_str,\"%d/%m/%Y %H:%M:%S\")\n",
        "print(f\"str_to_datetime: {str_to_datetime} - tipo: {type(str_to_datetime)}\")"
      ],
      "metadata": {
        "colab": {
          "base_uri": "https://localhost:8080/"
        },
        "id": "gDh4upT9KU8J",
        "outputId": "d7d52879-7a41-4ecd-916b-4f4c88be220c"
      },
      "execution_count": null,
      "outputs": [
        {
          "output_type": "stream",
          "name": "stdout",
          "text": [
            "str_to_datetime: 1990-01-01 02:55:36 - tipo: <class 'datetime.datetime'>\n"
          ]
        }
      ]
    },
    {
      "cell_type": "code",
      "source": [
        "from datetime import timedelta\n",
        "\n",
        "datetime_add_10:datetime=datetime_+timedelta(days=10)\n",
        "print(f\"datetime_: {datetime_} - tipo: {type(datetime_)}\")\n",
        "print(f\"datetime_add_10: {datetime_add_10} - tipo: {type(datetime_add_10)}\")"
      ],
      "metadata": {
        "colab": {
          "base_uri": "https://localhost:8080/"
        },
        "id": "ufsaEBnPKonv",
        "outputId": "0fd1cb91-f087-4da8-f82c-dffad194e063"
      },
      "execution_count": null,
      "outputs": [
        {
          "output_type": "stream",
          "name": "stdout",
          "text": [
            "datetime_: 1990-01-01 02:55:36 - tipo: <class 'datetime.datetime'>\n",
            "datetime_add_10: 1990-01-11 02:55:36 - tipo: <class 'datetime.datetime'>\n"
          ]
        }
      ]
    },
    {
      "cell_type": "code",
      "source": [
        "\n",
        "datetime_sub_10:datetime=datetime_-timedelta(days=10)\n",
        "print(f\"datetime_: {datetime_} - tipo: {type(datetime_)}\")\n",
        "print(f\"datetime_sub_10: {datetime_sub_10} - tipo: {type(datetime_sub_10)}\")"
      ],
      "metadata": {
        "colab": {
          "base_uri": "https://localhost:8080/"
        },
        "id": "WFBBL_omLF9l",
        "outputId": "d4a96bc7-5e03-4f7f-f6d6-50ceab5bc1e7"
      },
      "execution_count": null,
      "outputs": [
        {
          "output_type": "stream",
          "name": "stdout",
          "text": [
            "datetime_: 1990-01-01 02:55:36 - tipo: <class 'datetime.datetime'>\n",
            "datetime_sub_10: 1989-12-22 02:55:36 - tipo: <class 'datetime.datetime'>\n"
          ]
        }
      ]
    }
  ]
}