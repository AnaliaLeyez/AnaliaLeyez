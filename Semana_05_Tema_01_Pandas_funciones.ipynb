{
  "nbformat": 4,
  "nbformat_minor": 0,
  "metadata": {
    "colab": {
      "provenance": [],
      "include_colab_link": true
    },
    "kernelspec": {
      "name": "python3",
      "display_name": "Python 3"
    },
    "language_info": {
      "name": "python"
    }
  },
  "cells": [
    {
      "cell_type": "markdown",
      "metadata": {
        "id": "view-in-github",
        "colab_type": "text"
      },
      "source": [
        "<a href=\"https://colab.research.google.com/github/AnaliaLeyez/AnaliaLeyez/blob/main/Semana_05_Tema_01_Pandas_funciones.ipynb\" target=\"_parent\"><img src=\"https://colab.research.google.com/assets/colab-badge.svg\" alt=\"Open In Colab\"/></a>"
      ]
    },
    {
      "cell_type": "markdown",
      "source": [
        "# Vamos a levantar un dataset de [fake news en español]\n",
        "- fake news en español (https://www.kaggle.com/datasets/guillermoezquer/fakenews-espaol)\n",
        "- reviews tripadvisor en español e inglés (https://www.kaggle.com/datasets/mmaguero/la-mision-hotel-boutiqueasuncionpyges)"
      ],
      "metadata": {
        "id": "L7jcwXPsXrvw"
      }
    },
    {
      "cell_type": "code",
      "source": [
        "from google.colab import drive\n",
        "import numpy as np\n",
        "from pandas import DataFrame, read_csv, to_datetime\n",
        "import pandas as pd\n"
      ],
      "metadata": {
        "id": "LGOin87HSrFX"
      },
      "execution_count": null,
      "outputs": []
    },
    {
      "cell_type": "code",
      "source": [
        "drive.mount(\"/content/drive\")\n",
        "!pip install kaggle\n",
        "!mkdir -p ~/.kaggle\n",
        "!cp /content/drive/MyDrive/kaggle/kaggle.json ~/.kaggle/\n",
        "!chmod 600 ~/.kaggle/kaggle.json"
      ],
      "metadata": {
        "colab": {
          "base_uri": "https://localhost:8080/"
        },
        "id": "AShXeYQ9s51V",
        "outputId": "6dd8e368-c8d5-4edb-c9e2-dc8ad2e5d491"
      },
      "execution_count": null,
      "outputs": [
        {
          "output_type": "stream",
          "name": "stdout",
          "text": [
            "Mounted at /content/drive\n",
            "Requirement already satisfied: kaggle in /usr/local/lib/python3.11/dist-packages (1.6.17)\n",
            "Requirement already satisfied: six>=1.10 in /usr/local/lib/python3.11/dist-packages (from kaggle) (1.17.0)\n",
            "Requirement already satisfied: certifi>=2023.7.22 in /usr/local/lib/python3.11/dist-packages (from kaggle) (2025.1.31)\n",
            "Requirement already satisfied: python-dateutil in /usr/local/lib/python3.11/dist-packages (from kaggle) (2.8.2)\n",
            "Requirement already satisfied: requests in /usr/local/lib/python3.11/dist-packages (from kaggle) (2.32.3)\n",
            "Requirement already satisfied: tqdm in /usr/local/lib/python3.11/dist-packages (from kaggle) (4.67.1)\n",
            "Requirement already satisfied: python-slugify in /usr/local/lib/python3.11/dist-packages (from kaggle) (8.0.4)\n",
            "Requirement already satisfied: urllib3 in /usr/local/lib/python3.11/dist-packages (from kaggle) (2.3.0)\n",
            "Requirement already satisfied: bleach in /usr/local/lib/python3.11/dist-packages (from kaggle) (6.2.0)\n",
            "Requirement already satisfied: webencodings in /usr/local/lib/python3.11/dist-packages (from bleach->kaggle) (0.5.1)\n",
            "Requirement already satisfied: text-unidecode>=1.3 in /usr/local/lib/python3.11/dist-packages (from python-slugify->kaggle) (1.3)\n",
            "Requirement already satisfied: charset-normalizer<4,>=2 in /usr/local/lib/python3.11/dist-packages (from requests->kaggle) (3.4.1)\n",
            "Requirement already satisfied: idna<4,>=2.5 in /usr/local/lib/python3.11/dist-packages (from requests->kaggle) (3.10)\n",
            "cp: cannot stat '/content/drive/MyDrive/kaggle/kaggle.json': No such file or directory\n",
            "chmod: cannot access '/root/.kaggle/kaggle.json': No such file or directory\n"
          ]
        }
      ]
    },
    {
      "cell_type": "code",
      "source": [
        "dataset_kaggle = \"mmaguero/la-mision-hotel-boutiqueasuncionpyges\"\n",
        "folder_dataset = f\"/content/drive/MyDrive/kaggle/datasets/{dataset_kaggle.split('/')[1]}\"\n",
        "!mkdir -p {folder_dataset}\n",
        "!kaggle datasets download --unzip -d {dataset_kaggle} --p {folder_dataset}\n",
        "!ls {folder_dataset}"
      ],
      "metadata": {
        "id": "-PJvmmGhbPpl",
        "colab": {
          "base_uri": "https://localhost:8080/"
        },
        "outputId": "0a24d536-4ea4-459d-de5a-31126c6976e9"
      },
      "execution_count": null,
      "outputs": [
        {
          "output_type": "stream",
          "name": "stdout",
          "text": [
            "Dataset URL: https://www.kaggle.com/datasets/mmaguero/la-mision-hotel-boutiqueasuncionpyges\n",
            "License(s): CC-BY-SA-4.0\n",
            "Downloading la-mision-hotel-boutiqueasuncionpyges.zip to /content/drive/MyDrive/kaggle/datasets/la-mision-hotel-boutiqueasuncionpyges\n",
            "  0% 0.00/94.9k [00:00<?, ?B/s]\n",
            "100% 94.9k/94.9k [00:00<00:00, 4.06MB/s]\n",
            "La_Mision_Hotel_Boutique-Asuncion__es.csv\n"
          ]
        }
      ]
    },
    {
      "cell_type": "code",
      "source": [
        "# leemos el dataset y mostramos la cabecera\n",
        "df = read_csv(f\"{folder_dataset}/La_Mision_Hotel_Boutique-Asuncion__es.csv\", delimiter=\",\")\n",
        "df.head()"
      ],
      "metadata": {
        "id": "wt1nc4yHU6yR",
        "colab": {
          "base_uri": "https://localhost:8080/",
          "height": 206
        },
        "outputId": "bbe45a39-cd89-4216-90cb-bbd3696ac81d"
      },
      "execution_count": null,
      "outputs": [
        {
          "output_type": "execute_result",
          "data": {
            "text/plain": [
              "                                         review_body         review_date  \\\n",
              "0  Elija cualquiera de sus opciones, standard o e...    January 11, 2019   \n",
              "1  El nivel de atencion del personal y calidad de...  September 21, 2018   \n",
              "2  muy buena ubicación con una arquitectura agrad...    January 11, 2019   \n",
              "3  Raúl un verdadero metre del desayuno, lo mejor...    January 11, 2019   \n",
              "4  Un excelente hotel la misión en Asuncion Muy l...     January 6, 2019   \n",
              "\n",
              "   rating  \n",
              "0       5  \n",
              "1       5  \n",
              "2       5  \n",
              "3       5  \n",
              "4       5  "
            ],
            "text/html": [
              "\n",
              "  <div id=\"df-7995a005-8e82-47a4-97e1-e07372038ca9\" class=\"colab-df-container\">\n",
              "    <div>\n",
              "<style scoped>\n",
              "    .dataframe tbody tr th:only-of-type {\n",
              "        vertical-align: middle;\n",
              "    }\n",
              "\n",
              "    .dataframe tbody tr th {\n",
              "        vertical-align: top;\n",
              "    }\n",
              "\n",
              "    .dataframe thead th {\n",
              "        text-align: right;\n",
              "    }\n",
              "</style>\n",
              "<table border=\"1\" class=\"dataframe\">\n",
              "  <thead>\n",
              "    <tr style=\"text-align: right;\">\n",
              "      <th></th>\n",
              "      <th>review_body</th>\n",
              "      <th>review_date</th>\n",
              "      <th>rating</th>\n",
              "    </tr>\n",
              "  </thead>\n",
              "  <tbody>\n",
              "    <tr>\n",
              "      <th>0</th>\n",
              "      <td>Elija cualquiera de sus opciones, standard o e...</td>\n",
              "      <td>January 11, 2019</td>\n",
              "      <td>5</td>\n",
              "    </tr>\n",
              "    <tr>\n",
              "      <th>1</th>\n",
              "      <td>El nivel de atencion del personal y calidad de...</td>\n",
              "      <td>September 21, 2018</td>\n",
              "      <td>5</td>\n",
              "    </tr>\n",
              "    <tr>\n",
              "      <th>2</th>\n",
              "      <td>muy buena ubicación con una arquitectura agrad...</td>\n",
              "      <td>January 11, 2019</td>\n",
              "      <td>5</td>\n",
              "    </tr>\n",
              "    <tr>\n",
              "      <th>3</th>\n",
              "      <td>Raúl un verdadero metre del desayuno, lo mejor...</td>\n",
              "      <td>January 11, 2019</td>\n",
              "      <td>5</td>\n",
              "    </tr>\n",
              "    <tr>\n",
              "      <th>4</th>\n",
              "      <td>Un excelente hotel la misión en Asuncion Muy l...</td>\n",
              "      <td>January 6, 2019</td>\n",
              "      <td>5</td>\n",
              "    </tr>\n",
              "  </tbody>\n",
              "</table>\n",
              "</div>\n",
              "    <div class=\"colab-df-buttons\">\n",
              "\n",
              "  <div class=\"colab-df-container\">\n",
              "    <button class=\"colab-df-convert\" onclick=\"convertToInteractive('df-7995a005-8e82-47a4-97e1-e07372038ca9')\"\n",
              "            title=\"Convert this dataframe to an interactive table.\"\n",
              "            style=\"display:none;\">\n",
              "\n",
              "  <svg xmlns=\"http://www.w3.org/2000/svg\" height=\"24px\" viewBox=\"0 -960 960 960\">\n",
              "    <path d=\"M120-120v-720h720v720H120Zm60-500h600v-160H180v160Zm220 220h160v-160H400v160Zm0 220h160v-160H400v160ZM180-400h160v-160H180v160Zm440 0h160v-160H620v160ZM180-180h160v-160H180v160Zm440 0h160v-160H620v160Z\"/>\n",
              "  </svg>\n",
              "    </button>\n",
              "\n",
              "  <style>\n",
              "    .colab-df-container {\n",
              "      display:flex;\n",
              "      gap: 12px;\n",
              "    }\n",
              "\n",
              "    .colab-df-convert {\n",
              "      background-color: #E8F0FE;\n",
              "      border: none;\n",
              "      border-radius: 50%;\n",
              "      cursor: pointer;\n",
              "      display: none;\n",
              "      fill: #1967D2;\n",
              "      height: 32px;\n",
              "      padding: 0 0 0 0;\n",
              "      width: 32px;\n",
              "    }\n",
              "\n",
              "    .colab-df-convert:hover {\n",
              "      background-color: #E2EBFA;\n",
              "      box-shadow: 0px 1px 2px rgba(60, 64, 67, 0.3), 0px 1px 3px 1px rgba(60, 64, 67, 0.15);\n",
              "      fill: #174EA6;\n",
              "    }\n",
              "\n",
              "    .colab-df-buttons div {\n",
              "      margin-bottom: 4px;\n",
              "    }\n",
              "\n",
              "    [theme=dark] .colab-df-convert {\n",
              "      background-color: #3B4455;\n",
              "      fill: #D2E3FC;\n",
              "    }\n",
              "\n",
              "    [theme=dark] .colab-df-convert:hover {\n",
              "      background-color: #434B5C;\n",
              "      box-shadow: 0px 1px 3px 1px rgba(0, 0, 0, 0.15);\n",
              "      filter: drop-shadow(0px 1px 2px rgba(0, 0, 0, 0.3));\n",
              "      fill: #FFFFFF;\n",
              "    }\n",
              "  </style>\n",
              "\n",
              "    <script>\n",
              "      const buttonEl =\n",
              "        document.querySelector('#df-7995a005-8e82-47a4-97e1-e07372038ca9 button.colab-df-convert');\n",
              "      buttonEl.style.display =\n",
              "        google.colab.kernel.accessAllowed ? 'block' : 'none';\n",
              "\n",
              "      async function convertToInteractive(key) {\n",
              "        const element = document.querySelector('#df-7995a005-8e82-47a4-97e1-e07372038ca9');\n",
              "        const dataTable =\n",
              "          await google.colab.kernel.invokeFunction('convertToInteractive',\n",
              "                                                    [key], {});\n",
              "        if (!dataTable) return;\n",
              "\n",
              "        const docLinkHtml = 'Like what you see? Visit the ' +\n",
              "          '<a target=\"_blank\" href=https://colab.research.google.com/notebooks/data_table.ipynb>data table notebook</a>'\n",
              "          + ' to learn more about interactive tables.';\n",
              "        element.innerHTML = '';\n",
              "        dataTable['output_type'] = 'display_data';\n",
              "        await google.colab.output.renderOutput(dataTable, element);\n",
              "        const docLink = document.createElement('div');\n",
              "        docLink.innerHTML = docLinkHtml;\n",
              "        element.appendChild(docLink);\n",
              "      }\n",
              "    </script>\n",
              "  </div>\n",
              "\n",
              "\n",
              "<div id=\"df-5b40076e-23b9-45b4-8ddb-1147d191c480\">\n",
              "  <button class=\"colab-df-quickchart\" onclick=\"quickchart('df-5b40076e-23b9-45b4-8ddb-1147d191c480')\"\n",
              "            title=\"Suggest charts\"\n",
              "            style=\"display:none;\">\n",
              "\n",
              "<svg xmlns=\"http://www.w3.org/2000/svg\" height=\"24px\"viewBox=\"0 0 24 24\"\n",
              "     width=\"24px\">\n",
              "    <g>\n",
              "        <path d=\"M19 3H5c-1.1 0-2 .9-2 2v14c0 1.1.9 2 2 2h14c1.1 0 2-.9 2-2V5c0-1.1-.9-2-2-2zM9 17H7v-7h2v7zm4 0h-2V7h2v10zm4 0h-2v-4h2v4z\"/>\n",
              "    </g>\n",
              "</svg>\n",
              "  </button>\n",
              "\n",
              "<style>\n",
              "  .colab-df-quickchart {\n",
              "      --bg-color: #E8F0FE;\n",
              "      --fill-color: #1967D2;\n",
              "      --hover-bg-color: #E2EBFA;\n",
              "      --hover-fill-color: #174EA6;\n",
              "      --disabled-fill-color: #AAA;\n",
              "      --disabled-bg-color: #DDD;\n",
              "  }\n",
              "\n",
              "  [theme=dark] .colab-df-quickchart {\n",
              "      --bg-color: #3B4455;\n",
              "      --fill-color: #D2E3FC;\n",
              "      --hover-bg-color: #434B5C;\n",
              "      --hover-fill-color: #FFFFFF;\n",
              "      --disabled-bg-color: #3B4455;\n",
              "      --disabled-fill-color: #666;\n",
              "  }\n",
              "\n",
              "  .colab-df-quickchart {\n",
              "    background-color: var(--bg-color);\n",
              "    border: none;\n",
              "    border-radius: 50%;\n",
              "    cursor: pointer;\n",
              "    display: none;\n",
              "    fill: var(--fill-color);\n",
              "    height: 32px;\n",
              "    padding: 0;\n",
              "    width: 32px;\n",
              "  }\n",
              "\n",
              "  .colab-df-quickchart:hover {\n",
              "    background-color: var(--hover-bg-color);\n",
              "    box-shadow: 0 1px 2px rgba(60, 64, 67, 0.3), 0 1px 3px 1px rgba(60, 64, 67, 0.15);\n",
              "    fill: var(--button-hover-fill-color);\n",
              "  }\n",
              "\n",
              "  .colab-df-quickchart-complete:disabled,\n",
              "  .colab-df-quickchart-complete:disabled:hover {\n",
              "    background-color: var(--disabled-bg-color);\n",
              "    fill: var(--disabled-fill-color);\n",
              "    box-shadow: none;\n",
              "  }\n",
              "\n",
              "  .colab-df-spinner {\n",
              "    border: 2px solid var(--fill-color);\n",
              "    border-color: transparent;\n",
              "    border-bottom-color: var(--fill-color);\n",
              "    animation:\n",
              "      spin 1s steps(1) infinite;\n",
              "  }\n",
              "\n",
              "  @keyframes spin {\n",
              "    0% {\n",
              "      border-color: transparent;\n",
              "      border-bottom-color: var(--fill-color);\n",
              "      border-left-color: var(--fill-color);\n",
              "    }\n",
              "    20% {\n",
              "      border-color: transparent;\n",
              "      border-left-color: var(--fill-color);\n",
              "      border-top-color: var(--fill-color);\n",
              "    }\n",
              "    30% {\n",
              "      border-color: transparent;\n",
              "      border-left-color: var(--fill-color);\n",
              "      border-top-color: var(--fill-color);\n",
              "      border-right-color: var(--fill-color);\n",
              "    }\n",
              "    40% {\n",
              "      border-color: transparent;\n",
              "      border-right-color: var(--fill-color);\n",
              "      border-top-color: var(--fill-color);\n",
              "    }\n",
              "    60% {\n",
              "      border-color: transparent;\n",
              "      border-right-color: var(--fill-color);\n",
              "    }\n",
              "    80% {\n",
              "      border-color: transparent;\n",
              "      border-right-color: var(--fill-color);\n",
              "      border-bottom-color: var(--fill-color);\n",
              "    }\n",
              "    90% {\n",
              "      border-color: transparent;\n",
              "      border-bottom-color: var(--fill-color);\n",
              "    }\n",
              "  }\n",
              "</style>\n",
              "\n",
              "  <script>\n",
              "    async function quickchart(key) {\n",
              "      const quickchartButtonEl =\n",
              "        document.querySelector('#' + key + ' button');\n",
              "      quickchartButtonEl.disabled = true;  // To prevent multiple clicks.\n",
              "      quickchartButtonEl.classList.add('colab-df-spinner');\n",
              "      try {\n",
              "        const charts = await google.colab.kernel.invokeFunction(\n",
              "            'suggestCharts', [key], {});\n",
              "      } catch (error) {\n",
              "        console.error('Error during call to suggestCharts:', error);\n",
              "      }\n",
              "      quickchartButtonEl.classList.remove('colab-df-spinner');\n",
              "      quickchartButtonEl.classList.add('colab-df-quickchart-complete');\n",
              "    }\n",
              "    (() => {\n",
              "      let quickchartButtonEl =\n",
              "        document.querySelector('#df-5b40076e-23b9-45b4-8ddb-1147d191c480 button');\n",
              "      quickchartButtonEl.style.display =\n",
              "        google.colab.kernel.accessAllowed ? 'block' : 'none';\n",
              "    })();\n",
              "  </script>\n",
              "</div>\n",
              "\n",
              "    </div>\n",
              "  </div>\n"
            ],
            "application/vnd.google.colaboratory.intrinsic+json": {
              "type": "dataframe",
              "variable_name": "df",
              "summary": "{\n  \"name\": \"df\",\n  \"rows\": 695,\n  \"fields\": [\n    {\n      \"column\": \"review_body\",\n      \"properties\": {\n        \"dtype\": \"string\",\n        \"num_unique_values\": 695,\n        \"samples\": [\n          \"Me gusto much\\u00edsimo, que hayan guardado la tradici\\u00f3n paraguaya en la decoraci\\u00f3n. Servicio, comida, todo excellente!!! Las habitaciones muy confortables, silenciosas. El Gym y la piscina muy bueno. El Hotel esta muy bien ubicado !!  \",\n          \"I rarely write hotel reviews, but felt the need to because this hotel provided such high level service and quality. We stayed for 3 nights this past weekend. The hotel is beautiful, great decor, lovely rooftop terrace and pool, good food, comfortable beds and above all, the staff is very accommodating and friendly. An excellent surprise\",\n          \"La verdad que es un hotel muy muy bueno y la gente que trabaja lo convierte en excelente siempre con buena disposici\\u00f3n y siempre fuera de lo comercial, la comida es muy buena y tienen mucha variedad y cantidad \"\n        ],\n        \"semantic_type\": \"\",\n        \"description\": \"\"\n      }\n    },\n    {\n      \"column\": \"review_date\",\n      \"properties\": {\n        \"dtype\": \"object\",\n        \"num_unique_values\": 551,\n        \"samples\": [\n          \"April 22, 2012\",\n          \"February 17, 2018\",\n          \"May 7, 2017\"\n        ],\n        \"semantic_type\": \"\",\n        \"description\": \"\"\n      }\n    },\n    {\n      \"column\": \"rating\",\n      \"properties\": {\n        \"dtype\": \"number\",\n        \"std\": 0,\n        \"min\": 1,\n        \"max\": 5,\n        \"num_unique_values\": 5,\n        \"samples\": [\n          4,\n          2,\n          3\n        ],\n        \"semantic_type\": \"\",\n        \"description\": \"\"\n      }\n    }\n  ]\n}"
            }
          },
          "metadata": {},
          "execution_count": 4
        }
      ]
    },
    {
      "cell_type": "markdown",
      "source": [
        "## Aplicando funciones\n",
        "\n",
        "Sirve para aplicar funciones a las columnas.\n",
        "Al leer la descripción del dataset podemos ver que existen reviews que están en inglés, una forma sencilla para detectarlas sería buscando las palabras `the`, `is`, `are`."
      ],
      "metadata": {
        "id": "ARcQykHgILEw"
      }
    },
    {
      "cell_type": "markdown",
      "source": [
        "## Apply\n",
        "\n",
        "Aplica una función sobre una fila o una columna del DataFrame. Trabaja con el argumento axis donde por defecto trabaja por columnas (axis=0).\n",
        "\n",
        "En caso de no aplicarlo sobre una Serie se aplica sobre todo el DataFrame produciendo un nuevo DataFrame o Series."
      ],
      "metadata": {
        "id": "rPUIJvPUI0x9"
      }
    },
    {
      "cell_type": "markdown",
      "source": [
        "### Desde una función lambda\n",
        "\n",
        "Para buscar vamos a aplicar una función lambda a toda la columna \"review_body\" y crearemos una columna llamada \"ingles\" la cual va a ser True si se encuentra una de la palabra `are`"
      ],
      "metadata": {
        "id": "53uiViO7OZcT"
      }
    },
    {
      "cell_type": "code",
      "source": [
        "\n",
        "df[\"ingles\"] = df[\"review_body\"].apply(lambda celda:\n",
        "                                       True if celda.lower().find(\" are \") >= 0  else False)\n",
        "\n",
        "print('Sentencia: df[\"review_body\"].apply(lambda celda: \\n' \\\n",
        "                                      ' True if celda.lower().find(\" are \") >= 0 \\\\ \\n' \\\n",
        "                                      ' or celda.find(\" are \") >= 0 else False)')\n",
        "print()\n",
        "print(\"Mostramos las 10 primeras filas de comentarios en inglés:\\n\", df[df[\"ingles\"] == True].head(10))"
      ],
      "metadata": {
        "colab": {
          "base_uri": "https://localhost:8080/"
        },
        "outputId": "1dde8189-6882-449d-99f0-93e136771269",
        "id": "n1DMQLpF6AWp"
      },
      "execution_count": null,
      "outputs": [
        {
          "output_type": "stream",
          "name": "stdout",
          "text": [
            "Sentencia: df[\"review_body\"].apply(lambda celda: \n",
            " True if celda.lower().find(\" are \") >= 0 \\ \n",
            " or celda.find(\" are \") >= 0 else False)\n",
            "\n",
            "Mostramos las 10 primeras filas de comentarios en inglés:\n",
            "                                            review_body         review_date  \\\n",
            "570  Great hotel in Asuncion. Beautifull rooms, sta...       July 26, 2017   \n",
            "571  I enjoyed my stay at La Mision very much. I wa...       June 26, 2017   \n",
            "572  It is a quite Hotel and has the style of an ol...        June 8, 2017   \n",
            "576  This beautiful well decorated hotel is a parad...        May 17, 2017   \n",
            "580  I have stayed here twice now on business and i...      March 16, 2017   \n",
            "582  I just read that this hotel made # 22 on trip ...    January 17, 2017   \n",
            "584  Its a nice Hotel that worth staying at when co...   November 23, 2016   \n",
            "585  Clean. Large place. Great area. Good price. No...   November 17, 2016   \n",
            "586  Very nice hotel. Excellent service. Personnel ...   November 14, 2016   \n",
            "589  This hotel is lovely.The rooms are imaginative...  September 22, 2016   \n",
            "\n",
            "     rating  ingles  \n",
            "570       5    True  \n",
            "571       5    True  \n",
            "572       3    True  \n",
            "576       5    True  \n",
            "580       5    True  \n",
            "582       5    True  \n",
            "584       4    True  \n",
            "585       5    True  \n",
            "586       5    True  \n",
            "589       5    True  \n"
          ]
        }
      ]
    },
    {
      "cell_type": "markdown",
      "source": [
        "### Desde una función\n",
        "\n",
        "Para buscar vamos a llamar a una función \"en_espaniol\" sobre toda la columna \"review_body\" y crearemos una columna llamada \"espaniol\" la cual va a ser True si NO se encuentra la palabra `are`"
      ],
      "metadata": {
        "id": "CvxZHWXmOt_5"
      }
    },
    {
      "cell_type": "code",
      "source": [
        "def en_espaniol(celda: str) -> bool:\n",
        "  \"\"\" Verifica si la review es en español.\n",
        "\n",
        "  Args:\n",
        "    celda (str): Recibe el valor de la celda que estoy iterando en este momento.\n",
        "\n",
        "  Returns:\n",
        "    bool: Retorna True si la review es en español, en caso contrario devuelve False.\n",
        "  \"\"\"\n",
        "  if celda.lower().find(\" are \") >= 0:\n",
        "    return False\n",
        "  else:\n",
        "    return True\n",
        "\n",
        "df[\"espaniol\"] = df[\"review_body\"].apply(en_espaniol)\n",
        "\n",
        "print('Sentencia: df[\"review_body\"].apply(en_espaniol)')\n",
        "print()\n",
        "print(\"Mostramos las 10 primeras filas de comentarios en español:\\n\", df[df[\"espaniol\"] == True].head(10))"
      ],
      "metadata": {
        "colab": {
          "base_uri": "https://localhost:8080/"
        },
        "id": "wEjtTRQPMEVV",
        "outputId": "2668e625-b562-4e0d-8ff3-b06ae8e59d8b"
      },
      "execution_count": null,
      "outputs": [
        {
          "output_type": "stream",
          "name": "stdout",
          "text": [
            "Sentencia: df[\"review_body\"].apply(en_espaniol)\n",
            "\n",
            "Mostramos las 10 primeras filas de comentarios en español:\n",
            "                                          review_body         review_date  \\\n",
            "0  Elija cualquiera de sus opciones, standard o e...    January 11, 2019   \n",
            "1  El nivel de atencion del personal y calidad de...  September 21, 2018   \n",
            "2  muy buena ubicación con una arquitectura agrad...    January 11, 2019   \n",
            "3  Raúl un verdadero metre del desayuno, lo mejor...    January 11, 2019   \n",
            "4  Un excelente hotel la misión en Asuncion Muy l...     January 6, 2019   \n",
            "5  La pileta tenia un color medio verde, como si ...   December 27, 2018   \n",
            "6  Todo excelente, el servicio muy bueno y la ate...   December 18, 2018   \n",
            "7  Increibles instalaciones, las utilizamos para ...   December 13, 2018   \n",
            "8  La ubicación, instalaciones, amabilidad y cord...    December 9, 2018   \n",
            "9  Hotel premium, servicio premium, con detalles ...    December 3, 2018   \n",
            "\n",
            "   rating  ingles  espaniol  \n",
            "0       5   False      True  \n",
            "1       5   False      True  \n",
            "2       5   False      True  \n",
            "3       5   False      True  \n",
            "4       5   False      True  \n",
            "5       5   False      True  \n",
            "6       5   False      True  \n",
            "7       5   False      True  \n",
            "8       5   False      True  \n",
            "9       5   False      True  \n"
          ]
        }
      ]
    },
    {
      "cell_type": "markdown",
      "source": [
        "### Desde una función con parámetros\n",
        "\n",
        "Para buscar vamos a llamar a una función \"en_ingles_parametros\" sobre toda la columna \"review_body\" y crearemos una columna llamada \"espaniol_parametros\" la cual va a ser True si se encuentra una de las siguientes palabra `the`, `is`, `are` o un grupo de palabras ingresadas a mano.\n",
        "\n",
        "Podemos verificar que hay review en inglés que están etiquetadas de forma incorrecta.\n",
        "\n",
        "Para el ingreso de palabras vamos a utilizar un formulario y se ingresaran palabras separadas por coma."
      ],
      "metadata": {
        "id": "EayiuadsO43B"
      }
    },
    {
      "cell_type": "code",
      "source": [
        "# mostramos la primer fila donde la columna \"ingles\" es False pero vemos\n",
        "# que está escrita en inglés. Esto de debe a que no seleccionamos\n",
        "# todas las palabras corretas\n",
        "for i in range(0, df.shape[0]):\n",
        "  if df.loc[i][\"review_body\"].lower().find(\" the \") >= 0 \\\n",
        "    and not df.loc[i][\"ingles\"]:\n",
        "    print(\"Muestro la fila: \\n\", df.loc[i])\n",
        "    print()\n",
        "    print(\"Muestro la review completa: \\n\", df.loc[i][\"review_body\"])\n",
        "    break"
      ],
      "metadata": {
        "colab": {
          "base_uri": "https://localhost:8080/"
        },
        "id": "K6TQXJi2SnnT",
        "outputId": "a4786ed5-134d-4c0e-8f63-579766669d1a"
      },
      "execution_count": null,
      "outputs": [
        {
          "output_type": "stream",
          "name": "stdout",
          "text": [
            "Muestro la fila: \n",
            " review_body    This is a unique and welcoming boutique hotel....\n",
            "review_date                                       August 2, 2017\n",
            "rating                                                         5\n",
            "ingles                                                     False\n",
            "espaniol                                                    True\n",
            "Name: 569, dtype: object\n",
            "\n",
            "Muestro la review completa: \n",
            " This is a unique and welcoming boutique hotel. The staff is warm and professional. The food at the restaurant is great The location is convenient for walking around Villa Mora and other local neighborhoods. I can't recommend it highly enough!\n"
          ]
        }
      ]
    },
    {
      "cell_type": "code",
      "source": [
        "#@title Ingreso de palabras en inglés\n",
        "#@markdown Vamos a probar agregando las palabras \"the\" e \"is\".\n",
        "\n",
        "ingles_parametros = \"the, is\" #@param {\"type\": \"string\"}"
      ],
      "metadata": {
        "id": "SM9nyb2YPWXp"
      },
      "execution_count": null,
      "outputs": []
    },
    {
      "cell_type": "code",
      "source": [
        "# Vamos a scribir la función \"en_espaniol_parametros\" y luego recalculamos la\n",
        "# columna \"espaniol\"\n",
        "\n",
        "def en_espaniol_parametros(celda: str, nuevas_palabras_ingles: list) -> bool:\n",
        "  \"\"\" Verifica si la review es en español.\n",
        "\n",
        "  Args:\n",
        "    celda (str): Recibe el valor de la celda que estoy iterando en este momento.\n",
        "    nuevas_palabras_ingles (list): Lista de palabras en inglés que debo chequear\n",
        "      si se encuentra dentro de la celda.\n",
        "\n",
        "  Returns:\n",
        "    bool: Retorna True si la review es en español, en caso contrario devuelve False.\n",
        "  \"\"\"\n",
        "  celda_tmp = celda.lower()\n",
        "  if celda_tmp.find(\" are \") >= 0:\n",
        "    return False\n",
        "  if nuevas_palabras_ingles and len(nuevas_palabras_ingles) > 0:\n",
        "    for palabra in nuevas_palabras_ingles:\n",
        "      if celda_tmp.find(palabra) >= 0:\n",
        "        # se encontro una palabra en inglés dentro del texto, por lo tanto\n",
        "        # lo marco como que no está es español\n",
        "        return False\n",
        "  return True\n",
        "\n",
        "nuevas_palabras_ingles = [palabra.lower().strip() for palabra in ingles_parametros.split(',')]\n",
        "df[\"espaniol_parametros\"] = df[\"review_body\"].apply(en_espaniol_parametros, args=(nuevas_palabras_ingles,))\n",
        "\n",
        "print('Sentencia: df[\"review_body\"].apply(en_espaniol_parametros, args=(nuevas_palabras_ingles,))')\n",
        "print()\n",
        "print(\"Mostramos las 10 primeras filas de comentarios en español:\\n\", df[df[\"espaniol_parametros\"] == True].head(10))"
      ],
      "metadata": {
        "colab": {
          "base_uri": "https://localhost:8080/"
        },
        "id": "ZvEratoO6-T9",
        "outputId": "99d28044-b82f-43f6-8224-0ae3f5a1c842"
      },
      "execution_count": null,
      "outputs": [
        {
          "output_type": "stream",
          "name": "stdout",
          "text": [
            "Sentencia: df[\"review_body\"].apply(en_espaniol_parametros, args=(nuevas_palabras_ingles,))\n",
            "\n",
            "Mostramos las 10 primeras filas de comentarios en español:\n",
            "                                           review_body        review_date  \\\n",
            "2   muy buena ubicación con una arquitectura agrad...   January 11, 2019   \n",
            "6   Todo excelente, el servicio muy bueno y la ate...  December 18, 2018   \n",
            "7   Increibles instalaciones, las utilizamos para ...  December 13, 2018   \n",
            "9   Hotel premium, servicio premium, con detalles ...   December 3, 2018   \n",
            "10  El Hotel es muy bueno, como qualquer otro cinc...  November 14, 2018   \n",
            "11  todo muy bueno, ubicación, decoración, atenció...   November 9, 2018   \n",
            "12  Muy recomendable, las habitaciones que dan al ...   November 4, 2018   \n",
            "13  Es un hotel excelente, sus instalaciones son m...   October 15, 2018   \n",
            "14  Es un gran hotel, cálido, confortable, la mejo...   October 14, 2018   \n",
            "15  Se debería proteger mejor el estacionamiento. ...   October 12, 2018   \n",
            "\n",
            "    rating  ingles  espaniol  espaniol_parametros  \n",
            "2        5   False      True                 True  \n",
            "6        5   False      True                 True  \n",
            "7        5   False      True                 True  \n",
            "9        5   False      True                 True  \n",
            "10       5   False      True                 True  \n",
            "11       4   False      True                 True  \n",
            "12       5   False      True                 True  \n",
            "13       5   False      True                 True  \n",
            "14       5   False      True                 True  \n",
            "15       5   False      True                 True  \n"
          ]
        }
      ]
    },
    {
      "cell_type": "code",
      "source": [
        "# verificamos que no hay filas que tengan la columna \"espaniol\" en True y que posea\n",
        "# las palabras \"the\", \"is\" o \"are\"\n",
        "for i in range(0, df.shape[0]):\n",
        "  if (df.loc[i][\"review_body\"].lower().find(\" the \") >= 0 \\\n",
        "    or df.loc[i][\"review_body\"].lower().find(\" is \") >= 0 \\\n",
        "    or df.loc[i][\"review_body\"].lower().find(\" are \") >= 0) \\\n",
        "    and df.loc[i][\"espaniol\"]:\n",
        "    print(\"Muestro la fila: \\n\", df.loc[i])\n",
        "    print()\n",
        "    print(\"Muestro la review completa: \\n\", df.loc[i][\"review_body\"])\n",
        "    break"
      ],
      "metadata": {
        "colab": {
          "base_uri": "https://localhost:8080/"
        },
        "id": "jgIYWuwHXrqk",
        "outputId": "0ade4d23-9081-40df-d3e5-2dd9f2b5def5"
      },
      "execution_count": null,
      "outputs": [
        {
          "output_type": "stream",
          "name": "stdout",
          "text": [
            "Muestro la fila: \n",
            " review_body            This is a unique and welcoming boutique hotel....\n",
            "review_date                                               August 2, 2017\n",
            "rating                                                                 5\n",
            "ingles                                                             False\n",
            "espaniol                                                            True\n",
            "espaniol_parametros                                                False\n",
            "Name: 569, dtype: object\n",
            "\n",
            "Muestro la review completa: \n",
            " This is a unique and welcoming boutique hotel. The staff is warm and professional. The food at the restaurant is great The location is convenient for walking around Villa Mora and other local neighborhoods. I can't recommend it highly enough!\n"
          ]
        }
      ]
    },
    {
      "cell_type": "markdown",
      "source": [
        "### Desde una función lambda con parámetros\n",
        "\n",
        "Para buscar vamos a llamar a una función \"en_ingles_parametros\" sobre toda la columna \"review_body\" y crearemos una columna llamada \"ingles_parametros\" la\n",
        "\n",
        "cual va a ser True si se encuentra una de las siguientes palabra `the`, `is`, `are` o un grupo de palabras ingresadas a mano.\n",
        "\n",
        "Podemos verificar que hay review en inglés que están etiquetadas de forma incorrecta.\n",
        "\n",
        "Para el ingreso de palabras vamos a utilizar un formulario y se ingresaran palabras separadas por coma."
      ],
      "metadata": {
        "id": "MISkIp-CYi6G"
      }
    },
    {
      "cell_type": "code",
      "source": [
        "# Vamos a scribir la función \"en_espaniol_parametros\" y luego recalculamos la\n",
        "# columna \"espaniol\"\n",
        "\n",
        "def en_ingles_parametros(celda: str, nuevas_palabras_ingles: list) -> bool:\n",
        "  \"\"\" Verifica si la review es en inglés.\n",
        "\n",
        "  Args:\n",
        "    celda (str): Recibe el valor de la celda que estoy iterando en este momento.\n",
        "    nuevas_palabras_ingles (list): Lista de palabras en inglés que debo chequear\n",
        "      si se encuentra dentro de la celda.\n",
        "\n",
        "  Returns:\n",
        "    bool: Retorna True si la review es en inglés, en caso contrario devuelve False.\n",
        "  \"\"\"\n",
        "  celda_tmp = celda.lower()\n",
        "  if celda_tmp.find(\" are \") >= 0:\n",
        "    return True\n",
        "  if nuevas_palabras_ingles and len(nuevas_palabras_ingles) > 0:\n",
        "    for palabra in nuevas_palabras_ingles:\n",
        "      if celda_tmp.find(palabra) >= 0:\n",
        "        # se encontro una palabra en inglés dentro del texto, por lo tanto\n",
        "        # lo marco como que está es inglés\n",
        "        return True\n",
        "  return False\n",
        "\n",
        "nuevas_palabras_ingles = [palabra.lower().strip() for palabra in ingles_parametros.split(',')]\n",
        "df[\"ingles_parametros\"] = df[\"review_body\"].apply(lambda celda:\n",
        "                                         en_ingles_parametros(\n",
        "                                             celda=celda,\n",
        "                                             nuevas_palabras_ingles=nuevas_palabras_ingles))\n",
        "\n",
        "print('Sentencia: df[\"review_body\"].apply(lambda celda: \\n ' \\\n",
        "                                         'en_ingled_parametros(\\n ' \\\n",
        "                                         '    celda=celda,\\n ' \\\n",
        "                                         '    nuevas_palabras_ingles=nuevas_palabras_ingles))')\n",
        "print()\n",
        "print(\"Mostramos las 10 primeras filas de comentarios en español:\\n\", df[df[\"ingles_parametros\"] == True].head(10))"
      ],
      "metadata": {
        "colab": {
          "base_uri": "https://localhost:8080/"
        },
        "id": "HXjzDsVRWNuZ",
        "outputId": "0ef94f51-e9fa-4e9c-8bf6-9a581e58f337"
      },
      "execution_count": null,
      "outputs": [
        {
          "output_type": "stream",
          "name": "stdout",
          "text": [
            "Sentencia: df[\"review_body\"].apply(lambda celda: \n",
            " en_ingled_parametros(\n",
            "     celda=celda,\n",
            "     nuevas_palabras_ingles=nuevas_palabras_ingles))\n",
            "\n",
            "Mostramos las 10 primeras filas de comentarios en español:\n",
            "                                           review_body         review_date  \\\n",
            "0   Elija cualquiera de sus opciones, standard o e...    January 11, 2019   \n",
            "1   El nivel de atencion del personal y calidad de...  September 21, 2018   \n",
            "3   Raúl un verdadero metre del desayuno, lo mejor...    January 11, 2019   \n",
            "4   Un excelente hotel la misión en Asuncion Muy l...     January 6, 2019   \n",
            "5   La pileta tenia un color medio verde, como si ...   December 27, 2018   \n",
            "8   La ubicación, instalaciones, amabilidad y cord...    December 9, 2018   \n",
            "17  Excelente estadia, todas las veces que vamos a...     October 9, 2018   \n",
            "22  Precioso lugar con un diseño de interior admir...  September 11, 2018   \n",
            "23  Muy buena opción de hotel en Asunción. Ubicaci...  September 10, 2018   \n",
            "26  El hotel se encuentra en un lindo barrio frent...   September 2, 2018   \n",
            "\n",
            "    rating  ingles  espaniol  espaniol_parametros  ingles_parametros  \n",
            "0        5   False      True                False               True  \n",
            "1        5   False      True                False               True  \n",
            "3        5   False      True                False               True  \n",
            "4        5   False      True                False               True  \n",
            "5        5   False      True                False               True  \n",
            "8        5   False      True                False               True  \n",
            "17       5   False      True                False               True  \n",
            "22       5   False      True                False               True  \n",
            "23       5   False      True                False               True  \n",
            "26       5   False      True                False               True  \n"
          ]
        }
      ]
    },
    {
      "cell_type": "code",
      "source": [
        "# verificamos que no hay valores en True en ambas columnas \"espaniol_parametros\" y \"ingles_parametros\"\n",
        "df[(df[\"espaniol_parametros\"] & df[\"ingles_parametros\"])]"
      ],
      "metadata": {
        "id": "LqIswGAkEBJu",
        "colab": {
          "base_uri": "https://localhost:8080/",
          "height": 53
        },
        "outputId": "6d06e806-1cdc-4723-f019-33504a7045c4"
      },
      "execution_count": null,
      "outputs": [
        {
          "output_type": "execute_result",
          "data": {
            "text/plain": [
              "Empty DataFrame\n",
              "Columns: [review_body, review_date, rating, ingles, espaniol, espaniol_parametros, ingles_parametros]\n",
              "Index: []"
            ],
            "text/html": [
              "\n",
              "  <div id=\"df-c07130d1-0aaf-4873-a05f-51693fd0bfc7\" class=\"colab-df-container\">\n",
              "    <div>\n",
              "<style scoped>\n",
              "    .dataframe tbody tr th:only-of-type {\n",
              "        vertical-align: middle;\n",
              "    }\n",
              "\n",
              "    .dataframe tbody tr th {\n",
              "        vertical-align: top;\n",
              "    }\n",
              "\n",
              "    .dataframe thead th {\n",
              "        text-align: right;\n",
              "    }\n",
              "</style>\n",
              "<table border=\"1\" class=\"dataframe\">\n",
              "  <thead>\n",
              "    <tr style=\"text-align: right;\">\n",
              "      <th></th>\n",
              "      <th>review_body</th>\n",
              "      <th>review_date</th>\n",
              "      <th>rating</th>\n",
              "      <th>ingles</th>\n",
              "      <th>espaniol</th>\n",
              "      <th>espaniol_parametros</th>\n",
              "      <th>ingles_parametros</th>\n",
              "    </tr>\n",
              "  </thead>\n",
              "  <tbody>\n",
              "  </tbody>\n",
              "</table>\n",
              "</div>\n",
              "    <div class=\"colab-df-buttons\">\n",
              "\n",
              "  <div class=\"colab-df-container\">\n",
              "    <button class=\"colab-df-convert\" onclick=\"convertToInteractive('df-c07130d1-0aaf-4873-a05f-51693fd0bfc7')\"\n",
              "            title=\"Convert this dataframe to an interactive table.\"\n",
              "            style=\"display:none;\">\n",
              "\n",
              "  <svg xmlns=\"http://www.w3.org/2000/svg\" height=\"24px\" viewBox=\"0 -960 960 960\">\n",
              "    <path d=\"M120-120v-720h720v720H120Zm60-500h600v-160H180v160Zm220 220h160v-160H400v160Zm0 220h160v-160H400v160ZM180-400h160v-160H180v160Zm440 0h160v-160H620v160ZM180-180h160v-160H180v160Zm440 0h160v-160H620v160Z\"/>\n",
              "  </svg>\n",
              "    </button>\n",
              "\n",
              "  <style>\n",
              "    .colab-df-container {\n",
              "      display:flex;\n",
              "      gap: 12px;\n",
              "    }\n",
              "\n",
              "    .colab-df-convert {\n",
              "      background-color: #E8F0FE;\n",
              "      border: none;\n",
              "      border-radius: 50%;\n",
              "      cursor: pointer;\n",
              "      display: none;\n",
              "      fill: #1967D2;\n",
              "      height: 32px;\n",
              "      padding: 0 0 0 0;\n",
              "      width: 32px;\n",
              "    }\n",
              "\n",
              "    .colab-df-convert:hover {\n",
              "      background-color: #E2EBFA;\n",
              "      box-shadow: 0px 1px 2px rgba(60, 64, 67, 0.3), 0px 1px 3px 1px rgba(60, 64, 67, 0.15);\n",
              "      fill: #174EA6;\n",
              "    }\n",
              "\n",
              "    .colab-df-buttons div {\n",
              "      margin-bottom: 4px;\n",
              "    }\n",
              "\n",
              "    [theme=dark] .colab-df-convert {\n",
              "      background-color: #3B4455;\n",
              "      fill: #D2E3FC;\n",
              "    }\n",
              "\n",
              "    [theme=dark] .colab-df-convert:hover {\n",
              "      background-color: #434B5C;\n",
              "      box-shadow: 0px 1px 3px 1px rgba(0, 0, 0, 0.15);\n",
              "      filter: drop-shadow(0px 1px 2px rgba(0, 0, 0, 0.3));\n",
              "      fill: #FFFFFF;\n",
              "    }\n",
              "  </style>\n",
              "\n",
              "    <script>\n",
              "      const buttonEl =\n",
              "        document.querySelector('#df-c07130d1-0aaf-4873-a05f-51693fd0bfc7 button.colab-df-convert');\n",
              "      buttonEl.style.display =\n",
              "        google.colab.kernel.accessAllowed ? 'block' : 'none';\n",
              "\n",
              "      async function convertToInteractive(key) {\n",
              "        const element = document.querySelector('#df-c07130d1-0aaf-4873-a05f-51693fd0bfc7');\n",
              "        const dataTable =\n",
              "          await google.colab.kernel.invokeFunction('convertToInteractive',\n",
              "                                                    [key], {});\n",
              "        if (!dataTable) return;\n",
              "\n",
              "        const docLinkHtml = 'Like what you see? Visit the ' +\n",
              "          '<a target=\"_blank\" href=https://colab.research.google.com/notebooks/data_table.ipynb>data table notebook</a>'\n",
              "          + ' to learn more about interactive tables.';\n",
              "        element.innerHTML = '';\n",
              "        dataTable['output_type'] = 'display_data';\n",
              "        await google.colab.output.renderOutput(dataTable, element);\n",
              "        const docLink = document.createElement('div');\n",
              "        docLink.innerHTML = docLinkHtml;\n",
              "        element.appendChild(docLink);\n",
              "      }\n",
              "    </script>\n",
              "  </div>\n",
              "\n",
              "\n",
              "    </div>\n",
              "  </div>\n"
            ],
            "application/vnd.google.colaboratory.intrinsic+json": {
              "type": "dataframe",
              "repr_error": "Out of range float values are not JSON compliant: nan"
            }
          },
          "metadata": {},
          "execution_count": 12
        }
      ]
    },
    {
      "cell_type": "code",
      "source": [
        "# verificamos que no hay valores en False en ambas columnas \"espaniol_parametros\" y \"ingles_parametros\"\n",
        "# el simbolo ~ significa la negación de la operación boolean\n",
        "df[(~(df[\"espaniol_parametros\"] | df[\"ingles_parametros\"]))]"
      ],
      "metadata": {
        "colab": {
          "base_uri": "https://localhost:8080/",
          "height": 53
        },
        "id": "mhtN3AbEbkWz",
        "outputId": "06c3c431-bd0a-4ccf-93ac-2a2b9c062ad0"
      },
      "execution_count": null,
      "outputs": [
        {
          "output_type": "execute_result",
          "data": {
            "text/plain": [
              "Empty DataFrame\n",
              "Columns: [review_body, review_date, rating, ingles, espaniol, espaniol_parametros, ingles_parametros]\n",
              "Index: []"
            ],
            "text/html": [
              "\n",
              "  <div id=\"df-bf4b6ef3-c698-4433-b0ce-86d0728a681f\" class=\"colab-df-container\">\n",
              "    <div>\n",
              "<style scoped>\n",
              "    .dataframe tbody tr th:only-of-type {\n",
              "        vertical-align: middle;\n",
              "    }\n",
              "\n",
              "    .dataframe tbody tr th {\n",
              "        vertical-align: top;\n",
              "    }\n",
              "\n",
              "    .dataframe thead th {\n",
              "        text-align: right;\n",
              "    }\n",
              "</style>\n",
              "<table border=\"1\" class=\"dataframe\">\n",
              "  <thead>\n",
              "    <tr style=\"text-align: right;\">\n",
              "      <th></th>\n",
              "      <th>review_body</th>\n",
              "      <th>review_date</th>\n",
              "      <th>rating</th>\n",
              "      <th>ingles</th>\n",
              "      <th>espaniol</th>\n",
              "      <th>espaniol_parametros</th>\n",
              "      <th>ingles_parametros</th>\n",
              "    </tr>\n",
              "  </thead>\n",
              "  <tbody>\n",
              "  </tbody>\n",
              "</table>\n",
              "</div>\n",
              "    <div class=\"colab-df-buttons\">\n",
              "\n",
              "  <div class=\"colab-df-container\">\n",
              "    <button class=\"colab-df-convert\" onclick=\"convertToInteractive('df-bf4b6ef3-c698-4433-b0ce-86d0728a681f')\"\n",
              "            title=\"Convert this dataframe to an interactive table.\"\n",
              "            style=\"display:none;\">\n",
              "\n",
              "  <svg xmlns=\"http://www.w3.org/2000/svg\" height=\"24px\" viewBox=\"0 -960 960 960\">\n",
              "    <path d=\"M120-120v-720h720v720H120Zm60-500h600v-160H180v160Zm220 220h160v-160H400v160Zm0 220h160v-160H400v160ZM180-400h160v-160H180v160Zm440 0h160v-160H620v160ZM180-180h160v-160H180v160Zm440 0h160v-160H620v160Z\"/>\n",
              "  </svg>\n",
              "    </button>\n",
              "\n",
              "  <style>\n",
              "    .colab-df-container {\n",
              "      display:flex;\n",
              "      gap: 12px;\n",
              "    }\n",
              "\n",
              "    .colab-df-convert {\n",
              "      background-color: #E8F0FE;\n",
              "      border: none;\n",
              "      border-radius: 50%;\n",
              "      cursor: pointer;\n",
              "      display: none;\n",
              "      fill: #1967D2;\n",
              "      height: 32px;\n",
              "      padding: 0 0 0 0;\n",
              "      width: 32px;\n",
              "    }\n",
              "\n",
              "    .colab-df-convert:hover {\n",
              "      background-color: #E2EBFA;\n",
              "      box-shadow: 0px 1px 2px rgba(60, 64, 67, 0.3), 0px 1px 3px 1px rgba(60, 64, 67, 0.15);\n",
              "      fill: #174EA6;\n",
              "    }\n",
              "\n",
              "    .colab-df-buttons div {\n",
              "      margin-bottom: 4px;\n",
              "    }\n",
              "\n",
              "    [theme=dark] .colab-df-convert {\n",
              "      background-color: #3B4455;\n",
              "      fill: #D2E3FC;\n",
              "    }\n",
              "\n",
              "    [theme=dark] .colab-df-convert:hover {\n",
              "      background-color: #434B5C;\n",
              "      box-shadow: 0px 1px 3px 1px rgba(0, 0, 0, 0.15);\n",
              "      filter: drop-shadow(0px 1px 2px rgba(0, 0, 0, 0.3));\n",
              "      fill: #FFFFFF;\n",
              "    }\n",
              "  </style>\n",
              "\n",
              "    <script>\n",
              "      const buttonEl =\n",
              "        document.querySelector('#df-bf4b6ef3-c698-4433-b0ce-86d0728a681f button.colab-df-convert');\n",
              "      buttonEl.style.display =\n",
              "        google.colab.kernel.accessAllowed ? 'block' : 'none';\n",
              "\n",
              "      async function convertToInteractive(key) {\n",
              "        const element = document.querySelector('#df-bf4b6ef3-c698-4433-b0ce-86d0728a681f');\n",
              "        const dataTable =\n",
              "          await google.colab.kernel.invokeFunction('convertToInteractive',\n",
              "                                                    [key], {});\n",
              "        if (!dataTable) return;\n",
              "\n",
              "        const docLinkHtml = 'Like what you see? Visit the ' +\n",
              "          '<a target=\"_blank\" href=https://colab.research.google.com/notebooks/data_table.ipynb>data table notebook</a>'\n",
              "          + ' to learn more about interactive tables.';\n",
              "        element.innerHTML = '';\n",
              "        dataTable['output_type'] = 'display_data';\n",
              "        await google.colab.output.renderOutput(dataTable, element);\n",
              "        const docLink = document.createElement('div');\n",
              "        docLink.innerHTML = docLinkHtml;\n",
              "        element.appendChild(docLink);\n",
              "      }\n",
              "    </script>\n",
              "  </div>\n",
              "\n",
              "\n",
              "    </div>\n",
              "  </div>\n"
            ],
            "application/vnd.google.colaboratory.intrinsic+json": {
              "type": "dataframe",
              "repr_error": "Out of range float values are not JSON compliant: nan"
            }
          },
          "metadata": {},
          "execution_count": 13
        }
      ]
    },
    {
      "cell_type": "markdown",
      "source": [
        "## Transform\n",
        "\n",
        "Vamos a explicarlo con ejemplos y comparandolo con la función `apply` porque son similares.\n",
        "\n",
        "`Transform` trabaja con una función, una lista de funciones o un diccionario, mientras que apply solo trabaja con una función.\n",
        "\n",
        "`Transform` no puede producir resultados de agregaciones y solo trabaja con una Series a la vez.\n",
        "\n",
        "`Transform` produce un resultado que posee la misma cantidad de filas que el DataFrame original mientras que `apply` puede producir un DataFrame con una cantidad de filas distintas por ejemplo cuando agrupamos."
      ],
      "metadata": {
        "id": "V9ivm2wPI5CJ"
      }
    },
    {
      "cell_type": "code",
      "source": [
        "# vamos a generar un DataFrame con números para utilizar de ejemplo\n",
        "df_transform = DataFrame({'A': [1,2,3], 'B': [10,20,30] })"
      ],
      "metadata": {
        "id": "OFO-5f_4I6wI"
      },
      "execution_count": null,
      "outputs": []
    },
    {
      "cell_type": "markdown",
      "source": [
        "### Desde una función"
      ],
      "metadata": {
        "id": "N4fLDJ0Rleni"
      }
    },
    {
      "cell_type": "code",
      "source": [
        "# definimos una función que suma 10 a un valor de entreda\n",
        "def suma_10(x):\n",
        "    return x + 10\n",
        "\n",
        "print(\"DataFrame original (df_transform):\\n\", df_transform)\n",
        "print()\n",
        "print(\"Aplicamos la función a todo el DataFrame\")\n",
        "print(\"Sentencia: df_transform.apply(suma_10))\")\n",
        "print(\"El resultado del apply es:\\n\", df_transform.apply(suma_10))\n",
        "print()\n",
        "print(\"Sentencia: df_transform.transform(suma_10))\")\n",
        "print(\"El resultado del transform es:\\n\", df_transform.transform(suma_10))\n",
        "print()\n",
        "print(\"Aplicamos la función a la columna B y creamos nuevas columnas para el apply y el transform\")\n",
        "print(\"Sentencia: df_transform['B_ap'] = df_transform['B'].apply(suma_10))\")\n",
        "df_transform['B_ap'] = df_transform['B'].apply(suma_10)\n",
        "print(\"El resultado del apply luego de agregar una columna es:\\n\", df_transform)\n",
        "print()\n",
        "print(\"Sentencia: df_transform['B_tr'] = df_transform['B'].transform(suma_10))\")\n",
        "df_transform['B_tr'] = df_transform['B'].apply(suma_10)\n",
        "print(\"El resultado del transform luego de agregar una columna es:\\n\", df_transform)\n",
        "# como podemos observar la salida es exactamente la misma"
      ],
      "metadata": {
        "colab": {
          "base_uri": "https://localhost:8080/"
        },
        "id": "-WGf-pWLkx-j",
        "outputId": "39f215cb-2063-423c-ea49-60aa5f5795b1"
      },
      "execution_count": null,
      "outputs": [
        {
          "output_type": "stream",
          "name": "stdout",
          "text": [
            "DataFrame original (df_transform):\n",
            "    A   B\n",
            "0  1  10\n",
            "1  2  20\n",
            "2  3  30\n",
            "\n",
            "Aplicamos la función a todo el DataFrame\n",
            "Sentencia: df_transform.apply(suma_10))\n",
            "El resultado del apply es:\n",
            "     A   B\n",
            "0  11  20\n",
            "1  12  30\n",
            "2  13  40\n",
            "\n",
            "Sentencia: df_transform.transform(suma_10))\n",
            "El resultado del transform es:\n",
            "     A   B\n",
            "0  11  20\n",
            "1  12  30\n",
            "2  13  40\n",
            "\n",
            "Aplicamos la función a la columna B y creamos nuevas columnas para el apply y el transform\n",
            "Sentencia: df_transform['B_ap'] = df_transform['B'].apply(suma_10))\n",
            "El resultado del apply luego de agregar una columna es:\n",
            "    A   B  B_ap\n",
            "0  1  10    20\n",
            "1  2  20    30\n",
            "2  3  30    40\n",
            "\n",
            "Sentencia: df_transform['B_tr'] = df_transform['B'].transform(suma_10))\n",
            "El resultado del transform luego de agregar una columna es:\n",
            "    A   B  B_ap  B_tr\n",
            "0  1  10    20    20\n",
            "1  2  20    30    30\n",
            "2  3  30    40    40\n"
          ]
        }
      ]
    },
    {
      "cell_type": "markdown",
      "source": [
        "### Desde una función lambda"
      ],
      "metadata": {
        "id": "786sXMT2lxuS"
      }
    },
    {
      "cell_type": "code",
      "source": [
        "print(\"DataFrame original (df_transform):\\n\", df_transform)\n",
        "print()\n",
        "print(\"Sentencia: df_transform.apply(lambda x: x + 10))\")\n",
        "print(\"El resultado del apply es:\\n\", df_transform.apply(lambda x: x + 10))\n",
        "print()\n",
        "print(\"Sentencia: df_transform.transform(lambda x: x + 10))\")\n",
        "print(\"El resultado del transform es:\\n\", df_transform.transform(lambda x: x + 10))\n",
        "# como podemos observar la salida es exactamente la misma"
      ],
      "metadata": {
        "colab": {
          "base_uri": "https://localhost:8080/"
        },
        "id": "GjWIorX0l1AU",
        "outputId": "4f2ae6a8-8396-460a-d2d7-8292eb6e745b"
      },
      "execution_count": null,
      "outputs": [
        {
          "output_type": "stream",
          "name": "stdout",
          "text": [
            "DataFrame original (df_transform):\n",
            "    A   B  B_ap  B_tr\n",
            "0  1  10    20    20\n",
            "1  2  20    30    30\n",
            "2  3  30    40    40\n",
            "\n",
            "Sentencia: df_transform.apply(lambda x: x + 10))\n",
            "El resultado del apply es:\n",
            "     A   B  B_ap  B_tr\n",
            "0  11  20    30    30\n",
            "1  12  30    40    40\n",
            "2  13  40    50    50\n",
            "\n",
            "Sentencia: df_transform.transform(lambda x: x + 10))\n",
            "El resultado del transform es:\n",
            "     A   B  B_ap  B_tr\n",
            "0  11  20    30    30\n",
            "1  12  30    40    40\n",
            "2  13  40    50    50\n"
          ]
        }
      ]
    },
    {
      "cell_type": "markdown",
      "source": [
        "### Las principales diferencias\n",
        "\n",
        "- transform puede tomar una función, una función como string, una lista de funciones o un diccionario.\n",
        "- transform NO puede operar con agregaciones.\n",
        "- apply trabaja con múltiples Series al mismo tiempo, miestras que transform solo trabaja con 1 Series."
      ],
      "metadata": {
        "id": "McVnRad_n-iV"
      }
    },
    {
      "cell_type": "markdown",
      "source": [
        "#### transform y funciones"
      ],
      "metadata": {
        "id": "7aiOx-_PvNRh"
      }
    },
    {
      "cell_type": "code",
      "source": [
        "print(\"DataFrame original (df_transform):\\n\", df_transform)\n",
        "print()\n",
        "print(\"Utilizaremos la función np.sqrt para calcular la raíz \")\n",
        "print(\"Sentencia: df_transform.transform(np.sqrt)\")\n",
        "print(\"El resultado del transform es:\\n\", df_transform.transform(np.sqrt))\n",
        "print()\n",
        "print(\"Utilizaremos la función 'sqrt' para calcular la raíz cuadrada\")\n",
        "print(\"Sentencia: df_transform.transform('sqrt')\")\n",
        "print(\"El resultado del transform es:\\n\", df_transform.transform('sqrt'))\n",
        "print()\n",
        "print(\"\"\"\n",
        "Utilizaremos las función 'np.sqrt' y 'np.exp' para calcular la raiz\n",
        " cuadrada y la exponencial. Notar que al utilizar una lista me crea un DataFrame\n",
        " con subcolumns, es decir, que ahora las columnas con tuplas y una es la columna\n",
        " original (posición 0) y la subcolumna es el nombre de la función (posición 1),\n",
        " esto mismo lo podemos utilizar con los índices.\"\"\")\n",
        "df_transform_lista = df_transform.transform([np.sqrt, np.exp])\n",
        "print(\"Sentencia: df_transform_lista = df_transform.transform([np.sqrt, np.exp])\")\n",
        "print(\"El resultado del transform es:\\n\", df_transform_lista)\n",
        "print(\"Sentencia: df_transform_lista.columns\")\n",
        "print(\"Las columnas del nuevo DataFrame son tupla:\\n\", df_transform_lista.columns)\n",
        "print()\n",
        "print(\"\"\"\n",
        "Utilizaremos las función 'np.sqrt' y 'np.exp' para calcular la raiz\n",
        " cuadrada y la exponencial. Notar que al utilizar un diccionario debo poner como\n",
        " clave el nombre de la columna con la que deseo operar y la/s función que deseo\n",
        " realizar.\"\"\")\n",
        "df_transform_dict = df_transform.transform({'A': np.sqrt,'B': np.exp})\n",
        "print(\"Sentencia: df_transform_dict = df_transform.transform({'A': np.sqrt,'B': np.exp})\")\n",
        "print(\"El resultado del transform es:\\n\", df_transform_dict)"
      ],
      "metadata": {
        "colab": {
          "base_uri": "https://localhost:8080/"
        },
        "id": "XJHNb_c6oYsu",
        "outputId": "2208b8da-8a5c-494e-910f-0ee9bb051287"
      },
      "execution_count": null,
      "outputs": [
        {
          "output_type": "stream",
          "name": "stdout",
          "text": [
            "DataFrame original (df_transform):\n",
            "    A   B  B_ap  B_tr\n",
            "0  1  10    20    20\n",
            "1  2  20    30    30\n",
            "2  3  30    40    40\n",
            "\n",
            "Utilizaremos la función np.sqrt para calcular la raíz \n",
            "Sentencia: df_transform.transform(np.sqrt)\n",
            "El resultado del transform es:\n",
            "           A         B      B_ap      B_tr\n",
            "0  1.000000  3.162278  4.472136  4.472136\n",
            "1  1.414214  4.472136  5.477226  5.477226\n",
            "2  1.732051  5.477226  6.324555  6.324555\n",
            "\n",
            "Utilizaremos la función 'sqrt' para calcular la raíz cuadrada\n",
            "Sentencia: df_transform.transform('sqrt')\n",
            "El resultado del transform es:\n",
            "           A         B      B_ap      B_tr\n",
            "0  1.000000  3.162278  4.472136  4.472136\n",
            "1  1.414214  4.472136  5.477226  5.477226\n",
            "2  1.732051  5.477226  6.324555  6.324555\n",
            "\n",
            "\n",
            "Utilizaremos las función 'np.sqrt' y 'np.exp' para calcular la raiz\n",
            " cuadrada y la exponencial. Notar que al utilizar una lista me crea un DataFrame\n",
            " con subcolumns, es decir, que ahora las columnas con tuplas y una es la columna\n",
            " original (posición 0) y la subcolumna es el nombre de la función (posición 1),\n",
            " esto mismo lo podemos utilizar con los índices.\n",
            "Sentencia: df_transform_lista = df_transform.transform([np.sqrt, np.exp])\n",
            "El resultado del transform es:\n",
            "           A                    B                    B_ap                \\\n",
            "       sqrt        exp      sqrt           exp      sqrt           exp   \n",
            "0  1.000000   2.718282  3.162278  2.202647e+04  4.472136  4.851652e+08   \n",
            "1  1.414214   7.389056  4.472136  4.851652e+08  5.477226  1.068647e+13   \n",
            "2  1.732051  20.085537  5.477226  1.068647e+13  6.324555  2.353853e+17   \n",
            "\n",
            "       B_tr                \n",
            "       sqrt           exp  \n",
            "0  4.472136  4.851652e+08  \n",
            "1  5.477226  1.068647e+13  \n",
            "2  6.324555  2.353853e+17  \n",
            "Sentencia: df_transform_lista.columns\n",
            "Las columnas del nuevo DataFrame son tupla:\n",
            " MultiIndex([(   'A', 'sqrt'),\n",
            "            (   'A',  'exp'),\n",
            "            (   'B', 'sqrt'),\n",
            "            (   'B',  'exp'),\n",
            "            ('B_ap', 'sqrt'),\n",
            "            ('B_ap',  'exp'),\n",
            "            ('B_tr', 'sqrt'),\n",
            "            ('B_tr',  'exp')],\n",
            "           )\n",
            "\n",
            "\n",
            "Utilizaremos las función 'np.sqrt' y 'np.exp' para calcular la raiz\n",
            " cuadrada y la exponencial. Notar que al utilizar un diccionario debo poner como\n",
            " clave el nombre de la columna con la que deseo operar y la/s función que deseo\n",
            " realizar.\n",
            "Sentencia: df_transform_dict = df_transform.transform({'A': np.sqrt,'B': np.exp})\n",
            "El resultado del transform es:\n",
            "           A             B\n",
            "0  1.000000  2.202647e+04\n",
            "1  1.414214  4.851652e+08\n",
            "2  1.732051  1.068647e+13\n"
          ]
        }
      ]
    },
    {
      "cell_type": "markdown",
      "source": [
        "#### Transform y agregaciones\n",
        "\n",
        "Vamos a utilizar de ejemplo la agregación por columnas. En este caso vamos a ver como la función de `transform` no muestra un error."
      ],
      "metadata": {
        "id": "p0BQcsyzmBst"
      }
    },
    {
      "cell_type": "code",
      "source": [
        "print(\"DataFrame original (df_transform):\\n\", df_transform)\n",
        "print()\n",
        "print(\"Sentencia: df_transform.apply(lambda x: x.sum()))\")\n",
        "print(\"El resultado del apply es:\\n\", df_transform.apply(lambda x: x.sum()))\n",
        "print()\n",
        "print(\"Sentencia: df_transform.transform(lambda x: x.sum()))\")\n",
        "print(\"El resultado del transform es:\\n\", df_transform.transform(lambda x: x.sum()))"
      ],
      "metadata": {
        "colab": {
          "base_uri": "https://localhost:8080/",
          "height": 582
        },
        "id": "uI3LF5KZvZUf",
        "outputId": "459e8ee7-5429-4e3c-b6f1-8ef5842e247a"
      },
      "execution_count": null,
      "outputs": [
        {
          "output_type": "stream",
          "name": "stdout",
          "text": [
            "DataFrame original (df_transform):\n",
            "    A   B  B_ap  B_tr\n",
            "0  1  10    20    20\n",
            "1  2  20    30    30\n",
            "2  3  30    40    40\n",
            "\n",
            "Sentencia: df_transform.apply(lambda x: x.sum()))\n",
            "El resultado del apply es:\n",
            " A        6\n",
            "B       60\n",
            "B_ap    90\n",
            "B_tr    90\n",
            "dtype: int64\n",
            "\n",
            "Sentencia: df_transform.transform(lambda x: x.sum()))\n"
          ]
        },
        {
          "output_type": "error",
          "ename": "ValueError",
          "evalue": "Function did not transform",
          "traceback": [
            "\u001b[0;31m---------------------------------------------------------------------------\u001b[0m",
            "\u001b[0;31mValueError\u001b[0m                                Traceback (most recent call last)",
            "\u001b[0;32m<ipython-input-18-94fe8e882882>\u001b[0m in \u001b[0;36m<cell line: 0>\u001b[0;34m()\u001b[0m\n\u001b[1;32m      5\u001b[0m \u001b[0mprint\u001b[0m\u001b[0;34m(\u001b[0m\u001b[0;34m)\u001b[0m\u001b[0;34m\u001b[0m\u001b[0;34m\u001b[0m\u001b[0m\n\u001b[1;32m      6\u001b[0m \u001b[0mprint\u001b[0m\u001b[0;34m(\u001b[0m\u001b[0;34m\"Sentencia: df_transform.transform(lambda x: x.sum()))\"\u001b[0m\u001b[0;34m)\u001b[0m\u001b[0;34m\u001b[0m\u001b[0;34m\u001b[0m\u001b[0m\n\u001b[0;32m----> 7\u001b[0;31m \u001b[0mprint\u001b[0m\u001b[0;34m(\u001b[0m\u001b[0;34m\"El resultado del transform es:\\n\"\u001b[0m\u001b[0;34m,\u001b[0m \u001b[0mdf_transform\u001b[0m\u001b[0;34m.\u001b[0m\u001b[0mtransform\u001b[0m\u001b[0;34m(\u001b[0m\u001b[0;32mlambda\u001b[0m \u001b[0mx\u001b[0m\u001b[0;34m:\u001b[0m \u001b[0mx\u001b[0m\u001b[0;34m.\u001b[0m\u001b[0msum\u001b[0m\u001b[0;34m(\u001b[0m\u001b[0;34m)\u001b[0m\u001b[0;34m)\u001b[0m\u001b[0;34m)\u001b[0m\u001b[0;34m\u001b[0m\u001b[0;34m\u001b[0m\u001b[0m\n\u001b[0m",
            "\u001b[0;32m/usr/local/lib/python3.11/dist-packages/pandas/core/frame.py\u001b[0m in \u001b[0;36mtransform\u001b[0;34m(self, func, axis, *args, **kwargs)\u001b[0m\n\u001b[1;32m  10164\u001b[0m \u001b[0;34m\u001b[0m\u001b[0m\n\u001b[1;32m  10165\u001b[0m         \u001b[0mop\u001b[0m \u001b[0;34m=\u001b[0m \u001b[0mframe_apply\u001b[0m\u001b[0;34m(\u001b[0m\u001b[0mself\u001b[0m\u001b[0;34m,\u001b[0m \u001b[0mfunc\u001b[0m\u001b[0;34m=\u001b[0m\u001b[0mfunc\u001b[0m\u001b[0;34m,\u001b[0m \u001b[0maxis\u001b[0m\u001b[0;34m=\u001b[0m\u001b[0maxis\u001b[0m\u001b[0;34m,\u001b[0m \u001b[0margs\u001b[0m\u001b[0;34m=\u001b[0m\u001b[0margs\u001b[0m\u001b[0;34m,\u001b[0m \u001b[0mkwargs\u001b[0m\u001b[0;34m=\u001b[0m\u001b[0mkwargs\u001b[0m\u001b[0;34m)\u001b[0m\u001b[0;34m\u001b[0m\u001b[0;34m\u001b[0m\u001b[0m\n\u001b[0;32m> 10166\u001b[0;31m         \u001b[0mresult\u001b[0m \u001b[0;34m=\u001b[0m \u001b[0mop\u001b[0m\u001b[0;34m.\u001b[0m\u001b[0mtransform\u001b[0m\u001b[0;34m(\u001b[0m\u001b[0;34m)\u001b[0m\u001b[0;34m\u001b[0m\u001b[0;34m\u001b[0m\u001b[0m\n\u001b[0m\u001b[1;32m  10167\u001b[0m         \u001b[0;32massert\u001b[0m \u001b[0misinstance\u001b[0m\u001b[0;34m(\u001b[0m\u001b[0mresult\u001b[0m\u001b[0;34m,\u001b[0m \u001b[0mDataFrame\u001b[0m\u001b[0;34m)\u001b[0m\u001b[0;34m\u001b[0m\u001b[0;34m\u001b[0m\u001b[0m\n\u001b[1;32m  10168\u001b[0m         \u001b[0;32mreturn\u001b[0m \u001b[0mresult\u001b[0m\u001b[0;34m\u001b[0m\u001b[0;34m\u001b[0m\u001b[0m\n",
            "\u001b[0;32m/usr/local/lib/python3.11/dist-packages/pandas/core/apply.py\u001b[0m in \u001b[0;36mtransform\u001b[0;34m(self)\u001b[0m\n\u001b[1;32m    265\u001b[0m             \u001b[0mobj\u001b[0m\u001b[0;34m.\u001b[0m\u001b[0mindex\u001b[0m  \u001b[0;31m# type: ignore[arg-type]\u001b[0m\u001b[0;34m\u001b[0m\u001b[0;34m\u001b[0m\u001b[0m\n\u001b[1;32m    266\u001b[0m         ):\n\u001b[0;32m--> 267\u001b[0;31m             \u001b[0;32mraise\u001b[0m \u001b[0mValueError\u001b[0m\u001b[0;34m(\u001b[0m\u001b[0;34m\"Function did not transform\"\u001b[0m\u001b[0;34m)\u001b[0m\u001b[0;34m\u001b[0m\u001b[0;34m\u001b[0m\u001b[0m\n\u001b[0m\u001b[1;32m    268\u001b[0m \u001b[0;34m\u001b[0m\u001b[0m\n\u001b[1;32m    269\u001b[0m         \u001b[0;32mreturn\u001b[0m \u001b[0mresult\u001b[0m\u001b[0;34m\u001b[0m\u001b[0;34m\u001b[0m\u001b[0m\n",
            "\u001b[0;31mValueError\u001b[0m: Function did not transform"
          ]
        }
      ]
    },
    {
      "cell_type": "markdown",
      "source": [
        "#### Operando con Series\n",
        "\n",
        "Vamos a ver como podemos operar con varias series a la vez utilizando el `apply` y como la misma función me tira un error al utilizar `transform`."
      ],
      "metadata": {
        "id": "QhXMMjrEwB8p"
      }
    },
    {
      "cell_type": "code",
      "source": [
        "# definimos una función que resta la Series 'B' de la Series 'A'\n",
        "def resta_2_series(x):\n",
        "    return x['B'] - x['A']\n",
        "\n",
        "print(\"DataFrame original (df_transform):\\n\", df_transform)\n",
        "print()\n",
        "print(\"Sentencia: df_transform.apply(resta_2_series, axis=1)\")\n",
        "print(\"El resultado del apply es:\\n\", df_transform.apply(resta_2_series, axis=1))\n",
        "print()\n",
        "print(\"Sentencia: df_transform.transform(resta_2_series, axis=1))\")\n",
        "print(\"El resultado del transform es:\\n\", df_transform.transform(resta_2_series, axis=1))"
      ],
      "metadata": {
        "colab": {
          "base_uri": "https://localhost:8080/",
          "height": 564
        },
        "id": "trxWVeNawcDr",
        "outputId": "c0f81b33-7147-4a7b-cb7c-1a8a6fcb200d"
      },
      "execution_count": null,
      "outputs": [
        {
          "output_type": "stream",
          "name": "stdout",
          "text": [
            "DataFrame original (df_transform):\n",
            "    A   B  B_ap  B_tr\n",
            "0  1  10    20    20\n",
            "1  2  20    30    30\n",
            "2  3  30    40    40\n",
            "\n",
            "Sentencia: df_transform.apply(resta_2_series, axis=1)\n",
            "El resultado del apply es:\n",
            " 0     9\n",
            "1    18\n",
            "2    27\n",
            "dtype: int64\n",
            "\n",
            "Sentencia: df_transform.transform(resta_2_series, axis=1))\n"
          ]
        },
        {
          "output_type": "error",
          "ename": "ValueError",
          "evalue": "Function did not transform",
          "traceback": [
            "\u001b[0;31m---------------------------------------------------------------------------\u001b[0m",
            "\u001b[0;31mValueError\u001b[0m                                Traceback (most recent call last)",
            "\u001b[0;32m<ipython-input-19-765ee24b7496>\u001b[0m in \u001b[0;36m<cell line: 0>\u001b[0;34m()\u001b[0m\n\u001b[1;32m      9\u001b[0m \u001b[0mprint\u001b[0m\u001b[0;34m(\u001b[0m\u001b[0;34m)\u001b[0m\u001b[0;34m\u001b[0m\u001b[0;34m\u001b[0m\u001b[0m\n\u001b[1;32m     10\u001b[0m \u001b[0mprint\u001b[0m\u001b[0;34m(\u001b[0m\u001b[0;34m\"Sentencia: df_transform.transform(resta_2_series, axis=1))\"\u001b[0m\u001b[0;34m)\u001b[0m\u001b[0;34m\u001b[0m\u001b[0;34m\u001b[0m\u001b[0m\n\u001b[0;32m---> 11\u001b[0;31m \u001b[0mprint\u001b[0m\u001b[0;34m(\u001b[0m\u001b[0;34m\"El resultado del transform es:\\n\"\u001b[0m\u001b[0;34m,\u001b[0m \u001b[0mdf_transform\u001b[0m\u001b[0;34m.\u001b[0m\u001b[0mtransform\u001b[0m\u001b[0;34m(\u001b[0m\u001b[0mresta_2_series\u001b[0m\u001b[0;34m,\u001b[0m \u001b[0maxis\u001b[0m\u001b[0;34m=\u001b[0m\u001b[0;36m1\u001b[0m\u001b[0;34m)\u001b[0m\u001b[0;34m)\u001b[0m\u001b[0;34m\u001b[0m\u001b[0;34m\u001b[0m\u001b[0m\n\u001b[0m",
            "\u001b[0;32m/usr/local/lib/python3.11/dist-packages/pandas/core/frame.py\u001b[0m in \u001b[0;36mtransform\u001b[0;34m(self, func, axis, *args, **kwargs)\u001b[0m\n\u001b[1;32m  10164\u001b[0m \u001b[0;34m\u001b[0m\u001b[0m\n\u001b[1;32m  10165\u001b[0m         \u001b[0mop\u001b[0m \u001b[0;34m=\u001b[0m \u001b[0mframe_apply\u001b[0m\u001b[0;34m(\u001b[0m\u001b[0mself\u001b[0m\u001b[0;34m,\u001b[0m \u001b[0mfunc\u001b[0m\u001b[0;34m=\u001b[0m\u001b[0mfunc\u001b[0m\u001b[0;34m,\u001b[0m \u001b[0maxis\u001b[0m\u001b[0;34m=\u001b[0m\u001b[0maxis\u001b[0m\u001b[0;34m,\u001b[0m \u001b[0margs\u001b[0m\u001b[0;34m=\u001b[0m\u001b[0margs\u001b[0m\u001b[0;34m,\u001b[0m \u001b[0mkwargs\u001b[0m\u001b[0;34m=\u001b[0m\u001b[0mkwargs\u001b[0m\u001b[0;34m)\u001b[0m\u001b[0;34m\u001b[0m\u001b[0;34m\u001b[0m\u001b[0m\n\u001b[0;32m> 10166\u001b[0;31m         \u001b[0mresult\u001b[0m \u001b[0;34m=\u001b[0m \u001b[0mop\u001b[0m\u001b[0;34m.\u001b[0m\u001b[0mtransform\u001b[0m\u001b[0;34m(\u001b[0m\u001b[0;34m)\u001b[0m\u001b[0;34m\u001b[0m\u001b[0;34m\u001b[0m\u001b[0m\n\u001b[0m\u001b[1;32m  10167\u001b[0m         \u001b[0;32massert\u001b[0m \u001b[0misinstance\u001b[0m\u001b[0;34m(\u001b[0m\u001b[0mresult\u001b[0m\u001b[0;34m,\u001b[0m \u001b[0mDataFrame\u001b[0m\u001b[0;34m)\u001b[0m\u001b[0;34m\u001b[0m\u001b[0;34m\u001b[0m\u001b[0m\n\u001b[1;32m  10168\u001b[0m         \u001b[0;32mreturn\u001b[0m \u001b[0mresult\u001b[0m\u001b[0;34m\u001b[0m\u001b[0;34m\u001b[0m\u001b[0m\n",
            "\u001b[0;32m/usr/local/lib/python3.11/dist-packages/pandas/core/apply.py\u001b[0m in \u001b[0;36mtransform\u001b[0;34m(self)\u001b[0m\n\u001b[1;32m    227\u001b[0m         \u001b[0;32mif\u001b[0m \u001b[0mobj\u001b[0m\u001b[0;34m.\u001b[0m\u001b[0m_get_axis_number\u001b[0m\u001b[0;34m(\u001b[0m\u001b[0maxis\u001b[0m\u001b[0;34m)\u001b[0m \u001b[0;34m==\u001b[0m \u001b[0;36m1\u001b[0m\u001b[0;34m:\u001b[0m\u001b[0;34m\u001b[0m\u001b[0;34m\u001b[0m\u001b[0m\n\u001b[1;32m    228\u001b[0m             \u001b[0;32massert\u001b[0m \u001b[0;32mnot\u001b[0m \u001b[0mis_series\u001b[0m\u001b[0;34m\u001b[0m\u001b[0;34m\u001b[0m\u001b[0m\n\u001b[0;32m--> 229\u001b[0;31m             \u001b[0;32mreturn\u001b[0m \u001b[0mobj\u001b[0m\u001b[0;34m.\u001b[0m\u001b[0mT\u001b[0m\u001b[0;34m.\u001b[0m\u001b[0mtransform\u001b[0m\u001b[0;34m(\u001b[0m\u001b[0mfunc\u001b[0m\u001b[0;34m,\u001b[0m \u001b[0;36m0\u001b[0m\u001b[0;34m,\u001b[0m \u001b[0;34m*\u001b[0m\u001b[0margs\u001b[0m\u001b[0;34m,\u001b[0m \u001b[0;34m**\u001b[0m\u001b[0mkwargs\u001b[0m\u001b[0;34m)\u001b[0m\u001b[0;34m.\u001b[0m\u001b[0mT\u001b[0m\u001b[0;34m\u001b[0m\u001b[0;34m\u001b[0m\u001b[0m\n\u001b[0m\u001b[1;32m    230\u001b[0m \u001b[0;34m\u001b[0m\u001b[0m\n\u001b[1;32m    231\u001b[0m         \u001b[0;32mif\u001b[0m \u001b[0mis_list_like\u001b[0m\u001b[0;34m(\u001b[0m\u001b[0mfunc\u001b[0m\u001b[0;34m)\u001b[0m \u001b[0;32mand\u001b[0m \u001b[0;32mnot\u001b[0m \u001b[0mis_dict_like\u001b[0m\u001b[0;34m(\u001b[0m\u001b[0mfunc\u001b[0m\u001b[0;34m)\u001b[0m\u001b[0;34m:\u001b[0m\u001b[0;34m\u001b[0m\u001b[0;34m\u001b[0m\u001b[0m\n",
            "\u001b[0;32m/usr/local/lib/python3.11/dist-packages/pandas/core/frame.py\u001b[0m in \u001b[0;36mtransform\u001b[0;34m(self, func, axis, *args, **kwargs)\u001b[0m\n\u001b[1;32m  10164\u001b[0m \u001b[0;34m\u001b[0m\u001b[0m\n\u001b[1;32m  10165\u001b[0m         \u001b[0mop\u001b[0m \u001b[0;34m=\u001b[0m \u001b[0mframe_apply\u001b[0m\u001b[0;34m(\u001b[0m\u001b[0mself\u001b[0m\u001b[0;34m,\u001b[0m \u001b[0mfunc\u001b[0m\u001b[0;34m=\u001b[0m\u001b[0mfunc\u001b[0m\u001b[0;34m,\u001b[0m \u001b[0maxis\u001b[0m\u001b[0;34m=\u001b[0m\u001b[0maxis\u001b[0m\u001b[0;34m,\u001b[0m \u001b[0margs\u001b[0m\u001b[0;34m=\u001b[0m\u001b[0margs\u001b[0m\u001b[0;34m,\u001b[0m \u001b[0mkwargs\u001b[0m\u001b[0;34m=\u001b[0m\u001b[0mkwargs\u001b[0m\u001b[0;34m)\u001b[0m\u001b[0;34m\u001b[0m\u001b[0;34m\u001b[0m\u001b[0m\n\u001b[0;32m> 10166\u001b[0;31m         \u001b[0mresult\u001b[0m \u001b[0;34m=\u001b[0m \u001b[0mop\u001b[0m\u001b[0;34m.\u001b[0m\u001b[0mtransform\u001b[0m\u001b[0;34m(\u001b[0m\u001b[0;34m)\u001b[0m\u001b[0;34m\u001b[0m\u001b[0;34m\u001b[0m\u001b[0m\n\u001b[0m\u001b[1;32m  10167\u001b[0m         \u001b[0;32massert\u001b[0m \u001b[0misinstance\u001b[0m\u001b[0;34m(\u001b[0m\u001b[0mresult\u001b[0m\u001b[0;34m,\u001b[0m \u001b[0mDataFrame\u001b[0m\u001b[0;34m)\u001b[0m\u001b[0;34m\u001b[0m\u001b[0;34m\u001b[0m\u001b[0m\n\u001b[1;32m  10168\u001b[0m         \u001b[0;32mreturn\u001b[0m \u001b[0mresult\u001b[0m\u001b[0;34m\u001b[0m\u001b[0;34m\u001b[0m\u001b[0m\n",
            "\u001b[0;32m/usr/local/lib/python3.11/dist-packages/pandas/core/apply.py\u001b[0m in \u001b[0;36mtransform\u001b[0;34m(self)\u001b[0m\n\u001b[1;32m    265\u001b[0m             \u001b[0mobj\u001b[0m\u001b[0;34m.\u001b[0m\u001b[0mindex\u001b[0m  \u001b[0;31m# type: ignore[arg-type]\u001b[0m\u001b[0;34m\u001b[0m\u001b[0;34m\u001b[0m\u001b[0m\n\u001b[1;32m    266\u001b[0m         ):\n\u001b[0;32m--> 267\u001b[0;31m             \u001b[0;32mraise\u001b[0m \u001b[0mValueError\u001b[0m\u001b[0;34m(\u001b[0m\u001b[0;34m\"Function did not transform\"\u001b[0m\u001b[0;34m)\u001b[0m\u001b[0;34m\u001b[0m\u001b[0;34m\u001b[0m\u001b[0m\n\u001b[0m\u001b[1;32m    268\u001b[0m \u001b[0;34m\u001b[0m\u001b[0m\n\u001b[1;32m    269\u001b[0m         \u001b[0;32mreturn\u001b[0m \u001b[0mresult\u001b[0m\u001b[0;34m\u001b[0m\u001b[0;34m\u001b[0m\u001b[0m\n",
            "\u001b[0;31mValueError\u001b[0m: Function did not transform"
          ]
        }
      ]
    },
    {
      "cell_type": "markdown",
      "source": [
        "## groupby\n"
      ],
      "metadata": {
        "id": "GH8a2wYKxII2"
      }
    },
    {
      "cell_type": "code",
      "source": [
        "df_transform_group_by = DataFrame({\n",
        "    'key': ['a','b','c'] * 3,\n",
        "    'A': np.arange(9),\n",
        "    'B': [1,2,3] * 3,\n",
        "})"
      ],
      "metadata": {
        "id": "yk__87pCbOXU"
      },
      "execution_count": null,
      "outputs": []
    },
    {
      "cell_type": "markdown",
      "source": [
        "### transform retorna la misma longitud del DataFrame original"
      ],
      "metadata": {
        "id": "6HmFHpuuf52y"
      }
    },
    {
      "cell_type": "code",
      "source": [
        "# función que suma una Series\n",
        "def suma_grupo(x):\n",
        "    return x.sum()\n",
        "\n",
        "print(\"DataFrame original (df_transform_group_by):\\n\", df_transform_group_by)\n",
        "print()\n",
        "print(\"Sentencia: df_transform_group_by.groupby('key')\")\n",
        "print(\"El resultado es (OBSERVAR LA COLUMNA A):\\n\")\n",
        "group_by = df_transform_group_by.groupby('key')\n",
        "for key, item in group_by:\n",
        "  print(group_by.get_group(key), \"\\n\")\n",
        "print()\n",
        "print(\"Sentencia: df_transform_group_by.groupby('key')['A'].apply(suma_grupo)\")\n",
        "print(\"Este resultado está agrupado por la columna 'key'\")\n",
        "print(\"El resultado del apply es:\\n\", df_transform_group_by.groupby('key')['A'].apply(suma_grupo))\n",
        "print()\n",
        "print(\"Sentencia: df_transform_group_by.groupby('key')['A'].transform(suma_grupo)\")\n",
        "print(\"Este resultado está agrupado por la columna 'key' pero retorna la misma longitud del DataFrame original\")\n",
        "print(\"El resultado del transform es:\\n\", df_transform_group_by.groupby('key')['A'].transform(suma_grupo))"
      ],
      "metadata": {
        "colab": {
          "base_uri": "https://localhost:8080/"
        },
        "id": "mSv2l3-2bd_r",
        "outputId": "28df8a1d-ad65-4f49-f1e3-76c0a6d4f8b8"
      },
      "execution_count": null,
      "outputs": [
        {
          "output_type": "stream",
          "name": "stdout",
          "text": [
            "DataFrame original (df_transform_group_by):\n",
            "   key  A  B\n",
            "0   a  0  1\n",
            "1   b  1  2\n",
            "2   c  2  3\n",
            "3   a  3  1\n",
            "4   b  4  2\n",
            "5   c  5  3\n",
            "6   a  6  1\n",
            "7   b  7  2\n",
            "8   c  8  3\n",
            "\n",
            "Sentencia: df_transform_group_by.groupby('key')\n",
            "El resultado es (OBSERVAR LA COLUMNA A):\n",
            "\n",
            "  key  A  B\n",
            "0   a  0  1\n",
            "3   a  3  1\n",
            "6   a  6  1 \n",
            "\n",
            "  key  A  B\n",
            "1   b  1  2\n",
            "4   b  4  2\n",
            "7   b  7  2 \n",
            "\n",
            "  key  A  B\n",
            "2   c  2  3\n",
            "5   c  5  3\n",
            "8   c  8  3 \n",
            "\n",
            "\n",
            "Sentencia: df_transform_group_by.groupby('key')['A'].apply(suma_grupo)\n",
            "Este resultado está agrupado por la columna 'key'\n",
            "El resultado del apply es:\n",
            " key\n",
            "a     9\n",
            "b    12\n",
            "c    15\n",
            "Name: A, dtype: int64\n",
            "\n",
            "Sentencia: df_transform_group_by.groupby('key')['A'].transform(suma_grupo)\n",
            "Este resultado está agrupado por la columna 'key' pero retorna la misma longitud del DataFrame original\n",
            "El resultado del transform es:\n",
            " 0     9\n",
            "1    12\n",
            "2    15\n",
            "3     9\n",
            "4    12\n",
            "5    15\n",
            "6     9\n",
            "7    12\n",
            "8    15\n",
            "Name: A, dtype: int64\n"
          ]
        }
      ]
    },
    {
      "cell_type": "markdown",
      "source": [
        "### No permite trabajar con varias Series"
      ],
      "metadata": {
        "id": "lYUFOWyPgDvp"
      }
    },
    {
      "cell_type": "code",
      "source": [
        "# función que resta las columnas B - A\n",
        "def restar_2_series(x):\n",
        "  return x['B'] - x['A']\n",
        "\n",
        "print(\"DataFrame original (df_transform_group_by):\\n\", df_transform_group_by)\n",
        "print()\n",
        "print(\"Sentencia: df_transform_group_by.groupby('key')\")\n",
        "print(\"El resultado es (OBSERVAR LA COLUMNA A):\\n\")\n",
        "group_by = df_transform_group_by.groupby('key')\n",
        "for key, item in group_by:\n",
        "  print(group_by.get_group(key), \"\\n\")\n",
        "print()\n",
        "print(\"Sentencia: df_transform_group_by.groupby('key').apply(restar_2_series)\")\n",
        "print(\"Este resultado está agrupado por la columna 'key'\")\n",
        "print(\"El resultado del apply es:\\n\", df_transform_group_by.groupby('key').apply(restar_2_series))\n",
        "print()\n",
        "print(\"Sentencia: df_transform_group_by.groupby('key').transform(restar_2_series)\")\n",
        "print(\"Este resultado está agrupado por la columna 'key' pero retorna la misma longitud del DataFrame original\")\n",
        "print(\"El resultado del transform es:\\n\", df_transform_group_by.groupby('key').transform(restar_2_series))"
      ],
      "metadata": {
        "colab": {
          "base_uri": "https://localhost:8080/",
          "height": 1000
        },
        "id": "n3ZXe8jygJ8_",
        "outputId": "f8d820b4-f3d3-4d48-9c12-2af02372c1fa"
      },
      "execution_count": null,
      "outputs": [
        {
          "output_type": "stream",
          "name": "stdout",
          "text": [
            "DataFrame original (df_transform_group_by):\n",
            "   key  A  B\n",
            "0   a  0  1\n",
            "1   b  1  2\n",
            "2   c  2  3\n",
            "3   a  3  1\n",
            "4   b  4  2\n",
            "5   c  5  3\n",
            "6   a  6  1\n",
            "7   b  7  2\n",
            "8   c  8  3\n",
            "\n",
            "Sentencia: df_transform_group_by.groupby('key')\n",
            "El resultado es (OBSERVAR LA COLUMNA A):\n",
            "\n",
            "  key  A  B\n",
            "0   a  0  1\n",
            "3   a  3  1\n",
            "6   a  6  1 \n",
            "\n",
            "  key  A  B\n",
            "1   b  1  2\n",
            "4   b  4  2\n",
            "7   b  7  2 \n",
            "\n",
            "  key  A  B\n",
            "2   c  2  3\n",
            "5   c  5  3\n",
            "8   c  8  3 \n",
            "\n",
            "\n",
            "Sentencia: df_transform_group_by.groupby('key').apply(restar_2_series)\n",
            "Este resultado está agrupado por la columna 'key'\n",
            "El resultado del apply es:\n",
            " key   \n",
            "a    0    1\n",
            "     3   -2\n",
            "     6   -5\n",
            "b    1    1\n",
            "     4   -2\n",
            "     7   -5\n",
            "c    2    1\n",
            "     5   -2\n",
            "     8   -5\n",
            "dtype: int64\n",
            "\n",
            "Sentencia: df_transform_group_by.groupby('key').transform(restar_2_series)\n",
            "Este resultado está agrupado por la columna 'key' pero retorna la misma longitud del DataFrame original\n"
          ]
        },
        {
          "output_type": "stream",
          "name": "stderr",
          "text": [
            "<ipython-input-22-6f0c5527c0ce>:15: DeprecationWarning: DataFrameGroupBy.apply operated on the grouping columns. This behavior is deprecated, and in a future version of pandas the grouping columns will be excluded from the operation. Either pass `include_groups=False` to exclude the groupings or explicitly select the grouping columns after groupby to silence this warning.\n",
            "  print(\"El resultado del apply es:\\n\", df_transform_group_by.groupby('key').apply(restar_2_series))\n"
          ]
        },
        {
          "output_type": "error",
          "ename": "KeyError",
          "evalue": "'B'",
          "traceback": [
            "\u001b[0;31m---------------------------------------------------------------------------\u001b[0m",
            "\u001b[0;31mKeyError\u001b[0m                                  Traceback (most recent call last)",
            "\u001b[0;32m/usr/local/lib/python3.11/dist-packages/pandas/core/indexes/base.py\u001b[0m in \u001b[0;36mget_loc\u001b[0;34m(self, key)\u001b[0m\n\u001b[1;32m   3804\u001b[0m         \u001b[0;32mtry\u001b[0m\u001b[0;34m:\u001b[0m\u001b[0;34m\u001b[0m\u001b[0;34m\u001b[0m\u001b[0m\n\u001b[0;32m-> 3805\u001b[0;31m             \u001b[0;32mreturn\u001b[0m \u001b[0mself\u001b[0m\u001b[0;34m.\u001b[0m\u001b[0m_engine\u001b[0m\u001b[0;34m.\u001b[0m\u001b[0mget_loc\u001b[0m\u001b[0;34m(\u001b[0m\u001b[0mcasted_key\u001b[0m\u001b[0;34m)\u001b[0m\u001b[0;34m\u001b[0m\u001b[0;34m\u001b[0m\u001b[0m\n\u001b[0m\u001b[1;32m   3806\u001b[0m         \u001b[0;32mexcept\u001b[0m \u001b[0mKeyError\u001b[0m \u001b[0;32mas\u001b[0m \u001b[0merr\u001b[0m\u001b[0;34m:\u001b[0m\u001b[0;34m\u001b[0m\u001b[0;34m\u001b[0m\u001b[0m\n",
            "\u001b[0;32mindex.pyx\u001b[0m in \u001b[0;36mpandas._libs.index.IndexEngine.get_loc\u001b[0;34m()\u001b[0m\n",
            "\u001b[0;32mindex.pyx\u001b[0m in \u001b[0;36mpandas._libs.index.IndexEngine.get_loc\u001b[0;34m()\u001b[0m\n",
            "\u001b[0;32mpandas/_libs/index_class_helper.pxi\u001b[0m in \u001b[0;36mpandas._libs.index.Int64Engine._check_type\u001b[0;34m()\u001b[0m\n",
            "\u001b[0;31mKeyError\u001b[0m: 'B'",
            "\nThe above exception was the direct cause of the following exception:\n",
            "\u001b[0;31mKeyError\u001b[0m                                  Traceback (most recent call last)",
            "\u001b[0;32m<ipython-input-22-6f0c5527c0ce>\u001b[0m in \u001b[0;36m<cell line: 0>\u001b[0;34m()\u001b[0m\n\u001b[1;32m     17\u001b[0m \u001b[0mprint\u001b[0m\u001b[0;34m(\u001b[0m\u001b[0;34m\"Sentencia: df_transform_group_by.groupby('key').transform(restar_2_series)\"\u001b[0m\u001b[0;34m)\u001b[0m\u001b[0;34m\u001b[0m\u001b[0;34m\u001b[0m\u001b[0m\n\u001b[1;32m     18\u001b[0m \u001b[0mprint\u001b[0m\u001b[0;34m(\u001b[0m\u001b[0;34m\"Este resultado está agrupado por la columna 'key' pero retorna la misma longitud del DataFrame original\"\u001b[0m\u001b[0;34m)\u001b[0m\u001b[0;34m\u001b[0m\u001b[0;34m\u001b[0m\u001b[0m\n\u001b[0;32m---> 19\u001b[0;31m \u001b[0mprint\u001b[0m\u001b[0;34m(\u001b[0m\u001b[0;34m\"El resultado del transform es:\\n\"\u001b[0m\u001b[0;34m,\u001b[0m \u001b[0mdf_transform_group_by\u001b[0m\u001b[0;34m.\u001b[0m\u001b[0mgroupby\u001b[0m\u001b[0;34m(\u001b[0m\u001b[0;34m'key'\u001b[0m\u001b[0;34m)\u001b[0m\u001b[0;34m.\u001b[0m\u001b[0mtransform\u001b[0m\u001b[0;34m(\u001b[0m\u001b[0mrestar_2_series\u001b[0m\u001b[0;34m)\u001b[0m\u001b[0;34m)\u001b[0m\u001b[0;34m\u001b[0m\u001b[0;34m\u001b[0m\u001b[0m\n\u001b[0m",
            "\u001b[0;32m/usr/local/lib/python3.11/dist-packages/pandas/core/groupby/generic.py\u001b[0m in \u001b[0;36mtransform\u001b[0;34m(self, func, engine, engine_kwargs, *args, **kwargs)\u001b[0m\n\u001b[1;32m   1813\u001b[0m     \u001b[0;34m@\u001b[0m\u001b[0mAppender\u001b[0m\u001b[0;34m(\u001b[0m\u001b[0m_transform_template\u001b[0m\u001b[0;34m)\u001b[0m\u001b[0;34m\u001b[0m\u001b[0;34m\u001b[0m\u001b[0m\n\u001b[1;32m   1814\u001b[0m     \u001b[0;32mdef\u001b[0m \u001b[0mtransform\u001b[0m\u001b[0;34m(\u001b[0m\u001b[0mself\u001b[0m\u001b[0;34m,\u001b[0m \u001b[0mfunc\u001b[0m\u001b[0;34m,\u001b[0m \u001b[0;34m*\u001b[0m\u001b[0margs\u001b[0m\u001b[0;34m,\u001b[0m \u001b[0mengine\u001b[0m\u001b[0;34m=\u001b[0m\u001b[0;32mNone\u001b[0m\u001b[0;34m,\u001b[0m \u001b[0mengine_kwargs\u001b[0m\u001b[0;34m=\u001b[0m\u001b[0;32mNone\u001b[0m\u001b[0;34m,\u001b[0m \u001b[0;34m**\u001b[0m\u001b[0mkwargs\u001b[0m\u001b[0;34m)\u001b[0m\u001b[0;34m:\u001b[0m\u001b[0;34m\u001b[0m\u001b[0;34m\u001b[0m\u001b[0m\n\u001b[0;32m-> 1815\u001b[0;31m         return self._transform(\n\u001b[0m\u001b[1;32m   1816\u001b[0m             \u001b[0mfunc\u001b[0m\u001b[0;34m,\u001b[0m \u001b[0;34m*\u001b[0m\u001b[0margs\u001b[0m\u001b[0;34m,\u001b[0m \u001b[0mengine\u001b[0m\u001b[0;34m=\u001b[0m\u001b[0mengine\u001b[0m\u001b[0;34m,\u001b[0m \u001b[0mengine_kwargs\u001b[0m\u001b[0;34m=\u001b[0m\u001b[0mengine_kwargs\u001b[0m\u001b[0;34m,\u001b[0m \u001b[0;34m**\u001b[0m\u001b[0mkwargs\u001b[0m\u001b[0;34m\u001b[0m\u001b[0;34m\u001b[0m\u001b[0m\n\u001b[1;32m   1817\u001b[0m         )\n",
            "\u001b[0;32m/usr/local/lib/python3.11/dist-packages/pandas/core/groupby/groupby.py\u001b[0m in \u001b[0;36m_transform\u001b[0;34m(self, func, engine, engine_kwargs, *args, **kwargs)\u001b[0m\n\u001b[1;32m   2019\u001b[0m \u001b[0;34m\u001b[0m\u001b[0m\n\u001b[1;32m   2020\u001b[0m         \u001b[0;32mif\u001b[0m \u001b[0;32mnot\u001b[0m \u001b[0misinstance\u001b[0m\u001b[0;34m(\u001b[0m\u001b[0mfunc\u001b[0m\u001b[0;34m,\u001b[0m \u001b[0mstr\u001b[0m\u001b[0;34m)\u001b[0m\u001b[0;34m:\u001b[0m\u001b[0;34m\u001b[0m\u001b[0;34m\u001b[0m\u001b[0m\n\u001b[0;32m-> 2021\u001b[0;31m             \u001b[0;32mreturn\u001b[0m \u001b[0mself\u001b[0m\u001b[0;34m.\u001b[0m\u001b[0m_transform_general\u001b[0m\u001b[0;34m(\u001b[0m\u001b[0mfunc\u001b[0m\u001b[0;34m,\u001b[0m \u001b[0mengine\u001b[0m\u001b[0;34m,\u001b[0m \u001b[0mengine_kwargs\u001b[0m\u001b[0;34m,\u001b[0m \u001b[0;34m*\u001b[0m\u001b[0margs\u001b[0m\u001b[0;34m,\u001b[0m \u001b[0;34m**\u001b[0m\u001b[0mkwargs\u001b[0m\u001b[0;34m)\u001b[0m\u001b[0;34m\u001b[0m\u001b[0;34m\u001b[0m\u001b[0m\n\u001b[0m\u001b[1;32m   2022\u001b[0m \u001b[0;34m\u001b[0m\u001b[0m\n\u001b[1;32m   2023\u001b[0m         \u001b[0;32melif\u001b[0m \u001b[0mfunc\u001b[0m \u001b[0;32mnot\u001b[0m \u001b[0;32min\u001b[0m \u001b[0mbase\u001b[0m\u001b[0;34m.\u001b[0m\u001b[0mtransform_kernel_allowlist\u001b[0m\u001b[0;34m:\u001b[0m\u001b[0;34m\u001b[0m\u001b[0;34m\u001b[0m\u001b[0m\n",
            "\u001b[0;32m/usr/local/lib/python3.11/dist-packages/pandas/core/groupby/generic.py\u001b[0m in \u001b[0;36m_transform_general\u001b[0;34m(self, func, engine, engine_kwargs, *args, **kwargs)\u001b[0m\n\u001b[1;32m   1730\u001b[0m             \u001b[0mobject\u001b[0m\u001b[0;34m.\u001b[0m\u001b[0m__setattr__\u001b[0m\u001b[0;34m(\u001b[0m\u001b[0mgroup\u001b[0m\u001b[0;34m,\u001b[0m \u001b[0;34m\"name\"\u001b[0m\u001b[0;34m,\u001b[0m \u001b[0mname\u001b[0m\u001b[0;34m)\u001b[0m\u001b[0;34m\u001b[0m\u001b[0;34m\u001b[0m\u001b[0m\n\u001b[1;32m   1731\u001b[0m             \u001b[0;32mtry\u001b[0m\u001b[0;34m:\u001b[0m\u001b[0;34m\u001b[0m\u001b[0;34m\u001b[0m\u001b[0m\n\u001b[0;32m-> 1732\u001b[0;31m                 \u001b[0mpath\u001b[0m\u001b[0;34m,\u001b[0m \u001b[0mres\u001b[0m \u001b[0;34m=\u001b[0m \u001b[0mself\u001b[0m\u001b[0;34m.\u001b[0m\u001b[0m_choose_path\u001b[0m\u001b[0;34m(\u001b[0m\u001b[0mfast_path\u001b[0m\u001b[0;34m,\u001b[0m \u001b[0mslow_path\u001b[0m\u001b[0;34m,\u001b[0m \u001b[0mgroup\u001b[0m\u001b[0;34m)\u001b[0m\u001b[0;34m\u001b[0m\u001b[0;34m\u001b[0m\u001b[0m\n\u001b[0m\u001b[1;32m   1733\u001b[0m             \u001b[0;32mexcept\u001b[0m \u001b[0mValueError\u001b[0m \u001b[0;32mas\u001b[0m \u001b[0merr\u001b[0m\u001b[0;34m:\u001b[0m\u001b[0;34m\u001b[0m\u001b[0;34m\u001b[0m\u001b[0m\n\u001b[1;32m   1734\u001b[0m                 \u001b[0;31m# e.g. test_transform_with_non_scalar_group\u001b[0m\u001b[0;34m\u001b[0m\u001b[0;34m\u001b[0m\u001b[0m\n",
            "\u001b[0;32m/usr/local/lib/python3.11/dist-packages/pandas/core/groupby/generic.py\u001b[0m in \u001b[0;36m_choose_path\u001b[0;34m(self, fast_path, slow_path, group)\u001b[0m\n\u001b[1;32m   1832\u001b[0m     \u001b[0;32mdef\u001b[0m \u001b[0m_choose_path\u001b[0m\u001b[0;34m(\u001b[0m\u001b[0mself\u001b[0m\u001b[0;34m,\u001b[0m \u001b[0mfast_path\u001b[0m\u001b[0;34m:\u001b[0m \u001b[0mCallable\u001b[0m\u001b[0;34m,\u001b[0m \u001b[0mslow_path\u001b[0m\u001b[0;34m:\u001b[0m \u001b[0mCallable\u001b[0m\u001b[0;34m,\u001b[0m \u001b[0mgroup\u001b[0m\u001b[0;34m:\u001b[0m \u001b[0mDataFrame\u001b[0m\u001b[0;34m)\u001b[0m\u001b[0;34m:\u001b[0m\u001b[0;34m\u001b[0m\u001b[0;34m\u001b[0m\u001b[0m\n\u001b[1;32m   1833\u001b[0m         \u001b[0mpath\u001b[0m \u001b[0;34m=\u001b[0m \u001b[0mslow_path\u001b[0m\u001b[0;34m\u001b[0m\u001b[0;34m\u001b[0m\u001b[0m\n\u001b[0;32m-> 1834\u001b[0;31m         \u001b[0mres\u001b[0m \u001b[0;34m=\u001b[0m \u001b[0mslow_path\u001b[0m\u001b[0;34m(\u001b[0m\u001b[0mgroup\u001b[0m\u001b[0;34m)\u001b[0m\u001b[0;34m\u001b[0m\u001b[0;34m\u001b[0m\u001b[0m\n\u001b[0m\u001b[1;32m   1835\u001b[0m \u001b[0;34m\u001b[0m\u001b[0m\n\u001b[1;32m   1836\u001b[0m         \u001b[0;32mif\u001b[0m \u001b[0mself\u001b[0m\u001b[0;34m.\u001b[0m\u001b[0mngroups\u001b[0m \u001b[0;34m==\u001b[0m \u001b[0;36m1\u001b[0m\u001b[0;34m:\u001b[0m\u001b[0;34m\u001b[0m\u001b[0;34m\u001b[0m\u001b[0m\n",
            "\u001b[0;32m/usr/local/lib/python3.11/dist-packages/pandas/core/groupby/generic.py\u001b[0m in \u001b[0;36m<lambda>\u001b[0;34m(group)\u001b[0m\n\u001b[1;32m   1825\u001b[0m         \u001b[0;32melse\u001b[0m\u001b[0;34m:\u001b[0m\u001b[0;34m\u001b[0m\u001b[0;34m\u001b[0m\u001b[0m\n\u001b[1;32m   1826\u001b[0m             \u001b[0mfast_path\u001b[0m \u001b[0;34m=\u001b[0m \u001b[0;32mlambda\u001b[0m \u001b[0mgroup\u001b[0m\u001b[0;34m:\u001b[0m \u001b[0mfunc\u001b[0m\u001b[0;34m(\u001b[0m\u001b[0mgroup\u001b[0m\u001b[0;34m,\u001b[0m \u001b[0;34m*\u001b[0m\u001b[0margs\u001b[0m\u001b[0;34m,\u001b[0m \u001b[0;34m**\u001b[0m\u001b[0mkwargs\u001b[0m\u001b[0;34m)\u001b[0m\u001b[0;34m\u001b[0m\u001b[0;34m\u001b[0m\u001b[0m\n\u001b[0;32m-> 1827\u001b[0;31m             slow_path = lambda group: group.apply(\n\u001b[0m\u001b[1;32m   1828\u001b[0m                 \u001b[0;32mlambda\u001b[0m \u001b[0mx\u001b[0m\u001b[0;34m:\u001b[0m \u001b[0mfunc\u001b[0m\u001b[0;34m(\u001b[0m\u001b[0mx\u001b[0m\u001b[0;34m,\u001b[0m \u001b[0;34m*\u001b[0m\u001b[0margs\u001b[0m\u001b[0;34m,\u001b[0m \u001b[0;34m**\u001b[0m\u001b[0mkwargs\u001b[0m\u001b[0;34m)\u001b[0m\u001b[0;34m,\u001b[0m \u001b[0maxis\u001b[0m\u001b[0;34m=\u001b[0m\u001b[0mself\u001b[0m\u001b[0;34m.\u001b[0m\u001b[0maxis\u001b[0m\u001b[0;34m\u001b[0m\u001b[0;34m\u001b[0m\u001b[0m\n\u001b[1;32m   1829\u001b[0m             )\n",
            "\u001b[0;32m/usr/local/lib/python3.11/dist-packages/pandas/core/frame.py\u001b[0m in \u001b[0;36mapply\u001b[0;34m(self, func, axis, raw, result_type, args, by_row, engine, engine_kwargs, **kwargs)\u001b[0m\n\u001b[1;32m  10372\u001b[0m             \u001b[0mkwargs\u001b[0m\u001b[0;34m=\u001b[0m\u001b[0mkwargs\u001b[0m\u001b[0;34m,\u001b[0m\u001b[0;34m\u001b[0m\u001b[0;34m\u001b[0m\u001b[0m\n\u001b[1;32m  10373\u001b[0m         )\n\u001b[0;32m> 10374\u001b[0;31m         \u001b[0;32mreturn\u001b[0m \u001b[0mop\u001b[0m\u001b[0;34m.\u001b[0m\u001b[0mapply\u001b[0m\u001b[0;34m(\u001b[0m\u001b[0;34m)\u001b[0m\u001b[0;34m.\u001b[0m\u001b[0m__finalize__\u001b[0m\u001b[0;34m(\u001b[0m\u001b[0mself\u001b[0m\u001b[0;34m,\u001b[0m \u001b[0mmethod\u001b[0m\u001b[0;34m=\u001b[0m\u001b[0;34m\"apply\"\u001b[0m\u001b[0;34m)\u001b[0m\u001b[0;34m\u001b[0m\u001b[0;34m\u001b[0m\u001b[0m\n\u001b[0m\u001b[1;32m  10375\u001b[0m \u001b[0;34m\u001b[0m\u001b[0m\n\u001b[1;32m  10376\u001b[0m     def map(\n",
            "\u001b[0;32m/usr/local/lib/python3.11/dist-packages/pandas/core/apply.py\u001b[0m in \u001b[0;36mapply\u001b[0;34m(self)\u001b[0m\n\u001b[1;32m    914\u001b[0m             \u001b[0;32mreturn\u001b[0m \u001b[0mself\u001b[0m\u001b[0;34m.\u001b[0m\u001b[0mapply_raw\u001b[0m\u001b[0;34m(\u001b[0m\u001b[0mengine\u001b[0m\u001b[0;34m=\u001b[0m\u001b[0mself\u001b[0m\u001b[0;34m.\u001b[0m\u001b[0mengine\u001b[0m\u001b[0;34m,\u001b[0m \u001b[0mengine_kwargs\u001b[0m\u001b[0;34m=\u001b[0m\u001b[0mself\u001b[0m\u001b[0;34m.\u001b[0m\u001b[0mengine_kwargs\u001b[0m\u001b[0;34m)\u001b[0m\u001b[0;34m\u001b[0m\u001b[0;34m\u001b[0m\u001b[0m\n\u001b[1;32m    915\u001b[0m \u001b[0;34m\u001b[0m\u001b[0m\n\u001b[0;32m--> 916\u001b[0;31m         \u001b[0;32mreturn\u001b[0m \u001b[0mself\u001b[0m\u001b[0;34m.\u001b[0m\u001b[0mapply_standard\u001b[0m\u001b[0;34m(\u001b[0m\u001b[0;34m)\u001b[0m\u001b[0;34m\u001b[0m\u001b[0;34m\u001b[0m\u001b[0m\n\u001b[0m\u001b[1;32m    917\u001b[0m \u001b[0;34m\u001b[0m\u001b[0m\n\u001b[1;32m    918\u001b[0m     \u001b[0;32mdef\u001b[0m \u001b[0magg\u001b[0m\u001b[0;34m(\u001b[0m\u001b[0mself\u001b[0m\u001b[0;34m)\u001b[0m\u001b[0;34m:\u001b[0m\u001b[0;34m\u001b[0m\u001b[0;34m\u001b[0m\u001b[0m\n",
            "\u001b[0;32m/usr/local/lib/python3.11/dist-packages/pandas/core/apply.py\u001b[0m in \u001b[0;36mapply_standard\u001b[0;34m(self)\u001b[0m\n\u001b[1;32m   1061\u001b[0m     \u001b[0;32mdef\u001b[0m \u001b[0mapply_standard\u001b[0m\u001b[0;34m(\u001b[0m\u001b[0mself\u001b[0m\u001b[0;34m)\u001b[0m\u001b[0;34m:\u001b[0m\u001b[0;34m\u001b[0m\u001b[0;34m\u001b[0m\u001b[0m\n\u001b[1;32m   1062\u001b[0m         \u001b[0;32mif\u001b[0m \u001b[0mself\u001b[0m\u001b[0;34m.\u001b[0m\u001b[0mengine\u001b[0m \u001b[0;34m==\u001b[0m \u001b[0;34m\"python\"\u001b[0m\u001b[0;34m:\u001b[0m\u001b[0;34m\u001b[0m\u001b[0;34m\u001b[0m\u001b[0m\n\u001b[0;32m-> 1063\u001b[0;31m             \u001b[0mresults\u001b[0m\u001b[0;34m,\u001b[0m \u001b[0mres_index\u001b[0m \u001b[0;34m=\u001b[0m \u001b[0mself\u001b[0m\u001b[0;34m.\u001b[0m\u001b[0mapply_series_generator\u001b[0m\u001b[0;34m(\u001b[0m\u001b[0;34m)\u001b[0m\u001b[0;34m\u001b[0m\u001b[0;34m\u001b[0m\u001b[0m\n\u001b[0m\u001b[1;32m   1064\u001b[0m         \u001b[0;32melse\u001b[0m\u001b[0;34m:\u001b[0m\u001b[0;34m\u001b[0m\u001b[0;34m\u001b[0m\u001b[0m\n\u001b[1;32m   1065\u001b[0m             \u001b[0mresults\u001b[0m\u001b[0;34m,\u001b[0m \u001b[0mres_index\u001b[0m \u001b[0;34m=\u001b[0m \u001b[0mself\u001b[0m\u001b[0;34m.\u001b[0m\u001b[0mapply_series_numba\u001b[0m\u001b[0;34m(\u001b[0m\u001b[0;34m)\u001b[0m\u001b[0;34m\u001b[0m\u001b[0;34m\u001b[0m\u001b[0m\n",
            "\u001b[0;32m/usr/local/lib/python3.11/dist-packages/pandas/core/apply.py\u001b[0m in \u001b[0;36mapply_series_generator\u001b[0;34m(self)\u001b[0m\n\u001b[1;32m   1079\u001b[0m             \u001b[0;32mfor\u001b[0m \u001b[0mi\u001b[0m\u001b[0;34m,\u001b[0m \u001b[0mv\u001b[0m \u001b[0;32min\u001b[0m \u001b[0menumerate\u001b[0m\u001b[0;34m(\u001b[0m\u001b[0mseries_gen\u001b[0m\u001b[0;34m)\u001b[0m\u001b[0;34m:\u001b[0m\u001b[0;34m\u001b[0m\u001b[0;34m\u001b[0m\u001b[0m\n\u001b[1;32m   1080\u001b[0m                 \u001b[0;31m# ignore SettingWithCopy here in case the user mutates\u001b[0m\u001b[0;34m\u001b[0m\u001b[0;34m\u001b[0m\u001b[0m\n\u001b[0;32m-> 1081\u001b[0;31m                 \u001b[0mresults\u001b[0m\u001b[0;34m[\u001b[0m\u001b[0mi\u001b[0m\u001b[0;34m]\u001b[0m \u001b[0;34m=\u001b[0m \u001b[0mself\u001b[0m\u001b[0;34m.\u001b[0m\u001b[0mfunc\u001b[0m\u001b[0;34m(\u001b[0m\u001b[0mv\u001b[0m\u001b[0;34m,\u001b[0m \u001b[0;34m*\u001b[0m\u001b[0mself\u001b[0m\u001b[0;34m.\u001b[0m\u001b[0margs\u001b[0m\u001b[0;34m,\u001b[0m \u001b[0;34m**\u001b[0m\u001b[0mself\u001b[0m\u001b[0;34m.\u001b[0m\u001b[0mkwargs\u001b[0m\u001b[0;34m)\u001b[0m\u001b[0;34m\u001b[0m\u001b[0;34m\u001b[0m\u001b[0m\n\u001b[0m\u001b[1;32m   1082\u001b[0m                 \u001b[0;32mif\u001b[0m \u001b[0misinstance\u001b[0m\u001b[0;34m(\u001b[0m\u001b[0mresults\u001b[0m\u001b[0;34m[\u001b[0m\u001b[0mi\u001b[0m\u001b[0;34m]\u001b[0m\u001b[0;34m,\u001b[0m \u001b[0mABCSeries\u001b[0m\u001b[0;34m)\u001b[0m\u001b[0;34m:\u001b[0m\u001b[0;34m\u001b[0m\u001b[0;34m\u001b[0m\u001b[0m\n\u001b[1;32m   1083\u001b[0m                     \u001b[0;31m# If we have a view on v, we need to make a copy because\u001b[0m\u001b[0;34m\u001b[0m\u001b[0;34m\u001b[0m\u001b[0m\n",
            "\u001b[0;32m/usr/local/lib/python3.11/dist-packages/pandas/core/groupby/generic.py\u001b[0m in \u001b[0;36m<lambda>\u001b[0;34m(x)\u001b[0m\n\u001b[1;32m   1826\u001b[0m             \u001b[0mfast_path\u001b[0m \u001b[0;34m=\u001b[0m \u001b[0;32mlambda\u001b[0m \u001b[0mgroup\u001b[0m\u001b[0;34m:\u001b[0m \u001b[0mfunc\u001b[0m\u001b[0;34m(\u001b[0m\u001b[0mgroup\u001b[0m\u001b[0;34m,\u001b[0m \u001b[0;34m*\u001b[0m\u001b[0margs\u001b[0m\u001b[0;34m,\u001b[0m \u001b[0;34m**\u001b[0m\u001b[0mkwargs\u001b[0m\u001b[0;34m)\u001b[0m\u001b[0;34m\u001b[0m\u001b[0;34m\u001b[0m\u001b[0m\n\u001b[1;32m   1827\u001b[0m             slow_path = lambda group: group.apply(\n\u001b[0;32m-> 1828\u001b[0;31m                 \u001b[0;32mlambda\u001b[0m \u001b[0mx\u001b[0m\u001b[0;34m:\u001b[0m \u001b[0mfunc\u001b[0m\u001b[0;34m(\u001b[0m\u001b[0mx\u001b[0m\u001b[0;34m,\u001b[0m \u001b[0;34m*\u001b[0m\u001b[0margs\u001b[0m\u001b[0;34m,\u001b[0m \u001b[0;34m**\u001b[0m\u001b[0mkwargs\u001b[0m\u001b[0;34m)\u001b[0m\u001b[0;34m,\u001b[0m \u001b[0maxis\u001b[0m\u001b[0;34m=\u001b[0m\u001b[0mself\u001b[0m\u001b[0;34m.\u001b[0m\u001b[0maxis\u001b[0m\u001b[0;34m\u001b[0m\u001b[0;34m\u001b[0m\u001b[0m\n\u001b[0m\u001b[1;32m   1829\u001b[0m             )\n\u001b[1;32m   1830\u001b[0m         \u001b[0;32mreturn\u001b[0m \u001b[0mfast_path\u001b[0m\u001b[0;34m,\u001b[0m \u001b[0mslow_path\u001b[0m\u001b[0;34m\u001b[0m\u001b[0;34m\u001b[0m\u001b[0m\n",
            "\u001b[0;32m<ipython-input-22-6f0c5527c0ce>\u001b[0m in \u001b[0;36mrestar_2_series\u001b[0;34m(x)\u001b[0m\n\u001b[1;32m      1\u001b[0m \u001b[0;31m# función que resta las columnas B - A\u001b[0m\u001b[0;34m\u001b[0m\u001b[0;34m\u001b[0m\u001b[0m\n\u001b[1;32m      2\u001b[0m \u001b[0;32mdef\u001b[0m \u001b[0mrestar_2_series\u001b[0m\u001b[0;34m(\u001b[0m\u001b[0mx\u001b[0m\u001b[0;34m)\u001b[0m\u001b[0;34m:\u001b[0m\u001b[0;34m\u001b[0m\u001b[0;34m\u001b[0m\u001b[0m\n\u001b[0;32m----> 3\u001b[0;31m   \u001b[0;32mreturn\u001b[0m \u001b[0mx\u001b[0m\u001b[0;34m[\u001b[0m\u001b[0;34m'B'\u001b[0m\u001b[0;34m]\u001b[0m \u001b[0;34m-\u001b[0m \u001b[0mx\u001b[0m\u001b[0;34m[\u001b[0m\u001b[0;34m'A'\u001b[0m\u001b[0;34m]\u001b[0m\u001b[0;34m\u001b[0m\u001b[0;34m\u001b[0m\u001b[0m\n\u001b[0m\u001b[1;32m      4\u001b[0m \u001b[0;34m\u001b[0m\u001b[0m\n\u001b[1;32m      5\u001b[0m \u001b[0mprint\u001b[0m\u001b[0;34m(\u001b[0m\u001b[0;34m\"DataFrame original (df_transform_group_by):\\n\"\u001b[0m\u001b[0;34m,\u001b[0m \u001b[0mdf_transform_group_by\u001b[0m\u001b[0;34m)\u001b[0m\u001b[0;34m\u001b[0m\u001b[0;34m\u001b[0m\u001b[0m\n",
            "\u001b[0;32m/usr/local/lib/python3.11/dist-packages/pandas/core/series.py\u001b[0m in \u001b[0;36m__getitem__\u001b[0;34m(self, key)\u001b[0m\n\u001b[1;32m   1119\u001b[0m \u001b[0;34m\u001b[0m\u001b[0m\n\u001b[1;32m   1120\u001b[0m         \u001b[0;32melif\u001b[0m \u001b[0mkey_is_scalar\u001b[0m\u001b[0;34m:\u001b[0m\u001b[0;34m\u001b[0m\u001b[0;34m\u001b[0m\u001b[0m\n\u001b[0;32m-> 1121\u001b[0;31m             \u001b[0;32mreturn\u001b[0m \u001b[0mself\u001b[0m\u001b[0;34m.\u001b[0m\u001b[0m_get_value\u001b[0m\u001b[0;34m(\u001b[0m\u001b[0mkey\u001b[0m\u001b[0;34m)\u001b[0m\u001b[0;34m\u001b[0m\u001b[0;34m\u001b[0m\u001b[0m\n\u001b[0m\u001b[1;32m   1122\u001b[0m \u001b[0;34m\u001b[0m\u001b[0m\n\u001b[1;32m   1123\u001b[0m         \u001b[0;31m# Convert generator to list before going through hashable part\u001b[0m\u001b[0;34m\u001b[0m\u001b[0;34m\u001b[0m\u001b[0m\n",
            "\u001b[0;32m/usr/local/lib/python3.11/dist-packages/pandas/core/series.py\u001b[0m in \u001b[0;36m_get_value\u001b[0;34m(self, label, takeable)\u001b[0m\n\u001b[1;32m   1235\u001b[0m \u001b[0;34m\u001b[0m\u001b[0m\n\u001b[1;32m   1236\u001b[0m         \u001b[0;31m# Similar to Index.get_value, but we do not fall back to positional\u001b[0m\u001b[0;34m\u001b[0m\u001b[0;34m\u001b[0m\u001b[0m\n\u001b[0;32m-> 1237\u001b[0;31m         \u001b[0mloc\u001b[0m \u001b[0;34m=\u001b[0m \u001b[0mself\u001b[0m\u001b[0;34m.\u001b[0m\u001b[0mindex\u001b[0m\u001b[0;34m.\u001b[0m\u001b[0mget_loc\u001b[0m\u001b[0;34m(\u001b[0m\u001b[0mlabel\u001b[0m\u001b[0;34m)\u001b[0m\u001b[0;34m\u001b[0m\u001b[0;34m\u001b[0m\u001b[0m\n\u001b[0m\u001b[1;32m   1238\u001b[0m \u001b[0;34m\u001b[0m\u001b[0m\n\u001b[1;32m   1239\u001b[0m         \u001b[0;32mif\u001b[0m \u001b[0mis_integer\u001b[0m\u001b[0;34m(\u001b[0m\u001b[0mloc\u001b[0m\u001b[0;34m)\u001b[0m\u001b[0;34m:\u001b[0m\u001b[0;34m\u001b[0m\u001b[0;34m\u001b[0m\u001b[0m\n",
            "\u001b[0;32m/usr/local/lib/python3.11/dist-packages/pandas/core/indexes/base.py\u001b[0m in \u001b[0;36mget_loc\u001b[0;34m(self, key)\u001b[0m\n\u001b[1;32m   3810\u001b[0m             ):\n\u001b[1;32m   3811\u001b[0m                 \u001b[0;32mraise\u001b[0m \u001b[0mInvalidIndexError\u001b[0m\u001b[0;34m(\u001b[0m\u001b[0mkey\u001b[0m\u001b[0;34m)\u001b[0m\u001b[0;34m\u001b[0m\u001b[0;34m\u001b[0m\u001b[0m\n\u001b[0;32m-> 3812\u001b[0;31m             \u001b[0;32mraise\u001b[0m \u001b[0mKeyError\u001b[0m\u001b[0;34m(\u001b[0m\u001b[0mkey\u001b[0m\u001b[0;34m)\u001b[0m \u001b[0;32mfrom\u001b[0m \u001b[0merr\u001b[0m\u001b[0;34m\u001b[0m\u001b[0;34m\u001b[0m\u001b[0m\n\u001b[0m\u001b[1;32m   3813\u001b[0m         \u001b[0;32mexcept\u001b[0m \u001b[0mTypeError\u001b[0m\u001b[0;34m:\u001b[0m\u001b[0;34m\u001b[0m\u001b[0;34m\u001b[0m\u001b[0m\n\u001b[1;32m   3814\u001b[0m             \u001b[0;31m# If we have a listlike key, _check_indexing_error will raise\u001b[0m\u001b[0;34m\u001b[0m\u001b[0;34m\u001b[0m\u001b[0m\n",
            "\u001b[0;31mKeyError\u001b[0m: 'B'"
          ]
        }
      ]
    },
    {
      "cell_type": "markdown",
      "source": [
        "## vectorized\n",
        "\n",
        "Pandas tiene funciones vectorizadas que funcionan de forma más optima. La mayoría de las funciones de str están vectorizadas."
      ],
      "metadata": {
        "id": "WSKxIG81pEC0"
      }
    },
    {
      "cell_type": "code",
      "source": [
        "# vamos a levantar nuevamente el dataset\n",
        "df_vectorized = read_csv(f\"{folder_dataset}/La_Mision_Hotel_Boutique-Asuncion__es.csv\", delimiter=\",\")\n",
        "df_vectorized.head()"
      ],
      "metadata": {
        "id": "X4KPFLt9lSmu"
      },
      "execution_count": null,
      "outputs": []
    },
    {
      "cell_type": "code",
      "source": [
        "# vamos a medir el tiempo para verificar si una review está en inglés\n",
        "%time df_vectorized[\"ingles_sin_vectorizar\"] = df[\"review_body\"].apply(lambda celda: True if celda.find(\" are \") >= 0  else False)"
      ],
      "metadata": {
        "id": "5sBjvY_cpFKp"
      },
      "execution_count": null,
      "outputs": []
    },
    {
      "cell_type": "code",
      "source": [
        "# vamos a medir el tiempo para verificar si una review está en inglés\n",
        "%time df_vectorized[\"ingles_vectorizada\"] = df[\"review_body\"].str.find(\" are \") >= 0"
      ],
      "metadata": {
        "id": "ToV5qSQKlqVh"
      },
      "execution_count": null,
      "outputs": []
    },
    {
      "cell_type": "code",
      "source": [
        "print(\"DataFrame (df_vectorized):\\n\", df_vectorized)"
      ],
      "metadata": {
        "id": "4q8D5R5LmPWu"
      },
      "execution_count": null,
      "outputs": []
    },
    {
      "cell_type": "markdown",
      "source": [
        "### Funciones de string vectorizadas\n",
        "\n",
        "|  |  |  |  |\n",
        "| --- | --- | --- | --- |\n",
        "| len() | lower() | translate() | islower() |\n",
        "| ljust() | upper()      | startswith() | isupper() |\n",
        "| rjust() | find()       | endswith()   | isnumeric() |\n",
        "| center()| rfind()      | isalnum()    | isdecimal() |\n",
        "| zfill() | index()      | isalpha()    | split() |\n",
        "| strip() | rindex()     | isdigit()    | rsplit() |\n",
        "| rstrip()| capitalize() | isspace()    | partition() |\n",
        "| lstrip()| swapcase()   | istitle()    | rpartition()  |"
      ],
      "metadata": {
        "id": "CAFGcWC31_YD"
      }
    },
    {
      "cell_type": "code",
      "source": [
        "print(\"Sentencia: df_vectorized['review_bod'].str.len()\")\n",
        "print(\"La longitud de cada review es:\\n\", df_vectorized[\"review_body\"].str.len())"
      ],
      "metadata": {
        "id": "-wjc_yTU2RUM"
      },
      "execution_count": null,
      "outputs": []
    },
    {
      "cell_type": "code",
      "source": [
        "print('Sentencia: df_vectorized[\"review_body\"].str.len()')\n",
        "print(\"Cambia el las letras lower case a upper case y viceversa:\\n\",\n",
        "      df_vectorized[\"review_body\"].str.swapcase())"
      ],
      "metadata": {
        "id": "95X9y2fD3Nlr"
      },
      "execution_count": null,
      "outputs": []
    },
    {
      "cell_type": "code",
      "source": [
        "print('Sentencia: df_vectorized[\"review_body\"].str.split()')\n",
        "print(\"Realizamos el split:\\n\",\n",
        "      df_vectorized[\"review_body\"].str.split())"
      ],
      "metadata": {
        "id": "x0-bdHaf3nIk"
      },
      "execution_count": null,
      "outputs": []
    },
    {
      "cell_type": "markdown",
      "source": [
        "### Funciones que utilizan expresiones regulares\n",
        "\n",
        "| Función | Descripción |\n",
        "| --- | --- |\n",
        "| match() | Llama a `re.match()`, retorna un Boolean. |\n",
        "| extract() | Llama a `re.match()`, retorna el grupo de matches como strings. |\n",
        "| findall() | Llama a `re.findall()`. |\n",
        "| replace() | Reemplaza las ocurrencias del patrón por un string. |\n",
        "| contains() | Llama a `re.search()`, retorna un Boolean. |\n",
        "| count() | Cuenta las ocurrencias del patrón. |\n",
        "| split() | Equivalente a `str.split()`, pero acepta expresiones regulares. |\n",
        "| rsplit() | Equivalente a `str.rsplit()`, pero acepta expresiones regulares. |"
      ],
      "metadata": {
        "id": "JYSwfr-73_je"
      }
    },
    {
      "cell_type": "code",
      "source": [
        "print('Sentencia: df_vectorized[\"review_body\"].str.findall(r\"\\sare\\s\")')\n",
        "print('Buscamos la palabra \" are \":\\n',\n",
        "      df_vectorized[\"review_body\"].str.findall(r\"\\sare\\s\"))"
      ],
      "metadata": {
        "id": "BJmnLQaI4EDU"
      },
      "execution_count": null,
      "outputs": []
    },
    {
      "cell_type": "code",
      "source": [
        "print('Sentencia: df_vectorized[\"review_body\"].str.count(r\"\\sare\\s\")')\n",
        "print('Contamos la/s palabra/s \" are \":\\n',\n",
        "      df_vectorized[\"review_body\"].str.count(r\"\\sare\\s\"))"
      ],
      "metadata": {
        "id": "bspPSNxr4j0K"
      },
      "execution_count": null,
      "outputs": []
    },
    {
      "cell_type": "code",
      "source": [
        "print('Sentencia: df_vectorized[\"review_body\"].str.contains(r\"\\sare\\s\")')\n",
        "print('Verificamos si existe la palabra \" are \":\\n',\n",
        "      df_vectorized[\"review_body\"].str.contains(r\"\\sare\\s\"))"
      ],
      "metadata": {
        "id": "dAB8MwIs5BdR"
      },
      "execution_count": null,
      "outputs": []
    },
    {
      "cell_type": "markdown",
      "source": [
        "### Otras funciones\n",
        "\n",
        "| Función | Descripción |\n",
        "| --- | --- |\n",
        "| get() | Índice de cada elemento. |\n",
        "| slice() | Slice de cada elemento. |\n",
        "| slice_replace() | Reemplaza el slice en cada elemento con el valor que se pasó. |\n",
        "| cat() | Concatena strings. |\n",
        "| repeat() | Repite valores. |\n",
        "| normalize() | Retorna el unicode del string. |\n",
        "| pad() | Agrega espacios en blanco el izquierda, derecha o ambos lados del string. |\n",
        "| wrap() | Separa strings largos en líneas con una longitud máxima que se pasa como parámetro. |\n",
        "| join() | Une los strings en cada elemento de la Series con el separados que recibe como parámeto. |\n",
        "| get_dummies() | Crea un nuevo DataFrame a partir del split de una columna |"
      ],
      "metadata": {
        "id": "pnkR5qN-4EmM"
      }
    },
    {
      "cell_type": "code",
      "source": [
        "print('Sentencia: df_vectorized[\"review_body\"].str.slice(0,10)')\n",
        "print('Obtiene los 10 primeros caracteres:\\n',\n",
        "      df_vectorized[\"review_body\"].str.slice(0,10))\n"
      ],
      "metadata": {
        "id": "dG7xLtbT4GLF"
      },
      "execution_count": null,
      "outputs": []
    },
    {
      "cell_type": "code",
      "source": [
        "print('Sentencia: df_vectorized[\"review_body\"].str.split().str.get(-1)')\n",
        "print('Obtiene la última palabra:\\n',\n",
        "      df_vectorized[\"review_body\"].str.split().str.get(-1))"
      ],
      "metadata": {
        "id": "yDGtFy3_5xn6"
      },
      "execution_count": null,
      "outputs": []
    },
    {
      "cell_type": "code",
      "source": [
        "print('Sentencia: df_vectorized[\"review_date\"].str.get_dummies(\" \")')\n",
        "print('Transforma el campo de fecha en un nuevo DataFrame, separa la columna por espacios:\\n',\n",
        "      df_vectorized[\"review_date\"].str.get_dummies(\" \"))"
      ],
      "metadata": {
        "id": "1L11qp4G6nrZ"
      },
      "execution_count": null,
      "outputs": []
    },
    {
      "cell_type": "markdown",
      "source": [
        "## Date and Time"
      ],
      "metadata": {
        "id": "m1s25uig7pCS"
      }
    },
    {
      "cell_type": "code",
      "source": [
        "# vamos a levantar nuevamente el dataset y borrar algunas columnas\n",
        "df_datetime = read_csv(f\"{folder_dataset}/La_Mision_Hotel_Boutique-Asuncion__es.csv\", delimiter=\",\")\n",
        "df_datetime = df_datetime.drop([\"review_body\"], axis=1)\n",
        "df_datetime.head()"
      ],
      "metadata": {
        "id": "fqLxLlGH_5eC"
      },
      "execution_count": null,
      "outputs": []
    },
    {
      "cell_type": "code",
      "source": [
        "print('Sentencia: df_datetime[\"datetime\"] = to_datetime(df_datetime[\"review_date\"])')\n",
        "df_datetime[\"date_and_time\"] = to_datetime(df_datetime[\"review_date\"])\n",
        "print('Creamos la columna \"date_and_time\" a partir de la transformación de la '\\\n",
        "      'columna \"review_date\":\\n',\n",
        "      df_datetime)\n",
        "print()\n",
        "print('El tipo de la columna \"review_date\" es: ', df_datetime[\"review_date\"].dtype)\n",
        "print('El tipo de la columna \"date_and_time\" es: ', df_datetime[\"date_and_time\"].dtype)\n",
        "print('El tipo de dato datetime64[ns] es equivalente al tipo de dato \"<M8[ns]\" o \">M8[ns]\"\\n'\\\n",
        "      ' y depende del pc en donde lo estemos ejecutando: ', np.dtype('datetime64[ns]') == np.dtype('<M8[ns]'))"
      ],
      "metadata": {
        "id": "NUGxt0Lu76uA"
      },
      "execution_count": null,
      "outputs": []
    },
    {
      "cell_type": "markdown",
      "source": [
        "### Frecuencias y offset\n",
        "\n",
        "| Código | Descripción |\n",
        "| --- | --- |\n",
        "| D | Día |\n",
        "| B | Día laboral |\n",
        "| W | Semana |\n",
        "| M | Fin de mes |\n",
        "| BM | Fin de mes laboral |\n",
        "| Q | Fin del cuatrimestre |\n",
        "| BQ | Fin del cuatrimestre laboral |\n",
        "| A | Fin de año |\n",
        "| BA | Fin de año laboral |\n",
        "| H | Horas |\n",
        "| BH | Horas laborales |\n",
        "| T | Minutos |\n",
        "| S | Segundos |\n",
        "| L | Milisegundos |\n",
        "| U | Microsegundos |\n",
        "| N | Nanosegundos |\n",
        "| MS | Month start |\n",
        "| BMS | Comienzo del mes laboral |\n",
        "| QS | Comienzo del cuatrimestre |\n",
        "| BQS | Comienzo del cuatrimestre laboral |\n",
        "| AS | Comienzo del año |\n",
        "| BAS | Comienzo del año laboral |"
      ],
      "metadata": {
        "id": "TYBGKDRfAoEL"
      }
    },
    {
      "cell_type": "code",
      "source": [
        "print('Sentencia: pd.date_range(start=\"2023-01-01\", periods=12, freq=\"Q\")')\n",
        "print('Crea 12 fechas a partir del \"2023-01-01\" pero cada fecha es el fin de cada cuatrimestre:\\n',\n",
        "      pd.date_range(start=\"2023-01-01\", periods=12, freq=\"Q\"))\n",
        "print()\n",
        "print('Sentencia: pd.date_range(start=\"2023-01-01\", periods=12, freq=\"BQ\")')\n",
        "print('Crea 12 fechas a partir del \"2023-01-01\" pero cada fecha es el fin de cada cuatrimestre laboral:\\n',\n",
        "      pd.date_range(start=\"2023-01-01\", periods=12, freq=\"BQ\"))\n",
        "print('Notar la diferencia entre las posiciones 2 o 3 de ambos')"
      ],
      "metadata": {
        "id": "8KBkY0lUCstR"
      },
      "execution_count": null,
      "outputs": []
    },
    {
      "cell_type": "code",
      "source": [
        "print('Sentencia: pd.date_range(start=\"2023-01-01\", periods=12, freq=\"H\")')\n",
        "print('Crea 12 fechas a partir del \"2023-01-01\" pero cada fecha es el fin de cada cuatrimestre:\\n',\n",
        "      pd.date_range(start=\"2023-01-01\", periods=12, freq=\"H\"))\n",
        "print()\n",
        "print('Sentencia: pd.date_range(start=\"2023-01-01\", periods=12, freq=\"BH\")')\n",
        "print('Crea 12 fechas a partir del \"2023-01-01\" pero cada fecha es el fin de cada cuatrimestre laboral:\\n',\n",
        "      pd.date_range(start=\"2023-01-01\", periods=12, freq=\"BH\"))\n",
        "print('Notar la diferencia entre las posiciones 0 o 1 de ambos')"
      ],
      "metadata": {
        "id": "neWyfGcmEoMu"
      },
      "execution_count": null,
      "outputs": []
    },
    {
      "cell_type": "code",
      "source": [
        "# elimino la columna review_date\n",
        "df_datetime = df_datetime.drop(\"review_date\", axis=1)\n",
        "# transforma la columna date_and_time en DateTimeIndex\n",
        "df_datetime[\"date_and_time\"] = pd.to_datetime(df_datetime[\"date_and_time\"])\n",
        "# una vez transformada la seteo como nuevo índice\n",
        "df_datetime = df_datetime.set_index(\"date_and_time\")"
      ],
      "metadata": {
        "id": "qYpKLQukLYLB"
      },
      "execution_count": null,
      "outputs": []
    },
    {
      "cell_type": "code",
      "source": [
        "# calculo el promedio según el año laboral\n",
        "df_datetime.resample('BA').mean()"
      ],
      "metadata": {
        "id": "aaUEQc7WJQjE"
      },
      "execution_count": null,
      "outputs": []
    },
    {
      "cell_type": "code",
      "source": [
        "# hacemos un plot\n",
        "df_datetime.resample('BA').mean().plot()"
      ],
      "metadata": {
        "id": "8NrO4GKgvuJX"
      },
      "execution_count": null,
      "outputs": []
    },
    {
      "cell_type": "code",
      "source": [],
      "metadata": {
        "id": "snQT0dmpG8CO"
      },
      "execution_count": null,
      "outputs": []
    }
  ]
}