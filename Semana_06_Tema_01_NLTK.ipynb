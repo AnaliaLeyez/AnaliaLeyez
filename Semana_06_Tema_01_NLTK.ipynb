{
  "nbformat": 4,
  "nbformat_minor": 0,
  "metadata": {
    "colab": {
      "provenance": [],
      "include_colab_link": true
    },
    "kernelspec": {
      "name": "python3",
      "display_name": "Python 3"
    },
    "language_info": {
      "name": "python"
    }
  },
  "cells": [
    {
      "cell_type": "markdown",
      "metadata": {
        "id": "view-in-github",
        "colab_type": "text"
      },
      "source": [
        "<a href=\"https://colab.research.google.com/github/AnaliaLeyez/AnaliaLeyez/blob/main/Semana_06_Tema_01_NLTK.ipynb\" target=\"_parent\"><img src=\"https://colab.research.google.com/assets/colab-badge.svg\" alt=\"Open In Colab\"/></a>"
      ]
    },
    {
      "cell_type": "markdown",
      "source": [
        "# [nltk](https://www.nltk.org/)\n",
        "\n",
        "[Libro](https://www.nltk.org/book/)\n",
        "\n",
        "Librería para el procesamiento de texto para clasificación, tokenización, stemming, etiquetado, análisis sintáctico.\n",
        "\n",
        "Permite entrenar modelos chicos que no están relacionados con transformer. Está parte no la vamos a ver.\n",
        "\n",
        "Esta librería posee dataset de ejemplos que se pueden descargar para hacer pruebas.\n",
        "\n",
        "Todavia es muy utilizada para entrenar modelos pequeños y específicos. Posee librerías y herramientas que se utilizan en la actualidad."
      ],
      "metadata": {
        "id": "NYUSEvVx1Fs7"
      }
    },
    {
      "cell_type": "markdown",
      "source": [
        "## Instalación"
      ],
      "metadata": {
        "id": "pkCTAjVG4CGU"
      }
    },
    {
      "cell_type": "code",
      "source": [
        "!pip install -U nltk"
      ],
      "metadata": {
        "id": "H888ITrZ4HZ_",
        "colab": {
          "base_uri": "https://localhost:8080/"
        },
        "outputId": "88b315d1-e1c3-4550-d381-fde61a097a35"
      },
      "execution_count": null,
      "outputs": [
        {
          "output_type": "stream",
          "name": "stdout",
          "text": [
            "Requirement already satisfied: nltk in /usr/local/lib/python3.11/dist-packages (3.9.1)\n",
            "Requirement already satisfied: click in /usr/local/lib/python3.11/dist-packages (from nltk) (8.1.8)\n",
            "Requirement already satisfied: joblib in /usr/local/lib/python3.11/dist-packages (from nltk) (1.4.2)\n",
            "Requirement already satisfied: regex>=2021.8.3 in /usr/local/lib/python3.11/dist-packages (from nltk) (2024.11.6)\n",
            "Requirement already satisfied: tqdm in /usr/local/lib/python3.11/dist-packages (from nltk) (4.67.1)\n"
          ]
        }
      ]
    },
    {
      "cell_type": "markdown",
      "source": [
        "## Versión"
      ],
      "metadata": {
        "id": "EI5uvpRI4bHJ"
      }
    },
    {
      "cell_type": "code",
      "source": [
        "import nltk\n",
        "nltk.__version__"
      ],
      "metadata": {
        "colab": {
          "base_uri": "https://localhost:8080/",
          "height": 35
        },
        "id": "KaEL56zK4dSI",
        "outputId": "89d30e09-c5d8-4e95-cd34-ba9db138975c"
      },
      "execution_count": null,
      "outputs": [
        {
          "output_type": "execute_result",
          "data": {
            "text/plain": [
              "'3.9.1'"
            ],
            "application/vnd.google.colaboratory.intrinsic+json": {
              "type": "string"
            }
          },
          "metadata": {},
          "execution_count": 2
        }
      ]
    },
    {
      "cell_type": "markdown",
      "source": [
        "## Configuración\n",
        "\n",
        "Por defecto viene configurada para trabajar en inglés por lo tanto debemos pasarla a español.\n",
        "\n",
        "Las bibliotecas se descargan y para ello debemos ejecutar la sentencia\n",
        "```python\n",
        "nltk.download(...)\n",
        "```"
      ],
      "metadata": {
        "id": "P1Wy_Att5SqF"
      }
    },
    {
      "cell_type": "code",
      "source": [
        "language = 'spanish'"
      ],
      "metadata": {
        "id": "bDJGak8H5buL"
      },
      "execution_count": null,
      "outputs": []
    },
    {
      "cell_type": "markdown",
      "source": [
        "## [Tokenizador y tokens](https://www.nltk.org/api/nltk.tokenize.html)\n",
        "\n",
        "Un tokenizador es una herramienta que se utiliza en el procesamiento del lenguaje natural para dividir un texto en palabras individuales o en frases más pequeñas llamadas tokens. El proceso de tokenización implica la separación de signos de puntuación y caracteres especiales y la separación de las palabras en un texto.\n",
        "\n",
        "Existen varios tipos de tokenizadores, algunos dividen las palabras en sub palabras.\n"
      ],
      "metadata": {
        "id": "izDO1Y2a3L5r"
      }
    },
    {
      "cell_type": "code",
      "source": [
        "# Para poder utilizar los tokenizadores necesitamos descargar la biblioteca\n",
        "# de caracteres de puntuación\n",
        "nltk.download('punkt')\n",
        "nltk.download('punkt_tab')"
      ],
      "metadata": {
        "colab": {
          "base_uri": "https://localhost:8080/"
        },
        "id": "57N-S1mw5OFe",
        "outputId": "b233495f-e0e2-4725-a9c6-96f464a48106"
      },
      "execution_count": null,
      "outputs": [
        {
          "output_type": "stream",
          "name": "stderr",
          "text": [
            "[nltk_data] Downloading package punkt to /root/nltk_data...\n",
            "[nltk_data]   Package punkt is already up-to-date!\n",
            "[nltk_data] Downloading package punkt_tab to /root/nltk_data...\n",
            "[nltk_data]   Package punkt_tab is already up-to-date!\n"
          ]
        },
        {
          "output_type": "execute_result",
          "data": {
            "text/plain": [
              "True"
            ]
          },
          "metadata": {},
          "execution_count": 4
        }
      ]
    },
    {
      "cell_type": "code",
      "source": [
        "texto = \"\"\"La inteligencia artificial (IA), en el contexto de las ciencias de la\n",
        "computación, es el conjunto de sistemas o combinación de algoritmos, cuyo\n",
        "propósito es crear máquinas que imitan la inteligencia humana para realizar\n",
        "tareas y pueden mejorar conforme la información que recopilan. La inteligencia\n",
        "artificial no tiene como finalidad reemplazar a los humanos, sino mejorar\n",
        "significativamente las capacidades y contribuciones humanas. Se hizo presente\n",
        "poco después de la Segunda Guerra Mundial, y el nombre lo acuñó en 1956 el\n",
        "informático John McCarthy, en la Conferencia de Dartmouth.\"\"\"\n",
        "# Fijense como separó las palabras, los caracteres especiales tienen su propio\n",
        "# lugar en la lista, no están pegadas a las palabras.\n",
        "nltk.tokenize.word_tokenize(text=texto, language=language)"
      ],
      "metadata": {
        "colab": {
          "base_uri": "https://localhost:8080/"
        },
        "id": "JzSklBKs3_io",
        "outputId": "0db398ba-09d5-45fb-8451-755d8dcba154"
      },
      "execution_count": null,
      "outputs": [
        {
          "output_type": "execute_result",
          "data": {
            "text/plain": [
              "['La',\n",
              " 'inteligencia',\n",
              " 'artificial',\n",
              " '(',\n",
              " 'IA',\n",
              " ')',\n",
              " ',',\n",
              " 'en',\n",
              " 'el',\n",
              " 'contexto',\n",
              " 'de',\n",
              " 'las',\n",
              " 'ciencias',\n",
              " 'de',\n",
              " 'la',\n",
              " 'computación',\n",
              " ',',\n",
              " 'es',\n",
              " 'el',\n",
              " 'conjunto',\n",
              " 'de',\n",
              " 'sistemas',\n",
              " 'o',\n",
              " 'combinación',\n",
              " 'de',\n",
              " 'algoritmos',\n",
              " ',',\n",
              " 'cuyo',\n",
              " 'propósito',\n",
              " 'es',\n",
              " 'crear',\n",
              " 'máquinas',\n",
              " 'que',\n",
              " 'imitan',\n",
              " 'la',\n",
              " 'inteligencia',\n",
              " 'humana',\n",
              " 'para',\n",
              " 'realizar',\n",
              " 'tareas',\n",
              " 'y',\n",
              " 'pueden',\n",
              " 'mejorar',\n",
              " 'conforme',\n",
              " 'la',\n",
              " 'información',\n",
              " 'que',\n",
              " 'recopilan',\n",
              " '.',\n",
              " 'La',\n",
              " 'inteligencia',\n",
              " 'artificial',\n",
              " 'no',\n",
              " 'tiene',\n",
              " 'como',\n",
              " 'finalidad',\n",
              " 'reemplazar',\n",
              " 'a',\n",
              " 'los',\n",
              " 'humanos',\n",
              " ',',\n",
              " 'sino',\n",
              " 'mejorar',\n",
              " 'significativamente',\n",
              " 'las',\n",
              " 'capacidades',\n",
              " 'y',\n",
              " 'contribuciones',\n",
              " 'humanas',\n",
              " '.',\n",
              " 'Se',\n",
              " 'hizo',\n",
              " 'presente',\n",
              " 'poco',\n",
              " 'después',\n",
              " 'de',\n",
              " 'la',\n",
              " 'Segunda',\n",
              " 'Guerra',\n",
              " 'Mundial',\n",
              " ',',\n",
              " 'y',\n",
              " 'el',\n",
              " 'nombre',\n",
              " 'lo',\n",
              " 'acuñó',\n",
              " 'en',\n",
              " '1956',\n",
              " 'el',\n",
              " 'informático',\n",
              " 'John',\n",
              " 'McCarthy',\n",
              " ',',\n",
              " 'en',\n",
              " 'la',\n",
              " 'Conferencia',\n",
              " 'de',\n",
              " 'Dartmouth',\n",
              " '.']"
            ]
          },
          "metadata": {},
          "execution_count": 5
        }
      ]
    },
    {
      "cell_type": "code",
      "source": [
        "# En este caso vamos a utilizar un tokenizer por oraciones. Utiliza un modelo\n",
        "# para realizar la separación.\n",
        "punktSentenceTokenizer = nltk.tokenize.PunktSentenceTokenizer()\n",
        "punktSentenceTokenizer.tokenize(text=texto)"
      ],
      "metadata": {
        "id": "AZv0tvR07p5F",
        "colab": {
          "base_uri": "https://localhost:8080/"
        },
        "outputId": "94216ef0-37be-4242-9ce8-fddd4344501b"
      },
      "execution_count": null,
      "outputs": [
        {
          "output_type": "execute_result",
          "data": {
            "text/plain": [
              "['La inteligencia artificial (IA), en el contexto de las ciencias de la\\ncomputación, es el conjunto de sistemas o combinación de algoritmos, cuyo\\npropósito es crear máquinas que imitan la inteligencia humana para realizar\\ntareas y pueden mejorar conforme la información que recopilan.',\n",
              " 'La inteligencia\\nartificial no tiene como finalidad reemplazar a los humanos, sino mejorar\\nsignificativamente las capacidades y contribuciones humanas.',\n",
              " 'Se hizo presente\\npoco después de la Segunda Guerra Mundial, y el nombre lo acuñó en 1956 el\\ninformático John McCarthy, en la Conferencia de Dartmouth.']"
            ]
          },
          "metadata": {},
          "execution_count": 6
        }
      ]
    },
    {
      "cell_type": "code",
      "source": [
        "# En este caso vamos a utilizar un tokenizer por experesiones regulares donde\n",
        "# me quedo con las palabras que comienzan en mayúscula.\n",
        "regexpTokenizer = nltk.tokenize.RegexpTokenizer(r\"[A-Z]\\w+\")\n",
        "regexpTokenizer.tokenize(text=texto)"
      ],
      "metadata": {
        "id": "o5NUbr_c899R",
        "colab": {
          "base_uri": "https://localhost:8080/"
        },
        "outputId": "71e29df6-e4d3-4c9b-989e-c57ca7771301"
      },
      "execution_count": null,
      "outputs": [
        {
          "output_type": "execute_result",
          "data": {
            "text/plain": [
              "['La',\n",
              " 'IA',\n",
              " 'La',\n",
              " 'Se',\n",
              " 'Segunda',\n",
              " 'Guerra',\n",
              " 'Mundial',\n",
              " 'John',\n",
              " 'McCarthy',\n",
              " 'Conferencia',\n",
              " 'Dartmouth']"
            ]
          },
          "metadata": {},
          "execution_count": 7
        }
      ]
    },
    {
      "cell_type": "code",
      "source": [
        "# similar a \"word_tokenize\" con la diferencia que no necesito pasarle\n",
        "# el idioma porque separa por palabras o caracteres de puntuación\n",
        "toktokTokenizer = nltk.tokenize.ToktokTokenizer()\n",
        "lista_toktokTokenizer = toktokTokenizer.tokenize(text=texto)\n",
        "lista_toktokTokenizer"
      ],
      "metadata": {
        "id": "a4LRwpCA_7uc",
        "colab": {
          "base_uri": "https://localhost:8080/"
        },
        "outputId": "e28bb208-201c-46b0-c831-ac7f62dd3ffc"
      },
      "execution_count": null,
      "outputs": [
        {
          "output_type": "execute_result",
          "data": {
            "text/plain": [
              "['La',\n",
              " 'inteligencia',\n",
              " 'artificial',\n",
              " '(',\n",
              " 'IA',\n",
              " ')',\n",
              " ',',\n",
              " 'en',\n",
              " 'el',\n",
              " 'contexto',\n",
              " 'de',\n",
              " 'las',\n",
              " 'ciencias',\n",
              " 'de',\n",
              " 'la',\n",
              " 'computación',\n",
              " ',',\n",
              " 'es',\n",
              " 'el',\n",
              " 'conjunto',\n",
              " 'de',\n",
              " 'sistemas',\n",
              " 'o',\n",
              " 'combinación',\n",
              " 'de',\n",
              " 'algoritmos',\n",
              " ',',\n",
              " 'cuyo',\n",
              " 'propósito',\n",
              " 'es',\n",
              " 'crear',\n",
              " 'máquinas',\n",
              " 'que',\n",
              " 'imitan',\n",
              " 'la',\n",
              " 'inteligencia',\n",
              " 'humana',\n",
              " 'para',\n",
              " 'realizar',\n",
              " 'tareas',\n",
              " 'y',\n",
              " 'pueden',\n",
              " 'mejorar',\n",
              " 'conforme',\n",
              " 'la',\n",
              " 'información',\n",
              " 'que',\n",
              " 'recopilan.',\n",
              " 'La',\n",
              " 'inteligencia',\n",
              " 'artificial',\n",
              " 'no',\n",
              " 'tiene',\n",
              " 'como',\n",
              " 'finalidad',\n",
              " 'reemplazar',\n",
              " 'a',\n",
              " 'los',\n",
              " 'humanos',\n",
              " ',',\n",
              " 'sino',\n",
              " 'mejorar',\n",
              " 'significativamente',\n",
              " 'las',\n",
              " 'capacidades',\n",
              " 'y',\n",
              " 'contribuciones',\n",
              " 'humanas.',\n",
              " 'Se',\n",
              " 'hizo',\n",
              " 'presente',\n",
              " 'poco',\n",
              " 'después',\n",
              " 'de',\n",
              " 'la',\n",
              " 'Segunda',\n",
              " 'Guerra',\n",
              " 'Mundial',\n",
              " ',',\n",
              " 'y',\n",
              " 'el',\n",
              " 'nombre',\n",
              " 'lo',\n",
              " 'acuñó',\n",
              " 'en',\n",
              " '1956',\n",
              " 'el',\n",
              " 'informático',\n",
              " 'John',\n",
              " 'McCarthy',\n",
              " ',',\n",
              " 'en',\n",
              " 'la',\n",
              " 'Conferencia',\n",
              " 'de',\n",
              " 'Dartmouth',\n",
              " '.']"
            ]
          },
          "metadata": {},
          "execution_count": 8
        }
      ]
    },
    {
      "cell_type": "markdown",
      "source": [
        "## n-gramas\n",
        "\n",
        "Se utilizan en el procesamiento del lenguaje natural para la predicción de palabras y la identificación de patrones en el texto. Los unigramas son secuencias de una sola palabra, los bigramas son secuencias de dos palabras y los trigramas son secuencias de tres palabras. Los n-gramas se utilizan en la modelización del lenguaje para predecir la probabilidad de una palabra dada una secuencia de palabras anteriores."
      ],
      "metadata": {
        "id": "xObTFFcNFzhJ"
      }
    },
    {
      "cell_type": "code",
      "source": [
        "from nltk.util import bigrams\n",
        "# Vamos a tomar como ejemplo la lista de salida toktoktokenizer y vamos a generar\n",
        "# bigramas es decir vamos a generar tuplas de 2 palabras.\n",
        "# Estas funciones retornan un generador y la forma más sencilla de ver el\n",
        "# resultado es pasandola a una lista\n",
        "lista_bigrams = list(bigrams(lista_toktokTokenizer))\n",
        "lista_bigrams\n"
      ],
      "metadata": {
        "id": "1K6OjTB3J21p",
        "colab": {
          "base_uri": "https://localhost:8080/"
        },
        "outputId": "29295ba4-dde3-4ba2-8a1e-bcbb0fa7c53a"
      },
      "execution_count": null,
      "outputs": [
        {
          "output_type": "execute_result",
          "data": {
            "text/plain": [
              "[('La', 'inteligencia'),\n",
              " ('inteligencia', 'artificial'),\n",
              " ('artificial', '('),\n",
              " ('(', 'IA'),\n",
              " ('IA', ')'),\n",
              " (')', ','),\n",
              " (',', 'en'),\n",
              " ('en', 'el'),\n",
              " ('el', 'contexto'),\n",
              " ('contexto', 'de'),\n",
              " ('de', 'las'),\n",
              " ('las', 'ciencias'),\n",
              " ('ciencias', 'de'),\n",
              " ('de', 'la'),\n",
              " ('la', 'computación'),\n",
              " ('computación', ','),\n",
              " (',', 'es'),\n",
              " ('es', 'el'),\n",
              " ('el', 'conjunto'),\n",
              " ('conjunto', 'de'),\n",
              " ('de', 'sistemas'),\n",
              " ('sistemas', 'o'),\n",
              " ('o', 'combinación'),\n",
              " ('combinación', 'de'),\n",
              " ('de', 'algoritmos'),\n",
              " ('algoritmos', ','),\n",
              " (',', 'cuyo'),\n",
              " ('cuyo', 'propósito'),\n",
              " ('propósito', 'es'),\n",
              " ('es', 'crear'),\n",
              " ('crear', 'máquinas'),\n",
              " ('máquinas', 'que'),\n",
              " ('que', 'imitan'),\n",
              " ('imitan', 'la'),\n",
              " ('la', 'inteligencia'),\n",
              " ('inteligencia', 'humana'),\n",
              " ('humana', 'para'),\n",
              " ('para', 'realizar'),\n",
              " ('realizar', 'tareas'),\n",
              " ('tareas', 'y'),\n",
              " ('y', 'pueden'),\n",
              " ('pueden', 'mejorar'),\n",
              " ('mejorar', 'conforme'),\n",
              " ('conforme', 'la'),\n",
              " ('la', 'información'),\n",
              " ('información', 'que'),\n",
              " ('que', 'recopilan.'),\n",
              " ('recopilan.', 'La'),\n",
              " ('La', 'inteligencia'),\n",
              " ('inteligencia', 'artificial'),\n",
              " ('artificial', 'no'),\n",
              " ('no', 'tiene'),\n",
              " ('tiene', 'como'),\n",
              " ('como', 'finalidad'),\n",
              " ('finalidad', 'reemplazar'),\n",
              " ('reemplazar', 'a'),\n",
              " ('a', 'los'),\n",
              " ('los', 'humanos'),\n",
              " ('humanos', ','),\n",
              " (',', 'sino'),\n",
              " ('sino', 'mejorar'),\n",
              " ('mejorar', 'significativamente'),\n",
              " ('significativamente', 'las'),\n",
              " ('las', 'capacidades'),\n",
              " ('capacidades', 'y'),\n",
              " ('y', 'contribuciones'),\n",
              " ('contribuciones', 'humanas.'),\n",
              " ('humanas.', 'Se'),\n",
              " ('Se', 'hizo'),\n",
              " ('hizo', 'presente'),\n",
              " ('presente', 'poco'),\n",
              " ('poco', 'después'),\n",
              " ('después', 'de'),\n",
              " ('de', 'la'),\n",
              " ('la', 'Segunda'),\n",
              " ('Segunda', 'Guerra'),\n",
              " ('Guerra', 'Mundial'),\n",
              " ('Mundial', ','),\n",
              " (',', 'y'),\n",
              " ('y', 'el'),\n",
              " ('el', 'nombre'),\n",
              " ('nombre', 'lo'),\n",
              " ('lo', 'acuñó'),\n",
              " ('acuñó', 'en'),\n",
              " ('en', '1956'),\n",
              " ('1956', 'el'),\n",
              " ('el', 'informático'),\n",
              " ('informático', 'John'),\n",
              " ('John', 'McCarthy'),\n",
              " ('McCarthy', ','),\n",
              " (',', 'en'),\n",
              " ('en', 'la'),\n",
              " ('la', 'Conferencia'),\n",
              " ('Conferencia', 'de'),\n",
              " ('de', 'Dartmouth'),\n",
              " ('Dartmouth', '.')]"
            ]
          },
          "metadata": {},
          "execution_count": 9
        }
      ]
    },
    {
      "cell_type": "code",
      "source": [
        "from nltk.util import trigrams\n",
        "# Vamos a tomar como ejemplo la lista de salida toktoktokenizer y vamos a generar\n",
        "# trigramas es decir vamos a generar tuplas de 3 palabras.\n",
        "lista_trigrams = list(trigrams(lista_toktokTokenizer))\n",
        "lista_trigrams"
      ],
      "metadata": {
        "id": "SBkJeTfxMDyE",
        "colab": {
          "base_uri": "https://localhost:8080/"
        },
        "outputId": "2f306138-eaa3-4642-8248-6e0aa5fb4bbb"
      },
      "execution_count": null,
      "outputs": [
        {
          "output_type": "execute_result",
          "data": {
            "text/plain": [
              "[('La', 'inteligencia', 'artificial'),\n",
              " ('inteligencia', 'artificial', '('),\n",
              " ('artificial', '(', 'IA'),\n",
              " ('(', 'IA', ')'),\n",
              " ('IA', ')', ','),\n",
              " (')', ',', 'en'),\n",
              " (',', 'en', 'el'),\n",
              " ('en', 'el', 'contexto'),\n",
              " ('el', 'contexto', 'de'),\n",
              " ('contexto', 'de', 'las'),\n",
              " ('de', 'las', 'ciencias'),\n",
              " ('las', 'ciencias', 'de'),\n",
              " ('ciencias', 'de', 'la'),\n",
              " ('de', 'la', 'computación'),\n",
              " ('la', 'computación', ','),\n",
              " ('computación', ',', 'es'),\n",
              " (',', 'es', 'el'),\n",
              " ('es', 'el', 'conjunto'),\n",
              " ('el', 'conjunto', 'de'),\n",
              " ('conjunto', 'de', 'sistemas'),\n",
              " ('de', 'sistemas', 'o'),\n",
              " ('sistemas', 'o', 'combinación'),\n",
              " ('o', 'combinación', 'de'),\n",
              " ('combinación', 'de', 'algoritmos'),\n",
              " ('de', 'algoritmos', ','),\n",
              " ('algoritmos', ',', 'cuyo'),\n",
              " (',', 'cuyo', 'propósito'),\n",
              " ('cuyo', 'propósito', 'es'),\n",
              " ('propósito', 'es', 'crear'),\n",
              " ('es', 'crear', 'máquinas'),\n",
              " ('crear', 'máquinas', 'que'),\n",
              " ('máquinas', 'que', 'imitan'),\n",
              " ('que', 'imitan', 'la'),\n",
              " ('imitan', 'la', 'inteligencia'),\n",
              " ('la', 'inteligencia', 'humana'),\n",
              " ('inteligencia', 'humana', 'para'),\n",
              " ('humana', 'para', 'realizar'),\n",
              " ('para', 'realizar', 'tareas'),\n",
              " ('realizar', 'tareas', 'y'),\n",
              " ('tareas', 'y', 'pueden'),\n",
              " ('y', 'pueden', 'mejorar'),\n",
              " ('pueden', 'mejorar', 'conforme'),\n",
              " ('mejorar', 'conforme', 'la'),\n",
              " ('conforme', 'la', 'información'),\n",
              " ('la', 'información', 'que'),\n",
              " ('información', 'que', 'recopilan.'),\n",
              " ('que', 'recopilan.', 'La'),\n",
              " ('recopilan.', 'La', 'inteligencia'),\n",
              " ('La', 'inteligencia', 'artificial'),\n",
              " ('inteligencia', 'artificial', 'no'),\n",
              " ('artificial', 'no', 'tiene'),\n",
              " ('no', 'tiene', 'como'),\n",
              " ('tiene', 'como', 'finalidad'),\n",
              " ('como', 'finalidad', 'reemplazar'),\n",
              " ('finalidad', 'reemplazar', 'a'),\n",
              " ('reemplazar', 'a', 'los'),\n",
              " ('a', 'los', 'humanos'),\n",
              " ('los', 'humanos', ','),\n",
              " ('humanos', ',', 'sino'),\n",
              " (',', 'sino', 'mejorar'),\n",
              " ('sino', 'mejorar', 'significativamente'),\n",
              " ('mejorar', 'significativamente', 'las'),\n",
              " ('significativamente', 'las', 'capacidades'),\n",
              " ('las', 'capacidades', 'y'),\n",
              " ('capacidades', 'y', 'contribuciones'),\n",
              " ('y', 'contribuciones', 'humanas.'),\n",
              " ('contribuciones', 'humanas.', 'Se'),\n",
              " ('humanas.', 'Se', 'hizo'),\n",
              " ('Se', 'hizo', 'presente'),\n",
              " ('hizo', 'presente', 'poco'),\n",
              " ('presente', 'poco', 'después'),\n",
              " ('poco', 'después', 'de'),\n",
              " ('después', 'de', 'la'),\n",
              " ('de', 'la', 'Segunda'),\n",
              " ('la', 'Segunda', 'Guerra'),\n",
              " ('Segunda', 'Guerra', 'Mundial'),\n",
              " ('Guerra', 'Mundial', ','),\n",
              " ('Mundial', ',', 'y'),\n",
              " (',', 'y', 'el'),\n",
              " ('y', 'el', 'nombre'),\n",
              " ('el', 'nombre', 'lo'),\n",
              " ('nombre', 'lo', 'acuñó'),\n",
              " ('lo', 'acuñó', 'en'),\n",
              " ('acuñó', 'en', '1956'),\n",
              " ('en', '1956', 'el'),\n",
              " ('1956', 'el', 'informático'),\n",
              " ('el', 'informático', 'John'),\n",
              " ('informático', 'John', 'McCarthy'),\n",
              " ('John', 'McCarthy', ','),\n",
              " ('McCarthy', ',', 'en'),\n",
              " (',', 'en', 'la'),\n",
              " ('en', 'la', 'Conferencia'),\n",
              " ('la', 'Conferencia', 'de'),\n",
              " ('Conferencia', 'de', 'Dartmouth'),\n",
              " ('de', 'Dartmouth', '.')]"
            ]
          },
          "metadata": {},
          "execution_count": 10
        }
      ]
    },
    {
      "cell_type": "code",
      "source": [
        "from nltk.util import everygrams\n",
        "# Con la función everygrams podemos generar todo tipo de n-gramas que van desde\n",
        "# un máximo hasta un mínimo\n",
        "lista_everygrams = list(everygrams(lista_toktokTokenizer,min_len=1, max_len=3))\n",
        "lista_everygrams"
      ],
      "metadata": {
        "id": "msaPJz-6MXgI",
        "colab": {
          "base_uri": "https://localhost:8080/"
        },
        "outputId": "fe27a00a-77de-4273-97db-f7ab703b1c9c"
      },
      "execution_count": null,
      "outputs": [
        {
          "output_type": "execute_result",
          "data": {
            "text/plain": [
              "[('La',),\n",
              " ('La', 'inteligencia'),\n",
              " ('La', 'inteligencia', 'artificial'),\n",
              " ('inteligencia',),\n",
              " ('inteligencia', 'artificial'),\n",
              " ('inteligencia', 'artificial', '('),\n",
              " ('artificial',),\n",
              " ('artificial', '('),\n",
              " ('artificial', '(', 'IA'),\n",
              " ('(',),\n",
              " ('(', 'IA'),\n",
              " ('(', 'IA', ')'),\n",
              " ('IA',),\n",
              " ('IA', ')'),\n",
              " ('IA', ')', ','),\n",
              " (')',),\n",
              " (')', ','),\n",
              " (')', ',', 'en'),\n",
              " (',',),\n",
              " (',', 'en'),\n",
              " (',', 'en', 'el'),\n",
              " ('en',),\n",
              " ('en', 'el'),\n",
              " ('en', 'el', 'contexto'),\n",
              " ('el',),\n",
              " ('el', 'contexto'),\n",
              " ('el', 'contexto', 'de'),\n",
              " ('contexto',),\n",
              " ('contexto', 'de'),\n",
              " ('contexto', 'de', 'las'),\n",
              " ('de',),\n",
              " ('de', 'las'),\n",
              " ('de', 'las', 'ciencias'),\n",
              " ('las',),\n",
              " ('las', 'ciencias'),\n",
              " ('las', 'ciencias', 'de'),\n",
              " ('ciencias',),\n",
              " ('ciencias', 'de'),\n",
              " ('ciencias', 'de', 'la'),\n",
              " ('de',),\n",
              " ('de', 'la'),\n",
              " ('de', 'la', 'computación'),\n",
              " ('la',),\n",
              " ('la', 'computación'),\n",
              " ('la', 'computación', ','),\n",
              " ('computación',),\n",
              " ('computación', ','),\n",
              " ('computación', ',', 'es'),\n",
              " (',',),\n",
              " (',', 'es'),\n",
              " (',', 'es', 'el'),\n",
              " ('es',),\n",
              " ('es', 'el'),\n",
              " ('es', 'el', 'conjunto'),\n",
              " ('el',),\n",
              " ('el', 'conjunto'),\n",
              " ('el', 'conjunto', 'de'),\n",
              " ('conjunto',),\n",
              " ('conjunto', 'de'),\n",
              " ('conjunto', 'de', 'sistemas'),\n",
              " ('de',),\n",
              " ('de', 'sistemas'),\n",
              " ('de', 'sistemas', 'o'),\n",
              " ('sistemas',),\n",
              " ('sistemas', 'o'),\n",
              " ('sistemas', 'o', 'combinación'),\n",
              " ('o',),\n",
              " ('o', 'combinación'),\n",
              " ('o', 'combinación', 'de'),\n",
              " ('combinación',),\n",
              " ('combinación', 'de'),\n",
              " ('combinación', 'de', 'algoritmos'),\n",
              " ('de',),\n",
              " ('de', 'algoritmos'),\n",
              " ('de', 'algoritmos', ','),\n",
              " ('algoritmos',),\n",
              " ('algoritmos', ','),\n",
              " ('algoritmos', ',', 'cuyo'),\n",
              " (',',),\n",
              " (',', 'cuyo'),\n",
              " (',', 'cuyo', 'propósito'),\n",
              " ('cuyo',),\n",
              " ('cuyo', 'propósito'),\n",
              " ('cuyo', 'propósito', 'es'),\n",
              " ('propósito',),\n",
              " ('propósito', 'es'),\n",
              " ('propósito', 'es', 'crear'),\n",
              " ('es',),\n",
              " ('es', 'crear'),\n",
              " ('es', 'crear', 'máquinas'),\n",
              " ('crear',),\n",
              " ('crear', 'máquinas'),\n",
              " ('crear', 'máquinas', 'que'),\n",
              " ('máquinas',),\n",
              " ('máquinas', 'que'),\n",
              " ('máquinas', 'que', 'imitan'),\n",
              " ('que',),\n",
              " ('que', 'imitan'),\n",
              " ('que', 'imitan', 'la'),\n",
              " ('imitan',),\n",
              " ('imitan', 'la'),\n",
              " ('imitan', 'la', 'inteligencia'),\n",
              " ('la',),\n",
              " ('la', 'inteligencia'),\n",
              " ('la', 'inteligencia', 'humana'),\n",
              " ('inteligencia',),\n",
              " ('inteligencia', 'humana'),\n",
              " ('inteligencia', 'humana', 'para'),\n",
              " ('humana',),\n",
              " ('humana', 'para'),\n",
              " ('humana', 'para', 'realizar'),\n",
              " ('para',),\n",
              " ('para', 'realizar'),\n",
              " ('para', 'realizar', 'tareas'),\n",
              " ('realizar',),\n",
              " ('realizar', 'tareas'),\n",
              " ('realizar', 'tareas', 'y'),\n",
              " ('tareas',),\n",
              " ('tareas', 'y'),\n",
              " ('tareas', 'y', 'pueden'),\n",
              " ('y',),\n",
              " ('y', 'pueden'),\n",
              " ('y', 'pueden', 'mejorar'),\n",
              " ('pueden',),\n",
              " ('pueden', 'mejorar'),\n",
              " ('pueden', 'mejorar', 'conforme'),\n",
              " ('mejorar',),\n",
              " ('mejorar', 'conforme'),\n",
              " ('mejorar', 'conforme', 'la'),\n",
              " ('conforme',),\n",
              " ('conforme', 'la'),\n",
              " ('conforme', 'la', 'información'),\n",
              " ('la',),\n",
              " ('la', 'información'),\n",
              " ('la', 'información', 'que'),\n",
              " ('información',),\n",
              " ('información', 'que'),\n",
              " ('información', 'que', 'recopilan.'),\n",
              " ('que',),\n",
              " ('que', 'recopilan.'),\n",
              " ('que', 'recopilan.', 'La'),\n",
              " ('recopilan.',),\n",
              " ('recopilan.', 'La'),\n",
              " ('recopilan.', 'La', 'inteligencia'),\n",
              " ('La',),\n",
              " ('La', 'inteligencia'),\n",
              " ('La', 'inteligencia', 'artificial'),\n",
              " ('inteligencia',),\n",
              " ('inteligencia', 'artificial'),\n",
              " ('inteligencia', 'artificial', 'no'),\n",
              " ('artificial',),\n",
              " ('artificial', 'no'),\n",
              " ('artificial', 'no', 'tiene'),\n",
              " ('no',),\n",
              " ('no', 'tiene'),\n",
              " ('no', 'tiene', 'como'),\n",
              " ('tiene',),\n",
              " ('tiene', 'como'),\n",
              " ('tiene', 'como', 'finalidad'),\n",
              " ('como',),\n",
              " ('como', 'finalidad'),\n",
              " ('como', 'finalidad', 'reemplazar'),\n",
              " ('finalidad',),\n",
              " ('finalidad', 'reemplazar'),\n",
              " ('finalidad', 'reemplazar', 'a'),\n",
              " ('reemplazar',),\n",
              " ('reemplazar', 'a'),\n",
              " ('reemplazar', 'a', 'los'),\n",
              " ('a',),\n",
              " ('a', 'los'),\n",
              " ('a', 'los', 'humanos'),\n",
              " ('los',),\n",
              " ('los', 'humanos'),\n",
              " ('los', 'humanos', ','),\n",
              " ('humanos',),\n",
              " ('humanos', ','),\n",
              " ('humanos', ',', 'sino'),\n",
              " (',',),\n",
              " (',', 'sino'),\n",
              " (',', 'sino', 'mejorar'),\n",
              " ('sino',),\n",
              " ('sino', 'mejorar'),\n",
              " ('sino', 'mejorar', 'significativamente'),\n",
              " ('mejorar',),\n",
              " ('mejorar', 'significativamente'),\n",
              " ('mejorar', 'significativamente', 'las'),\n",
              " ('significativamente',),\n",
              " ('significativamente', 'las'),\n",
              " ('significativamente', 'las', 'capacidades'),\n",
              " ('las',),\n",
              " ('las', 'capacidades'),\n",
              " ('las', 'capacidades', 'y'),\n",
              " ('capacidades',),\n",
              " ('capacidades', 'y'),\n",
              " ('capacidades', 'y', 'contribuciones'),\n",
              " ('y',),\n",
              " ('y', 'contribuciones'),\n",
              " ('y', 'contribuciones', 'humanas.'),\n",
              " ('contribuciones',),\n",
              " ('contribuciones', 'humanas.'),\n",
              " ('contribuciones', 'humanas.', 'Se'),\n",
              " ('humanas.',),\n",
              " ('humanas.', 'Se'),\n",
              " ('humanas.', 'Se', 'hizo'),\n",
              " ('Se',),\n",
              " ('Se', 'hizo'),\n",
              " ('Se', 'hizo', 'presente'),\n",
              " ('hizo',),\n",
              " ('hizo', 'presente'),\n",
              " ('hizo', 'presente', 'poco'),\n",
              " ('presente',),\n",
              " ('presente', 'poco'),\n",
              " ('presente', 'poco', 'después'),\n",
              " ('poco',),\n",
              " ('poco', 'después'),\n",
              " ('poco', 'después', 'de'),\n",
              " ('después',),\n",
              " ('después', 'de'),\n",
              " ('después', 'de', 'la'),\n",
              " ('de',),\n",
              " ('de', 'la'),\n",
              " ('de', 'la', 'Segunda'),\n",
              " ('la',),\n",
              " ('la', 'Segunda'),\n",
              " ('la', 'Segunda', 'Guerra'),\n",
              " ('Segunda',),\n",
              " ('Segunda', 'Guerra'),\n",
              " ('Segunda', 'Guerra', 'Mundial'),\n",
              " ('Guerra',),\n",
              " ('Guerra', 'Mundial'),\n",
              " ('Guerra', 'Mundial', ','),\n",
              " ('Mundial',),\n",
              " ('Mundial', ','),\n",
              " ('Mundial', ',', 'y'),\n",
              " (',',),\n",
              " (',', 'y'),\n",
              " (',', 'y', 'el'),\n",
              " ('y',),\n",
              " ('y', 'el'),\n",
              " ('y', 'el', 'nombre'),\n",
              " ('el',),\n",
              " ('el', 'nombre'),\n",
              " ('el', 'nombre', 'lo'),\n",
              " ('nombre',),\n",
              " ('nombre', 'lo'),\n",
              " ('nombre', 'lo', 'acuñó'),\n",
              " ('lo',),\n",
              " ('lo', 'acuñó'),\n",
              " ('lo', 'acuñó', 'en'),\n",
              " ('acuñó',),\n",
              " ('acuñó', 'en'),\n",
              " ('acuñó', 'en', '1956'),\n",
              " ('en',),\n",
              " ('en', '1956'),\n",
              " ('en', '1956', 'el'),\n",
              " ('1956',),\n",
              " ('1956', 'el'),\n",
              " ('1956', 'el', 'informático'),\n",
              " ('el',),\n",
              " ('el', 'informático'),\n",
              " ('el', 'informático', 'John'),\n",
              " ('informático',),\n",
              " ('informático', 'John'),\n",
              " ('informático', 'John', 'McCarthy'),\n",
              " ('John',),\n",
              " ('John', 'McCarthy'),\n",
              " ('John', 'McCarthy', ','),\n",
              " ('McCarthy',),\n",
              " ('McCarthy', ','),\n",
              " ('McCarthy', ',', 'en'),\n",
              " (',',),\n",
              " (',', 'en'),\n",
              " (',', 'en', 'la'),\n",
              " ('en',),\n",
              " ('en', 'la'),\n",
              " ('en', 'la', 'Conferencia'),\n",
              " ('la',),\n",
              " ('la', 'Conferencia'),\n",
              " ('la', 'Conferencia', 'de'),\n",
              " ('Conferencia',),\n",
              " ('Conferencia', 'de'),\n",
              " ('Conferencia', 'de', 'Dartmouth'),\n",
              " ('de',),\n",
              " ('de', 'Dartmouth'),\n",
              " ('de', 'Dartmouth', '.'),\n",
              " ('Dartmouth',),\n",
              " ('Dartmouth', '.'),\n",
              " ('.',)]"
            ]
          },
          "metadata": {},
          "execution_count": 11
        }
      ]
    },
    {
      "cell_type": "markdown",
      "source": [
        "## [POS (part of speech)](https://www.nltk.org/book/ch05.html)\n",
        "\n",
        "Por el momento solo está disponible para inglés o ruso, pero lo vamos a probar igual.\n",
        "\n",
        "VER CON [SPACY](https://colab.research.google.com/drive/18tx1BgPYxg0oONRV3uQF-s19rmjCdr9S#scrollTo=hwz8stYbDyIB)\n",
        "\n",
        "`Tener en cuenta que los ejemplos están en inglés`\n",
        "\n",
        "- Clasificación universal\n",
        "\n",
        "| Tag | Meaning | English Examples |\n",
        "| --- | --- | --- |\n",
        "| ADJ\t| adjective | new, good, high, special, big, local |\n",
        "| ADP | adposition | on, of, at, with, by, into, under |\n",
        "| ADV | adverb | really, already, still, early, now |\n",
        "| CONJ | conjunction | and, or, but, if, while, although |\n",
        "| DET | determiner, article | the, a, some, most, every, no, which |\n",
        "| NOUN | noun | year, home, costs, time, Africa |\n",
        "| NUM | numeral | twenty-four, fourth, 1991, 14:24 |\n",
        "| PRT | particle | at, on, out, over per, that, up, with |\n",
        "| PRON | pronoun | he, their, her, its, my, I, us |\n",
        "| VERB | verb | is, say, told, given, playing, would |\n",
        "| . | punctuation marks | . , ; ! |\n",
        "| X | other | ersatz, esprit, dunno, gr8, univeristy |\n"
      ],
      "metadata": {
        "id": "_yn4ws9KAYQQ"
      }
    },
    {
      "cell_type": "code",
      "source": [
        "# descargamos la biblioteca de tageos\n",
        "nltk.download('averaged_perceptron_tagger')\n",
        "nltk.download('averaged_perceptron_tagger_eng')"
      ],
      "metadata": {
        "id": "Pj3u5d10ApqC",
        "colab": {
          "base_uri": "https://localhost:8080/"
        },
        "outputId": "8c482b75-c55b-4712-99fd-35be6e464e3c"
      },
      "execution_count": null,
      "outputs": [
        {
          "output_type": "stream",
          "name": "stderr",
          "text": [
            "[nltk_data] Downloading package averaged_perceptron_tagger to\n",
            "[nltk_data]     /root/nltk_data...\n",
            "[nltk_data]   Package averaged_perceptron_tagger is already up-to-\n",
            "[nltk_data]       date!\n",
            "[nltk_data] Downloading package averaged_perceptron_tagger_eng to\n",
            "[nltk_data]     /root/nltk_data...\n",
            "[nltk_data]   Unzipping taggers/averaged_perceptron_tagger_eng.zip.\n"
          ]
        },
        {
          "output_type": "execute_result",
          "data": {
            "text/plain": [
              "True"
            ]
          },
          "metadata": {},
          "execution_count": 19
        }
      ]
    },
    {
      "cell_type": "code",
      "source": [
        "# utilizamos el tokenizador TokTokTokenizer y luego le pasamos el pos_tag\n",
        "nltk.pos_tag(toktokTokenizer.tokenize(text=texto))"
      ],
      "metadata": {
        "id": "s4oYYyaCAbDt",
        "colab": {
          "base_uri": "https://localhost:8080/"
        },
        "outputId": "c7a3e4da-00e8-427e-e4be-581ccd352fef"
      },
      "execution_count": null,
      "outputs": [
        {
          "output_type": "execute_result",
          "data": {
            "text/plain": [
              "[('La', 'NNP'),\n",
              " ('inteligencia', 'JJ'),\n",
              " ('artificial', 'NN'),\n",
              " ('(', '('),\n",
              " ('IA', 'NNP'),\n",
              " (')', ')'),\n",
              " (',', ','),\n",
              " ('en', 'FW'),\n",
              " ('el', 'FW'),\n",
              " ('contexto', 'FW'),\n",
              " ('de', 'FW'),\n",
              " ('las', 'FW'),\n",
              " ('ciencias', 'FW'),\n",
              " ('de', 'FW'),\n",
              " ('la', 'FW'),\n",
              " ('computación', 'NN'),\n",
              " (',', ','),\n",
              " ('es', 'JJ'),\n",
              " ('el', 'FW'),\n",
              " ('conjunto', 'NN'),\n",
              " ('de', 'FW'),\n",
              " ('sistemas', 'FW'),\n",
              " ('o', 'FW'),\n",
              " ('combinación', 'FW'),\n",
              " ('de', 'FW'),\n",
              " ('algoritmos', 'FW'),\n",
              " (',', ','),\n",
              " ('cuyo', 'NN'),\n",
              " ('propósito', 'NN'),\n",
              " ('es', 'NN'),\n",
              " ('crear', 'VBP'),\n",
              " ('máquinas', 'NNS'),\n",
              " ('que', 'JJ'),\n",
              " ('imitan', 'JJ'),\n",
              " ('la', 'NN'),\n",
              " ('inteligencia', 'NN'),\n",
              " ('humana', 'NN'),\n",
              " ('para', 'NN'),\n",
              " ('realizar', 'NN'),\n",
              " ('tareas', 'NNS'),\n",
              " ('y', 'VBP'),\n",
              " ('pueden', 'JJ'),\n",
              " ('mejorar', 'NN'),\n",
              " ('conforme', 'NN'),\n",
              " ('la', 'NN'),\n",
              " ('información', 'NN'),\n",
              " ('que', 'NN'),\n",
              " ('recopilan.', 'NN'),\n",
              " ('La', 'NNP'),\n",
              " ('inteligencia', 'VBZ'),\n",
              " ('artificial', 'JJ'),\n",
              " ('no', 'DT'),\n",
              " ('tiene', 'NN'),\n",
              " ('como', 'NN'),\n",
              " ('finalidad', 'NN'),\n",
              " ('reemplazar', 'VBZ'),\n",
              " ('a', 'DT'),\n",
              " ('los', 'JJ'),\n",
              " ('humanos', 'NN'),\n",
              " (',', ','),\n",
              " ('sino', 'NN'),\n",
              " ('mejorar', 'NN'),\n",
              " ('significativamente', 'NN'),\n",
              " ('las', 'NNS'),\n",
              " ('capacidades', 'NNS'),\n",
              " ('y', 'VBP'),\n",
              " ('contribuciones', 'NNS'),\n",
              " ('humanas.', 'FW'),\n",
              " ('Se', 'NNP'),\n",
              " ('hizo', 'NN'),\n",
              " ('presente', 'NN'),\n",
              " ('poco', 'NN'),\n",
              " ('después', 'NN'),\n",
              " ('de', 'IN'),\n",
              " ('la', 'FW'),\n",
              " ('Segunda', 'NNP'),\n",
              " ('Guerra', 'NNP'),\n",
              " ('Mundial', 'NNP'),\n",
              " (',', ','),\n",
              " ('y', 'NNP'),\n",
              " ('el', 'VBZ'),\n",
              " ('nombre', 'JJ'),\n",
              " ('lo', 'NN'),\n",
              " ('acuñó', 'NN'),\n",
              " ('en', 'IN'),\n",
              " ('1956', 'CD'),\n",
              " ('el', 'NN'),\n",
              " ('informático', 'NN'),\n",
              " ('John', 'NNP'),\n",
              " ('McCarthy', 'NNP'),\n",
              " (',', ','),\n",
              " ('en', 'FW'),\n",
              " ('la', 'FW'),\n",
              " ('Conferencia', 'NNP'),\n",
              " ('de', 'IN'),\n",
              " ('Dartmouth', 'NNP'),\n",
              " ('.', '.')]"
            ]
          },
          "metadata": {},
          "execution_count": 21
        }
      ]
    },
    {
      "cell_type": "markdown",
      "source": [
        "## [Stem o Stemming](https://www.nltk.org/api/nltk.stem.html)\n",
        "\n",
        "Es un proceso de reducción de palabras a su raíz o base común, eliminando sufijos y prefijos para obtener una forma básica de la palabra. Esta técnica es comúnmente utilizada en el procesamiento de lenguaje natural para mejorar la precisión de las búsquedas y la recuperación de información en los motores de búsqueda y otras aplicaciones similares.\n",
        "\n",
        "Por ejemplo:\n",
        "\n",
        "El objetivo del stemming es reducir las palabras a su forma más básica, para que se puedan agrupar y contar con mayor facilidad. Esto puede ser útil para análisis de texto, minería de datos y otras aplicaciones en las que es importante contar y agrupar palabras de manera eficiente.\n",
        "\n",
        "Hay varios algoritmos de stemming, como el algoritmo de Porter, el algoritmo Snowball, el algoritmo Lancaster, entre otros. Cada algoritmo tiene sus propias reglas para reducir las palabras a su raíz común, y puede haber variaciones en el resultado dependiendo del algoritmo utilizado y de la lengua del texto a procesar.\n",
        "\n",
        "Por ejemplo:\n",
        "\n",
        "| Palabra | SnowballStemmer |\n",
        "| --- | --- |\n",
        "| corriendo | corr |\n",
        "| corre | corr |\n",
        "| cantando | cant |\n",
        "| comiendo | com |\n",
        "| gatos | gat |\n",
        "| mejores | mejor |\n",
        "| hablando | habl |\n",
        "| felicidad | felic |\n",
        "| leyendo | leyend |\n",
        "| bailando | bail |\n",
        "| trabajadores | trabaj |"
      ],
      "metadata": {
        "id": "2sx0a3GoEeta"
      }
    },
    {
      "cell_type": "code",
      "source": [
        "from nltk.stem import SnowballStemmer\n",
        "snowballStemmer = SnowballStemmer('spanish')\n",
        "\n",
        "print(\"Los idiomas soportados por Snowball son:\\n\", snowballStemmer.languages)\n",
        "print()\n",
        "# utilizamos el tokenizador TokTokTokenizer y luego le pasamos el pos_tag\n",
        "print([(word, snowballStemmer.stem(word)) for word in toktokTokenizer.tokenize(text=texto)])"
      ],
      "metadata": {
        "colab": {
          "base_uri": "https://localhost:8080/"
        },
        "id": "fi2oAvz4YLMI",
        "outputId": "c5cfc3fa-b6af-4eeb-82f4-5135048cc4e5"
      },
      "execution_count": null,
      "outputs": [
        {
          "output_type": "stream",
          "name": "stdout",
          "text": [
            "Los idiomas soportados por Snowball son:\n",
            " ('arabic', 'danish', 'dutch', 'english', 'finnish', 'french', 'german', 'hungarian', 'italian', 'norwegian', 'porter', 'portuguese', 'romanian', 'russian', 'spanish', 'swedish')\n",
            "\n",
            "[('La', 'la'), ('inteligencia', 'inteligent'), ('artificial', 'artificial'), ('(', '('), ('IA', 'ia'), (')', ')'), (',', ','), ('en', 'en'), ('el', 'el'), ('contexto', 'context'), ('de', 'de'), ('las', 'las'), ('ciencias', 'cienci'), ('de', 'de'), ('la', 'la'), ('computación', 'comput'), (',', ','), ('es', 'es'), ('el', 'el'), ('conjunto', 'conjunt'), ('de', 'de'), ('sistemas', 'sistem'), ('o', 'o'), ('combinación', 'combin'), ('de', 'de'), ('algoritmos', 'algoritm'), (',', ','), ('cuyo', 'cuy'), ('propósito', 'proposit'), ('es', 'es'), ('crear', 'cre'), ('máquinas', 'maquin'), ('que', 'que'), ('imitan', 'imit'), ('la', 'la'), ('inteligencia', 'inteligent'), ('humana', 'human'), ('para', 'par'), ('realizar', 'realiz'), ('tareas', 'tar'), ('y', 'y'), ('pueden', 'pued'), ('mejorar', 'mejor'), ('conforme', 'conform'), ('la', 'la'), ('información', 'inform'), ('que', 'que'), ('recopilan.', 'recopilan.'), ('La', 'la'), ('inteligencia', 'inteligent'), ('artificial', 'artificial'), ('no', 'no'), ('tiene', 'tien'), ('como', 'com'), ('finalidad', 'final'), ('reemplazar', 'reemplaz'), ('a', 'a'), ('los', 'los'), ('humanos', 'human'), (',', ','), ('sino', 'sin'), ('mejorar', 'mejor'), ('significativamente', 'signific'), ('las', 'las'), ('capacidades', 'capac'), ('y', 'y'), ('contribuciones', 'contribu'), ('humanas.', 'humanas.'), ('Se', 'se'), ('hizo', 'hiz'), ('presente', 'present'), ('poco', 'poc'), ('después', 'despues'), ('de', 'de'), ('la', 'la'), ('Segunda', 'segund'), ('Guerra', 'guerr'), ('Mundial', 'mundial'), (',', ','), ('y', 'y'), ('el', 'el'), ('nombre', 'nombr'), ('lo', 'lo'), ('acuñó', 'acuñ'), ('en', 'en'), ('1956', '1956'), ('el', 'el'), ('informático', 'informat'), ('John', 'john'), ('McCarthy', 'mccarthy'), (',', ','), ('en', 'en'), ('la', 'la'), ('Conferencia', 'conferent'), ('de', 'de'), ('Dartmouth', 'dartmouth'), ('.', '.')]\n"
          ]
        }
      ]
    },
    {
      "cell_type": "markdown",
      "source": [
        "## Lemma o Lemmatizer\n",
        "\n",
        "Convierte las palabras en su forma base, conocida como \"lema\". El lema es la forma de la palabra que se encuentra en un diccionario y representa su significado principal.\n",
        "\n",
        "El proceso de lematización es similar a la reducción de una palabra a su raíz, pero en lugar de simplemente eliminar los sufijos y prefijos, el lematizador utiliza un conocimiento más profundo del idioma para identificar la forma base correcta de una palabra en función del contexto en el que se utiliza.\n",
        "\n",
        "Por ejemplo:\n",
        "\n",
        "| Palabra Español | Palabra inglés | Lemma |\n",
        "| --- | --- | --- |\n",
        "| corriendo | running | running |\n",
        "| corre | running | running |\n",
        "| cantando | singing | singing |\n",
        "| comiendo | eating | eating |\n",
        "| gatos | cats | cat |\n",
        "| mejores | best | best |\n",
        "| hablando | talking | talking |\n",
        "| felicidad | happiness | happiness |\n",
        "| leyendo | reading | reading |\n",
        "| bailando | dancing | dancing |\n",
        "| trabajadores | workers | worker |\n",
        "\n",
        "`Ver el ejemplo en Spacy. La librería wordnet no es lo suficientemente robusta y no funciona para español`.\n",
        "\n",
        "[Link a Spacy](https://colab.research.google.com/drive/18tx1BgPYxg0oONRV3uQF-s19rmjCdr9S#scrollTo=0jLEwBMwh-St&line=1&uniqifier=1)"
      ],
      "metadata": {
        "id": "Po_A4LUFXp9a"
      }
    },
    {
      "cell_type": "code",
      "source": [
        "# para el lemma necesitamos descargar\n",
        "nltk.download('wordnet')"
      ],
      "metadata": {
        "id": "doHJZRRnbyWs",
        "colab": {
          "base_uri": "https://localhost:8080/"
        },
        "outputId": "51873c25-41c6-427c-e5e7-064a3e204904"
      },
      "execution_count": null,
      "outputs": [
        {
          "output_type": "stream",
          "name": "stderr",
          "text": [
            "[nltk_data] Downloading package wordnet to /root/nltk_data...\n"
          ]
        },
        {
          "output_type": "execute_result",
          "data": {
            "text/plain": [
              "True"
            ]
          },
          "metadata": {},
          "execution_count": 23
        }
      ]
    },
    {
      "cell_type": "code",
      "source": [
        "from nltk.stem.wordnet import WordNetLemmatizer\n",
        "wordNetLemmatizer = WordNetLemmatizer()\n",
        "\n",
        "# utilizamos el tokenizador TokTokTokenizer y luego le pasamos el lemma\n",
        "# no observamos cambios por el idioma\n",
        "print([(word, wordNetLemmatizer.lemmatize(word)) for word in toktokTokenizer.tokenize(text=texto)])"
      ],
      "metadata": {
        "id": "P5qx0A7rYVNy",
        "colab": {
          "base_uri": "https://localhost:8080/"
        },
        "outputId": "95b480b4-a591-4f27-e1ed-b27454859678"
      },
      "execution_count": null,
      "outputs": [
        {
          "output_type": "stream",
          "name": "stdout",
          "text": [
            "[('La', 'La'), ('inteligencia', 'inteligencia'), ('artificial', 'artificial'), ('(', '('), ('IA', 'IA'), (')', ')'), (',', ','), ('en', 'en'), ('el', 'el'), ('contexto', 'contexto'), ('de', 'de'), ('las', 'la'), ('ciencias', 'ciencias'), ('de', 'de'), ('la', 'la'), ('computación', 'computación'), (',', ','), ('es', 'e'), ('el', 'el'), ('conjunto', 'conjunto'), ('de', 'de'), ('sistemas', 'sistemas'), ('o', 'o'), ('combinación', 'combinación'), ('de', 'de'), ('algoritmos', 'algoritmos'), (',', ','), ('cuyo', 'cuyo'), ('propósito', 'propósito'), ('es', 'e'), ('crear', 'crear'), ('máquinas', 'máquinas'), ('que', 'que'), ('imitan', 'imitan'), ('la', 'la'), ('inteligencia', 'inteligencia'), ('humana', 'humana'), ('para', 'para'), ('realizar', 'realizar'), ('tareas', 'tareas'), ('y', 'y'), ('pueden', 'pueden'), ('mejorar', 'mejorar'), ('conforme', 'conforme'), ('la', 'la'), ('información', 'información'), ('que', 'que'), ('recopilan.', 'recopilan.'), ('La', 'La'), ('inteligencia', 'inteligencia'), ('artificial', 'artificial'), ('no', 'no'), ('tiene', 'tiene'), ('como', 'como'), ('finalidad', 'finalidad'), ('reemplazar', 'reemplazar'), ('a', 'a'), ('los', 'los'), ('humanos', 'humanos'), (',', ','), ('sino', 'sino'), ('mejorar', 'mejorar'), ('significativamente', 'significativamente'), ('las', 'la'), ('capacidades', 'capacidades'), ('y', 'y'), ('contribuciones', 'contribuciones'), ('humanas.', 'humanas.'), ('Se', 'Se'), ('hizo', 'hizo'), ('presente', 'presente'), ('poco', 'poco'), ('después', 'después'), ('de', 'de'), ('la', 'la'), ('Segunda', 'Segunda'), ('Guerra', 'Guerra'), ('Mundial', 'Mundial'), (',', ','), ('y', 'y'), ('el', 'el'), ('nombre', 'nombre'), ('lo', 'lo'), ('acuñó', 'acuñó'), ('en', 'en'), ('1956', '1956'), ('el', 'el'), ('informático', 'informático'), ('John', 'John'), ('McCarthy', 'McCarthy'), (',', ','), ('en', 'en'), ('la', 'la'), ('Conferencia', 'Conferencia'), ('de', 'de'), ('Dartmouth', 'Dartmouth'), ('.', '.')]\n"
          ]
        }
      ]
    },
    {
      "cell_type": "markdown",
      "source": [
        "## Stop words\n",
        "\n",
        "Las stop words, son palabras que se consideran muy comunes en un idioma en particular y, por lo tanto, no aportan un valor semántico significativo a una frase o texto. Ejemplos comunes de stop words en inglés son \"de\", \"la\", \"que\", \"con\", \"muy\", \"ante\", \"eso\", entre otros.\n",
        "\n",
        "En el procesamiento de lenguaje natural, las stop words se eliminan o se ignoran para evitar que afecten el resultado de la búsqueda o el análisis. La eliminación de stop words puede ayudar a reducir la dimensionalidad del texto y mejorar la eficiencia de los algoritmos de búsqueda, ya que estas palabras no proporcionan información útil para la clasificación o la recuperación de información.\n",
        "\n",
        "Sin embargo, la eliminación de stop words también puede tener un impacto negativo en el resultado final, especialmente si se trata de un texto corto o si las stop words son importantes en el contexto específico del texto. Por esta razón, en algunos casos puede ser necesario ajustar el conjunto de stop words o no eliminarlas por completo.\n",
        "\n",
        "Es importante destacar que el conjunto de stop words varía según el idioma y el contexto, por lo que es necesario elegir cuidadosamente qué palabras se eliminan o se mantienen en cada caso.\n",
        "\n",
        "[Link a Spacy](https://colab.research.google.com/drive/18tx1BgPYxg0oONRV3uQF-s19rmjCdr9S#scrollTo=OlnAzDksj6Kw&line=2&uniqifier=1)"
      ],
      "metadata": {
        "id": "s0Qfd6xac3Vk"
      }
    },
    {
      "cell_type": "code",
      "source": [
        "# para el lemma necesitamos descargar\n",
        "nltk.download('stopwords')"
      ],
      "metadata": {
        "id": "p3vFTzHxgeS4",
        "outputId": "33e1ed87-df4e-46b0-f2ac-ae86a9a5b3c7",
        "colab": {
          "base_uri": "https://localhost:8080/"
        }
      },
      "execution_count": null,
      "outputs": [
        {
          "output_type": "stream",
          "name": "stderr",
          "text": [
            "[nltk_data] Downloading package stopwords to /root/nltk_data...\n",
            "[nltk_data]   Unzipping corpora/stopwords.zip.\n"
          ]
        },
        {
          "output_type": "execute_result",
          "data": {
            "text/plain": [
              "True"
            ]
          },
          "metadata": {},
          "execution_count": 25
        }
      ]
    },
    {
      "cell_type": "code",
      "source": [
        "stopwords = nltk.corpus.stopwords.words('spanish')\n",
        "# para ver todos los stop words desc\n",
        "print(\"Existen: \", len(stopwords))\n",
        "print(\"Estos son los stop words en español:\\n\", stopwords)"
      ],
      "metadata": {
        "id": "M1DpAmFadlXV",
        "outputId": "e818f340-d8b0-4752-948b-b9c862526fd7",
        "colab": {
          "base_uri": "https://localhost:8080/"
        }
      },
      "execution_count": null,
      "outputs": [
        {
          "output_type": "stream",
          "name": "stdout",
          "text": [
            "Existen:  313\n",
            "Estos son los stop words en español:\n",
            " ['de', 'la', 'que', 'el', 'en', 'y', 'a', 'los', 'del', 'se', 'las', 'por', 'un', 'para', 'con', 'no', 'una', 'su', 'al', 'lo', 'como', 'más', 'pero', 'sus', 'le', 'ya', 'o', 'este', 'sí', 'porque', 'esta', 'entre', 'cuando', 'muy', 'sin', 'sobre', 'también', 'me', 'hasta', 'hay', 'donde', 'quien', 'desde', 'todo', 'nos', 'durante', 'todos', 'uno', 'les', 'ni', 'contra', 'otros', 'ese', 'eso', 'ante', 'ellos', 'e', 'esto', 'mí', 'antes', 'algunos', 'qué', 'unos', 'yo', 'otro', 'otras', 'otra', 'él', 'tanto', 'esa', 'estos', 'mucho', 'quienes', 'nada', 'muchos', 'cual', 'poco', 'ella', 'estar', 'estas', 'algunas', 'algo', 'nosotros', 'mi', 'mis', 'tú', 'te', 'ti', 'tu', 'tus', 'ellas', 'nosotras', 'vosotros', 'vosotras', 'os', 'mío', 'mía', 'míos', 'mías', 'tuyo', 'tuya', 'tuyos', 'tuyas', 'suyo', 'suya', 'suyos', 'suyas', 'nuestro', 'nuestra', 'nuestros', 'nuestras', 'vuestro', 'vuestra', 'vuestros', 'vuestras', 'esos', 'esas', 'estoy', 'estás', 'está', 'estamos', 'estáis', 'están', 'esté', 'estés', 'estemos', 'estéis', 'estén', 'estaré', 'estarás', 'estará', 'estaremos', 'estaréis', 'estarán', 'estaría', 'estarías', 'estaríamos', 'estaríais', 'estarían', 'estaba', 'estabas', 'estábamos', 'estabais', 'estaban', 'estuve', 'estuviste', 'estuvo', 'estuvimos', 'estuvisteis', 'estuvieron', 'estuviera', 'estuvieras', 'estuviéramos', 'estuvierais', 'estuvieran', 'estuviese', 'estuvieses', 'estuviésemos', 'estuvieseis', 'estuviesen', 'estando', 'estado', 'estada', 'estados', 'estadas', 'estad', 'he', 'has', 'ha', 'hemos', 'habéis', 'han', 'haya', 'hayas', 'hayamos', 'hayáis', 'hayan', 'habré', 'habrás', 'habrá', 'habremos', 'habréis', 'habrán', 'habría', 'habrías', 'habríamos', 'habríais', 'habrían', 'había', 'habías', 'habíamos', 'habíais', 'habían', 'hube', 'hubiste', 'hubo', 'hubimos', 'hubisteis', 'hubieron', 'hubiera', 'hubieras', 'hubiéramos', 'hubierais', 'hubieran', 'hubiese', 'hubieses', 'hubiésemos', 'hubieseis', 'hubiesen', 'habiendo', 'habido', 'habida', 'habidos', 'habidas', 'soy', 'eres', 'es', 'somos', 'sois', 'son', 'sea', 'seas', 'seamos', 'seáis', 'sean', 'seré', 'serás', 'será', 'seremos', 'seréis', 'serán', 'sería', 'serías', 'seríamos', 'seríais', 'serían', 'era', 'eras', 'éramos', 'erais', 'eran', 'fui', 'fuiste', 'fue', 'fuimos', 'fuisteis', 'fueron', 'fuera', 'fueras', 'fuéramos', 'fuerais', 'fueran', 'fuese', 'fueses', 'fuésemos', 'fueseis', 'fuesen', 'sintiendo', 'sentido', 'sentida', 'sentidos', 'sentidas', 'siente', 'sentid', 'tengo', 'tienes', 'tiene', 'tenemos', 'tenéis', 'tienen', 'tenga', 'tengas', 'tengamos', 'tengáis', 'tengan', 'tendré', 'tendrás', 'tendrá', 'tendremos', 'tendréis', 'tendrán', 'tendría', 'tendrías', 'tendríamos', 'tendríais', 'tendrían', 'tenía', 'tenías', 'teníamos', 'teníais', 'tenían', 'tuve', 'tuviste', 'tuvo', 'tuvimos', 'tuvisteis', 'tuvieron', 'tuviera', 'tuvieras', 'tuviéramos', 'tuvierais', 'tuvieran', 'tuviese', 'tuvieses', 'tuviésemos', 'tuvieseis', 'tuviesen', 'teniendo', 'tenido', 'tenida', 'tenidos', 'tenidas', 'tened']\n"
          ]
        }
      ]
    },
    {
      "cell_type": "code",
      "source": [
        "# vamos a limpiar el texto que venimos trabajando\n",
        "# verificamos si la palabra no esta dentro de la lista de stopwords.\n",
        "print(\" \".join([word for word in toktokTokenizer.tokenize(text=texto) if word.lower() not in stopwords]))"
      ],
      "metadata": {
        "id": "dzM9ASF6hVpy",
        "outputId": "2d511044-5086-49ed-e819-0dc0605ca459",
        "colab": {
          "base_uri": "https://localhost:8080/"
        }
      },
      "execution_count": null,
      "outputs": [
        {
          "output_type": "stream",
          "name": "stdout",
          "text": [
            "inteligencia artificial ( IA ) , contexto ciencias computación , conjunto sistemas combinación algoritmos , cuyo propósito crear máquinas imitan inteligencia humana realizar tareas pueden mejorar conforme información recopilan. inteligencia artificial finalidad reemplazar humanos , sino mejorar significativamente capacidades contribuciones humanas. hizo presente después Segunda Guerra Mundial , nombre acuñó 1956 informático John McCarthy , Conferencia Dartmouth .\n"
          ]
        }
      ]
    },
    {
      "cell_type": "code",
      "source": [],
      "metadata": {
        "id": "CODCCb8Oph96"
      },
      "execution_count": null,
      "outputs": []
    }
  ]
}