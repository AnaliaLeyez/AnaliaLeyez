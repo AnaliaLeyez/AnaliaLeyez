{
  "nbformat": 4,
  "nbformat_minor": 0,
  "metadata": {
    "colab": {
      "provenance": [],
      "include_colab_link": true
    },
    "kernelspec": {
      "name": "python3",
      "display_name": "Python 3"
    },
    "language_info": {
      "name": "python"
    }
  },
  "cells": [
    {
      "cell_type": "markdown",
      "metadata": {
        "id": "view-in-github",
        "colab_type": "text"
      },
      "source": [
        "<a href=\"https://colab.research.google.com/github/AnaliaLeyez/AnaliaLeyez/blob/main/Trabajo_practico_02_Apellido_Nombre.ipynb\" target=\"_parent\"><img src=\"https://colab.research.google.com/assets/colab-badge.svg\" alt=\"Open In Colab\"/></a>"
      ]
    },
    {
      "cell_type": "markdown",
      "source": [
        "# Como se evaluaran los trabajos.\n",
        "- Se debe entregar un 1 archivo con formato ipynb. Para esto voy al menú del colab a la sección Archivo -> Descarga -> ipynb.\n",
        "- El archivo que se sube a la plataforma debe poseer los resultados de la ejecución.\n",
        "- El notebook debe entregarse ejecutado.\n",
        "- Los scripts deben funcionar, es decir, al ejecutar todo el notebook no se deben generar errores. Para esto voy al menú del colab a la sección Ejecución -> Ejecutar todo (ctrl+f9) y no debe generar errores.\n",
        "- Utilizar nombres de variables que describan la acción (no utilizar nombres como a,x,p, etc).\n",
        "- El nombre del archivo debe ser \"trabajo_practico_0X-Apellido_Nombre.ipynb\" o \"trabajo_practico_0X_Apellido_Nombre.ipynb\". Siendo la X el número del trabajo práctico.\n",
        "- Solo se admite 1 respuesta por ejercicio, en caso de existir más de 1 respuesta, el ejercicio se tomará como incorrecto.\n",
        "- Comentar utilizando las normas de python (pep8 o google).\n",
        "- Utilizar type hints.\n",
        "- Manejo y validación de errores.\n",
        "- Utilización de formularios (en caso de ser solicitado).\n",
        "- En caso de que no se cumplan los puntos anteriores se descontarán puntos.\n",
        "- No está permitido montar el drive personal.\n",
        "\n",
        "---"
      ],
      "metadata": {
        "id": "IGALCmERQp1C"
      }
    },
    {
      "cell_type": "markdown",
      "source": [
        "Vamos a trabajar con un dataset que contiene información de IMDb (Internet movie Database).\n",
        "\n",
        "Las columnas son:\n",
        "* id: Identificador único asignado a cada película o serie de televisión dentro del dataset. Este ID permite distinguir cada entrada de las demás.\n",
        "\n",
        "* title: Título principal de la película o serie de televisión tal como se conoce comúnmente.\n",
        "\n",
        "* type: Indica el tipo de contenido al que corresponde la fila, generalmente puede ser \"movie\" (película) o \"show\" (serie de televisión).\n",
        "\n",
        "* description: Un breve resumen o sinopsis del argumento o la premisa de la película o serie de televisión.\n",
        "\n",
        "* release_year: Año en el que la película fue estrenada o en el que se emitió el primer episodio de la serie de televisión.\n",
        "\n",
        "* age_certification: Clasificación por edad o certificación de contenido (por ejemplo, PG-13, R, TV-MA). Esta información indica la audiencia para la que se considera apropiado el contenido. Puede estar ausente si no se dispone de esta información.\n",
        "\n",
        "* runtime: Duración total de la película en minutos o la duración promedio de un episodio de la serie de televisión en minutos.\n",
        "\n",
        "* genres: Lista de los géneros cinematográficos o televisivos a los que pertenece la película o serie (por ejemplo, drama, action, thriller, european). Puede haber múltiples géneros asociados a una misma entrada.\n",
        "\n",
        "* production_countries: Lista de los países que estuvieron involucrados en la producción de la película o serie de televisión.\n",
        "\n",
        "* seasons: Número total de temporadas que tiene una serie de televisión. Esta columna generalmente solo aplica a las entradas donde la columna \"type\" es \"show\". Para las películas, esta columna podría estar vacía o contener un valor nulo.\n",
        "\n",
        "* imdb_id: Identificador único asignado a la película o serie de televisión dentro de la base de datos de IMDb (Internet Movie Database). Este ID permite enlazar la entrada con su página correspondiente en IMDb.\n",
        "\n",
        "* imdb_score: Puntuación o calificación promedio que los usuarios de IMDb han otorgado a la película o serie de televisión. Generalmente es un valor numérico entre 0 y 10.\n",
        "\n",
        "* imdb_votes: Número total de votos o calificaciones que la película o serie de televisión ha recibido por parte de los usuarios de IMDb. Un mayor número de votos puede indicar una mayor popularidad o un consenso más sólido sobre la puntuación.\n",
        "\n",
        "* tmdb_popularity: Un valor numérico que representa la popularidad de la película o serie de televisión en la base de datos de TMDB (The Movie Database). Este valor se calcula en base a diversas métricas de actividad de los usuarios en la plataforma.\n",
        "\n",
        "* tmdb_score: Puntuación o calificación promedio que los usuarios de TMDB han otorgado a la película o serie de televisión. Generalmente es un valor numérico entre 0 y 10.\n",
        "\n",
        "[Descargar dataset](https://raw.githubusercontent.com/HAD141/datasets/refs/heads/main/TrabajosPracticos/imdb/titles.csv)"
      ],
      "metadata": {
        "id": "PTTkrSmGs7EW"
      }
    },
    {
      "cell_type": "code",
      "source": [
        "pip install pandas"
      ],
      "metadata": {
        "colab": {
          "base_uri": "https://localhost:8080/"
        },
        "id": "UGScVkpAD03b",
        "outputId": "338a75b7-8f9c-449f-b818-d01aefb042dd"
      },
      "execution_count": 37,
      "outputs": [
        {
          "output_type": "stream",
          "name": "stdout",
          "text": [
            "Requirement already satisfied: pandas in /usr/local/lib/python3.12/dist-packages (2.2.2)\n",
            "Requirement already satisfied: numpy>=1.26.0 in /usr/local/lib/python3.12/dist-packages (from pandas) (2.0.2)\n",
            "Requirement already satisfied: python-dateutil>=2.8.2 in /usr/local/lib/python3.12/dist-packages (from pandas) (2.9.0.post0)\n",
            "Requirement already satisfied: pytz>=2020.1 in /usr/local/lib/python3.12/dist-packages (from pandas) (2025.2)\n",
            "Requirement already satisfied: tzdata>=2022.7 in /usr/local/lib/python3.12/dist-packages (from pandas) (2025.2)\n",
            "Requirement already satisfied: six>=1.5 in /usr/local/lib/python3.12/dist-packages (from python-dateutil>=2.8.2->pandas) (1.17.0)\n"
          ]
        }
      ]
    },
    {
      "cell_type": "code",
      "source": [
        "!pip install -U nltk"
      ],
      "metadata": {
        "colab": {
          "base_uri": "https://localhost:8080/"
        },
        "id": "yBUFYAwrSp44",
        "outputId": "1bd1118e-601e-4d03-be31-0d00f217a56b"
      },
      "execution_count": 38,
      "outputs": [
        {
          "output_type": "stream",
          "name": "stdout",
          "text": [
            "Requirement already satisfied: nltk in /usr/local/lib/python3.12/dist-packages (3.9.2)\n",
            "Requirement already satisfied: click in /usr/local/lib/python3.12/dist-packages (from nltk) (8.3.0)\n",
            "Requirement already satisfied: joblib in /usr/local/lib/python3.12/dist-packages (from nltk) (1.5.2)\n",
            "Requirement already satisfied: regex>=2021.8.3 in /usr/local/lib/python3.12/dist-packages (from nltk) (2024.11.6)\n",
            "Requirement already satisfied: tqdm in /usr/local/lib/python3.12/dist-packages (from nltk) (4.67.1)\n"
          ]
        }
      ]
    },
    {
      "cell_type": "code",
      "source": [
        "#imports necesarios:\n",
        "import matplotlib.pyplot as plt\n",
        "import pandas as pd\n",
        "import re\n",
        "import nltk"
      ],
      "metadata": {
        "id": "-ib_aXBT4uPv"
      },
      "execution_count": 39,
      "outputs": []
    },
    {
      "cell_type": "markdown",
      "source": [
        "# Ejercicio 1\n",
        "\n",
        "* Descargar y levantar el DataSet, mostrar las 12 primeras filas, y obtener información general (shape, tipos de datos, nulos)."
      ],
      "metadata": {
        "id": "4HbJRqbAtK2P"
      }
    },
    {
      "cell_type": "code",
      "source": [
        "#Levanto el DataSet\n",
        "file= \"/content/titles.csv\"\n",
        "df = pd.read_csv(file, delimiter=\",\")\n",
        "\n",
        "# Muestro primeras 12 filas\n",
        "print(\"Las primeras 12 filas son:\\n\",df.head(12))\n",
        "\n",
        "# Muestro información general, lo guardo en variables por si las requiero luego\n",
        "cantidad_filas=df.shape[0]\n",
        "cantidad_columnas=df.shape[1]\n",
        "cantidad_celdas=df.size\n",
        "nulos_por_columna=df.isnull().sum()\n",
        "print(\"\\nLa cantidad de filas es: \", cantidad_filas)\n",
        "print(\"La cantidad de columnas es: \", cantidad_columnas)\n",
        "print(\"La cantidad de celdas es: \", cantidad_celdas)\n",
        "print(\"\\nLos tipos de datos son:\\n\", df.dtypes)\n",
        "print(\"\\nLa cantidad de nulos por columna es: \\n\", nulos_por_columna)"
      ],
      "metadata": {
        "id": "Sw8drFPFNHQT",
        "colab": {
          "base_uri": "https://localhost:8080/"
        },
        "outputId": "3d0e19dc-cc46-4c87-fbcc-e25f180f712b",
        "collapsed": true
      },
      "execution_count": 40,
      "outputs": [
        {
          "output_type": "stream",
          "name": "stdout",
          "text": [
            "Las primeras 12 filas son:\n",
            "           id                                title   type  \\\n",
            "0   ts300399  Five Came Back: The Reference Films   SHOW   \n",
            "1    tm84618                          Taxi Driver  MOVIE   \n",
            "2   tm154986                          Deliverance  MOVIE   \n",
            "3   tm127384      Monty Python and the Holy Grail  MOVIE   \n",
            "4   tm120801                      The Dirty Dozen  MOVIE   \n",
            "5    ts22164         Monty Python's Flying Circus   SHOW   \n",
            "6    tm70993                        Life of Brian  MOVIE   \n",
            "7    tm14873                          Dirty Harry  MOVIE   \n",
            "8   tm119281                     Bonnie and Clyde  MOVIE   \n",
            "9    tm98978                      The Blue Lagoon  MOVIE   \n",
            "10   tm44204                 The Guns of Navarone  MOVIE   \n",
            "11   tm67378                    The Professionals  MOVIE   \n",
            "\n",
            "                                          description  release_year  \\\n",
            "0   This collection includes 12 World War II-era p...          1945   \n",
            "1   A mentally unstable Vietnam War veteran works ...          1976   \n",
            "2   Intent on seeing the Cahulawassee River before...          1972   \n",
            "3   King Arthur, accompanied by his squire, recrui...          1975   \n",
            "4   12 American military prisoners in World War II...          1967   \n",
            "5   A British sketch comedy series with the shows ...          1969   \n",
            "6   Brian Cohen is an average young Jewish man, bu...          1979   \n",
            "7   When a madman dubbed 'Scorpio' terrorizes San ...          1971   \n",
            "8   In the 1930s, bored waitress Bonnie Parker fal...          1967   \n",
            "9   Two small children and a ship's cook survive a...          1980   \n",
            "10  A team of allied saboteurs are assigned an imp...          1961   \n",
            "11  An arrogant Texas millionaire hires four adven...          1966   \n",
            "\n",
            "   age_certification  runtime                             genres  \\\n",
            "0              TV-MA       51                      documentation   \n",
            "1                  R      114                       drama, crime   \n",
            "2                  R      109  drama, action, thriller, european   \n",
            "3                 PG       91            fantasy, action, comedy   \n",
            "4                NaN      150                        war, action   \n",
            "5              TV-14       30                   comedy, european   \n",
            "6                  R       94                             comedy   \n",
            "7                  R      102            thriller, action, crime   \n",
            "8                  R      110               crime, drama, action   \n",
            "9                  R      104             romance, action, drama   \n",
            "10               NaN      158                 action, drama, war   \n",
            "11             PG-13      117          western, action, european   \n",
            "\n",
            "   production_countries  seasons    imdb_id  imdb_score  imdb_votes  \\\n",
            "0                    US      1.0        NaN         NaN         NaN   \n",
            "1                    US      NaN  tt0075314         8.2    808582.0   \n",
            "2                    US      NaN  tt0068473         7.7    107673.0   \n",
            "3                    GB      NaN  tt0071853         8.2    534486.0   \n",
            "4                GB, US      NaN  tt0061578         7.7     72662.0   \n",
            "5                    GB      4.0  tt0063929         8.8     73424.0   \n",
            "6                    GB      NaN  tt0079470         8.0    395024.0   \n",
            "7                    US      NaN  tt0066999         7.7    155051.0   \n",
            "8                    US      NaN  tt0061418         7.7    112048.0   \n",
            "9                    US      NaN  tt0080453         5.8     69844.0   \n",
            "10               GB, US      NaN  tt0054953         7.5     50748.0   \n",
            "11                   US      NaN  tt0060862         7.3     16446.0   \n",
            "\n",
            "    tmdb_popularity  tmdb_score  \n",
            "0             0.600         NaN  \n",
            "1            40.965       8.179  \n",
            "2            10.010       7.300  \n",
            "3            15.461       7.811  \n",
            "4            20.398       7.600  \n",
            "5            17.617       8.306  \n",
            "6            17.770       7.800  \n",
            "7            12.817       7.500  \n",
            "8            15.687       7.500  \n",
            "9            50.324       6.156  \n",
            "10           13.844       7.300  \n",
            "11           13.123       7.100  \n",
            "\n",
            "La cantidad de filas es:  5850\n",
            "La cantidad de columnas es:  15\n",
            "La cantidad de celdas es:  87750\n",
            "\n",
            "Los tipos de datos son:\n",
            " id                       object\n",
            "title                    object\n",
            "type                     object\n",
            "description              object\n",
            "release_year              int64\n",
            "age_certification        object\n",
            "runtime                   int64\n",
            "genres                   object\n",
            "production_countries     object\n",
            "seasons                 float64\n",
            "imdb_id                  object\n",
            "imdb_score              float64\n",
            "imdb_votes              float64\n",
            "tmdb_popularity         float64\n",
            "tmdb_score              float64\n",
            "dtype: object\n",
            "\n",
            "La cantidad de nulos por columna es: \n",
            " id                         0\n",
            "title                      1\n",
            "type                       0\n",
            "description               18\n",
            "release_year               0\n",
            "age_certification       2619\n",
            "runtime                    0\n",
            "genres                    59\n",
            "production_countries     230\n",
            "seasons                 3744\n",
            "imdb_id                  403\n",
            "imdb_score               482\n",
            "imdb_votes               498\n",
            "tmdb_popularity           91\n",
            "tmdb_score               311\n",
            "dtype: int64\n"
          ]
        }
      ]
    },
    {
      "cell_type": "markdown",
      "source": [
        "Observo datos nulos para los que debo decidir qué hacer"
      ],
      "metadata": {
        "id": "PY9UQEJOeQFg"
      }
    },
    {
      "cell_type": "markdown",
      "source": [
        "# Ejercicio 2\n",
        "* Mostrar todos los títulos  ordenados alfabéticamente, separados por tipo, numerados desde 0 dentro de cada tipo. Para cada tipo agregar la cantidad total de títulos.\n",
        "\n",
        "<br>\n",
        "\n",
        "_Salida esperada:_\n",
        "\n",
        "`TIPO`: CANTIDAD TOTAL `TOTAL_CALCULADO_POR_TIPO`\n",
        "\n",
        "0: Título...\n",
        "\n",
        "1: Título...\n",
        "\n",
        "3: Título...\n",
        "\n",
        "..."
      ],
      "metadata": {
        "id": "Q-hVCFn_tbiy"
      }
    },
    {
      "cell_type": "code",
      "source": [
        "#Antes de resolver el ej2 realizo una limpieza de los datos:\n",
        "\n",
        "#Elimino el único registro sin título ya que lo considero un campo clave para el análsis\n",
        "df.dropna(subset=[\"title\"], inplace=True)\n",
        "#Elimino los 59 registros que no tienen género ya que también lo considero un campo clave para el análsis y no es un gran volumen\n",
        "df.dropna(subset=[\"genres\"], inplace=True)\n",
        "#Los casos con nulo en 'production_countries' los reemplazo con \"Desconocido\" para no perder esos registros\n",
        "df.fillna({\"production_countries\": \"Desconocido\"}, inplace=True)\n",
        "#Los casos con nulo en 'description' los reemplazo con un string vacío para no perder esos registros ni alterar el análisis de palabras\n",
        "df.fillna({\"description\":\"\"}, inplace=True)\n",
        "#Los casos con nulo en 'age_certification' los reemplazo con \"Sin descripción\" ya que puede estar ausente\n",
        "df.fillna({\"age_certification\":\"Sin  Descripción\"}, inplace=True)\n",
        "#Reemplazo valores nulos de runtime, los completo con la mediana para no generar sesgos\n",
        "df.fillna({\"runtime\": df['runtime'].median()},inplace=True)\n",
        "#Reemplazo valores nulos de seasons según mi interpretación:\n",
        "# -Selecciono las filas de MOVIE y las completo con 0 en la columna 'seasons' ya que no puede tener temporadas\n",
        "df.loc[df['type'] == 'MOVIE', 'seasons'] = 0\n",
        "# -Para SHOW, reemplazo los valores nulos de seasons con 1, si no habia datos considero que tuvo solo una temporada.\n",
        "df['seasons'] = df['seasons'].fillna(1)\n",
        "\n",
        "#Vuelvo a chequear la cantidad de nulos\n",
        "print(\"\\nLa cantidad de nulos por columna es: \\n\", df.isnull().sum())\n",
        "\n",
        "#Decido dejar las columnas de imdb y tmdb con nulos por el momento para no perder muchos registros,\n",
        "#en caso de tener que analizar estas columnas decidiré qué opción es conveniente según el objetivo.\n"
      ],
      "metadata": {
        "id": "DFPNvr9cAuCd"
      },
      "execution_count": null,
      "outputs": []
    },
    {
      "cell_type": "code",
      "source": [
        "#Traigo los tipos, utilizo unique para tener cada tipo una sola vez\n",
        "tipos = df[\"type\"].unique()\n",
        "\n",
        "#Recorro cada tipo\n",
        "for tipo in tipos:\n",
        "    #Armo un nuevo df con las filas que tienen un valor de \"type\", igual al valor actual del bucle\n",
        "    df_por_tipo = df[df[\"type\"] == tipo].copy()\n",
        "    #Muestro el \"tipo\" que estoy iterando y cantidad de películas de este tipo\n",
        "    print(f\"\\nTIPO: {tipo.upper()}  CANTIDAD TOTAL: {len(df_por_tipo)}\")\n",
        "    #Ordeno alfabéticamente por título para luego mostrar\n",
        "    df_por_tipo_ordenado = df_por_tipo['title'].sort_values()\n",
        "    #Enumero los títulos desde 0\n",
        "    for i, titulo in enumerate(df_por_tipo_ordenado):\n",
        "        print(f\"{i}: {titulo}\")"
      ],
      "metadata": {
        "id": "EPop_uDcQU-E",
        "collapsed": true
      },
      "execution_count": null,
      "outputs": []
    },
    {
      "cell_type": "markdown",
      "source": [
        "# Ejercicio 3\n",
        "\n",
        "* Calcular, cuál es el porcentaje de películas y de series.\n",
        "* Realizar un gráfico de barras con los datos calculados en el punto anterior."
      ],
      "metadata": {
        "id": "xatSTrrpuKQj"
      }
    },
    {
      "cell_type": "code",
      "source": [
        "#1º Calcular, cuál es el porcentaje de películas y de series\n",
        "\n",
        "#Cuento cuántos registros hay de cada tipo, o sea, cuántas películas y cuántas series\n",
        "cantidad_por_tipo = df[\"type\"].value_counts()\n",
        "#Calculo el porcentaje que representa en cada caso\n",
        "porcentaje = (cantidad_por_tipo / cantidad_filas) * 100\n",
        "#Resultados\n",
        "print(\"Cantidad de registros por tipo:\\n\", cantidad_por_tipo)\n",
        "print(\"\\nPorcentaje por tipo:\\n\", porcentaje.round(2))\n",
        "\n",
        "#2º Crear el gráfico de barras\n",
        "porcentaje.plot.bar(title=\"Porcentaje de películas y series\", xlabel=\"Tipo de contenido\", ylabel=\"Porcentaje\",color=['steelblue', 'orange'],width=0.9,rot=0).set_ylim(0, 100)\n",
        "#Sumo una etiqueta con el porcentaje de cada columna\n",
        "for i, valor in enumerate(porcentaje.values):\n",
        "  #centro el texto de la etiqueta y la ubico por arriba de la columna con el sígno de %\n",
        "  plt.text(i, valor+1, f\"{valor:.1f}%\", ha='center')"
      ],
      "metadata": {
        "id": "_53vkIWPQQDm"
      },
      "execution_count": null,
      "outputs": []
    },
    {
      "cell_type": "markdown",
      "source": [
        "# Ejercicio 4\n",
        "* Calcular la cantidad de películas y series por país.\n",
        "* Ordenarlas de mayor a menor según el total de series y películas.\n",
        "* Mostrar los 9 paises con mayor producción.\n",
        "* Realizar un gráfico de barras horizontales apiladas (películas + series) de los 9 paises con mayor producción.\n",
        "\n",
        "<br>\n",
        "\n",
        "_Salida esperada:_\n",
        "```\n",
        "                     `PELÍCULAS` `SERIES` `TOTAL`\n",
        "`PAÍS_PRODUCCIÓN`\n",
        "\n",
        "US                    100         5       105\n",
        "...\n",
        "```\n",
        "\n"
      ],
      "metadata": {
        "id": "zX2WlmtlulN7"
      }
    },
    {
      "cell_type": "code",
      "source": [
        "#1º Calcular la cantidad de películas y series por país.\n",
        "\n",
        "#Trabajo solo con los casos que tienen nombre de país\n",
        "df_filtrado = df[df['production_countries'] != 'Desconocido']\n",
        "#Creo una copia del DF con las columnas \"production_countries\" y \"type\" que son las que quiero analizar\n",
        "df_production_countries = df_filtrado[[\"production_countries\", \"type\"]].copy()\n",
        "#Convierto la columna 'production_countries' a un tipo de dato list para poder aplicar explode() luego\n",
        "df_production_countries['production_countries'] = df_production_countries['production_countries'].str.split(', ')\n",
        "\"\"\"\n",
        "Como algunas películas/series pueden ser producidas por más de un país,\n",
        "uso explode() para expandir las filas que contienen listas de paises,\n",
        "generando asì una nueva fila por cada país que haya producido la película/serie\n",
        "\"\"\"\n",
        "df_production_countries = df_production_countries.explode('production_countries')\n",
        "##Cuento la cantidad de películas y series por país y le aplico unstack para que los \"tipos\" pasen a ser los nombres de las columnas\n",
        "##agrego fiil_value=0 para aquellos casos en que la serie o película quede con valor NaN\n",
        "cantidad_por_pais = df_production_countries.groupby('production_countries')['type'].value_counts().unstack(fill_value=0)\n",
        "\n",
        "#2ºOrdenarlas de mayor a menor según el total de series y películas.\n",
        "\n",
        "#Calculo el total de producciones por país, sumando por filas y lo guardo en la columna \"Total\"\n",
        "cantidad_por_pais['TOTAL'] = cantidad_por_pais.sum(axis=1)\n",
        "#Ordeno por el total de producciones de mayor a menor\n",
        "cantidad_por_pais_ordenado = cantidad_por_pais.sort_values(by='TOTAL', ascending=False)\n",
        "\n",
        "#3º Mostrar los 9 paises con mayor producción.\n",
        "\n",
        "#Muestro los 9 países con mayor producción\n",
        "top_9paises = cantidad_por_pais_ordenado.head(9).copy()\n",
        "#Renomnbro los títulos de las columnas y el índice\n",
        "top_9paises.rename(columns={\"MOVIE\": \"PELÍCULAS\", \"SHOW\": \"SERIES\"}, inplace=True)\n",
        "top_9paises.index.name = \"PAÍS_PRODUCCIÓN\"\n",
        "#Muestro el resultado\n",
        "print(\"Los 9 países con mayor producción de películas y series son:\\n\", top_9paises)\n",
        "print(\"\\n\")\n",
        "\n",
        "#4º Realizar un gráfico de barras horizontales apiladas (películas + series) de los 9 paises con mayor producción.\n",
        "\n",
        "#Elimino la columna 'TOTAL' para el gráfico\n",
        "top_9paises= top_9paises[['PELÍCULAS', 'SERIES']]\n",
        "#Creo el gráfico de barras apiladas utilizando stacked=True\n",
        "ax = top_9paises.plot.barh(stacked=True, figsize=(15, 4), title='Paises con más producción de películas y series', xlabel='Cantidad', ylabel='País', color=['steelblue', 'orange'], width=0.9)\n",
        "#Muestro el país con mayor producción arriba para visualizar de mayor a menor\n",
        "ax.invert_yaxis()\n",
        "#Limito el eje X hasta 2500\n",
        "ax.set_xlim(right=2500)\n",
        "#Muestro la etiqueta con la cantidad de cada barra\n",
        "# Muestro la etiqueta con la cantidad de cada barra\n",
        "\n",
        "for i, valor in enumerate(cantidad_por_tipo.values):\n",
        "  ax.bar_label(ax.containers[i], label_type='center')"
      ],
      "metadata": {
        "id": "Ts_VtXxy9IxS"
      },
      "execution_count": null,
      "outputs": []
    },
    {
      "cell_type": "markdown",
      "source": [
        "# Ejercicio 5\n",
        "\n",
        "Utilizando la columna `runtime` o `duración`, vamos a realizar franjas de 30 minutos, es decir, 0-29, 30-59, 60-89, etc. Con estas franjas se deberán crear las siguientes gráficas:\n",
        "\n",
        "* Barras horizontal con la cantidad de películas por franja de duración.\n",
        "* Barras horizontal con la cantidad de series por temporadas."
      ],
      "metadata": {
        "id": "36N3axbMxqfb"
      }
    },
    {
      "cell_type": "code",
      "source": [
        "#1º Graficar barras horizontales con la cantidad de películas por franja de duración.\n",
        "\n",
        "#Creo un df solo con las películas\n",
        "df_movies = df[df['type'] == 'MOVIE'].copy()\n",
        "#Defino rangos de 30 minutos, iniciando en 0 y terminando luego del máximo de runtime,\n",
        "#uso closed='left' para que quede intervalo abierto a derecha\n",
        "rangos= pd.interval_range(start=0, end=df['runtime'].max()+30, freq=30, closed='left')\n",
        "#Creo la columna \"franja_duracion\"\n",
        "df_movies[\"franja_duracion\"] = pd.cut(df_movies[\"runtime\"], bins=rangos)\n",
        "#Cuento la cantidad de películas por franja\n",
        "peliculas_por_franja = df_movies[\"franja_duracion\"].value_counts().sort_index()\n",
        "#Creo el gráfico de barras horizontales\n",
        "ax= peliculas_por_franja.plot.barh( figsize=(15, 4), title='Cantidad de películas por franja de duración', xlabel='Cantidad', ylabel='Duración en minutos', width=0.9)\n",
        "#Limito el eje X hasta el valor máximo de películas en una franja\n",
        "ax.set_xlim(right=peliculas_por_franja.max() + 50)\n",
        "#Muestro la etiqueta con la cantidad de cada barra\n",
        "for i, valor in enumerate(peliculas_por_franja.values):\n",
        "  ax.text(valor, i, f\"{valor}\", va='center')"
      ],
      "metadata": {
        "id": "yiI477-4Rxb6"
      },
      "execution_count": null,
      "outputs": []
    },
    {
      "cell_type": "code",
      "source": [
        "#2º Graficar barras horizontales con la cantidad de series por temporadas.\n",
        "#Creo un DataFrame solo con las series\n",
        "df_shows = df[df['type'] == 'SHOW'].copy()\n",
        "#Cuento la cantidad de series según el número de temporadas\n",
        "series_por_temporada = df_shows['seasons'].value_counts().sort_index()\n",
        "#Creo el gráfico de barras horizontales\n",
        "ax = series_por_temporada.plot.barh(figsize=(15, 4), title='Cantidad de series por temporadas', xlabel='Cantidad', ylabel='Temporadas', width=0.9)\n",
        "#Ajusto el límite del eje X\n",
        "ax.set_xlim(right=series_por_temporada.max() + 50)\n",
        "#Agrego etiquetas a las barras\n",
        "for i, valor in enumerate(series_por_temporada.values):\n",
        "    ax.text(valor, i, f\"{valor}\", va='center')"
      ],
      "metadata": {
        "id": "CsTJXTFPma6O"
      },
      "execution_count": null,
      "outputs": []
    },
    {
      "cell_type": "markdown",
      "source": [
        "#Ejercicio 6\n",
        "* Identificar los 8 géneros más frecuentes y mostrar cuántos títulos tienen cada uno.\n",
        "* Realizar grafico de barras del top.\n",
        "* Ordenar grafico de mayor a menor.\n",
        "\n",
        "<br>\n",
        "\n",
        "_Salida esperada:_\n",
        "\n",
        "`GENERO`\n",
        "\n",
        "drama            10\n",
        "\n",
        "..."
      ],
      "metadata": {
        "id": "Es8ou3hQyYCl"
      }
    },
    {
      "cell_type": "code",
      "source": [
        "#1º Identificar los 8 géneros más frecuentes y mostrar cuántos títulos tienen cada uno.\n",
        "\n",
        "#Creo una copia del DF con la columna \"genres\" que es la que quiero analizar\n",
        "df_genres = df[[\"genres\"]].copy()\n",
        "#Convierto la columna 'genres' a un tipo de dato list para poder aplicar explode()\n",
        "df_genres['genres'] = df_genres['genres'].str.split(', ')\n",
        "##Como algunas películas/series pueden corresponder a más de un género,\n",
        "##uso explode() para expandir las filas que contienen listas de géneros\n",
        "df_genres= df_genres.explode('genres')\n",
        "#Cuento la cantidad de titulos por género\n",
        "cantidad_por_genero = df_genres['genres'].value_counts()\n",
        "#Identifico los 8 géneros más frecuentes\n",
        "top_8generos = cantidad_por_genero.head(8)\n",
        "#Renombro el nombre del índice, paso de \"genres\" a \"GÉNERO\"\n",
        "top_8generos.index.name = \"GÉNERO\"\n",
        "#Muestro cuántos títulos tiene cada uno de los 8 géneros más frecuentes\n",
        "print(\"Los 8 géneros con más títulos, y su cantidad, son: \\n\", top_8generos)\n",
        "\n",
        "#2º Realizar grafico de barras del top y ordenar el grafico de mayor a menor.\n",
        "\n",
        "#Creo el gráfico de barras horizontales\n",
        "ax=top_8generos.plot.barh(title='Géneros más frecuentes', xlabel='Cantidad de títulos', ylabel='Género')\n",
        "#Uso invert_yaxis() para visualizar de mayor a menor\n",
        "ax.invert_yaxis()\n",
        "#Agrego etiquetas a las barras\n",
        "for i, valor in enumerate(top_8generos.values):\n",
        "    ax.text(valor, i, f\"{valor}\", va='center')"
      ],
      "metadata": {
        "id": "Pky79brFXS6e"
      },
      "execution_count": null,
      "outputs": []
    },
    {
      "cell_type": "markdown",
      "source": [
        "#Ejercicio 7\n",
        "* Calcular el puntaje promedio por tipo.\n",
        "* Calcular el puntaje promedio por género.\n",
        "\n",
        "<br>\n",
        "\n",
        "_Salida esperada:_\n",
        "\n",
        "```\n",
        "Puntaje promedio IMDb por tipo:\n",
        "TIPO\n",
        "MOVIE    2.1\n",
        "...\n",
        "```\n",
        "\n",
        "```\n",
        "Puntaje promedio IMDb por género:\n",
        "GENERO\n",
        "history          1.2\n",
        "...\n",
        "```"
      ],
      "metadata": {
        "id": "pJAvz6adyeTd"
      }
    },
    {
      "cell_type": "code",
      "source": [
        "#Elimino de este análisis los registros con 'imdb_score' nulo para no alterar\n",
        "#el cálculo de promedio y basarme solo en datos completos\n",
        "df_IMDb = df.dropna(subset=[\"imdb_score\"]).copy()\n",
        "\n",
        "#1º Puntaje promedio por tipo\n",
        "#Calculo el promedio del 'imdb_score' habiendo agrupado por \"type\"\n",
        "IMDb_promedio_tipo = df_IMDb.groupby('type')['imdb_score'].mean().round(2)\n",
        "#Renombro el índice a TIPO\n",
        "IMDb_promedio_tipo.index.name = \"TIPO\"\n",
        "#Muestro el promedio\n",
        "print(\"Puntaje IMDb promedio por tipo:\\n\", IMDb_promedio_tipo, \"\\n\")\n",
        "\n",
        "\n",
        "#2º Puntaje promedio por género\n",
        "#Genero una nueva fila por cada gènero que tenga la película/serie\n",
        "df_IMDb['genres'] = df_IMDb['genres'].str.split(', ')\n",
        "df_IMDb = df_IMDb.explode('genres')\n",
        "#Calculo el promedio del 'imdb_score' habiendo agrupado por \"genres\"\n",
        "IMDb_promedio_genero = df_IMDb.groupby('genres')['imdb_score'].mean().round(2)\n",
        "#Renombro el índice a GENERO\n",
        "IMDb_promedio_genero.index.name = \"GENERO\"\n",
        "#Muestro el promedio ordenado por género afabétiamente\n",
        "print(\"Puntaje IMDb promedio por género:\\n\", IMDb_promedio_genero.sort_index(), \"\\n\")"
      ],
      "metadata": {
        "id": "IbZ7jIH_6y5O"
      },
      "execution_count": null,
      "outputs": []
    },
    {
      "cell_type": "markdown",
      "source": [
        "#Ejercicio 8\n",
        "* Crear una columna llamada \"nombres_descripcion\" que extraiga posibles nombres (ej: “John Smith”) desde la columna description.\n",
        "* Mostar las 15 primeras filas con los nombres extraidos.\n",
        "\n",
        "<br>\n",
        "\n",
        "_Salida esperada:_\n",
        "\n",
        "```\n",
        "      title\t                              nombres_descripcion\n",
        "0\t    Five Came Back: The Reference Films\t[....]\n",
        "\n",
        "```"
      ],
      "metadata": {
        "id": "HJcypDyTy2Vu"
      }
    },
    {
      "cell_type": "code",
      "source": [
        "#Creo una función que busque posibles nombres en un texto\n",
        "def extraer_nombres(texto):\n",
        "  #si el texto es nulo, no busco nombres\n",
        "  if pd.isna(texto):\n",
        "    return None\n",
        "  #Busco patrones tipo \"Nombre Apellido\" poniendo como condicion tener al menos dos palabras iniciadas en mayúscula\n",
        "  patron= r'([A-Z][a-z]+ [A-Z][a-z]+)+'\n",
        "  #almaceno las coincidencias en la variable \"nombres\"\n",
        "  nombres = re.findall(patron, texto)\n",
        "  #Si hay varios nombres los concateno, sino, devuelvo nulo\n",
        "  return \", \".join(nombres) if nombres else None\n",
        "\n",
        "#Creo una copia del DataFrame con las columnas \"title\" y \"description\" que son las que necesito\n",
        "df_nombres = df[[\"title\", \"description\"]].copy()\n",
        "#Creo la nueva columna aplicando la función que busca posibles nombres\n",
        "df_nombres[\"nombres_descripcion\"] = df_nombres[\"description\"].apply(extraer_nombres)\n",
        "#Elimino las filas sin nombres detectados\n",
        "df_nombres.dropna(subset=[\"nombres_descripcion\"], inplace=True)\n",
        "#Muestro las primeras 15 filas con resultados no nulos\n",
        "print(df_nombres[[\"title\", \"nombres_descripcion\"]].head(15))\n"
      ],
      "metadata": {
        "id": "1Z_TMXJlDmQc"
      },
      "execution_count": null,
      "outputs": []
    },
    {
      "cell_type": "markdown",
      "source": [
        "# Ejercicio 9\n",
        "* Realizar un grafico de barra horizontal de cuántos títulos hay por década."
      ],
      "metadata": {
        "id": "ZJrRTYRPzJCX"
      }
    },
    {
      "cell_type": "code",
      "source": [
        "#Creo una copia para no modificar el original, copio solo la columna release_year\n",
        "df_decada = df[[\"release_year\"]].copy()\n",
        "#Calculo la década y la guardo en una nueva columna \"decade\"\n",
        "df_decada[\"decade\"] = (df_decada[\"release_year\"] // 10) * 10\n",
        "#Cuento cantidad de títulos por década y ordeno por año\n",
        "titulos_por_decada = df_decada['decade'].value_counts().sort_index()\n",
        "#Armo el gráfico\n",
        "ax=titulos_por_decada.plot.barh(figsize=(15, 4), title='Cantidad de títulos por década',xlabel='Cantidad de títulos',ylabel='Década', width=0.9)\n",
        "#Agrego etiquetas a las barras\n",
        "for i, valor in enumerate(titulos_por_decada.values):\n",
        "    ax.text(valor, i, f\"{valor}\", va='center')"
      ],
      "metadata": {
        "id": "O2uqoMhaRZvi"
      },
      "execution_count": null,
      "outputs": []
    },
    {
      "cell_type": "markdown",
      "source": [
        "# Ejercicio 10\n",
        "* Filtrar las producciones donde uno de los países involucrados sea **Francia**.\n",
        "* Tokenizar las descripciones de las producciones filtradas.\n",
        "* Eliminar stopwords y palabras no alfabéticas.\n",
        "* Contar las palabras más frecuentes.\n",
        "* Mostrar el top 10 en un gráfico de barras."
      ],
      "metadata": {
        "id": "driFncDUI0kj"
      }
    },
    {
      "cell_type": "code",
      "source": [
        "from nltk.corpus import stopwords\n",
        "from nltk.tokenize import ToktokTokenizer\n",
        "\n",
        "# Para poder utilizar los tokenizadores necesitamos descargar la biblioteca\n",
        "# de caracteres de puntuación\n",
        "nltk.download('punkt')\n",
        "nltk.download('punkt_tab')\n",
        "#Descargo el paquete de stopwords\n",
        "nltk.download('stopwords')\n",
        "\n",
        "#Creo el tokenizador ToktokTokenizer\n",
        "toktokTokenizer = ToktokTokenizer()\n",
        "# Cargo las stopwords en inglés\n",
        "stop_words = nltk.corpus.stopwords.words()\n",
        "\n",
        "#1º Filtro producciones donde uno de los países sea Francia\n",
        "df_france = df[df['production_countries'].str.contains('FR', na=False)].copy()\n",
        "\n",
        "#2º Tokenizar las descripciones y limpiamos los nulos\n",
        "descripciones = df_france['description'].dropna().astype(str)\n",
        "#Creo una lista de todas las palabras\n",
        "todas_las_palabras = []\n",
        "\n",
        "for texto in descripciones:\n",
        "    tokens = toktokTokenizer.tokenize(text=texto.lower())\n",
        "    #3º elimino palabras no alfabéticas y stopwords\n",
        "    palabras_limpias = [w for w in tokens if w.isalpha() and w not in stop_words]\n",
        "    todas_las_palabras.extend(palabras_limpias)\n",
        "\n",
        "#4º Cuento cantidad de palabras más frecuentes\n",
        "#5º Me quedo con el top 10\n",
        "top_10palabras = pd.Series(todas_las_palabras).value_counts().head(10)\n",
        "#Armo el gráfico de barras horizontales\n",
        "ax = top_10palabras.plot.barh(figsize=(15, 4),title='Palabras más frecuentes en descripciones de producciones francesas', xlabel='Frecuencia', ylabel='Palabra', width=0.9)\n",
        "#Uso invert_yaxis() para visualizar de mayor a menor\n",
        "ax.invert_yaxis()\n",
        "#Muestro la etiqueta con la cantidad de cada barra\n",
        "for i, valor in enumerate(top_10palabras.values):\n",
        "    ax.text(valor, i, f\"{valor}\", va='center')"
      ],
      "metadata": {
        "id": "B8CpB8xLbm_h"
      },
      "execution_count": null,
      "outputs": []
    }
  ]
}