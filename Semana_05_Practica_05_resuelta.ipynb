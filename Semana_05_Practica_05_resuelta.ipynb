{
  "cells": [
    {
      "cell_type": "markdown",
      "metadata": {
        "id": "view-in-github",
        "colab_type": "text"
      },
      "source": [
        "<a href=\"https://colab.research.google.com/github/AnaliaLeyez/AnaliaLeyez/blob/main/Semana_05_Practica_05_resuelta.ipynb\" target=\"_parent\"><img src=\"https://colab.research.google.com/assets/colab-badge.svg\" alt=\"Open In Colab\"/></a>"
      ]
    },
    {
      "cell_type": "markdown",
      "metadata": {
        "id": "aRIDwN0u2lW6"
      },
      "source": [
        "#Práctica 005\n",
        "\n",
        "Relacionada a Pandas y expresiones regulares."
      ]
    },
    {
      "cell_type": "markdown",
      "metadata": {
        "id": "ZLs3VTsn3Bea"
      },
      "source": [
        "# Ejercicio 01\n",
        "\n",
        "Vamos a trabajar con un dataset del mundial.\n",
        "\n",
        "\n",
        "Descargar el dataset [https://drive.google.com/uc?id=1030-7OVCpZZTSozZ6dPREfovyFkykt21](https://drive.google.com/uc?id=1030-7OVCpZZTSozZ6dPREfovyFkykt21)\n",
        "\n",
        "Mostrar:\n",
        "\n",
        "- Mostrar la cantidad de filas\n",
        "- Mostrar la cantidad de columnas\n",
        "- Mostrar la cantidad de celdas que posee el dataset\n",
        "- Mostrar el nombre de las columnas\n"
      ]
    },
    {
      "cell_type": "markdown",
      "metadata": {
        "id": "dEIENPt1i2Ul"
      },
      "source": [
        "Detalle del dataset.\n",
        "\n",
        "Header | Definition\n",
        "---|---------\n",
        "`season` | The season during which the match was played\n",
        "`date` | The date of the match (YYYY-MM-DD)\n",
        "`league_id` | A unique identifier for the league this match was played in\n",
        "`league` | The name of the league this match was played in\n",
        "`team1` | The home team's name\n",
        "`team2` | The away team's name\n",
        "`spi1` | The home team's overall SPI rating before the match\n",
        "`spi2` | The away team's overall SPI rating before the match\n",
        "`prob1` | The probability of the home team winning the match\n",
        "`prob2` | The probability of the away team winning the match\n",
        "`probtie` | The probability of match ending in a draw (if applicable)\n",
        "`proj_score1` | The number of goals we expected the home team to score\n",
        "`proj_score2` | The number of goals we expected the away team to score\n",
        "`importance1` | The importance of the match for the home team (0-100)\n",
        "`importance2` | The importance of the match for the away team (0-100)\n",
        "`score1` | The number of goals scored by the home team\n",
        "`score2` | The number of goals scored by the away team\n",
        "`xg1` | The number of expected goals created by the home team\n",
        "`xg2` | The number of expected goals created by the away team\n",
        "`nsxg1` | The number of non-shot expected goals created by the home team\n",
        "`nsxg2` | The number of non-shot expected goals created by the away team\n",
        "`adj_score1` | The number of goals scored by the home team, adjusted for game state\n",
        "`adj_score2` | The number of goals scored by the home team, adjusted for game state"
      ]
    },
    {
      "cell_type": "code",
      "execution_count": null,
      "metadata": {
        "id": "LGOin87HSrFX"
      },
      "outputs": [],
      "source": [
        "from google.colab import drive\n",
        "import numpy as np\n",
        "from pandas import DataFrame, read_csv, to_datetime\n",
        "import pandas as pd"
      ]
    },
    {
      "cell_type": "code",
      "execution_count": null,
      "metadata": {
        "id": "YB_VDRYXkNQh",
        "colab": {
          "base_uri": "https://localhost:8080/"
        },
        "outputId": "586e30e8-df0a-4402-d1de-feca4660139b"
      },
      "outputs": [
        {
          "output_type": "stream",
          "name": "stdout",
          "text": [
            "--2025-05-05 00:25:56--  https://drive.google.com/file/d/1030-7OVCpZZTSozZ6dPREfovyFkykt21\n",
            "Resolving drive.google.com (drive.google.com)... 64.233.189.101, 64.233.189.113, 64.233.189.138, ...\n",
            "Connecting to drive.google.com (drive.google.com)|64.233.189.101|:443... connected.\n",
            "HTTP request sent, awaiting response... 302 Moved Temporarily\n",
            "Location: https://drive.google.com/file/d/1030-7OVCpZZTSozZ6dPREfovyFkykt21/ [following]\n",
            "--2025-05-05 00:25:57--  https://drive.google.com/file/d/1030-7OVCpZZTSozZ6dPREfovyFkykt21/\n",
            "Reusing existing connection to drive.google.com:443.\n",
            "HTTP request sent, awaiting response... 302 Moved Temporarily\n",
            "Location: https://drive.google.com/file/d/1030-7OVCpZZTSozZ6dPREfovyFkykt21/edit [following]\n",
            "--2025-05-05 00:25:57--  https://drive.google.com/file/d/1030-7OVCpZZTSozZ6dPREfovyFkykt21/edit\n",
            "Reusing existing connection to drive.google.com:443.\n",
            "HTTP request sent, awaiting response... 200 OK\n",
            "Length: unspecified [text/html]\n",
            "Saving to: ‘wc_matches.csv’\n",
            "\n",
            "wc_matches.csv          [ <=>                ]  93.76K  --.-KB/s    in 0.04s   \n",
            "\n",
            "2025-05-05 00:25:58 (2.41 MB/s) - ‘wc_matches.csv’ saved [96010]\n",
            "\n"
          ]
        }
      ],
      "source": [
        "# url de la imagen\n",
        "url = 'https://drive.google.com/file/d/1030-7OVCpZZTSozZ6dPREfovyFkykt21'\n",
        "# nombre del archivo\n",
        "filename = \"wc_matches.csv\"\n",
        "# realizamos el wget para obtener la imagen\n",
        "!wget {url} -O {filename}"
      ]
    },
    {
      "cell_type": "code",
      "execution_count": null,
      "metadata": {
        "colab": {
          "base_uri": "https://localhost:8080/"
        },
        "id": "AShXeYQ9s51V",
        "outputId": "83bed9e5-63a2-4dfa-c01c-9c1ed50fd629"
      },
      "outputs": [
        {
          "output_type": "stream",
          "name": "stdout",
          "text": [
            "Mounted at /content/drive\n",
            "--2025-05-05 00:16:16--  https://projects.fivethirtyeight.com/soccer-api/international/2022/wc_matches.csv\n",
            "Resolving projects.fivethirtyeight.com (projects.fivethirtyeight.com)... 108.138.85.47, 108.138.85.73, 108.138.85.39, ...\n",
            "Connecting to projects.fivethirtyeight.com (projects.fivethirtyeight.com)|108.138.85.47|:443... connected.\n",
            "HTTP request sent, awaiting response... 302 Moved Temporarily\n",
            "Location: https://abcnews.go.com/politics [following]\n",
            "--2025-05-05 00:16:16--  https://abcnews.go.com/politics\n",
            "Resolving abcnews.go.com (abcnews.go.com)... 3.162.112.113, 3.162.112.80, 3.162.112.2, ...\n",
            "Connecting to abcnews.go.com (abcnews.go.com)|3.162.112.113|:443... connected.\n",
            "HTTP request sent, awaiting response... 200 OK\n",
            "Length: 307426 (300K) [text/html]\n",
            "Saving to: ‘/content/drive/MyDrive/kaggle/datasets/wc_matches/wc_matches.csv’\n",
            "\n",
            "/content/drive/MyDr 100%[===================>] 300.22K  --.-KB/s    in 0.01s   \n",
            "\n",
            "2025-05-05 00:16:16 (20.5 MB/s) - ‘/content/drive/MyDrive/kaggle/datasets/wc_matches/wc_matches.csv’ saved [307426/307426]\n",
            "\n",
            "\n",
            "        <!doctype html>\n",
            "        <html lang=\"en\" lang=\"en\">\n",
            "            <head>\n",
            "                <!-- ABCNEWS | b45fbfa10e28 | 3599 | 229f47be90ff634ceca8aa9f6e8a4574d5559e40 | abcnews.go.com | Mon, 05 May 2025 00:16:13 GMT -->\n",
            "                <meta charSet=\"utf-8\" />\n",
            "                <meta name=\"viewport\" content=\"initial-scale=1.0, user-scalable=yes\" />\n",
            "                <meta http-equiv=\"x-ua-compatible\" content=\"IE=edge,chrome=1\" />\n",
            "                <meta property=\"og:locale\" content=\"en_US\" />\n",
            "                \n"
          ]
        }
      ],
      "source": [
        "# montamos drive\n",
        "drive.mount(\"/content/drive\")\n",
        "# creamos el nombre de un directorio\n",
        "dataset_name = \"wc_matches\"\n",
        "# nombre de la carpeta\n",
        "folder_dataset = f\"/content/drive/MyDrive/kaggle/datasets/{dataset_name}\"\n",
        "# path completo\n",
        "file_name = f\"/content/drive/MyDrive/kaggle/datasets/{dataset_name}/{dataset_name}.csv\"\n",
        "# creo la carpeta\n",
        "!mkdir -p {folder_dataset}\n",
        "# descargo el archivo y lo guardo en el path completo\n",
        "!wget https://projects.fivethirtyeight.com/soccer-api/international/2022/wc_matches.csv -O {file_name}\n",
        "# muestro la primeras líneas del archivo, solo para verificar que se descargó\n",
        "!head {file_name}"
      ]
    },
    {
      "cell_type": "code",
      "execution_count": null,
      "metadata": {
        "id": "6Ed_6CWi3mWV",
        "colab": {
          "base_uri": "https://localhost:8080/",
          "height": 206
        },
        "outputId": "7a656b8c-65b2-46be-8259-c42f1be78c88"
      },
      "outputs": [
        {
          "output_type": "execute_result",
          "data": {
            "text/plain": [
              "         date  league_id          league      team1         team2   spi1  \\\n",
              "0  2022-11-20       1908  FIFA World Cup      Qatar       Ecuador  51.00   \n",
              "1  2022-11-21       1908  FIFA World Cup    England          Iran  85.96   \n",
              "2  2022-11-21       1908  FIFA World Cup    Senegal   Netherlands  73.84   \n",
              "3  2022-11-21       1908  FIFA World Cup        USA         Wales  74.83   \n",
              "4  2022-11-22       1908  FIFA World Cup  Argentina  Saudi Arabia  87.21   \n",
              "\n",
              "    spi2   prob1   prob2  probtie  proj_score1  proj_score2  score1  score2  \\\n",
              "0  72.74  0.2369  0.5045   0.2586         1.13         1.75       0       2   \n",
              "1  62.17  0.6274  0.1187   0.2539         1.70         0.58       6       2   \n",
              "2  86.01  0.2235  0.5053   0.2712         0.99         1.63       0       2   \n",
              "3  65.58  0.4489  0.2591   0.2920         1.42         1.01       1       1   \n",
              "4  56.87  0.7228  0.0807   0.1966         2.11         0.54       1       2   \n",
              "\n",
              "    xg1   xg2  nsxg1  nsxg2  adj_score1  adj_score2  \n",
              "0  0.23  1.14   0.24   1.35        0.00        2.10  \n",
              "1  1.04  1.45   1.50   0.32        5.78        2.10  \n",
              "2  0.70  0.68   1.22   1.83        0.00        1.58  \n",
              "3  0.33  1.78   0.48   0.95        1.05        1.05  \n",
              "4  1.63  0.15   2.40   0.53        1.05        2.10  "
            ],
            "text/html": [
              "\n",
              "  <div id=\"df-305bb079-40c7-4ce7-9465-055fee6da666\" class=\"colab-df-container\">\n",
              "    <div>\n",
              "<style scoped>\n",
              "    .dataframe tbody tr th:only-of-type {\n",
              "        vertical-align: middle;\n",
              "    }\n",
              "\n",
              "    .dataframe tbody tr th {\n",
              "        vertical-align: top;\n",
              "    }\n",
              "\n",
              "    .dataframe thead th {\n",
              "        text-align: right;\n",
              "    }\n",
              "</style>\n",
              "<table border=\"1\" class=\"dataframe\">\n",
              "  <thead>\n",
              "    <tr style=\"text-align: right;\">\n",
              "      <th></th>\n",
              "      <th>date</th>\n",
              "      <th>league_id</th>\n",
              "      <th>league</th>\n",
              "      <th>team1</th>\n",
              "      <th>team2</th>\n",
              "      <th>spi1</th>\n",
              "      <th>spi2</th>\n",
              "      <th>prob1</th>\n",
              "      <th>prob2</th>\n",
              "      <th>probtie</th>\n",
              "      <th>proj_score1</th>\n",
              "      <th>proj_score2</th>\n",
              "      <th>score1</th>\n",
              "      <th>score2</th>\n",
              "      <th>xg1</th>\n",
              "      <th>xg2</th>\n",
              "      <th>nsxg1</th>\n",
              "      <th>nsxg2</th>\n",
              "      <th>adj_score1</th>\n",
              "      <th>adj_score2</th>\n",
              "    </tr>\n",
              "  </thead>\n",
              "  <tbody>\n",
              "    <tr>\n",
              "      <th>0</th>\n",
              "      <td>2022-11-20</td>\n",
              "      <td>1908</td>\n",
              "      <td>FIFA World Cup</td>\n",
              "      <td>Qatar</td>\n",
              "      <td>Ecuador</td>\n",
              "      <td>51.00</td>\n",
              "      <td>72.74</td>\n",
              "      <td>0.2369</td>\n",
              "      <td>0.5045</td>\n",
              "      <td>0.2586</td>\n",
              "      <td>1.13</td>\n",
              "      <td>1.75</td>\n",
              "      <td>0</td>\n",
              "      <td>2</td>\n",
              "      <td>0.23</td>\n",
              "      <td>1.14</td>\n",
              "      <td>0.24</td>\n",
              "      <td>1.35</td>\n",
              "      <td>0.00</td>\n",
              "      <td>2.10</td>\n",
              "    </tr>\n",
              "    <tr>\n",
              "      <th>1</th>\n",
              "      <td>2022-11-21</td>\n",
              "      <td>1908</td>\n",
              "      <td>FIFA World Cup</td>\n",
              "      <td>England</td>\n",
              "      <td>Iran</td>\n",
              "      <td>85.96</td>\n",
              "      <td>62.17</td>\n",
              "      <td>0.6274</td>\n",
              "      <td>0.1187</td>\n",
              "      <td>0.2539</td>\n",
              "      <td>1.70</td>\n",
              "      <td>0.58</td>\n",
              "      <td>6</td>\n",
              "      <td>2</td>\n",
              "      <td>1.04</td>\n",
              "      <td>1.45</td>\n",
              "      <td>1.50</td>\n",
              "      <td>0.32</td>\n",
              "      <td>5.78</td>\n",
              "      <td>2.10</td>\n",
              "    </tr>\n",
              "    <tr>\n",
              "      <th>2</th>\n",
              "      <td>2022-11-21</td>\n",
              "      <td>1908</td>\n",
              "      <td>FIFA World Cup</td>\n",
              "      <td>Senegal</td>\n",
              "      <td>Netherlands</td>\n",
              "      <td>73.84</td>\n",
              "      <td>86.01</td>\n",
              "      <td>0.2235</td>\n",
              "      <td>0.5053</td>\n",
              "      <td>0.2712</td>\n",
              "      <td>0.99</td>\n",
              "      <td>1.63</td>\n",
              "      <td>0</td>\n",
              "      <td>2</td>\n",
              "      <td>0.70</td>\n",
              "      <td>0.68</td>\n",
              "      <td>1.22</td>\n",
              "      <td>1.83</td>\n",
              "      <td>0.00</td>\n",
              "      <td>1.58</td>\n",
              "    </tr>\n",
              "    <tr>\n",
              "      <th>3</th>\n",
              "      <td>2022-11-21</td>\n",
              "      <td>1908</td>\n",
              "      <td>FIFA World Cup</td>\n",
              "      <td>USA</td>\n",
              "      <td>Wales</td>\n",
              "      <td>74.83</td>\n",
              "      <td>65.58</td>\n",
              "      <td>0.4489</td>\n",
              "      <td>0.2591</td>\n",
              "      <td>0.2920</td>\n",
              "      <td>1.42</td>\n",
              "      <td>1.01</td>\n",
              "      <td>1</td>\n",
              "      <td>1</td>\n",
              "      <td>0.33</td>\n",
              "      <td>1.78</td>\n",
              "      <td>0.48</td>\n",
              "      <td>0.95</td>\n",
              "      <td>1.05</td>\n",
              "      <td>1.05</td>\n",
              "    </tr>\n",
              "    <tr>\n",
              "      <th>4</th>\n",
              "      <td>2022-11-22</td>\n",
              "      <td>1908</td>\n",
              "      <td>FIFA World Cup</td>\n",
              "      <td>Argentina</td>\n",
              "      <td>Saudi Arabia</td>\n",
              "      <td>87.21</td>\n",
              "      <td>56.87</td>\n",
              "      <td>0.7228</td>\n",
              "      <td>0.0807</td>\n",
              "      <td>0.1966</td>\n",
              "      <td>2.11</td>\n",
              "      <td>0.54</td>\n",
              "      <td>1</td>\n",
              "      <td>2</td>\n",
              "      <td>1.63</td>\n",
              "      <td>0.15</td>\n",
              "      <td>2.40</td>\n",
              "      <td>0.53</td>\n",
              "      <td>1.05</td>\n",
              "      <td>2.10</td>\n",
              "    </tr>\n",
              "  </tbody>\n",
              "</table>\n",
              "</div>\n",
              "    <div class=\"colab-df-buttons\">\n",
              "\n",
              "  <div class=\"colab-df-container\">\n",
              "    <button class=\"colab-df-convert\" onclick=\"convertToInteractive('df-305bb079-40c7-4ce7-9465-055fee6da666')\"\n",
              "            title=\"Convert this dataframe to an interactive table.\"\n",
              "            style=\"display:none;\">\n",
              "\n",
              "  <svg xmlns=\"http://www.w3.org/2000/svg\" height=\"24px\" viewBox=\"0 -960 960 960\">\n",
              "    <path d=\"M120-120v-720h720v720H120Zm60-500h600v-160H180v160Zm220 220h160v-160H400v160Zm0 220h160v-160H400v160ZM180-400h160v-160H180v160Zm440 0h160v-160H620v160ZM180-180h160v-160H180v160Zm440 0h160v-160H620v160Z\"/>\n",
              "  </svg>\n",
              "    </button>\n",
              "\n",
              "  <style>\n",
              "    .colab-df-container {\n",
              "      display:flex;\n",
              "      gap: 12px;\n",
              "    }\n",
              "\n",
              "    .colab-df-convert {\n",
              "      background-color: #E8F0FE;\n",
              "      border: none;\n",
              "      border-radius: 50%;\n",
              "      cursor: pointer;\n",
              "      display: none;\n",
              "      fill: #1967D2;\n",
              "      height: 32px;\n",
              "      padding: 0 0 0 0;\n",
              "      width: 32px;\n",
              "    }\n",
              "\n",
              "    .colab-df-convert:hover {\n",
              "      background-color: #E2EBFA;\n",
              "      box-shadow: 0px 1px 2px rgba(60, 64, 67, 0.3), 0px 1px 3px 1px rgba(60, 64, 67, 0.15);\n",
              "      fill: #174EA6;\n",
              "    }\n",
              "\n",
              "    .colab-df-buttons div {\n",
              "      margin-bottom: 4px;\n",
              "    }\n",
              "\n",
              "    [theme=dark] .colab-df-convert {\n",
              "      background-color: #3B4455;\n",
              "      fill: #D2E3FC;\n",
              "    }\n",
              "\n",
              "    [theme=dark] .colab-df-convert:hover {\n",
              "      background-color: #434B5C;\n",
              "      box-shadow: 0px 1px 3px 1px rgba(0, 0, 0, 0.15);\n",
              "      filter: drop-shadow(0px 1px 2px rgba(0, 0, 0, 0.3));\n",
              "      fill: #FFFFFF;\n",
              "    }\n",
              "  </style>\n",
              "\n",
              "    <script>\n",
              "      const buttonEl =\n",
              "        document.querySelector('#df-305bb079-40c7-4ce7-9465-055fee6da666 button.colab-df-convert');\n",
              "      buttonEl.style.display =\n",
              "        google.colab.kernel.accessAllowed ? 'block' : 'none';\n",
              "\n",
              "      async function convertToInteractive(key) {\n",
              "        const element = document.querySelector('#df-305bb079-40c7-4ce7-9465-055fee6da666');\n",
              "        const dataTable =\n",
              "          await google.colab.kernel.invokeFunction('convertToInteractive',\n",
              "                                                    [key], {});\n",
              "        if (!dataTable) return;\n",
              "\n",
              "        const docLinkHtml = 'Like what you see? Visit the ' +\n",
              "          '<a target=\"_blank\" href=https://colab.research.google.com/notebooks/data_table.ipynb>data table notebook</a>'\n",
              "          + ' to learn more about interactive tables.';\n",
              "        element.innerHTML = '';\n",
              "        dataTable['output_type'] = 'display_data';\n",
              "        await google.colab.output.renderOutput(dataTable, element);\n",
              "        const docLink = document.createElement('div');\n",
              "        docLink.innerHTML = docLinkHtml;\n",
              "        element.appendChild(docLink);\n",
              "      }\n",
              "    </script>\n",
              "  </div>\n",
              "\n",
              "\n",
              "    <div id=\"df-9ba06521-5823-4ffb-a344-ea2ff0249a1e\">\n",
              "      <button class=\"colab-df-quickchart\" onclick=\"quickchart('df-9ba06521-5823-4ffb-a344-ea2ff0249a1e')\"\n",
              "                title=\"Suggest charts\"\n",
              "                style=\"display:none;\">\n",
              "\n",
              "<svg xmlns=\"http://www.w3.org/2000/svg\" height=\"24px\"viewBox=\"0 0 24 24\"\n",
              "     width=\"24px\">\n",
              "    <g>\n",
              "        <path d=\"M19 3H5c-1.1 0-2 .9-2 2v14c0 1.1.9 2 2 2h14c1.1 0 2-.9 2-2V5c0-1.1-.9-2-2-2zM9 17H7v-7h2v7zm4 0h-2V7h2v10zm4 0h-2v-4h2v4z\"/>\n",
              "    </g>\n",
              "</svg>\n",
              "      </button>\n",
              "\n",
              "<style>\n",
              "  .colab-df-quickchart {\n",
              "      --bg-color: #E8F0FE;\n",
              "      --fill-color: #1967D2;\n",
              "      --hover-bg-color: #E2EBFA;\n",
              "      --hover-fill-color: #174EA6;\n",
              "      --disabled-fill-color: #AAA;\n",
              "      --disabled-bg-color: #DDD;\n",
              "  }\n",
              "\n",
              "  [theme=dark] .colab-df-quickchart {\n",
              "      --bg-color: #3B4455;\n",
              "      --fill-color: #D2E3FC;\n",
              "      --hover-bg-color: #434B5C;\n",
              "      --hover-fill-color: #FFFFFF;\n",
              "      --disabled-bg-color: #3B4455;\n",
              "      --disabled-fill-color: #666;\n",
              "  }\n",
              "\n",
              "  .colab-df-quickchart {\n",
              "    background-color: var(--bg-color);\n",
              "    border: none;\n",
              "    border-radius: 50%;\n",
              "    cursor: pointer;\n",
              "    display: none;\n",
              "    fill: var(--fill-color);\n",
              "    height: 32px;\n",
              "    padding: 0;\n",
              "    width: 32px;\n",
              "  }\n",
              "\n",
              "  .colab-df-quickchart:hover {\n",
              "    background-color: var(--hover-bg-color);\n",
              "    box-shadow: 0 1px 2px rgba(60, 64, 67, 0.3), 0 1px 3px 1px rgba(60, 64, 67, 0.15);\n",
              "    fill: var(--button-hover-fill-color);\n",
              "  }\n",
              "\n",
              "  .colab-df-quickchart-complete:disabled,\n",
              "  .colab-df-quickchart-complete:disabled:hover {\n",
              "    background-color: var(--disabled-bg-color);\n",
              "    fill: var(--disabled-fill-color);\n",
              "    box-shadow: none;\n",
              "  }\n",
              "\n",
              "  .colab-df-spinner {\n",
              "    border: 2px solid var(--fill-color);\n",
              "    border-color: transparent;\n",
              "    border-bottom-color: var(--fill-color);\n",
              "    animation:\n",
              "      spin 1s steps(1) infinite;\n",
              "  }\n",
              "\n",
              "  @keyframes spin {\n",
              "    0% {\n",
              "      border-color: transparent;\n",
              "      border-bottom-color: var(--fill-color);\n",
              "      border-left-color: var(--fill-color);\n",
              "    }\n",
              "    20% {\n",
              "      border-color: transparent;\n",
              "      border-left-color: var(--fill-color);\n",
              "      border-top-color: var(--fill-color);\n",
              "    }\n",
              "    30% {\n",
              "      border-color: transparent;\n",
              "      border-left-color: var(--fill-color);\n",
              "      border-top-color: var(--fill-color);\n",
              "      border-right-color: var(--fill-color);\n",
              "    }\n",
              "    40% {\n",
              "      border-color: transparent;\n",
              "      border-right-color: var(--fill-color);\n",
              "      border-top-color: var(--fill-color);\n",
              "    }\n",
              "    60% {\n",
              "      border-color: transparent;\n",
              "      border-right-color: var(--fill-color);\n",
              "    }\n",
              "    80% {\n",
              "      border-color: transparent;\n",
              "      border-right-color: var(--fill-color);\n",
              "      border-bottom-color: var(--fill-color);\n",
              "    }\n",
              "    90% {\n",
              "      border-color: transparent;\n",
              "      border-bottom-color: var(--fill-color);\n",
              "    }\n",
              "  }\n",
              "</style>\n",
              "\n",
              "      <script>\n",
              "        async function quickchart(key) {\n",
              "          const quickchartButtonEl =\n",
              "            document.querySelector('#' + key + ' button');\n",
              "          quickchartButtonEl.disabled = true;  // To prevent multiple clicks.\n",
              "          quickchartButtonEl.classList.add('colab-df-spinner');\n",
              "          try {\n",
              "            const charts = await google.colab.kernel.invokeFunction(\n",
              "                'suggestCharts', [key], {});\n",
              "          } catch (error) {\n",
              "            console.error('Error during call to suggestCharts:', error);\n",
              "          }\n",
              "          quickchartButtonEl.classList.remove('colab-df-spinner');\n",
              "          quickchartButtonEl.classList.add('colab-df-quickchart-complete');\n",
              "        }\n",
              "        (() => {\n",
              "          let quickchartButtonEl =\n",
              "            document.querySelector('#df-9ba06521-5823-4ffb-a344-ea2ff0249a1e button');\n",
              "          quickchartButtonEl.style.display =\n",
              "            google.colab.kernel.accessAllowed ? 'block' : 'none';\n",
              "        })();\n",
              "      </script>\n",
              "    </div>\n",
              "\n",
              "    </div>\n",
              "  </div>\n"
            ],
            "application/vnd.google.colaboratory.intrinsic+json": {
              "type": "dataframe",
              "variable_name": "df_wc",
              "summary": "{\n  \"name\": \"df_wc\",\n  \"rows\": 64,\n  \"fields\": [\n    {\n      \"column\": \"date\",\n      \"properties\": {\n        \"dtype\": \"object\",\n        \"num_unique_values\": 23,\n        \"samples\": [\n          \"2022-12-05\",\n          \"2022-11-29\",\n          \"2022-11-20\"\n        ],\n        \"semantic_type\": \"\",\n        \"description\": \"\"\n      }\n    },\n    {\n      \"column\": \"league_id\",\n      \"properties\": {\n        \"dtype\": \"number\",\n        \"std\": 0,\n        \"min\": 1908,\n        \"max\": 1908,\n        \"num_unique_values\": 1,\n        \"samples\": [\n          1908\n        ],\n        \"semantic_type\": \"\",\n        \"description\": \"\"\n      }\n    },\n    {\n      \"column\": \"league\",\n      \"properties\": {\n        \"dtype\": \"category\",\n        \"num_unique_values\": 1,\n        \"samples\": [\n          \"FIFA World Cup\"\n        ],\n        \"semantic_type\": \"\",\n        \"description\": \"\"\n      }\n    },\n    {\n      \"column\": \"team1\",\n      \"properties\": {\n        \"dtype\": \"string\",\n        \"num_unique_values\": 32,\n        \"samples\": [\n          \"Costa Rica\"\n        ],\n        \"semantic_type\": \"\",\n        \"description\": \"\"\n      }\n    },\n    {\n      \"column\": \"team2\",\n      \"properties\": {\n        \"dtype\": \"string\",\n        \"num_unique_values\": 32,\n        \"samples\": [\n          \"Spain\"\n        ],\n        \"semantic_type\": \"\",\n        \"description\": \"\"\n      }\n    },\n    {\n      \"column\": \"spi1\",\n      \"properties\": {\n        \"dtype\": \"number\",\n        \"std\": 11.158027805083115,\n        \"min\": 48.16,\n        \"max\": 93.66,\n        \"num_unique_values\": 63,\n        \"samples\": [\n          87.72\n        ],\n        \"semantic_type\": \"\",\n        \"description\": \"\"\n      }\n    },\n    {\n      \"column\": \"spi2\",\n      \"properties\": {\n        \"dtype\": \"number\",\n        \"std\": 10.785255338344738,\n        \"min\": 48.46,\n        \"max\": 93.48,\n        \"num_unique_values\": 64,\n        \"samples\": [\n          79.14\n        ],\n        \"semantic_type\": \"\",\n        \"description\": \"\"\n      }\n    },\n    {\n      \"column\": \"prob1\",\n      \"properties\": {\n        \"dtype\": \"number\",\n        \"std\": 0.20447863434178581,\n        \"min\": 0.0363,\n        \"max\": 0.8261,\n        \"num_unique_values\": 62,\n        \"samples\": [\n          0.8133\n        ],\n        \"semantic_type\": \"\",\n        \"description\": \"\"\n      }\n    },\n    {\n      \"column\": \"prob2\",\n      \"properties\": {\n        \"dtype\": \"number\",\n        \"std\": 0.1951867483619498,\n        \"min\": 0.0595,\n        \"max\": 0.8112,\n        \"num_unique_values\": 63,\n        \"samples\": [\n          0.4675\n        ],\n        \"semantic_type\": \"\",\n        \"description\": \"\"\n      }\n    },\n    {\n      \"column\": \"probtie\",\n      \"properties\": {\n        \"dtype\": \"number\",\n        \"std\": 0.12211358779191071,\n        \"min\": 0.0,\n        \"max\": 0.3371,\n        \"num_unique_values\": 49,\n        \"samples\": [\n          0.2838\n        ],\n        \"semantic_type\": \"\",\n        \"description\": \"\"\n      }\n    },\n    {\n      \"column\": \"proj_score1\",\n      \"properties\": {\n        \"dtype\": \"number\",\n        \"std\": 0.47682138265012924,\n        \"min\": 0.31,\n        \"max\": 2.6,\n        \"num_unique_values\": 52,\n        \"samples\": [\n          1.16\n        ],\n        \"semantic_type\": \"\",\n        \"description\": \"\"\n      }\n    },\n    {\n      \"column\": \"proj_score2\",\n      \"properties\": {\n        \"dtype\": \"number\",\n        \"std\": 0.43459634505471934,\n        \"min\": 0.44,\n        \"max\": 2.55,\n        \"num_unique_values\": 49,\n        \"samples\": [\n          0.56\n        ],\n        \"semantic_type\": \"\",\n        \"description\": \"\"\n      }\n    },\n    {\n      \"column\": \"score1\",\n      \"properties\": {\n        \"dtype\": \"number\",\n        \"std\": 1,\n        \"min\": 0,\n        \"max\": 7,\n        \"num_unique_values\": 7,\n        \"samples\": [\n          0\n        ],\n        \"semantic_type\": \"\",\n        \"description\": \"\"\n      }\n    },\n    {\n      \"column\": \"score2\",\n      \"properties\": {\n        \"dtype\": \"number\",\n        \"std\": 1,\n        \"min\": 0,\n        \"max\": 4,\n        \"num_unique_values\": 5,\n        \"samples\": [\n          1\n        ],\n        \"semantic_type\": \"\",\n        \"description\": \"\"\n      }\n    },\n    {\n      \"column\": \"xg1\",\n      \"properties\": {\n        \"dtype\": \"number\",\n        \"std\": 0.7251993260476737,\n        \"min\": 0.07,\n        \"max\": 3.1,\n        \"num_unique_values\": 57,\n        \"samples\": [\n          0.23\n        ],\n        \"semantic_type\": \"\",\n        \"description\": \"\"\n      }\n    },\n    {\n      \"column\": \"xg2\",\n      \"properties\": {\n        \"dtype\": \"number\",\n        \"std\": 0.8402099457731922,\n        \"min\": 0.0,\n        \"max\": 4.41,\n        \"num_unique_values\": 56,\n        \"samples\": [\n          1.14\n        ],\n        \"semantic_type\": \"\",\n        \"description\": \"\"\n      }\n    },\n    {\n      \"column\": \"nsxg1\",\n      \"properties\": {\n        \"dtype\": \"number\",\n        \"std\": 0.5956958715893299,\n        \"min\": 0.24,\n        \"max\": 3.1,\n        \"num_unique_values\": 52,\n        \"samples\": [\n          1.3\n        ],\n        \"semantic_type\": \"\",\n        \"description\": \"\"\n      }\n    },\n    {\n      \"column\": \"nsxg2\",\n      \"properties\": {\n        \"dtype\": \"number\",\n        \"std\": 0.8741053816640006,\n        \"min\": 0.09,\n        \"max\": 5.9,\n        \"num_unique_values\": 53,\n        \"samples\": [\n          0.65\n        ],\n        \"semantic_type\": \"\",\n        \"description\": \"\"\n      }\n    },\n    {\n      \"column\": \"adj_score1\",\n      \"properties\": {\n        \"dtype\": \"number\",\n        \"std\": 1.4896576571534392,\n        \"min\": 0.0,\n        \"max\": 6.22,\n        \"num_unique_values\": 17,\n        \"samples\": [\n          0.0\n        ],\n        \"semantic_type\": \"\",\n        \"description\": \"\"\n      }\n    },\n    {\n      \"column\": \"adj_score2\",\n      \"properties\": {\n        \"dtype\": \"number\",\n        \"std\": 1.0615954132477081,\n        \"min\": 0.0,\n        \"max\": 3.72,\n        \"num_unique_values\": 9,\n        \"samples\": [\n          3.72\n        ],\n        \"semantic_type\": \"\",\n        \"description\": \"\"\n      }\n    }\n  ]\n}"
            }
          },
          "metadata": {},
          "execution_count": 6
        }
      ],
      "source": [
        "# leemos el dataset y mostramos la cabecera\n",
        "df_wc = read_csv(f\"{filename}\")\n",
        "df_wc.head()"
      ]
    },
    {
      "cell_type": "code",
      "execution_count": null,
      "metadata": {
        "id": "GTjvCVc56O5J"
      },
      "outputs": [],
      "source": [
        "print(\"Mostrar la cantidad de filas: \", df_wc.shape[0])\n",
        "print(\"Mostrar la cantidad de columnas: \", df_wc.shape[1])\n",
        "print(\"Mostrar la cantidad de celdas que posee el dataset: \", df_wc.size)\n",
        "print(\"Mostrar el nombre de las columnas: \", df_wc.columns)"
      ]
    },
    {
      "cell_type": "markdown",
      "metadata": {
        "id": "it_wivTC3aCF"
      },
      "source": [
        "# Ejercicio 02\n",
        "\n",
        "Obtener todos los países de forma única que participaron del mundial de futbol. Mostrar los nombre ordenados."
      ]
    },
    {
      "cell_type": "code",
      "execution_count": null,
      "metadata": {
        "id": "u9oHDeEm7S83"
      },
      "outputs": [],
      "source": [
        "# agrupo los equipos locales\n",
        "df_team1 = df_wc.groupby([\"team1\"])\n",
        "# agrupo los equipos visitantes\n",
        "df_team2 = df_wc.groupby([\"team2\"])\n",
        "# cargo los equipos locales en un set para hacerlos únicos (ya son únicos por el\n",
        "# groupby)\n",
        "teams = set(df_team1.groups.keys())\n",
        "# hago un update del set\n",
        "teams.update(df_team2.groups.keys())\n",
        "\n",
        "print(\"Los equipos que participaron del mundial son: \\n\", sorted(teams))\n"
      ]
    },
    {
      "cell_type": "markdown",
      "metadata": {
        "id": "Xhimg9ReXdIE"
      },
      "source": [
        "# Ejercicio 03\n",
        "\n",
        "Obtener la mayor cantidad de goles en un partido que hizo cada selección. Mostrar El nombre del país de la selección y la cantidad de goles."
      ]
    },
    {
      "cell_type": "code",
      "execution_count": null,
      "metadata": {
        "id": "ycfXKnvWXx9v"
      },
      "outputs": [],
      "source": [
        "# agrupo por team1 y agrego por score1 y obtengo el máximo\n",
        "df_team1_goals = df_wc.groupby([\"team1\"]).aggregate(\"score1\").max()\n",
        "# agrupo por team2 y agrego por score2 y obtengo el máximo\n",
        "df_team2_goals = df_wc.groupby([\"team2\"]).aggregate(\"score2\").max()\n",
        "# concateno ambas Series, voy a obtener índices repetidos (nombre de los países)\n",
        "series_teams = pd.concat([df_team1_goals, df_team2_goals])\n",
        "# transformo la Series en un DataFrame con las columnas \"teams\" y \"goals\"\n",
        "df_teams_goals = DataFrame({\"teams\": series_teams.index, \"goals\": series_teams.values})\n",
        "# agrupo por teams y agrego por golas y obtengo el máximo\n",
        "df_teams_goals = df_teams_goals.groupby([\"teams\"]).aggregate(\"goals\").max()\n",
        "df_teams_goals"
      ]
    },
    {
      "cell_type": "markdown",
      "metadata": {
        "id": "5zucJFR9ZS5L"
      },
      "source": [
        "# Ejercicio 04\n",
        "\n",
        "Graficar el DataFrame del ejercicio 03 como un gráfico de barras."
      ]
    },
    {
      "cell_type": "code",
      "execution_count": null,
      "metadata": {
        "id": "B-I-b4IldvFF"
      },
      "outputs": [],
      "source": [
        "df_teams_goals.plot(kind=\"bar\")"
      ]
    },
    {
      "cell_type": "markdown",
      "metadata": {
        "id": "eXaJ3qoAY-uM"
      },
      "source": [
        "# Ejercicio 5\n",
        "\n",
        "Levantar el siguiente dataset de kaggle `stephenknoth/spanish-language-articles` en un DataFrame donde cada fila sea un texto/archivo.\n",
        "\n",
        "`El directorio tiene varios archivos.`\n",
        "\n",
        "`Los archivos deberían dar un error al leerlos, ver el tema de encoding.`"
      ]
    },
    {
      "cell_type": "code",
      "execution_count": null,
      "metadata": {
        "id": "hhp8mRIOwSkx"
      },
      "outputs": [],
      "source": [
        "!mkdir -p ~/.kaggle\n",
        "!cp /content/drive/MyDrive/kaggle/kaggle.json ~/.kaggle/\n",
        "!chmod 600 ~/.kaggle/kaggle.json"
      ]
    },
    {
      "cell_type": "code",
      "execution_count": null,
      "metadata": {
        "id": "FLUAgVTuD8BW"
      },
      "outputs": [],
      "source": [
        "dataset_name = \"spanish-language-articles\"\n",
        "# nombre de la carpeta\n",
        "folder_dataset = f\"/content/drive/MyDrive/kaggle/datasets/{dataset_name}\"\n",
        "!mkdir -p {folder_dataset}"
      ]
    },
    {
      "cell_type": "code",
      "execution_count": null,
      "metadata": {
        "id": "2PUbNE5LvoTH"
      },
      "outputs": [],
      "source": [
        "!kaggle datasets download --unzip -d  stephenknoth/spanish-language-articles -p {folder_dataset}"
      ]
    },
    {
      "cell_type": "code",
      "execution_count": null,
      "metadata": {
        "id": "YElan4vg7ZyD"
      },
      "outputs": [],
      "source": [
        "!ls {folder_dataset}"
      ]
    },
    {
      "cell_type": "code",
      "execution_count": null,
      "metadata": {
        "id": "LDWxMAboaI_8"
      },
      "outputs": [],
      "source": [
        "import os\n",
        "\n",
        "lista: list = []\n",
        "for file_ in os.listdir(folder_dataset):\n",
        "  with open(folder_dataset+os.sep+file_, encoding='latin1') as r:\n",
        "    lista.append(r.read())\n",
        "df_sp = DataFrame(lista,columns=[\"Texto\"])\n",
        "df_sp.head()"
      ]
    },
    {
      "cell_type": "markdown",
      "metadata": {
        "id": "VG632OOOb0YQ"
      },
      "source": [
        "# Ejercicio 06\n",
        "\n",
        "Tomar el DataFrame del ejercicio anterior y crear las siguientes columnas:\n",
        "- Fecha: debe ir un True si el texto posee una fecha\n",
        "- Email: debe ir en True si contiene algún email.\n",
        "- Teléfono: debe ir en True si contiene algún teléfono. Vamos a suponer celulares de argentina.\n",
        "- Tarjeta de crédito: debe ir en True si contiene algúna tarjeta de crédito.\n"
      ]
    },
    {
      "cell_type": "code",
      "execution_count": null,
      "metadata": {
        "id": "dmBnd8F2fWKJ"
      },
      "outputs": [],
      "source": [
        "import re\n",
        "# yyyy-mm-dd\n",
        "patron = re.compile(r\"(\\d{4}|\\d{2})-(0[1-9]|1[0-2]|\\d)-(\\d|0[1-9]|[12]\\d|3[01])$\")\n",
        "fecha_1 = df_sp[\"Texto\"].apply(lambda texto: len(re.findall(patron, texto)) > 0)\n",
        "# dd/mm/yyyy\n",
        "patron = re.compile(r\"(\\d|0[1-9]|[12]\\d|3[01])/(0[1-9]|1[0-2]|\\d)/(\\d{4}|\\d{2})$\")\n",
        "fecha_2 = df_sp[\"Texto\"].apply(lambda texto: len(re.findall(patron, texto)) > 0)\n",
        "# mm/dd/yyyy\n",
        "patron = re.compile(r\"(0[1-9]|1[0-2]|\\d)/(\\d|0[1-9]|[12]\\d|3[01])/(\\d{4}|\\d{2})$\")\n",
        "fecha_3 = df_sp[\"Texto\"].apply(lambda texto: len(re.findall(patron, texto)) > 0)\n",
        "# dd-mm-yyyy\n",
        "patron = re.compile(r\"(\\d|0[1-9]|[12]\\d|3[01])-(0[1-9]|1[0-2]|\\d)-(\\d{4}|\\d{2})$\")\n",
        "fecha_4 = df_sp[\"Texto\"].apply(lambda texto: len(re.findall(patron, texto)) > 0)\n",
        "# mm-dd-yyyy\n",
        "patron = re.compile(r\"(0[1-9]|1[0-2]|\\d)-(\\d|0[1-9]|[12]\\d|3[01])-(\\d{4}|\\d{2})$\")\n",
        "fecha_5 = df_sp[\"Texto\"].apply(lambda texto: len(re.findall(patron, texto)) > 0)\n",
        "df_sp[\"Fecha\"] = fecha_1 | fecha_2 | fecha_3 | fecha_4 | fecha_5\n",
        "\n",
        "\n",
        "patron = re.compile(r\"^\\w+((\\.|-|_)?\\w+)*@\\w+((\\.|-)?\\w+)*(\\.\\w{2,4})+$\")\n",
        "df_sp[\"Email\"] = df_sp[\"Texto\"].apply(lambda texto: len(re.findall(patron, texto)) > 0)\n",
        "\n",
        "# +(xxx)-xxx-xxxxxxx\n",
        "patron = re.compile(r\"^[\\+]?[(]?[0-9]{3}[)]?[-\\s\\.]?[0-9]{3}[-\\s\\.]?[0-9]{5,7}$\")\n",
        "df_sp[\"Telefono\"] = df_sp[\"Texto\"].apply(lambda texto: len(re.findall(patron, texto)) > 0)\n",
        "\n",
        "patron = re.compile(r\"(^4[0-9]{12}(?:[0-9]{3})?$)|(^(?:5[1-5][0-9]{2}|222[1-9]|22[3-9][0-9]|2[3-6][0-9]{2}|27[01][0-9]|2720)[0-9]{12}$)|(3[47][0-9]{13})|(^3(?:0[0-5]|[68][0-9])[0-9]{11}$)|(^6(?:011|5[0-9]{2})[0-9]{12}$)|(^(?:2131|1800|35\\d{3})\\d{11}$)\")\n",
        "df_sp[\"Tarjeta\"] = df_sp[\"Texto\"].apply(lambda texto: len(re.findall(patron, texto)) > 0)\n",
        "\n",
        "# https://ihateregex.io/\n",
        "df_sp"
      ]
    }
  ],
  "metadata": {
    "colab": {
      "provenance": [],
      "include_colab_link": true
    },
    "kernelspec": {
      "display_name": "Python 3",
      "name": "python3"
    },
    "language_info": {
      "name": "python"
    }
  },
  "nbformat": 4,
  "nbformat_minor": 0
}