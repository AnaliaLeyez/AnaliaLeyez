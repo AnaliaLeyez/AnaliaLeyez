{
  "nbformat": 4,
  "nbformat_minor": 0,
  "metadata": {
    "colab": {
      "provenance": [],
      "toc_visible": true,
      "include_colab_link": true
    },
    "kernelspec": {
      "name": "python3",
      "display_name": "Python 3"
    },
    "language_info": {
      "name": "python"
    }
  },
  "cells": [
    {
      "cell_type": "markdown",
      "metadata": {
        "id": "view-in-github",
        "colab_type": "text"
      },
      "source": [
        "<a href=\"https://colab.research.google.com/github/AnaliaLeyez/AnaliaLeyez/blob/main/Copia_de_u4_agrupar.ipynb\" target=\"_parent\"><img src=\"https://colab.research.google.com/assets/colab-badge.svg\" alt=\"Open In Colab\"/></a>"
      ]
    },
    {
      "cell_type": "markdown",
      "source": [
        "El Análisis Exploratorio de Datos es una etapa clave dentro de un proyecto de Ciencia de Datos. Su objetivo principal es entender los datos antes de aplicar\n",
        "*modelos, pruebas estadísticas o algoritmos de aprendizaje automático.*\n",
        "\n",
        "***Es importante porque:***\n",
        "\n",
        "- Permite detectar patrones y relaciones entre variables.\n",
        "\n",
        "- Ayuda a identificar valores atípicos (outliers) o datos faltantes.\n",
        "\n",
        "- Facilita resumir la información de forma clara (medias, medianas, conteos, distribuciones).\n",
        "\n",
        "- Nos orienta para decidir qué transformaciones o agrupaciones aplicar.\n",
        "\n",
        "**Pasos típicos en el EDA**\n",
        "\n",
        "- 1.Inspección inicial de los datos: ver estructura, columnas, tipos de variables.\n",
        "\n",
        "- 2.Resumen estadístico: medidas como media, mediana, moda, conteos y proporciones.\n",
        "\n",
        "- 3.Agrupaciones y segmentaciones: analizar subconjuntos de datos según una categoría (ejemplo: premios Nobel por continente, género, categoría, etc.).\n",
        "\n",
        "- 4.Visualización: gráficos que muestran distribuciones y comparaciones.\n"
      ],
      "metadata": {
        "id": "39_sUk7vb_iF"
      }
    },
    {
      "cell_type": "markdown",
      "source": [
        "## Unidad 4 - Agrupar\n",
        "\n",
        "Basada en los los libros:\n",
        "- Capitulo 10 del libro Python for Data Analysis\n",
        "- Capitulo 3 del libro Python Data Science Handbook"
      ],
      "metadata": {
        "id": "-EzxJisc_XlZ"
      }
    },
    {
      "cell_type": "markdown",
      "source": [
        "# Inicialización de dependencias"
      ],
      "metadata": {
        "id": "1jZK4jP8_cTU"
      }
    },
    {
      "cell_type": "code",
      "execution_count": null,
      "metadata": {
        "id": "FpgDJKIu_GPF"
      },
      "outputs": [],
      "source": [
        "# import paquetes\n",
        "import numpy as np\n",
        "import pandas as pd\n",
        "import matplotlib.pyplot as plt\n",
        "\n",
        "\n",
        "# options numpy\n",
        "np.random.seed(12345)\n",
        "\n",
        "pd.set_option('display.min_rows', 30)\n",
        "pd.set_option('display.max_rows', 100)\n"
      ]
    },
    {
      "cell_type": "markdown",
      "source": [
        "Datos de premios nobel: https://www.kaggle.com/datasets/imdevskp/nobel-prize/"
      ],
      "metadata": {
        "id": "Vh6jdrDO_8ca"
      }
    },
    {
      "cell_type": "markdown",
      "source": [
        "### Descargo el archivo desde Kaggle\n",
        "\n",
        "**Nota:**  \n",
        "Es posible que la celda a continuacion arroje un error, como \"solucion\", se debe reejecutar varias veces hasta que se visualice el archivo nobel_prize_v9.csv\n",
        "\n",
        "\n"
      ],
      "metadata": {
        "id": "RIYASukNPn6v"
      }
    },
    {
      "cell_type": "code",
      "source": [
        "import kagglehub\n",
        "import os\n",
        "\n",
        "# Seteo Variable de entorno KAGGLEHUB_CACHE, donde se descargara el archivo\n",
        "os.environ[\"KAGGLEHUB_CACHE\"] = \"/content\"\n",
        "\n",
        "# Download latest version\n",
        "path = kagglehub.dataset_download(\"imdevskp/nobel-prize\")\n",
        "\n",
        "print(\"Path to dataset files:\", path)\n",
        "# lo muevo al directorio de trabajo\n",
        "!cp -r {path} .\n",
        "## muevo el archivo descargado y al mismo tiempo renombro el mismo\n",
        "!cp /content/nobel-prize/complete.csv /content/nobel_prize_v9.csv\n",
        "print(\"archivo /content/nobel_prize_v9.csv disponible\")\n",
        "\n"
      ],
      "metadata": {
        "id": "6RJ16aI4PeTb"
      },
      "execution_count": null,
      "outputs": []
    },
    {
      "cell_type": "code",
      "source": [
        "nobel_complete = pd.read_csv(\"nobel_prize_v9.csv\")"
      ],
      "metadata": {
        "id": "1xIORaeV_YqV"
      },
      "execution_count": null,
      "outputs": []
    },
    {
      "cell_type": "code",
      "source": [
        "nobel_complete"
      ],
      "metadata": {
        "id": "ew6WGRAjFJ00"
      },
      "execution_count": null,
      "outputs": []
    },
    {
      "cell_type": "markdown",
      "source": [
        "# 1.Inspección inicial del dataset Nobel"
      ],
      "metadata": {
        "id": "YceoyPGujj98"
      }
    },
    {
      "cell_type": "code",
      "source": [
        "#Información general de las columnas\n",
        "nobel_complete.info()"
      ],
      "metadata": {
        "id": "YbRL8JESjqSp"
      },
      "execution_count": null,
      "outputs": []
    },
    {
      "cell_type": "code",
      "source": [
        "#Cantidad de Filas y columnas\n",
        "nobel_complete.shape"
      ],
      "metadata": {
        "id": "s-duHoHyVjQy"
      },
      "execution_count": null,
      "outputs": []
    },
    {
      "cell_type": "code",
      "source": [
        "# crea un nuevo DataFrame llamado 'nobel', solo con algunas columnas\n",
        "nobel = nobel_complete[['awardYear', 'category', 'prizeAmount', 'prizeAmountAdjusted', 'name', 'gender', 'birth_continent']]\n",
        "\n",
        "# Sobrescribimos los nombres de columnas directamente\n",
        "nobel.columns = ['Año', 'Categoría', 'Monto_Premio',\n",
        "                 'Monto_Premio_Ajustado', 'Nombre', 'Género', 'Continente_Nacimiento']\n",
        "nobel.info()"
      ],
      "metadata": {
        "id": "AMEW8PpBFQsu"
      },
      "execution_count": null,
      "outputs": []
    },
    {
      "cell_type": "code",
      "source": [
        "# Resumen numérico\n",
        "nobel.describe()"
      ],
      "metadata": {
        "id": "Zy1g7Xiv7Mgv"
      },
      "execution_count": null,
      "outputs": []
    },
    {
      "cell_type": "code",
      "source": [
        "nobel"
      ],
      "metadata": {
        "id": "iuHkH2SQFXal"
      },
      "execution_count": null,
      "outputs": []
    },
    {
      "cell_type": "code",
      "source": [
        "#Nuevos nombres de las columnas\n",
        "nobel.columns"
      ],
      "metadata": {
        "id": "lP8rfBTylH14"
      },
      "execution_count": null,
      "outputs": []
    },
    {
      "cell_type": "code",
      "source": [
        "#Tipos de datos de cada columna\n",
        "# verificar si algo que debería ser numérico está cargado como texto\n",
        "nobel.dtypes"
      ],
      "metadata": {
        "id": "ieRWojBslrb3"
      },
      "execution_count": null,
      "outputs": []
    },
    {
      "cell_type": "markdown",
      "source": [
        "#2.Resumen estadístico"
      ],
      "metadata": {
        "id": "cn8R67EHxDhs"
      }
    },
    {
      "cell_type": "markdown",
      "source": [
        "##Medidas de tendencia central"
      ],
      "metadata": {
        "id": "Grvmk8OQ61Ju"
      }
    },
    {
      "cell_type": "code",
      "source": [
        "# Media (promedio)\n",
        "nobel[\"Monto_Premio\"].mean().round(2)"
      ],
      "metadata": {
        "id": "RcUXo70fxa7r"
      },
      "execution_count": null,
      "outputs": []
    },
    {
      "cell_type": "code",
      "source": [
        "\n",
        "# Mediana (valor central)\n",
        "nobel[\"Monto_Premio\"].median()"
      ],
      "metadata": {
        "id": "QB9DeKDOxx52"
      },
      "execution_count": null,
      "outputs": []
    },
    {
      "cell_type": "code",
      "source": [
        "# Moda (valor más frecuente)\n",
        "nobel[\"Categoría\"].mode()"
      ],
      "metadata": {
        "id": "M4D7t3cVx34z"
      },
      "execution_count": null,
      "outputs": []
    },
    {
      "cell_type": "markdown",
      "source": [
        "Analisis:\n",
        "- En promedio, el monto del premio Nobel del ronda los 3.460.596, pero hay que tener en cuenta que la media es sensible a valores extremos. Si en algunos años el monto fue muy alto (o muy bajo), la media se “arrastra” hacia esos valores.\n",
        "- La mediana dice que, si ordenamos todos los montos de menor a mayor, el valor del medio es 700.000.\n",
        "Pero, como la mediana es mucho menor que la media, significa que hay valores muy grandes que están inflando el promedio.\n",
        "- La categoría más frecuente de premios Nobel es Fisiología o Medicina."
      ],
      "metadata": {
        "id": "eSZPTyZt0jKY"
      }
    },
    {
      "cell_type": "markdown",
      "source": [
        "##Medidas de dispersión"
      ],
      "metadata": {
        "id": "sRglvYzc6xBu"
      }
    },
    {
      "cell_type": "code",
      "source": [
        "# Valor mínimo y máximo\n",
        "nobel[\"Monto_Premio\"].min(), nobel[\"Monto_Premio\"].max()"
      ],
      "metadata": {
        "id": "D22SH_Vw18o7"
      },
      "execution_count": null,
      "outputs": []
    },
    {
      "cell_type": "code",
      "source": [
        "# Desviación estándar\n",
        "#nobel[\"Monto_Premio\"].std()\n",
        "round(nobel[\"Monto_Premio\"].std(), 2)"
      ],
      "metadata": {
        "id": "XzR_e4ui2MYV"
      },
      "execution_count": null,
      "outputs": []
    },
    {
      "cell_type": "code",
      "source": [
        "# Rango (max - min)\n",
        "nobel[\"Monto_Premio\"].max() - nobel[\"Monto_Premio\"].min()"
      ],
      "metadata": {
        "id": "Z8iPWY_02PVW"
      },
      "execution_count": null,
      "outputs": []
    },
    {
      "cell_type": "markdown",
      "source": [
        "Analisis:\n",
        "- Teniendo en cuenta que el monto mínimo es de 114.935 y corresponde a uno de los premios más bajos en la historia y el monto máximo es de 10.000.000 más adaptado a los últimos años, podemos ver cómo el monto del Nobel fue cambiando drásticamente a lo largo del tiempo.\n",
        "- La desviación estándar es 4.014.529 bastante grande, lo que indica que hay alta variabilidad en los montos de los premios.\n",
        "- El rango (9.885.065) es casi igual al máximo (10.000.000) lo que confirma la presencia de valores extremos. por que se observa que entre el premio más bajo y el más alto hay una diferencia enorme."
      ],
      "metadata": {
        "id": "zofVYK_N4eJ8"
      }
    },
    {
      "cell_type": "markdown",
      "source": [
        "##Conteos y proporciones de categorías"
      ],
      "metadata": {
        "id": "Yl-vRxgl6kno"
      }
    },
    {
      "cell_type": "markdown",
      "source": [
        "###Cantidad de valores únicos con nunique()"
      ],
      "metadata": {
        "id": "ji-7M2iu-g62"
      }
    },
    {
      "cell_type": "code",
      "source": [
        "# nunique() trae, cantidad de valores únicos por cada columna\n",
        "nobel.nunique()"
      ],
      "metadata": {
        "id": "XbdtnsSImTk4"
      },
      "execution_count": null,
      "outputs": []
    },
    {
      "cell_type": "markdown",
      "source": [
        "### Cuales son los valores únicos de una columna unique()\n",
        "trae, todos los valores únicos que existen en esa columna"
      ],
      "metadata": {
        "id": "Hzvper1F-tmi"
      }
    },
    {
      "cell_type": "code",
      "source": [
        "# que categorias hay?\n",
        "nobel[\"Categoría\"].unique()"
      ],
      "metadata": {
        "id": "bkgRTL7RmRfk"
      },
      "execution_count": null,
      "outputs": []
    },
    {
      "cell_type": "markdown",
      "source": [
        "### Frecuencia de cada Valor Unico con value_counts()\n",
        " cuenta la frecuencia de cada valor único que aparecede cada fila de una columna"
      ],
      "metadata": {
        "id": "_UjiimpY98JP"
      }
    },
    {
      "cell_type": "code",
      "source": [
        "# cuantos premios hay de cada categoria?\n",
        "nobel[\"Categoría\"].value_counts()"
      ],
      "metadata": {
        "id": "M0dcbnICo8OI"
      },
      "execution_count": null,
      "outputs": []
    },
    {
      "cell_type": "markdown",
      "source": [
        "###Ordenar\n",
        "de otra forma (ascendente) con **sort_values()**\n",
        "\n"
      ],
      "metadata": {
        "id": "9ENJTAoB9gBG"
      }
    },
    {
      "cell_type": "code",
      "source": [
        "# ¿cuál es la categoría con más y con menos premios?\n",
        "nobel[\"Categoría\"].value_counts().sort_values()"
      ],
      "metadata": {
        "id": "rhjrLsFJ8y1C"
      },
      "execution_count": null,
      "outputs": []
    },
    {
      "cell_type": "markdown",
      "source": [
        "Analisis:\n",
        "- Nunique() mostró que hay 6 categorías distintas de premios Nobel: Economic Sciences, Physics, Chemistry, Peace, Physiology or Medicine, Literature.\n",
        "- utilizando sort_values(), para ordenar las categorías, podemos ver que los más premiados son Fisiología o Medicina (219), seguida por Física (213), y Ciencias Económicas (84) tiene el menor número."
      ],
      "metadata": {
        "id": "nP7LxVhuBwdI"
      }
    },
    {
      "cell_type": "markdown",
      "source": [
        "#3.Agrupaciones y segmentaciones"
      ],
      "metadata": {
        "id": "SNcsDzHDCsPX"
      }
    },
    {
      "cell_type": "markdown",
      "source": [
        "### Agrupacion segun valores Unicos con groupby\n",
        "agrupa datos basándose en los valores únicos que se encuentran en la columna."
      ],
      "metadata": {
        "id": "-qbZovgCD7ya"
      }
    },
    {
      "cell_type": "code",
      "source": [
        "# \"Agrupá las filas del DataFrame nobel según los valores de la columna Categoría.\"\n",
        "# Todavia no calcula nada\n",
        "grouped = nobel.groupby(\"Categoría\")\n"
      ],
      "metadata": {
        "id": "2IwA0T7uFk_M"
      },
      "execution_count": null,
      "outputs": []
    },
    {
      "cell_type": "code",
      "source": [
        "#la agrupación se ha realizado correctamente\n",
        "#grouped contiene los datos organizados por la columna \"categoría\"\n",
        "grouped"
      ],
      "metadata": {
        "id": "MLE2HYysGEPq"
      },
      "execution_count": null,
      "outputs": []
    },
    {
      "cell_type": "code",
      "source": [
        "#vista interna de cómo Pandas organizó las filas en cada grupo.\n",
        "grouped.indices"
      ],
      "metadata": {
        "id": "fQ0IKykxGFjl"
      },
      "execution_count": null,
      "outputs": []
    },
    {
      "cell_type": "code",
      "source": [
        "# ¿Cuantos grupos se han creado?\n",
        "# len, cuenta número de categorías únicas que existen en la columna\n",
        "print(len(grouped))"
      ],
      "metadata": {
        "id": "E1taJ5kQGL4W",
        "colab": {
          "base_uri": "https://localhost:8080/"
        },
        "outputId": "81bf74f0-282d-4cca-9a79-2f88f937a083"
      },
      "execution_count": null,
      "outputs": [
        {
          "output_type": "stream",
          "name": "stdout",
          "text": [
            "6\n"
          ]
        }
      ]
    },
    {
      "cell_type": "code",
      "source": [
        "#Agrupacion por columnas:\n",
        "#value_counts() → más directo y rápido cuando solo querés frecuencias de una columna.\n",
        "#grouped.size() → más flexible, porque podés combinar con otras operaciones (mean(), sum()\n",
        "# tiene cada grupo (según la columna de agrupación).\n",
        "grouped.size()"
      ],
      "metadata": {
        "id": "iP04zbYdFq5L"
      },
      "execution_count": null,
      "outputs": []
    },
    {
      "cell_type": "code",
      "source": [
        "# grouped se puede iterar!\n",
        "# se itera por cada categoria y se muestran los 5 primeros\n",
        "#Cuando se itera un objeto groupby, Pandas devuelve pares:\n",
        "for (nombre, grupo) in grouped: # nombre-> valor de la columna (Categoría).\n",
        "    print(f'Head de {nombre}:') #grupo → sub-DF con todas las filas de ese grupo.\n",
        "    print(30*'-')\n",
        "    print(grupo.head(5), '\\n\\n')"
      ],
      "metadata": {
        "id": "5K9jMNuPGXyD"
      },
      "execution_count": null,
      "outputs": []
    },
    {
      "cell_type": "code",
      "source": [
        "#suma los valores de cada grupo, solo columnas que contienen datos numéricos\n",
        "grouped.sum(numeric_only=True)"
      ],
      "metadata": {
        "id": "gSn-R7qZNdrk"
      },
      "execution_count": null,
      "outputs": []
    },
    {
      "cell_type": "code",
      "source": [
        "# sumo los valores de una columna\n",
        "grouped[\"Monto_Premio\"].sum()"
      ],
      "metadata": {
        "id": "xwdVUkR4Npzz"
      },
      "execution_count": null,
      "outputs": []
    },
    {
      "cell_type": "code",
      "source": [
        "#¿Cuál fue el promedio de los montos de premios Nobel en cada categoría?”\n",
        "# dos columnas\n",
        "grouped[[\"Monto_Premio\", \"Monto_Premio_Ajustado\"]].mean()"
      ],
      "metadata": {
        "id": "7SF1NImZN0eT"
      },
      "execution_count": null,
      "outputs": []
    },
    {
      "cell_type": "markdown",
      "source": [
        "# Group en pandas (Funcionamiento)"
      ],
      "metadata": {
        "id": "wADkVn-vZ5ic"
      }
    },
    {
      "cell_type": "code",
      "source": [
        "dx = pd.DataFrame({\n",
        "    \"key\":list(\"ABCABC\"),\n",
        "    \"data\":[1,2,3,4,5,6]\n",
        "})\n",
        "\n",
        "dx\n"
      ],
      "metadata": {
        "id": "kgs8j1Tt3rH8"
      },
      "execution_count": null,
      "outputs": []
    },
    {
      "cell_type": "markdown",
      "source": [
        "### Conceptos: Split - Apply - Combine"
      ],
      "metadata": {
        "id": "4KV7ER6xA6uP"
      }
    },
    {
      "cell_type": "code",
      "source": [
        "#agrupamos se toma el DF y lo organiza en grupos basados en los valores únicos de la columna \"key\"\n",
        "# resuelve un objeto especial que contiene estos grupos\n",
        "dx_grouped = dx.groupby(\"key\")\n",
        "dx_grouped"
      ],
      "metadata": {
        "id": "rJvtdC_O_-HT"
      },
      "execution_count": null,
      "outputs": []
    },
    {
      "cell_type": "markdown",
      "source": [
        "![2023-05-07-215436_3286x1080_scrot.png](data:image/png;base64,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)"
      ],
      "metadata": {
        "id": "pRDSEXys3Z--"
      }
    },
    {
      "cell_type": "markdown",
      "source": [
        "\n",
        "- Split: Pandas corta el DataFrame en pedacitos (por Categoría).\n",
        "\n",
        "- Apply: A cada pedacito le aplica una función (ej: suma).\n",
        "\n",
        "- Combine: Junta los resultados en una nueva tabla lista para analizar."
      ],
      "metadata": {
        "id": "ghdIZyBCSyfe"
      }
    },
    {
      "cell_type": "code",
      "source": [
        "#en qué posiciones del DataFrame original están las filas de cada grupo.\n",
        "dx_grouped.indices\n"
      ],
      "metadata": {
        "id": "iRdvEXFmfsPM"
      },
      "execution_count": null,
      "outputs": []
    },
    {
      "cell_type": "code",
      "source": [
        "# aplicamos una funcion de agregacion sum()\n",
        "dx_grouped.sum()"
      ],
      "metadata": {
        "id": "tPSmBvqw_DiS"
      },
      "execution_count": null,
      "outputs": []
    },
    {
      "cell_type": "code",
      "source": [
        "dx.groupby(\"key\").sum()"
      ],
      "metadata": {
        "id": "QdqfZC3PZyJl"
      },
      "execution_count": null,
      "outputs": []
    },
    {
      "cell_type": "markdown",
      "source": [
        "# Agrupar y agregar"
      ],
      "metadata": {
        "id": "VmvQ7bvdIGas"
      }
    },
    {
      "cell_type": "markdown",
      "source": [
        "Pandas permite agrupar, por:\n",
        "\n",
        "* un nombre o varios nombres de columnas\n",
        "* lista de valores,\n",
        "* serie\n",
        "* un diccionario\n",
        "* una funcion\n"
      ],
      "metadata": {
        "id": "nqWxYdDAJQ21"
      }
    },
    {
      "cell_type": "code",
      "source": [
        "#DF para ejemplo\n",
        "df1 = pd.DataFrame({\"key1\" : [\"a\", \"a\", \"a\", \"a\", None, \"b\", \"b\", \"b\", \"b\", \"a\", None],\n",
        "                   \"key2\" : pd.Series([1, 2, 1, 2, 1, 2, 1, 1, 2, None, 1], dtype=\"Int64\"),\n",
        "                   \"data1\" : np.random.standard_normal(11),\n",
        "                   \"data2\" : np.random.standard_normal(11)})\n",
        "df1"
      ],
      "metadata": {
        "id": "w_r0GluPIIao"
      },
      "execution_count": null,
      "outputs": []
    },
    {
      "cell_type": "code",
      "source": [
        "#Creamos el groupby segun los valores únicos de la columna \"key1\".\n",
        "#pero aún no se aplica ninguna operación\n",
        "df1.groupby(\"key1\")"
      ],
      "metadata": {
        "id": "gMW-Ne0ZJU1y"
      },
      "execution_count": null,
      "outputs": []
    },
    {
      "cell_type": "code",
      "source": [
        "df1.groupby(\"key1\").indices"
      ],
      "metadata": {
        "id": "XcAlst68bDok"
      },
      "execution_count": null,
      "outputs": []
    },
    {
      "cell_type": "code",
      "source": [
        "# Media de las columnas para cada valor único en \"key1\".\n",
        "df1.groupby(\"key1\").mean()"
      ],
      "metadata": {
        "id": "NXyizYd-JclK"
      },
      "execution_count": null,
      "outputs": []
    },
    {
      "cell_type": "markdown",
      "source": [
        "Cuando dropna se establece en False, los valores faltantes (None) en la columna, se consideran como un grupo separado."
      ],
      "metadata": {
        "id": "vDq_cZkQWMqm"
      }
    },
    {
      "cell_type": "code",
      "source": [
        "df1.groupby(\"key1\", dropna=False).mean()"
      ],
      "metadata": {
        "id": "QmGCJXFlWFTU"
      },
      "execution_count": null,
      "outputs": []
    },
    {
      "cell_type": "code",
      "source": [
        "# Media de columnas para cada combinación única de valores en \"key1\" y \"key2\"\n",
        "means_jg = df1.groupby([\"key1\", \"key2\"]).mean()\n",
        "means_jg"
      ],
      "metadata": {
        "id": "p6NRQUgdJijQ"
      },
      "execution_count": null,
      "outputs": []
    },
    {
      "cell_type": "code",
      "source": [
        "# Lo mismo pero sin guardarlo en la variable\n",
        "df1.groupby([\"key1\", \"key2\"]).mean()"
      ],
      "metadata": {
        "id": "Rn8qglcVJuXw"
      },
      "execution_count": null,
      "outputs": []
    },
    {
      "cell_type": "markdown",
      "source": [
        "## Agrupar con dict, listas o series.\n"
      ],
      "metadata": {
        "id": "Z-dUeohhKe4Z"
      }
    },
    {
      "cell_type": "code",
      "source": [
        "# creamos un ejemplo\n",
        "people = pd.DataFrame(np.random.standard_normal((5, 5)),\n",
        "                      columns=[\"a\", \"b\", \"c\", \"d\", \"e\"],\n",
        "                      index=[\"Joe\", \"Steve\", \"Wanda\", \"Jill\", \"Trey\"])\n",
        "people.iloc[2:3, [1, 2]] = np.nan # agregamos algunos NA\n",
        "people"
      ],
      "metadata": {
        "id": "HXINt4NIKgYb"
      },
      "execution_count": null,
      "outputs": []
    },
    {
      "cell_type": "code",
      "source": [
        "# Agrupa las filas segun el  diccionario grp_names y calcula la suma de los valores para cada grupo\n",
        "grp_names = {\"Joe\": \"AA\", \"Steve\": \"AA\", \"Wanda\": \"BB\", \"Jill\": \"BB\", \"Trey\": \"BB\"}\n",
        "gdict = people.groupby(grp_names) #Agrupa en 2 grupos (AA y BB) según el diccionario.\n",
        "gdict.sum()"
      ],
      "metadata": {
        "id": "iPYpnsxrKsxT"
      },
      "execution_count": null,
      "outputs": []
    },
    {
      "cell_type": "code",
      "source": [
        "#Agrupar segun lista\n",
        "df = pd.DataFrame({\n",
        "    \"Número\": [1, 2, 3, 4, 5],\n",
        "    \"Valor\":  [10, 20, 30, 40, 50]\n",
        "})\n",
        "print(df)"
      ],
      "metadata": {
        "id": "ScbIAHoync-D"
      },
      "execution_count": null,
      "outputs": []
    },
    {
      "cell_type": "code",
      "source": [
        "# Lista que dice a qué grupo pertenece cada fila\n",
        "ix = [\"Impar\", \"Par\", \"Impar\", \"Par\", \"Impar\"]\n",
        "\n",
        "# Agrupamos el DataFrame con esa lista\n",
        "g = df.groupby(ix)\n",
        "print(g.count())"
      ],
      "metadata": {
        "id": "Ek5VmbUWKz7O"
      },
      "execution_count": null,
      "outputs": []
    },
    {
      "cell_type": "markdown",
      "source": [
        "# Selección de columnas al agrupar\n",
        "\n",
        "Cuando usamos groupby en Pandas, el flujo mental es siempre:\n",
        "\n",
        "Split → Apply → Combine\n",
        "(dividir → aplicar función → combinar resultado)"
      ],
      "metadata": {
        "id": "G7URI7LAMNp9"
      }
    },
    {
      "cell_type": "code",
      "source": [
        "df1"
      ],
      "metadata": {
        "id": "e98DyUSjMOAQ"
      },
      "execution_count": null,
      "outputs": []
    },
    {
      "cell_type": "markdown",
      "source": [
        "1. Diferencia entre SeriesGroupBy y DataFrameGroupBy\n",
        "\n",
        "Cuando agrupamos, podemos elegir una sola columna o varias columnas:"
      ],
      "metadata": {
        "id": "5Q9AQJyufRpO"
      }
    },
    {
      "cell_type": "code",
      "source": [
        "# Una sola columna → SeriesGroupBy\n",
        "df1.groupby(\"key1\")[\"data1\"]"
      ],
      "metadata": {
        "id": "TTRe37tLfQzB"
      },
      "execution_count": null,
      "outputs": []
    },
    {
      "cell_type": "code",
      "source": [
        "# Varias columnas → DataFrameGroupBy\n",
        "df1.groupby(\"key1\")[[\"data1\",\"data2\"]]"
      ],
      "metadata": {
        "id": "Ns3Ic1FsfbeI"
      },
      "execution_count": null,
      "outputs": []
    },
    {
      "cell_type": "markdown",
      "source": [
        "¿Qué cambia?\n",
        "\n",
        "- SeriesGroupBy: resultado más simple (una Serie después de aplicar .sum(), .mean(), etc.).\n",
        "\n",
        "- DataFrameGroupBy: resultado tabular (sigue siendo DataFrame).\n"
      ],
      "metadata": {
        "id": "2Z0-HMEnfw-2"
      }
    },
    {
      "cell_type": "code",
      "source": [
        "#Ejemplo concreto\n",
        "df2 = pd.DataFrame({\n",
        "    \"key1\": [\"a\",\"a\",\"b\",\"b\"],\n",
        "    \"data1\": [1,2,3,4],\n",
        "    \"data2\": [5,6,7,8]\n",
        "})\n"
      ],
      "metadata": {
        "id": "WwwfLh08MO4s"
      },
      "execution_count": null,
      "outputs": []
    },
    {
      "cell_type": "code",
      "source": [
        "#Agrupamos una sola columna \"data1\" se obtiene una serie\n",
        "df2.groupby(\"key1\")[\"data1\"].sum()"
      ],
      "metadata": {
        "id": "7p-YMMUPT7jH"
      },
      "execution_count": null,
      "outputs": []
    },
    {
      "cell_type": "code",
      "source": [
        "# Agrupando varias columnas se obtiene un dataframe\n",
        "df2.groupby(\"key1\")[[\"data1\",\"data2\"]].sum()"
      ],
      "metadata": {
        "id": "qQAz3UCbMT_f"
      },
      "execution_count": null,
      "outputs": []
    },
    {
      "cell_type": "markdown",
      "source": [
        "# Aplicar: agg() / función de agregación\n",
        "El método .agg() te deja aplicar varias funciones a la vez"
      ],
      "metadata": {
        "id": "2hHk9V-PN1xS"
      }
    },
    {
      "cell_type": "code",
      "source": [
        "#Para cada grupo en key1, Pandas calcula los valores...\n",
        "df2.groupby(\"key1\")[[\"data1\",\"data2\"]].agg([\"min\",\"mean\",\"max\"])\n"
      ],
      "metadata": {
        "id": "6vawzKNrg61C"
      },
      "execution_count": null,
      "outputs": []
    },
    {
      "cell_type": "code",
      "source": [
        "#Funciones distintas por columna\n",
        "df2.groupby(\"key1\").agg({\n",
        "    \"data1\": \"min\",   # solo mínimo para data1\n",
        "    \"data2\": \"max\"    # solo máximo para data2\n",
        "})\n"
      ],
      "metadata": {
        "id": "-uIDJ5T9OCBN"
      },
      "execution_count": null,
      "outputs": []
    }
  ]
}