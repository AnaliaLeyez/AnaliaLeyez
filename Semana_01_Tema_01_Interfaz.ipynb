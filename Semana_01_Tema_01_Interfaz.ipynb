{
  "nbformat": 4,
  "nbformat_minor": 0,
  "metadata": {
    "colab": {
      "provenance": [],
      "include_colab_link": true
    },
    "kernelspec": {
      "name": "python3",
      "display_name": "Python 3"
    },
    "language_info": {
      "name": "python"
    }
  },
  "cells": [
    {
      "cell_type": "markdown",
      "metadata": {
        "id": "view-in-github",
        "colab_type": "text"
      },
      "source": [
        "<a href=\"https://colab.research.google.com/github/AnaliaLeyez/AnaliaLeyez/blob/main/Semana_01_Tema_01_Interfaz.ipynb\" target=\"_parent\"><img src=\"https://colab.research.google.com/assets/colab-badge.svg\" alt=\"Open In Colab\"/></a>"
      ]
    },
    {
      "cell_type": "markdown",
      "source": [
        "# Ejemplo 1\n",
        "\n",
        "## Ejemplo 2\n",
        "\n",
        "### Ejemplo 3\n",
        "\n",
        "# Ejemplo 4\n",
        "\n",
        "**negrita**\n",
        "\n",
        "__negrita__\n",
        "\n",
        "*cursiva*\n",
        "\n",
        "_cursiva_\n",
        "\n",
        "***negrita y cursiva***\n",
        "\n",
        "___negrita y cursiva___\n",
        "\n",
        "```\n",
        "$ ls\n",
        "```\n",
        "\n",
        "[Google](https://www.google.com)\n",
        "\n",
        "> Sangría 1\n",
        "\n",
        "> Sangría 2\n",
        "\n",
        "1. Elemento 1\n",
        "2. Elemento 2\n",
        "\n",
        "* Elemento 1\n",
        "* Elemento 2\n",
        "\n",
        "---\n",
        "\n",
        "Resaltar `texto`.\n",
        "\n",
        "| Columna 1 | Columna 2 |\n",
        "| --- | --- |\n",
        "| F1C1 | F1C2 |\n",
        "| F2C1 | F2C2 |\n",
        "| F3C1 | F3C2 |"
      ],
      "metadata": {
        "id": "u-lSePz-DPUy"
      }
    },
    {
      "cell_type": "code",
      "source": [
        "from google.colab import drive\n",
        "drive.mount('/content/drive')"
      ],
      "metadata": {
        "colab": {
          "base_uri": "https://localhost:8080/"
        },
        "id": "yeyEvlkHamR9",
        "outputId": "65ebc964-fc80-45df-cc7c-bca16046cc43"
      },
      "execution_count": null,
      "outputs": [
        {
          "output_type": "stream",
          "name": "stdout",
          "text": [
            "Mounted at /content/drive\n"
          ]
        }
      ]
    },
    {
      "cell_type": "markdown",
      "source": [
        "# Título\n",
        "*Sub*\n",
        "```\n",
        "print(\"hola mundo\")\n",
        "```\n",
        "\n",
        "`importante`\n",
        "\n",
        "\n",
        "---\n",
        "\n",
        "\n",
        "[Google](https://www.google.com)\n",
        "\n",
        "\n"
      ],
      "metadata": {
        "id": "7GmcfL5EZQ1P"
      }
    },
    {
      "cell_type": "code",
      "source": [
        "# no se ha ejecutado"
      ],
      "metadata": {
        "id": "u3g7metHCDBx"
      },
      "execution_count": null,
      "outputs": []
    },
    {
      "cell_type": "code",
      "source": [
        "# ese valor es el orden de ejecución"
      ],
      "metadata": {
        "id": "Bh_BGD6kCDP9"
      },
      "execution_count": null,
      "outputs": []
    },
    {
      "cell_type": "code",
      "source": [
        "print(\"hola\")"
      ],
      "metadata": {
        "colab": {
          "base_uri": "https://localhost:8080/"
        },
        "id": "uKC7OOwnCDsz",
        "outputId": "139bc925-f698-4d43-9db2-4f314784d20d"
      },
      "execution_count": null,
      "outputs": [
        {
          "output_type": "stream",
          "name": "stdout",
          "text": [
            "hola\n"
          ]
        }
      ]
    },
    {
      "cell_type": "markdown",
      "source": [
        "# Sección 1\n",
        "\n",
        "Comentarios"
      ],
      "metadata": {
        "id": "FAnM-W7Io9HT"
      }
    },
    {
      "cell_type": "markdown",
      "source": [
        "## Sub Sección 2\n",
        "\n",
        "Comentarios"
      ],
      "metadata": {
        "id": "27IzThjZpBpv"
      }
    },
    {
      "cell_type": "markdown",
      "source": [
        "### Sub Sección 3\n",
        "\n",
        "Comentarios"
      ],
      "metadata": {
        "id": "HG5zhiWfpF8b"
      }
    },
    {
      "cell_type": "markdown",
      "source": [
        "# Sección n"
      ],
      "metadata": {
        "id": "BnfUYEGTpN9a"
      }
    },
    {
      "cell_type": "code",
      "source": [
        "a = 10000"
      ],
      "metadata": {
        "id": "o6t9kLnHbOXr"
      },
      "execution_count": null,
      "outputs": []
    },
    {
      "cell_type": "code",
      "source": [
        "from google.colab import userdata\n",
        "print(userdata.get('api_key'))"
      ],
      "metadata": {
        "colab": {
          "base_uri": "https://localhost:8080/",
          "height": 280
        },
        "id": "mberMlV3b1Ek",
        "outputId": "d0abfe12-3d08-46a2-cabd-6f56dffefedf"
      },
      "execution_count": null,
      "outputs": [
        {
          "output_type": "error",
          "ename": "SecretNotFoundError",
          "evalue": "Secret api_key does not exist.",
          "traceback": [
            "\u001b[0;31m---------------------------------------------------------------------------\u001b[0m",
            "\u001b[0;31mSecretNotFoundError\u001b[0m                       Traceback (most recent call last)",
            "\u001b[0;32m<ipython-input-6-3986bd14a3cb>\u001b[0m in \u001b[0;36m<cell line: 0>\u001b[0;34m()\u001b[0m\n\u001b[1;32m      1\u001b[0m \u001b[0;32mfrom\u001b[0m \u001b[0mgoogle\u001b[0m\u001b[0;34m.\u001b[0m\u001b[0mcolab\u001b[0m \u001b[0;32mimport\u001b[0m \u001b[0muserdata\u001b[0m\u001b[0;34m\u001b[0m\u001b[0;34m\u001b[0m\u001b[0m\n\u001b[0;32m----> 2\u001b[0;31m \u001b[0mprint\u001b[0m\u001b[0;34m(\u001b[0m\u001b[0muserdata\u001b[0m\u001b[0;34m.\u001b[0m\u001b[0mget\u001b[0m\u001b[0;34m(\u001b[0m\u001b[0;34m'api_key'\u001b[0m\u001b[0;34m)\u001b[0m\u001b[0;34m)\u001b[0m\u001b[0;34m\u001b[0m\u001b[0;34m\u001b[0m\u001b[0m\n\u001b[0m",
            "\u001b[0;32m/usr/local/lib/python3.11/dist-packages/google/colab/userdata.py\u001b[0m in \u001b[0;36mget\u001b[0;34m(key)\u001b[0m\n\u001b[1;32m     66\u001b[0m     \u001b[0;32mraise\u001b[0m \u001b[0mTimeoutException\u001b[0m\u001b[0;34m(\u001b[0m\u001b[0mkey\u001b[0m\u001b[0;34m)\u001b[0m\u001b[0;34m\u001b[0m\u001b[0;34m\u001b[0m\u001b[0m\n\u001b[1;32m     67\u001b[0m   \u001b[0;32mif\u001b[0m \u001b[0;32mnot\u001b[0m \u001b[0mresp\u001b[0m\u001b[0;34m.\u001b[0m\u001b[0mget\u001b[0m\u001b[0;34m(\u001b[0m\u001b[0;34m'exists'\u001b[0m\u001b[0;34m,\u001b[0m \u001b[0;32mFalse\u001b[0m\u001b[0;34m)\u001b[0m\u001b[0;34m:\u001b[0m\u001b[0;34m\u001b[0m\u001b[0;34m\u001b[0m\u001b[0m\n\u001b[0;32m---> 68\u001b[0;31m     \u001b[0;32mraise\u001b[0m \u001b[0mSecretNotFoundError\u001b[0m\u001b[0;34m(\u001b[0m\u001b[0mkey\u001b[0m\u001b[0;34m)\u001b[0m\u001b[0;34m\u001b[0m\u001b[0;34m\u001b[0m\u001b[0m\n\u001b[0m\u001b[1;32m     69\u001b[0m   \u001b[0;32mif\u001b[0m \u001b[0;32mnot\u001b[0m \u001b[0mresp\u001b[0m\u001b[0;34m.\u001b[0m\u001b[0mget\u001b[0m\u001b[0;34m(\u001b[0m\u001b[0;34m'access'\u001b[0m\u001b[0;34m,\u001b[0m \u001b[0;32mFalse\u001b[0m\u001b[0;34m)\u001b[0m\u001b[0;34m:\u001b[0m\u001b[0;34m\u001b[0m\u001b[0;34m\u001b[0m\u001b[0m\n\u001b[1;32m     70\u001b[0m     \u001b[0;32mraise\u001b[0m \u001b[0mNotebookAccessError\u001b[0m\u001b[0;34m(\u001b[0m\u001b[0mkey\u001b[0m\u001b[0;34m)\u001b[0m\u001b[0;34m\u001b[0m\u001b[0;34m\u001b[0m\u001b[0m\n",
            "\u001b[0;31mSecretNotFoundError\u001b[0m: Secret api_key does not exist."
          ]
        }
      ]
    },
    {
      "cell_type": "code",
      "source": [
        "#@title # Carga de Datos\n",
        "#@markdown # Formulario para la Carga de Datos\n",
        "#@markdown ---\n",
        "\n",
        "raw_ = \"vacio\" #@param {type: \"raw\"}\n",
        "str_ = \"str\" #@param {type: \"string\"}\n",
        "int_ = 10 #@param {type: \"integer\"}\n",
        "float_ = 10.5 #@param {type: \"number\"}\n",
        "bool_ = True #@param {type: \"boolean\"}\n",
        "date_ = \"1990-01-29\" #@param {type: \"date\"}\n",
        "\n",
        "#@markdown ---\n",
        "slider = 40 #@param {type: \"slider\", min: 10, max: 50}\n",
        "dropdown = \"1\" #@param [\"1\", \"2\", \"3\", \"4\"]\n",
        "dropdown_input = \"5\" #@param [\"1\", \"2\", \"3\", \"4\"] {allow-input: true}"
      ],
      "metadata": {
        "id": "Ua7J8P1Y-q15"
      },
      "execution_count": null,
      "outputs": []
    },
    {
      "cell_type": "code",
      "source": [
        "print(f\"raw_: {raw_}\")\n",
        "print(f\"str_: {str_}\")\n",
        "print(f\"int_: {int_}\")\n",
        "print(f\"float_: {float_}\")\n",
        "print(f\"bool_: {bool_}\")\n",
        "print(f\"date_: {date_}\")\n",
        "print(f\"slider: {slider}\")\n",
        "print(f\"dropdown: {dropdown}\")\n",
        "print(f\"dropdown_input: {dropdown_input}\")"
      ],
      "metadata": {
        "colab": {
          "base_uri": "https://localhost:8080/"
        },
        "id": "eT2qQT-RBFC9",
        "outputId": "e3d115de-9e02-4242-cbfc-e574e6dd5026"
      },
      "execution_count": null,
      "outputs": [
        {
          "output_type": "stream",
          "name": "stdout",
          "text": [
            "raw_: vacio\n",
            "str_: str\n",
            "int_: 10\n",
            "float_: 10.5\n",
            "bool_: True\n",
            "date_: 1990-01-29\n",
            "slider: 40\n",
            "dropdown: 1\n",
            "dropdown_input: 5\n"
          ]
        }
      ]
    },
    {
      "cell_type": "markdown",
      "source": [
        "* Diferencia entre % y !\n",
        "* Montar y desmontar Google Drive\n",
        "* Descargar archivos\n"
      ],
      "metadata": {
        "id": "6cBbpbIIF3Hw"
      }
    },
    {
      "cell_type": "code",
      "source": [
        "!pwd"
      ],
      "metadata": {
        "colab": {
          "base_uri": "https://localhost:8080/"
        },
        "id": "lEm7kO7EOc7S",
        "outputId": "caae919e-cd61-46d3-a54b-ef749fa7fbfc"
      },
      "execution_count": null,
      "outputs": [
        {
          "output_type": "stream",
          "name": "stdout",
          "text": [
            "/content\n"
          ]
        }
      ]
    },
    {
      "cell_type": "code",
      "source": [
        "!cd /tmp && ls"
      ],
      "metadata": {
        "colab": {
          "base_uri": "https://localhost:8080/"
        },
        "id": "SsmTp1OnOO49",
        "outputId": "0a86c407-13aa-4e60-cf64-beb34cffc38e"
      },
      "execution_count": null,
      "outputs": [
        {
          "output_type": "stream",
          "name": "stdout",
          "text": [
            "colab_runtime.sock\n",
            "dap_multiplexer.a77e1b721326.root.log.INFO.20250320-235513.94\n",
            "dap_multiplexer.INFO\n",
            "debugger_17l24d3rw8\n",
            "initgoogle_syslog_dir.0\n",
            "language_service.a77e1b721326.root.log.INFO.20250320-235719.621\n",
            "language_service.INFO\n",
            "pyright-628-98x8S4nmBl11\n",
            "pyright-628-b5YXoZK4Zdla\n",
            "python-languageserver-cancellation\n"
          ]
        }
      ]
    },
    {
      "cell_type": "code",
      "source": [
        "!cd /tmp"
      ],
      "metadata": {
        "id": "35FCYwBZjcbw"
      },
      "execution_count": null,
      "outputs": []
    },
    {
      "cell_type": "code",
      "source": [
        "!ls"
      ],
      "metadata": {
        "colab": {
          "base_uri": "https://localhost:8080/"
        },
        "id": "VNYZS8OVjfBS",
        "outputId": "7ca1eeee-ff86-4ce6-97b3-d4a8098f07fd"
      },
      "execution_count": null,
      "outputs": [
        {
          "output_type": "stream",
          "name": "stdout",
          "text": [
            "sample_data\n"
          ]
        }
      ]
    },
    {
      "cell_type": "code",
      "source": [
        "!pwd"
      ],
      "metadata": {
        "colab": {
          "base_uri": "https://localhost:8080/"
        },
        "id": "ZcbkfE3CfOCW",
        "outputId": "60e6b94a-33c7-47ad-8816-0f5cac3fdfb4"
      },
      "execution_count": null,
      "outputs": [
        {
          "output_type": "stream",
          "name": "stdout",
          "text": [
            "/content\n"
          ]
        }
      ]
    },
    {
      "cell_type": "code",
      "source": [
        "%cd /tmp\n",
        "%ls"
      ],
      "metadata": {
        "colab": {
          "base_uri": "https://localhost:8080/"
        },
        "id": "pHZxOo__OQg2",
        "outputId": "651dffe9-9d90-4b04-fe7d-898d49766728"
      },
      "execution_count": null,
      "outputs": [
        {
          "output_type": "stream",
          "name": "stdout",
          "text": [
            "/tmp\n",
            "\u001b[0m\u001b[01;35mcolab_runtime.sock\u001b[0m=\n",
            "dap_multiplexer.a77e1b721326.root.log.INFO.20250320-235513.94\n",
            "\u001b[01;36mdap_multiplexer.INFO\u001b[0m@\n",
            "\u001b[01;35mdebugger_17l24d3rw8\u001b[0m=\n",
            "\u001b[01;34minitgoogle_syslog_dir.0\u001b[0m/\n",
            "language_service.a77e1b721326.root.log.INFO.20250320-235719.621\n",
            "\u001b[01;36mlanguage_service.INFO\u001b[0m@\n",
            "\u001b[01;34mpyright-628-98x8S4nmBl11\u001b[0m/\n",
            "\u001b[01;34mpyright-628-b5YXoZK4Zdla\u001b[0m/\n",
            "\u001b[01;34mpython-languageserver-cancellation\u001b[0m/\n"
          ]
        }
      ]
    },
    {
      "cell_type": "code",
      "source": [
        "!pwd"
      ],
      "metadata": {
        "colab": {
          "base_uri": "https://localhost:8080/"
        },
        "id": "rZX4JB1ePJTz",
        "outputId": "0db61fe6-31da-4db2-f47a-4b13c05a8dbf"
      },
      "execution_count": null,
      "outputs": [
        {
          "output_type": "stream",
          "name": "stdout",
          "text": [
            "/tmp\n"
          ]
        }
      ]
    },
    {
      "cell_type": "code",
      "source": [
        "%cd /content"
      ],
      "metadata": {
        "colab": {
          "base_uri": "https://localhost:8080/"
        },
        "id": "_btpMXp7PPCZ",
        "outputId": "2e00cffc-0942-4d4a-ca8b-bc21182318ff"
      },
      "execution_count": null,
      "outputs": [
        {
          "output_type": "stream",
          "name": "stdout",
          "text": [
            "/content\n"
          ]
        }
      ]
    },
    {
      "cell_type": "code",
      "source": [
        "from google.colab import drive"
      ],
      "metadata": {
        "id": "LN0ImfKcOQ2V"
      },
      "execution_count": null,
      "outputs": []
    },
    {
      "cell_type": "code",
      "source": [
        "drive.mount(\"/content/drive\")"
      ],
      "metadata": {
        "colab": {
          "base_uri": "https://localhost:8080/"
        },
        "id": "WMGN1eNKOROF",
        "outputId": "a7a710aa-3b65-46b3-ac57-c175798a4fa1"
      },
      "execution_count": null,
      "outputs": [
        {
          "output_type": "stream",
          "name": "stdout",
          "text": [
            "Mounted at /content/drive\n"
          ]
        }
      ]
    },
    {
      "cell_type": "code",
      "source": [
        "# !mkdir\n",
        "# %mkdir\n",
        "import os\n",
        "\n",
        "os.makedirs(\"/content/drive/MyDrive/Test\", exist_ok=True)\n"
      ],
      "metadata": {
        "id": "VbSJZtSEQOaq"
      },
      "execution_count": null,
      "outputs": []
    },
    {
      "cell_type": "code",
      "source": [
        "with open(\"/content/drive/MyDrive/Test/holamundo.txt\", 'w') as w:\n",
        "  w.write(\"Hola Mundo!!!!\")"
      ],
      "metadata": {
        "id": "G_dx1rIcQvUU"
      },
      "execution_count": null,
      "outputs": []
    },
    {
      "cell_type": "code",
      "source": [
        "with open(\"/content/drive/MyDrive/Test/holamundo.txt\") as r:\n",
        "  print(r.read())"
      ],
      "metadata": {
        "colab": {
          "base_uri": "https://localhost:8080/"
        },
        "id": "P_VHOveGQ_UQ",
        "outputId": "5378ef00-caec-4e75-a2a6-0f789a0a220f"
      },
      "execution_count": null,
      "outputs": [
        {
          "output_type": "stream",
          "name": "stdout",
          "text": [
            "Hola Mundo!!!!\n"
          ]
        }
      ]
    },
    {
      "cell_type": "code",
      "source": [
        "os.makedirs(\"/content/drive/MyDrive/python/\", exist_ok=True)\n",
        "!wget -O /content/drive/MyDrive/python/ejemplo.py https://filesamples.com/samples/code/py/sample3.py"
      ],
      "metadata": {
        "colab": {
          "base_uri": "https://localhost:8080/"
        },
        "id": "hI5MW95qRKNW",
        "outputId": "620ac265-9629-4b24-d7c7-33d6cd43b838"
      },
      "execution_count": null,
      "outputs": [
        {
          "output_type": "stream",
          "name": "stdout",
          "text": [
            "--2025-03-21 00:00:14--  https://filesamples.com/samples/code/py/sample3.py\n",
            "Resolving filesamples.com (filesamples.com)... 104.21.17.252, 172.67.178.244, 2606:4700:3035::6815:11fc, ...\n",
            "Connecting to filesamples.com (filesamples.com)|104.21.17.252|:443... connected.\n",
            "HTTP request sent, awaiting response... 200 OK\n",
            "Length: unspecified [application/octet-stream]\n",
            "Saving to: ‘/content/drive/MyDrive/python/ejemplo.py’\n",
            "\n",
            "/content/drive/MyDr     [ <=>                ]     338  --.-KB/s    in 0.001s  \n",
            "\n",
            "2025-03-21 00:00:15 (267 KB/s) - ‘/content/drive/MyDrive/python/ejemplo.py’ saved [338]\n",
            "\n"
          ]
        }
      ]
    },
    {
      "cell_type": "code",
      "source": [
        "drive.flush_and_unmount()"
      ],
      "metadata": {
        "id": "hi0I14ioQBKd"
      },
      "execution_count": null,
      "outputs": []
    },
    {
      "cell_type": "code",
      "source": [],
      "metadata": {
        "id": "VpSicv4og3vV"
      },
      "execution_count": null,
      "outputs": []
    }
  ]
}