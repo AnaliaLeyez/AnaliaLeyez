{
  "nbformat": 4,
  "nbformat_minor": 0,
  "metadata": {
    "colab": {
      "provenance": [],
      "include_colab_link": true
    },
    "kernelspec": {
      "name": "python3",
      "display_name": "Python 3"
    },
    "language_info": {
      "name": "python"
    }
  },
  "cells": [
    {
      "cell_type": "markdown",
      "metadata": {
        "id": "view-in-github",
        "colab_type": "text"
      },
      "source": [
        "<a href=\"https://colab.research.google.com/github/AnaliaLeyez/AnaliaLeyez/blob/main/Leyez_Analia_Semana_01_Practica_01.ipynb\" target=\"_parent\"><img src=\"https://colab.research.google.com/assets/colab-badge.svg\" alt=\"Open In Colab\"/></a>"
      ]
    },
    {
      "cell_type": "markdown",
      "source": [
        "# Práctica 001\n",
        "\n",
        "Relacionada a la creación de celdas y programación básica de python.\n",
        "\n",
        "Se deben corregir las celdas de tipo texto según las siguientes\n",
        "directivas:\n",
        "\n",
        "- Título: #\n",
        "- Resaltado: negrita\n",
        "- Código: sección de código\n",
        "\n",
        "`ANTES DE LEER LOS ENUNCIADOS Y RESOLVERLOS REALIZAR LAS CORRECIONES DE LAS CELDAS DE TIPO TEXTO`\n",
        "\n"
      ],
      "metadata": {
        "id": "7lnzhHZRzGkp"
      }
    },
    {
      "cell_type": "markdown",
      "source": [
        "# Ejercicio 01\n",
        "\n",
        "Crear un script con la suma de los **n primeros números naturales y mostrar dicha suma.**"
      ],
      "metadata": {
        "id": "8DeZ7SXu0vfR"
      }
    },
    {
      "cell_type": "code",
      "source": [
        "primeros_n_naturales = 75 #@param {type:\"integer\"}\n",
        "suma = 0\n",
        "if primeros_n_naturales>=0:\n",
        "  for i in range(1, primeros_n_naturales + 1):\n",
        "    suma += i\n",
        "  print(f\"la suma de los primeros {primeros_n_naturales} es, {suma}\")\n",
        "else:\n",
        "  print(\"el numero ingresado no es natural\")"
      ],
      "metadata": {
        "id": "k7t-2lKC3mEy",
        "colab": {
          "base_uri": "https://localhost:8080/"
        },
        "outputId": "cce402c5-c3af-4694-9b92-9e3791a257eb"
      },
      "execution_count": null,
      "outputs": [
        {
          "output_type": "stream",
          "name": "stdout",
          "text": [
            "la suma de los primeros 75 es, 2850\n"
          ]
        }
      ]
    },
    {
      "cell_type": "markdown",
      "source": [
        "# Ejercicio 02\n",
        "\n",
        "Crear un script con la suma de los **n primeros números naturales impares y mostrar dicha suma.**"
      ],
      "metadata": {
        "id": "pGtbL9dk2JSp"
      }
    },
    {
      "cell_type": "code",
      "source": [
        "primeros_n_impares = 3 #@param {type:\"integer\"}\n",
        "suma = 0\n",
        "if primeros_n_impares>=0:\n",
        "  for i in range(1, 2*primeros_n_impares + 1,2):\n",
        "    suma += i\n",
        "  print(f\"la suma de los primeros {primeros_n_impares} impares es, {suma}\")\n",
        "else:\n",
        "  print(\"el numero ingresado no es natural\")\n"
      ],
      "metadata": {
        "id": "XGFzGeAg3nIJ",
        "colab": {
          "base_uri": "https://localhost:8080/"
        },
        "outputId": "7a8be40e-8e49-4bd8-fe87-ad1ec0228f07"
      },
      "execution_count": null,
      "outputs": [
        {
          "output_type": "stream",
          "name": "stdout",
          "text": [
            "la suma de los primeros 3 impares es, 9\n"
          ]
        }
      ]
    },
    {
      "cell_type": "markdown",
      "source": [
        "# Ejercicio 03\n",
        "\n",
        "Crear un script para contar la cantidad de caracteres repetidos, tomar en cuenta que el texto posee mayúsculas y minúsculas. Se debe mostrar la\n",
        "**letra** y la **cantidad de veces que aparece en el texto**.\n"
      ],
      "metadata": {
        "id": "NctoAFVc391b"
      }
    },
    {
      "cell_type": "code",
      "source": [
        "'''\n",
        "Un especialista en machine learning es responsable de diseñar, construir y entrenar modelos de aprendizaje automático que permitan a las empresas tomar decisiones más informadas y eficientes. Estos especialistas deben ser expertos en matemáticas, estadística y programación, y deben tener un amplio conocimiento de los algoritmos y técnicas de aprendizaje automático. A continuación se detallan las principales tareas que realiza un especialista en machine learning:\n",
        "\n",
        "1 - Recopilación y preparación de datos: Los especialistas en machine learning deben recopilar y preparar grandes cantidades de datos que se utilizarán para entrenar modelos de aprendizaje automático. Esto puede implicar la limpieza y el procesamiento de datos para garantizar que sean precisos y estén en un formato adecuado para el análisis.\n",
        "\n",
        "2 - Desarrollo de modelos de aprendizaje automático: Los especialistas en machine learning deben seleccionar los algoritmos y técnicas de aprendizaje automático adecuados para el problema que están abordando. También deben ajustar y optimizar los modelos para mejorar su precisión y capacidad de generalización.\n",
        "\n",
        "3 - Implementación de modelos de aprendizaje automático: Una vez que se han desarrollado los modelos de aprendizaje automático, los especialistas en machine learning deben implementarlos en un sistema de producción para que puedan ser utilizados para tomar decisiones.\n",
        "\n",
        "4 - Monitoreo y ajuste de modelos: Los modelos de aprendizaje automático deben monitorearse y ajustarse continuamente para garantizar que sigan siendo precisos y relevantes. Los especialistas en machine learning deben estar atentos a los cambios en los datos y en el entorno empresarial que puedan afectar el rendimiento del modelo.\n",
        "\n",
        "5 - Comunicación de resultados: Los especialistas en machine learning deben ser capaces de comunicar de manera efectiva los resultados de sus modelos a otros miembros del equipo y a los clientes. Esto puede implicar la elaboración de informes, presentaciones y demostraciones de los modelos en acción.\n",
        "\n",
        "En resumen, un especialista en machine learning debe tener una sólida comprensión de los fundamentos matemáticos y estadísticos del aprendizaje automático, así como de las herramientas y técnicas de programación necesarias para implementar modelos de manera efectiva. Además, deben ser capaces de trabajar en equipo y comunicarse de manera efectiva para asegurar que los modelos de aprendizaje automático se utilicen de manera óptima en el entorno empresarial.\n",
        "'''"
      ],
      "metadata": {
        "id": "jU5rYetR3n9F"
      },
      "execution_count": null,
      "outputs": []
    },
    {
      "cell_type": "code",
      "source": [
        "texto=\"\"\"\n",
        "\n",
        "Un especialista en machine learning es responsable de diseñar, construir y entrenar modelos de aprendizaje automático que permitan a las empresas tomar decisiones más informadas y eficientes. Estos especialistas deben ser expertos en matemáticas, estadística y programación, y deben tener un amplio conocimiento de los algoritmos y técnicas de aprendizaje automático. A continuación se detallan las principales tareas que realiza un especialista en machine learning:\n",
        "\n",
        "1 - Recopilación y preparación de datos: Los especialistas en machine learning deben recopilar y preparar grandes cantidades de datos que se utilizarán para entrenar modelos de aprendizaje automático. Esto puede implicar la limpieza y el procesamiento de datos para garantizar que sean precisos y estén en un formato adecuado para el análisis.\n",
        "\n",
        "2 - Desarrollo de modelos de aprendizaje automático: Los especialistas en machine learning deben seleccionar los algoritmos y técnicas de aprendizaje automático adecuados para el problema que están abordando. También deben ajustar y optimizar los modelos para mejorar su precisión y capacidad de generalización.\n",
        "\n",
        "3 - Implementación de modelos de aprendizaje automático: Una vez que se han desarrollado los modelos de aprendizaje automático, los especialistas en machine learning deben implementarlos en un sistema de producción para que puedan ser utilizados para tomar decisiones.\n",
        "\n",
        "4 - Monitoreo y ajuste de modelos: Los modelos de aprendizaje automático deben monitorearse y ajustarse continuamente para garantizar que sigan siendo precisos y relevantes. Los especialistas en machine learning deben estar atentos a los cambios en los datos y en el entorno empresarial que puedan afectar el rendimiento del modelo.\n",
        "\n",
        "5 - Comunicación de resultados: Los especialistas en machine learning deben ser capaces de comunicar de manera efectiva los resultados de sus modelos a otros miembros del equipo y a los clientes. Esto puede implicar la elaboración de informes, presentaciones y demostraciones de los modelos en acción.\n",
        "\n",
        "En resumen, un especialista en machine learning debe tener una sólida comprensión de los fundamentos matemáticos y estadísticos del aprendizaje automático, así como de las herramientas y técnicas de programación necesarias para implementar modelos de manera efectiva. Además, deben ser capaces de trabajar en equipo y comunicarse de manera efectiva para asegurar que los modelos de aprendizaje automático se utilicen de manera óptima en el entorno empresarial.\n",
        "\"\"\"\n",
        "\n",
        "repeticiones={}\n",
        "for letra in texto:\n",
        "  if letra in repeticiones:\n",
        "    repeticiones[letra]+=1\n",
        "  else:\n",
        "    repeticiones[letra]=1\n",
        "\n",
        "# ordeno los caracteres y muestro con la salvedad del enter y el espacio\n",
        "for caracter in sorted(repeticiones.keys()):\n",
        "  if caracter == \"\\n\":\n",
        "    print(f\"enter: {repeticiones[caracter]}\")\n",
        "  elif caracter == \" \":\n",
        "    print(f\"espacio: {repeticiones[caracter]}\")\n",
        "  else:\n",
        "    print(f\"{caracter}: {repeticiones[caracter]}\")\n"
      ],
      "metadata": {
        "colab": {
          "base_uri": "https://localhost:8080/"
        },
        "collapsed": true,
        "id": "hvw7AAlJY_tH",
        "outputId": "5ae445d3-091c-4561-b415-f3f5b51905fc"
      },
      "execution_count": null,
      "outputs": [
        {
          "output_type": "stream",
          "name": "stdout",
          "text": [
            "enter: 15\n",
            "espacio: 359\n",
            ",: 8\n",
            "-: 5\n",
            ".: 13\n",
            "1: 1\n",
            "2: 1\n",
            "3: 1\n",
            "4: 1\n",
            "5: 1\n",
            ":: 6\n",
            "A: 2\n",
            "C: 1\n",
            "D: 1\n",
            "E: 4\n",
            "I: 1\n",
            "L: 5\n",
            "M: 1\n",
            "R: 1\n",
            "T: 1\n",
            "U: 2\n",
            "a: 239\n",
            "b: 19\n",
            "c: 95\n",
            "d: 107\n",
            "e: 296\n",
            "f: 9\n",
            "g: 18\n",
            "h: 10\n",
            "i: 152\n",
            "j: 15\n",
            "l: 92\n",
            "m: 87\n",
            "n: 158\n",
            "o: 147\n",
            "p: 71\n",
            "q: 12\n",
            "r: 129\n",
            "s: 163\n",
            "t: 106\n",
            "u: 54\n",
            "v: 5\n",
            "x: 1\n",
            "y: 21\n",
            "z: 19\n",
            "á: 17\n",
            "é: 5\n",
            "í: 3\n",
            "ñ: 1\n",
            "ó: 15\n"
          ]
        }
      ]
    },
    {
      "cell_type": "markdown",
      "source": [
        "# Ejercicio 04\n",
        "\n",
        "Crear un script con **n filas donde se muestre la siguientes estructura**."
      ],
      "metadata": {
        "id": "RqHGu4c87TDZ"
      }
    },
    {
      "cell_type": "code",
      "source": [
        "'''\n",
        "1\n",
        "\n",
        "1 1\n",
        "\n",
        "1 2 1\n",
        "\n",
        "1 3 3 1\n",
        "\n",
        "1 4 6 4 1\n",
        "\n",
        ".....\n",
        "'''\n"
      ],
      "metadata": {
        "id": "Sdp_wPtr3sWi"
      },
      "execution_count": null,
      "outputs": []
    },
    {
      "cell_type": "markdown",
      "source": [
        "# Ejercicio 05\n",
        "\n",
        "Crear un script para verificar si un texto es palíndromo o no. Para esta comprobación no se deben tener en cuenta los espacios en blanco.\n",
        "\n",
        "**Es palíndromo**\n",
        "```\n",
        "eva usaba rimel y le miraba suave\n",
        "```\n",
        "\n",
        "**No es palíndromo**\n",
        "```\n",
        "puro chile es tu cielo azulado\n",
        "```\n",
        "\n"
      ],
      "metadata": {
        "id": "hj1yCfGa7205"
      }
    },
    {
      "cell_type": "markdown",
      "source": [
        "# Ejercicio 06\n",
        "\n",
        "Crear un script que dado un texto me informe la cantidad de repeticiones de cada caracter con soporte key sentive. Luego cifrarlo con las cantidades totales.\n",
        "\n",
        "```\n",
        "Por ejemplo: ala\n",
        "\n",
        "  a = 2\n",
        "\n",
        "  l = 1\n",
        "\n",
        "  212 (ala)\n",
        "  ```"
      ],
      "metadata": {
        "id": "UGtwrdLy8_ZL"
      }
    },
    {
      "cell_type": "code",
      "source": [],
      "metadata": {
        "id": "bWs91zEr3vTp"
      },
      "execution_count": null,
      "outputs": []
    }
  ]
}