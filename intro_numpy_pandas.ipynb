{
  "nbformat": 4,
  "nbformat_minor": 0,
  "metadata": {
    "colab": {
      "provenance": [],
      "toc_visible": true,
      "include_colab_link": true
    },
    "kernelspec": {
      "name": "python3",
      "display_name": "Python 3"
    },
    "language_info": {
      "name": "python"
    }
  },
  "cells": [
    {
      "cell_type": "markdown",
      "metadata": {
        "id": "view-in-github",
        "colab_type": "text"
      },
      "source": [
        "<a href=\"https://colab.research.google.com/github/AnaliaLeyez/AnaliaLeyez/blob/main/intro_numpy_pandas.ipynb\" target=\"_parent\"><img src=\"https://colab.research.google.com/assets/colab-badge.svg\" alt=\"Open In Colab\"/></a>"
      ]
    },
    {
      "cell_type": "markdown",
      "source": [
        "# Introducción a Python, Numpy y Pandas"
      ],
      "metadata": {
        "id": "p79WJryOgIz2"
      }
    },
    {
      "cell_type": "markdown",
      "source": [
        "**NumPy** : es la biblioteca fundamental para el computo numerico en Python, que proporciona soporte para arreglos multidimensionales y funciones matemáticas optimizadas."
      ],
      "metadata": {
        "id": "bqYEOQ-u0Jo9"
      }
    },
    {
      "cell_type": "markdown",
      "source": [
        "**Pandas:** es una biblioteca de análisis y manipulación de datos que facilita el trabajo con estructuras como DataFrames y Series.\n",
        "\n",
        "NumPy proporciona la base para la computación numérica eficiente, mientras que Pandas ofrece herramientas de alto nivel para el análisis y la manipulación de datos estructurados. Estas herramientas juntas son esenciales para cualquier científico de datos."
      ],
      "metadata": {
        "id": "Y97Rf0Ur1GZc"
      }
    },
    {
      "cell_type": "markdown",
      "source": [
        "El siguiente notebook es una intoducción rapida a numpy y pandas"
      ],
      "metadata": {
        "id": "btCFyvzqPnA6"
      }
    },
    {
      "cell_type": "markdown",
      "source": [
        "# Referencia recomendadas\n",
        "\n",
        "* Think Python: (Allen Downey)\n",
        "  https://greenteapress.com/wp/think-python-2e/\n",
        "\n",
        "* Think Python en castellano:\n",
        "  https://github.com/espinoza/ThinkPython2-spanish\n",
        "\n",
        "* Python: Tutorial oficial:\n",
        "  https://docs.python.org/es/3/tutorial/\n",
        "\n",
        "* Numpy y Pandas: Pandas For Data Analysis (Wes McKinney)\n",
        "  https://wesmckinney.com/book/\n",
        "\n",
        "* Numpy y Pandas: Pandas para analisis de datos\n",
        "  https://www.amazon.com/-/es/Wes-McKinney/dp/8441546835\n"
      ],
      "metadata": {
        "id": "jLZl6uoC08Oy"
      }
    },
    {
      "cell_type": "markdown",
      "source": [
        "# TIPOS DE DATOS PYTHON"
      ],
      "metadata": {
        "id": "2WapziM8PyzY"
      }
    },
    {
      "cell_type": "markdown",
      "source": [
        "## Enteros"
      ],
      "metadata": {
        "id": "HLe8KXfERf_b"
      }
    },
    {
      "cell_type": "code",
      "source": [
        "# Evaluamos una expresión simple de un entero\n",
        "# (Collab muestra el resultado de la evaluacion)\n",
        "\n",
        "25"
      ],
      "metadata": {
        "id": "9FB4LEvsAJM7"
      },
      "execution_count": null,
      "outputs": []
    },
    {
      "cell_type": "code",
      "source": [
        "# Con print() podemos 'imprimir' el resultado de las evaluaciones\n",
        "\n",
        "print(15)"
      ],
      "metadata": {
        "id": "f0DYDDgoDhBe"
      },
      "execution_count": null,
      "outputs": []
    },
    {
      "cell_type": "code",
      "source": [
        "# Evaluamos una expresión un poco más compleja con enteros\n",
        "# (Collab muestra el resultado de la evaluacion)\n",
        "\n",
        "12 + 34 - 12"
      ],
      "metadata": {
        "id": "YP_uR4CfANsV"
      },
      "execution_count": null,
      "outputs": []
    },
    {
      "cell_type": "code",
      "source": [
        "# el resultado de las expresiones puede almacenarce en variables\n",
        "\n",
        "a = 12 + 35\n",
        "\n",
        "a"
      ],
      "metadata": {
        "id": "Pju3CIOX1qZf"
      },
      "execution_count": null,
      "outputs": []
    },
    {
      "cell_type": "code",
      "source": [
        "# todos los valores en python son objetos de un determinado tipo\n",
        "type (40)"
      ],
      "metadata": {
        "id": "H7tYTa9xBHl0"
      },
      "execution_count": null,
      "outputs": []
    },
    {
      "cell_type": "code",
      "source": [
        "# al almacenar un valor en una variable, decimos\n",
        "# que la variable es del tipo de su valor\n",
        "\n",
        "a = 43\n",
        "\n",
        "type(a)"
      ],
      "metadata": {
        "id": "06dP4h_42eAp"
      },
      "execution_count": null,
      "outputs": []
    },
    {
      "cell_type": "code",
      "source": [
        "# por último, los enteros pueden tener largos arbitrarios, no tienen límite fijo\n",
        "\n",
        "entero_grande = 192731293791827391273912793712937129379127391273912739172937192379127391723917293719237912739172391729371298379182739812739749872394857293472938749237492873498273948729384792749274982734982739847298347928374928734982739847\n",
        "\n",
        "print(entero_grande)\n"
      ],
      "metadata": {
        "id": "j5piPC5B1iHe"
      },
      "execution_count": null,
      "outputs": []
    },
    {
      "cell_type": "markdown",
      "source": [
        "## Floats, float (Reales)"
      ],
      "metadata": {
        "id": "8KhI-AB2Rdz5"
      }
    },
    {
      "cell_type": "code",
      "source": [
        "# El tipo float puede represtar números con coma\n",
        "f = 3.4\n",
        "\n",
        "f\n"
      ],
      "metadata": {
        "id": "iTY-FRTAP5T8"
      },
      "execution_count": null,
      "outputs": []
    },
    {
      "cell_type": "code",
      "source": [
        "type(f)"
      ],
      "metadata": {
        "id": "q0mMlboO45-w"
      },
      "execution_count": null,
      "outputs": []
    },
    {
      "cell_type": "code",
      "source": [
        "# Usando . creamos números float\n",
        "fx = 1.0\n",
        "\n",
        "fx"
      ],
      "metadata": {
        "id": "2_BUNw4u4vig"
      },
      "execution_count": null,
      "outputs": []
    },
    {
      "cell_type": "code",
      "source": [
        "type(1.0)"
      ],
      "metadata": {
        "id": "AR9vQANU48AZ"
      },
      "execution_count": null,
      "outputs": []
    },
    {
      "cell_type": "code",
      "source": [
        "# el tipo float se pueden  representar numeros en notación científica\n",
        "# y tres valores especiales:\n",
        "#+inf (infinito positivo): Representa un número que es mayor que cualquier número finito.\n",
        "#-inf (infinito negativo): Representa un número que es menor que cualquier número finito.\n",
        "#nan (no es un número): Representa un valor indefinido o no representable.\n",
        "\n",
        "print(1e3)\n",
        "\n",
        "print(1e309)\n",
        "print(-1e309)"
      ],
      "metadata": {
        "id": "FvHffMYRQAyl"
      },
      "execution_count": null,
      "outputs": []
    },
    {
      "cell_type": "markdown",
      "source": [
        "## booleanos, bool"
      ],
      "metadata": {
        "id": "LWLouu2JOKuo"
      }
    },
    {
      "cell_type": "code",
      "source": [
        "# acepta solo dos valores\n",
        "a = True\n",
        "b = False\n"
      ],
      "metadata": {
        "id": "GSanuha8OKUB"
      },
      "execution_count": null,
      "outputs": []
    },
    {
      "cell_type": "code",
      "source": [
        "# existen expresiones logicas que retornan valores bool\n",
        "\n",
        "15 > 2\n"
      ],
      "metadata": {
        "id": "9uvylPdkOWAG"
      },
      "execution_count": null,
      "outputs": []
    },
    {
      "cell_type": "code",
      "source": [
        "# los resultados de las expresiones son un valor mas\n",
        "# por tanto se puede almacenar\n",
        "\n",
        "c = 10 > 2"
      ],
      "metadata": {
        "id": "g3MOjwr8Ocey"
      },
      "execution_count": null,
      "outputs": []
    },
    {
      "cell_type": "code",
      "source": [
        "c\n"
      ],
      "metadata": {
        "id": "Kikg9UckOsGi"
      },
      "execution_count": null,
      "outputs": []
    },
    {
      "cell_type": "code",
      "source": [
        "type(c)"
      ],
      "metadata": {
        "id": "X8aE0wmZ7Q8s"
      },
      "execution_count": null,
      "outputs": []
    },
    {
      "cell_type": "markdown",
      "source": [
        "## Strings, str"
      ],
      "metadata": {
        "id": "TzxgdhIpTcwO"
      }
    },
    {
      "cell_type": "code",
      "source": [
        "# triples comillas dobles (\"\"\") se utilizan para crear cadenas de caracteres multilínea\n",
        "s = \"\"\"\n",
        "Hola\n",
        "Que\n",
        "Tal\n",
        "\"\"\"\n",
        "print(s)\n"
      ],
      "metadata": {
        "id": "sH2mzOB7TS7M"
      },
      "execution_count": null,
      "outputs": []
    },
    {
      "cell_type": "code",
      "source": [
        "# Comillas simples para cadena simple\n",
        "cadena_simple = 'Hola, que tal!'\n",
        "print(cadena_simple)"
      ],
      "metadata": {
        "id": "71JLmnPzYe5E"
      },
      "execution_count": null,
      "outputs": []
    },
    {
      "cell_type": "markdown",
      "source": [
        "# Convertir tipos con constructores"
      ],
      "metadata": {
        "id": "W03gn0X2Onjw"
      }
    },
    {
      "cell_type": "markdown",
      "source": [
        "Crear valores a partir de otros valores, tambien se llama convertir el tipo de un valor"
      ],
      "metadata": {
        "id": "JjlzKST1OvGo"
      }
    },
    {
      "cell_type": "code",
      "source": [
        "# ejemplo 1\n",
        "a = 1.3\n",
        "\n",
        "# como hago para construir un entero con un float?\n",
        "n = int(a)\n",
        "n"
      ],
      "metadata": {
        "id": "YtHi83dUOnLf"
      },
      "execution_count": null,
      "outputs": []
    },
    {
      "cell_type": "code",
      "source": [
        "# otro ejemplo\n",
        "s = \"10\"\n",
        "\n",
        "# Como hago para construir un float con una cadena?\n",
        "f = float(s)\n",
        "f"
      ],
      "metadata": {
        "id": "nGRFvzIjPIRi"
      },
      "execution_count": null,
      "outputs": []
    },
    {
      "cell_type": "code",
      "source": [
        "type(f)"
      ],
      "metadata": {
        "id": "plVHo-rRBOGD"
      },
      "execution_count": null,
      "outputs": []
    },
    {
      "cell_type": "code",
      "source": [
        "s"
      ],
      "metadata": {
        "id": "LG8PZeQcBQbI"
      },
      "execution_count": null,
      "outputs": []
    },
    {
      "cell_type": "markdown",
      "source": [
        "Los tipos de datos tienen funciones especiales que se llaman constructores. Estas funciones sirven para construir valores con otros valores. Este concepto es muy usado"
      ],
      "metadata": {
        "id": "ySi1cqUJPZS5"
      }
    },
    {
      "cell_type": "markdown",
      "source": [
        "## Construir enteros: int()"
      ],
      "metadata": {
        "id": "vnvjau2KQAOc"
      }
    },
    {
      "cell_type": "code",
      "source": [
        "# los enteros tambien son objetos. Por tanto pueden construirse\n",
        "# los valores enteros se pueden construir con la funcion int()\n",
        "\n",
        "int(12)"
      ],
      "metadata": {
        "id": "viDmHidjCzLP"
      },
      "execution_count": null,
      "outputs": []
    },
    {
      "cell_type": "code",
      "source": [
        "# Hay varias maneras de crear / construir un entero\n",
        "\n",
        "print(int(1))     # a partir de otro entero\n",
        "print(int(\"1\"))   # a partir de un valor cadena / string\n",
        "print(int(1.2))\n"
      ],
      "metadata": {
        "id": "M8Kgws-YRIbP"
      },
      "execution_count": null,
      "outputs": []
    },
    {
      "cell_type": "markdown",
      "source": [
        "## Construir floats: float()"
      ],
      "metadata": {
        "id": "1LaKITtyQdoA"
      }
    },
    {
      "cell_type": "code",
      "source": [
        "# los float se pueden construir con float()\n",
        "# varias formas de crear un float\n",
        "\n",
        "print(float(1))\n",
        "print(float(1.2))\n",
        "print(float(\"1\"))\n",
        "print(float(\"5\"))\n"
      ],
      "metadata": {
        "id": "ncMP1eiTQ3yZ"
      },
      "execution_count": null,
      "outputs": []
    },
    {
      "cell_type": "code",
      "source": [
        "print(float(\"inf\"))\n",
        "print(float(\"-inf\"))"
      ],
      "metadata": {
        "id": "YEjjhS5TQZhA"
      },
      "execution_count": null,
      "outputs": []
    },
    {
      "cell_type": "code",
      "source": [
        "# el valor especial NaN se puede crear con float():\n",
        "print(float(\"nan\"))"
      ],
      "metadata": {
        "id": "99uqrW3zQtur"
      },
      "execution_count": null,
      "outputs": []
    },
    {
      "cell_type": "markdown",
      "source": [
        "## Construir valores booleanos: bool()"
      ],
      "metadata": {
        "id": "_sjcIZLxQphf"
      }
    },
    {
      "cell_type": "code",
      "source": [
        "# los booleanos se pueden construir de varias maneras\n",
        "\n",
        "# bool retorna False solo es estos casos\n",
        "print(bool(False))\n",
        "print(bool(0))\n",
        "\n",
        "print()\n",
        "\n",
        "print(bool(True))\n",
        "print(bool(\"True\"))\n",
        "print(bool(1))\n",
        "print(bool(1.4))\n",
        "print(bool(\"False\"))\n",
        "print(bool(\"0\"))\n",
        "\n",
        "\n"
      ],
      "metadata": {
        "id": "7xbIs-PtPLvh"
      },
      "execution_count": null,
      "outputs": []
    },
    {
      "cell_type": "markdown",
      "source": [
        "## Construir strings: str()"
      ],
      "metadata": {
        "id": "oDErN5LDQ6C6"
      }
    },
    {
      "cell_type": "code",
      "source": [
        "# el siguiente codigo falla:\n",
        "#print(\"el numero: \" + 1)  # <- no se pueden sumar valores string con enteros\n"
      ],
      "metadata": {
        "id": "mSObIVsiQ_gs"
      },
      "execution_count": null,
      "outputs": []
    },
    {
      "cell_type": "code",
      "source": [
        "# con str() creamos string con otros valores\n",
        "\n",
        "print(str(1))\n",
        "print(str(1.2))\n",
        "print(str(False))"
      ],
      "metadata": {
        "id": "v6TazmQbRRl6"
      },
      "execution_count": null,
      "outputs": []
    },
    {
      "cell_type": "code",
      "source": [
        "# Con str() podemos convertir el valor y luego concatenar los strings\n",
        "\n",
        "a = 12\n",
        "s = \"el numero: \" + str(a) + \" convertido a string\"\n",
        "print(s)\n"
      ],
      "metadata": {
        "id": "PgPRY0vNTi8d"
      },
      "execution_count": null,
      "outputs": []
    },
    {
      "cell_type": "markdown",
      "source": [
        "# Contenedores"
      ],
      "metadata": {
        "id": "XTWff7hAf9d0"
      }
    },
    {
      "cell_type": "markdown",
      "source": [
        "## Listas, list"
      ],
      "metadata": {
        "id": "OhGcwReST95g"
      }
    },
    {
      "cell_type": "code",
      "source": [
        "# Las listas se construyen usando []\n",
        "colores = [\"azul\", \"amarillo\", \"rojo\", \"verde\"]\n",
        "\n",
        "print(colores)"
      ],
      "metadata": {
        "id": "lOL0DJxKTpht"
      },
      "execution_count": null,
      "outputs": []
    },
    {
      "cell_type": "code",
      "source": [
        "# las listas estan implementadas con el tipo `list`\n",
        "\n",
        "type(colores)"
      ],
      "metadata": {
        "id": "1jiGT_5t8MeV"
      },
      "execution_count": null,
      "outputs": []
    },
    {
      "cell_type": "code",
      "source": [
        "# listas de enteros\n",
        "[1, 2, 3, 4, 5, 6]"
      ],
      "metadata": {
        "id": "VOMBbZnrUmYo"
      },
      "execution_count": null,
      "outputs": []
    },
    {
      "cell_type": "code",
      "source": [
        "# las listas permiten tipos mezclados\n",
        "[1, 2, \"azul\", 4, \"verde\", 6] # no es lo común\n"
      ],
      "metadata": {
        "id": "GS7zRrGLWD5R"
      },
      "execution_count": null,
      "outputs": []
    },
    {
      "cell_type": "code",
      "source": [
        "# otras maneras de crear una lista es unsando list()\n",
        "list(range(4))\n"
      ],
      "metadata": {
        "id": "2wZCHRyV_8Q3"
      },
      "execution_count": null,
      "outputs": []
    },
    {
      "cell_type": "code",
      "source": [
        "# una lista de caracteres se puede construir con una cadena\n",
        "\n",
        "list(\"ABCDE\")"
      ],
      "metadata": {
        "id": "S8E0PiPrR--4"
      },
      "execution_count": null,
      "outputs": []
    },
    {
      "cell_type": "code",
      "source": [
        "# los contenedores también pueden guardar otros valores que sean contenedores\n",
        "\n",
        "# una lista de tres listas de tres elementos\n",
        "keypad = [\n",
        "    [7,8,9],\n",
        "    [4,5,6],\n",
        "    [1,2,3]\n",
        "]\n",
        "print(\"keypad:\", keypad)"
      ],
      "metadata": {
        "id": "CrTd4Nigy4Ix"
      },
      "execution_count": null,
      "outputs": []
    },
    {
      "cell_type": "markdown",
      "source": [
        "## Diccionarios, dict ()"
      ],
      "metadata": {
        "id": "909fQhcBXyrb"
      }
    },
    {
      "cell_type": "code",
      "source": [
        "# representan un conjunto de pares claves-valor. se representan con {clave: valor, ...}\n",
        "# Cada clave es única dentro del diccionario, y se utiliza para acceder a su valor asociado.\n",
        "codigos = {\"BAJO\": 20, \"MEDIO\": 50, \"ALTO\": 80 }\n",
        "\n",
        "print(codigos)\n",
        "\n",
        "\n",
        "# o invertidos\n",
        "codigos_inv = {20: \"BAJO\", 50: \"MEDIO\", 80: \"ALTO\"}\n",
        "\n",
        "print(codigos_inv)"
      ],
      "metadata": {
        "id": "yS76TPooYDai"
      },
      "execution_count": null,
      "outputs": []
    },
    {
      "cell_type": "code",
      "source": [
        "# los contenedores también pueden guardar otros valores que sean contenedores\n",
        "\n",
        "# los datos de un automóvil\n",
        "# Dic: auto; claves: Marca, modelo...lista: [1997, 2004, 2007]\n",
        "auto = {\n",
        "    \"marca\": \"Ford\",\n",
        "    \"modelo\": \"Focus\",\n",
        "    \"anio\": \"1992\",\n",
        "    \"revisiones\": [1997, 2004, 2007]\n",
        "}\n",
        "print(\"auto:\",auto)\n",
        "\n",
        "print()\n",
        "\n",
        "# el ejemplo ejercicio 1\n",
        "# Data: diccionario, claves :Nombre,edad, genero...Listas: 'Juan', 'Laura',\n",
        "data = {'Nombre': ['Juan', 'Laura', 'Sara', 'Antonio', 'Luisa'],\n",
        "        'Edad': [25, 36, 40, 41, 29],\n",
        "        'Género': ['M', 'F', 'F', 'M', 'F'],\n",
        "        'Ciudad': ['Rosario', 'Rosario', 'Funes', 'Roldán', 'Rosario']}\n",
        "\n",
        "print(\"ejemplo 1\", data)"
      ],
      "metadata": {
        "id": "1NOpGCOpZiog"
      },
      "execution_count": null,
      "outputs": []
    },
    {
      "cell_type": "markdown",
      "source": [
        "## Tuplas:: tuples"
      ],
      "metadata": {
        "id": "n7StsdiEWbj_"
      }
    },
    {
      "cell_type": "code",
      "source": [
        "# tuple, colecciones ordenadas e inmutables de elementos.\n",
        "# Una vez creada, no se puede modificar sus elementos.\n",
        "# Se representan con parentesis y valores separados por comas,\n",
        "\n",
        "error = (404, \"not found\")\n",
        "print(error)"
      ],
      "metadata": {
        "id": "ojJ-W5diWe0a"
      },
      "execution_count": null,
      "outputs": []
    },
    {
      "cell_type": "code",
      "source": [
        "type(error)"
      ],
      "metadata": {
        "id": "_HaqjsQeBZNt"
      },
      "execution_count": null,
      "outputs": []
    },
    {
      "cell_type": "markdown",
      "source": [
        "## Conjuntos: set ()"
      ],
      "metadata": {
        "id": "EVWmaN51zGNu"
      }
    },
    {
      "cell_type": "code",
      "source": [
        "# set son colecciones desordenadas de elementos únicos.\n",
        "# No pueden contener elementos duplicados.\n",
        "# Se crean con {}\n",
        "# y una lista de valores separados por comas\n",
        "\n",
        "frutas = {'apple', 'orange', 'apple', 'pear', 'orange', 'banana'}\n",
        "frutas"
      ],
      "metadata": {
        "id": "387Z59gYXIrm"
      },
      "execution_count": null,
      "outputs": []
    },
    {
      "cell_type": "code",
      "source": [
        "# como en los conjuntos,\n",
        "# no puede haber valores repetidos\n",
        "# el orden es indistinto\n",
        "print(frutas)"
      ],
      "metadata": {
        "id": "jmyg4I-yXolt"
      },
      "execution_count": null,
      "outputs": []
    },
    {
      "cell_type": "code",
      "source": [
        "# tambien se construyen usando set()\n",
        "# se usa para quitar elementos repetidos\n",
        "\n",
        "numeros = [100, 7, 7, 1, 3, 100, 1, 3, 4, 3, 2, 6, 7, 4]\n",
        "s = set(numeros)\n",
        "\n",
        "print(\"todos: \", numeros)\n",
        "print(\"unicos:\", s)\n",
        "\n"
      ],
      "metadata": {
        "id": "-yjT4b_vG3E4"
      },
      "execution_count": null,
      "outputs": []
    },
    {
      "cell_type": "markdown",
      "source": [
        "# Operaciones sobre contenedores"
      ],
      "metadata": {
        "id": "b8PC1WG6bxfm"
      }
    },
    {
      "cell_type": "markdown",
      "source": [
        "Largo, claves, valores"
      ],
      "metadata": {
        "id": "pxweGDrL6Yza"
      }
    },
    {
      "cell_type": "code",
      "source": [
        "# largo de un contendor (lista, tuple, set y dict)\n",
        "\n",
        "colores = [\"azul\", \"amarillo\", \"rojo\", \"verde\"]\n",
        "len(colores)"
      ],
      "metadata": {
        "id": "--pbPPRzb9dZ"
      },
      "execution_count": null,
      "outputs": []
    },
    {
      "cell_type": "code",
      "source": [
        "codigos = {\"BAJO\": 20, \"MEDIO\": 50, \"ALTO\": 80 }\n",
        "len(codigos)"
      ],
      "metadata": {
        "id": "1dl1nr1pcSSx"
      },
      "execution_count": null,
      "outputs": []
    },
    {
      "cell_type": "code",
      "source": [
        "# las claves de un diccionario\n",
        "codigos.keys()"
      ],
      "metadata": {
        "id": "qZHpwujZckRW"
      },
      "execution_count": null,
      "outputs": []
    },
    {
      "cell_type": "code",
      "source": [
        "# los valores de un diccionario\n",
        "codigos.values()"
      ],
      "metadata": {
        "id": "c2idPZC5cnNX"
      },
      "execution_count": null,
      "outputs": []
    },
    {
      "cell_type": "markdown",
      "source": [
        "# Indexacion de contenedores"
      ],
      "metadata": {
        "id": "tsKnpcFkdHsF"
      }
    },
    {
      "cell_type": "markdown",
      "source": [
        "La indexación es la forma de acceder a un elemento o a un subconjunto de los elementos de una estructura."
      ],
      "metadata": {
        "id": "G2Pc38y0IE8b"
      }
    },
    {
      "cell_type": "code",
      "source": [
        "colores = [\"azul\", \"amarillo\", \"rojo\", \"verde\"]\n",
        "codigos = {\"BAJO\": 20, \"MEDIO\": 50, \"ALTO\": 80 }\n"
      ],
      "metadata": {
        "id": "u0OTha3KcrsB"
      },
      "execution_count": null,
      "outputs": []
    },
    {
      "cell_type": "code",
      "source": [
        "#indexamos una lista\n",
        "colores[2]"
      ],
      "metadata": {
        "id": "UN3VHIpPSBsC"
      },
      "execution_count": null,
      "outputs": []
    },
    {
      "cell_type": "code",
      "source": [
        "# indexacion con valores negativos\n",
        "colores[-1]"
      ],
      "metadata": {
        "id": "KsAmsRNJdXNO"
      },
      "execution_count": null,
      "outputs": []
    },
    {
      "cell_type": "markdown",
      "source": [
        "![image.png](data:image/png;base64,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)"
      ],
      "metadata": {
        "id": "mCoT0SZoWAnZ"
      }
    },
    {
      "cell_type": "code",
      "source": [
        "#indexamos un dict\n",
        "codigos[\"MEDIO\"]"
      ],
      "metadata": {
        "id": "4l0wNJOvdSSZ"
      },
      "execution_count": null,
      "outputs": []
    },
    {
      "cell_type": "code",
      "source": [
        "# modificar una lista con sun indice\n",
        "na = [1,2,3,4,5,6]\n",
        "print(\"antes\", na)\n",
        "\n",
        "na[1] = 0\n",
        "na[2] = 0\n",
        "\n",
        "print(\"despues\", na)"
      ],
      "metadata": {
        "id": "_qx5Xx2pbcnD"
      },
      "execution_count": null,
      "outputs": []
    },
    {
      "cell_type": "markdown",
      "source": [
        "# Indexacion con Slices (porciones)"
      ],
      "metadata": {
        "id": "XGF8l1SceowR"
      }
    },
    {
      "cell_type": "markdown",
      "source": [
        "Retornan porciones del contenedor, permiten extraer subconjuntos"
      ],
      "metadata": {
        "id": "qZSNu62h6gLZ"
      }
    },
    {
      "cell_type": "code",
      "source": [
        "colores = [\"azul\", \"amarillo\", \"rojo\", \"verde\"]\n",
        "\n",
        "\n",
        "colores[:3]"
      ],
      "metadata": {
        "id": "7vNy03zweVxJ"
      },
      "execution_count": null,
      "outputs": []
    },
    {
      "cell_type": "code",
      "source": [
        "# se pueden omitir los extremos\n",
        "colores[:2]"
      ],
      "metadata": {
        "id": "sTC9c2o7ezvi"
      },
      "execution_count": null,
      "outputs": []
    },
    {
      "cell_type": "code",
      "source": [
        "colores[1:]"
      ],
      "metadata": {
        "id": "wzgsrPVZfI8C"
      },
      "execution_count": null,
      "outputs": []
    },
    {
      "cell_type": "code",
      "source": [
        "colores[:]"
      ],
      "metadata": {
        "id": "h92boXa9d3Aq"
      },
      "execution_count": null,
      "outputs": []
    },
    {
      "cell_type": "markdown",
      "source": [
        "# NUMPY BASICO"
      ],
      "metadata": {
        "id": "O5JiEIU1r9xV"
      }
    },
    {
      "cell_type": "markdown",
      "source": [
        "Ver doc en https://numpy.org/doc/stable/reference/arrays.ndarray.html"
      ],
      "metadata": {
        "id": "CrwZxMBnUF0g"
      }
    },
    {
      "cell_type": "code",
      "source": [
        "# impportamos numpy\n",
        "import numpy as np\n",
        "\n"
      ],
      "metadata": {
        "id": "HzSB0ZcxsB1u"
      },
      "execution_count": null,
      "outputs": []
    },
    {
      "cell_type": "markdown",
      "source": [
        "# Crear numpy arrays"
      ],
      "metadata": {
        "id": "Zby2m1JcthjK"
      }
    },
    {
      "cell_type": "markdown",
      "source": [
        "Varias maneras de crear un array (\"arreglo\" o \"matriz\") de numpy"
      ],
      "metadata": {
        "id": "ZOvCKn6Z6whD"
      }
    },
    {
      "cell_type": "code",
      "source": [
        "# creamos un numpy array de enteros\n",
        "data1 = np.array([1, 2, 3, 4, 5,6,7])\n",
        "data1"
      ],
      "metadata": {
        "id": "xD1F3QdmthH6"
      },
      "execution_count": null,
      "outputs": []
    },
    {
      "cell_type": "code",
      "source": [
        "type(data1)"
      ],
      "metadata": {
        "id": "XaWeTLX9scyz"
      },
      "execution_count": null,
      "outputs": []
    },
    {
      "cell_type": "code",
      "source": [
        "# se puede explorar la informacion del ndarray\n",
        "#shape permite ver el número de elementos\n",
        "data1.shape"
      ],
      "metadata": {
        "id": "AsDXcmaXMjrP"
      },
      "execution_count": null,
      "outputs": []
    },
    {
      "cell_type": "code",
      "source": [
        "# atributo que te permite determinar el tipo de datos\n",
        "data1.dtype"
      ],
      "metadata": {
        "id": "or6f3EGDMz_4"
      },
      "execution_count": null,
      "outputs": []
    },
    {
      "cell_type": "code",
      "source": [
        "# creamos un numpy array con flotante\n",
        "data2 = np.array([1.0, 2, 3.0, 4, 5.0])\n",
        "data2 # en numpy todos los items tienen que ser del mismo tipo"
      ],
      "metadata": {
        "id": "z2ReoWihsglp"
      },
      "execution_count": null,
      "outputs": []
    },
    {
      "cell_type": "code",
      "source": [
        "\n",
        "data2.dtype"
      ],
      "metadata": {
        "id": "VvtOibLFM4Iz"
      },
      "execution_count": null,
      "outputs": []
    },
    {
      "cell_type": "markdown",
      "source": [
        "Algunos tipos de numpy: https://wesmckinney.com/book/numpy-basics#tbl-table_array_dtypes"
      ],
      "metadata": {
        "id": "CoclCdvxJ5kO"
      }
    },
    {
      "cell_type": "code",
      "source": [
        "# diferencia entre int de python y int64 de nparray\n",
        "#np-->tienen un rango limitado\n",
        "n = np.int64(123456)\n",
        "\n",
        "n"
      ],
      "metadata": {
        "id": "j3MuHJ5gKEBK"
      },
      "execution_count": null,
      "outputs": []
    },
    {
      "cell_type": "code",
      "source": [
        "type(n)"
      ],
      "metadata": {
        "id": "ybMUu-lEKQF1"
      },
      "execution_count": null,
      "outputs": []
    },
    {
      "cell_type": "code",
      "source": [
        "# int64 no soporta largo arbitrario\n",
        "\n",
        "#np.int64(123456123456123456123456123456123456123456)\n",
        "\n",
        "# vs int(123456123456123456123456123456123456123456)"
      ],
      "metadata": {
        "id": "hkbAH2QeKS1_"
      },
      "execution_count": null,
      "outputs": []
    },
    {
      "cell_type": "code",
      "source": [
        "\n",
        "# se pueden crear un array con zeros\n",
        "\n",
        "zeros = np.zeros(5)\n",
        "zeros"
      ],
      "metadata": {
        "id": "H_lQdraHspDO"
      },
      "execution_count": null,
      "outputs": []
    },
    {
      "cell_type": "code",
      "source": [
        "# se pueden crear con una scuencia\n",
        "seq = np.arange(100)\n",
        "seq"
      ],
      "metadata": {
        "id": "A_3ZEqdbt2i-"
      },
      "execution_count": null,
      "outputs": []
    },
    {
      "cell_type": "code",
      "source": [
        "# usando random, se pueden generar numeros al azar, pej\n",
        "\n",
        "norm = np.random.randint(low=0, high=20, size=100)\n",
        "norm"
      ],
      "metadata": {
        "id": "5pyCOKZ3t3HD"
      },
      "execution_count": null,
      "outputs": []
    },
    {
      "cell_type": "code",
      "source": [
        "# como puede convertir los tipos de un array\n",
        "# utilizando el método astype().\n",
        "#crea una copia del array original con los elementos convertidos al nuevo tipo.\n",
        "data3 = data1.astype(np.float32)\n",
        "data3"
      ],
      "metadata": {
        "id": "1vhytDWdxqpH"
      },
      "execution_count": null,
      "outputs": []
    },
    {
      "cell_type": "markdown",
      "source": [
        "## Aritmética"
      ],
      "metadata": {
        "id": "163_dIO9ZFYh"
      }
    },
    {
      "cell_type": "markdown",
      "source": [
        "Trabajemos con el siguiente ejemplo"
      ],
      "metadata": {
        "id": "4MofxaXq7KkO"
      }
    },
    {
      "cell_type": "code",
      "source": [
        "import numpy as np"
      ],
      "metadata": {
        "id": "Oou3FAl4M7QF"
      },
      "execution_count": null,
      "outputs": []
    },
    {
      "cell_type": "code",
      "source": [
        "arr1 = np.array([1, 2, 3, 4, 5, 6])\n",
        "\n",
        "arr2 = np.array([10, 20, 30, 40, 50, 60])\n",
        "\n",
        "pylist = [1, 2, 3, 4, 5, 6]\n"
      ],
      "metadata": {
        "id": "HDwwcnldx5jm"
      },
      "execution_count": null,
      "outputs": []
    },
    {
      "cell_type": "code",
      "source": [
        "# la siguiente linea da error en python\n",
        "# Python no sabe cómo \"sumar\" una lista y un número entero, por lo que genera un error\n",
        "\n",
        "#pylist + 10"
      ],
      "metadata": {
        "id": "NvV6hI1sU6lA"
      },
      "execution_count": null,
      "outputs": []
    },
    {
      "cell_type": "markdown",
      "source": [
        "`numpy` permite realizar operaciones con los arreglos. A estas operaciones le dicen \"broadcasting\""
      ],
      "metadata": {
        "id": "-7lxPJWXN3z2"
      }
    },
    {
      "cell_type": "code",
      "source": [
        "# operaciones con valores\n",
        "arr1 + 10"
      ],
      "metadata": {
        "id": "k8tWuEhaZaEu"
      },
      "execution_count": null,
      "outputs": []
    },
    {
      "cell_type": "code",
      "source": [
        "arr1 * 2"
      ],
      "metadata": {
        "id": "j2AfCKq-Zs0_"
      },
      "execution_count": null,
      "outputs": []
    },
    {
      "cell_type": "code",
      "source": [
        "# operaciones con otras arrays\n",
        "\n",
        "arr1 + arr2"
      ],
      "metadata": {
        "id": "LiHhMre2Z5Ez"
      },
      "execution_count": null,
      "outputs": []
    },
    {
      "cell_type": "code",
      "source": [
        "arr1 * arr2"
      ],
      "metadata": {
        "id": "vBvMIaRUaERl"
      },
      "execution_count": null,
      "outputs": []
    },
    {
      "cell_type": "code",
      "source": [
        "# podemos compararlos\n",
        "arr1 > arr2"
      ],
      "metadata": {
        "id": "f63wVRqjaHTK"
      },
      "execution_count": null,
      "outputs": []
    },
    {
      "cell_type": "code",
      "source": [
        "# la negacion, “dónde NO se cumple que arr1 > arr2”.\n",
        "~(arr1 > arr2)"
      ],
      "metadata": {
        "id": "An6d_supakCv"
      },
      "execution_count": null,
      "outputs": []
    },
    {
      "cell_type": "markdown",
      "source": [
        "# Indexación y slices"
      ],
      "metadata": {
        "id": "jgCIlbQ4coeM"
      }
    },
    {
      "cell_type": "markdown",
      "source": [
        "Similiar a la indexacion de las listas"
      ],
      "metadata": {
        "id": "d87DjXsn65AO"
      }
    },
    {
      "cell_type": "code",
      "source": [
        "arr = np.arange(10)"
      ],
      "metadata": {
        "id": "84nUG2v0cthu"
      },
      "execution_count": null,
      "outputs": []
    },
    {
      "cell_type": "code",
      "source": [
        "arr"
      ],
      "metadata": {
        "id": "iifRMqvXcxjU"
      },
      "execution_count": null,
      "outputs": []
    },
    {
      "cell_type": "code",
      "source": [
        "#elemento en la posición 5 del array\n",
        "arr[5]"
      ],
      "metadata": {
        "id": "IS2KI3r5c0es"
      },
      "execution_count": null,
      "outputs": []
    },
    {
      "cell_type": "code",
      "source": [
        "arr[5:8]"
      ],
      "metadata": {
        "id": "1jTDhvbPc2p4"
      },
      "execution_count": null,
      "outputs": []
    },
    {
      "cell_type": "code",
      "source": [
        "# los numpy arrays se pueden modificar con slices\n",
        "arr[5:8] = 100"
      ],
      "metadata": {
        "id": "MSpxEcVmc-5W"
      },
      "execution_count": null,
      "outputs": []
    },
    {
      "cell_type": "code",
      "source": [
        "arr"
      ],
      "metadata": {
        "id": "8Uux_vwzdf86"
      },
      "execution_count": null,
      "outputs": []
    },
    {
      "cell_type": "code",
      "source": [
        "# para setear todo podes usar los extremos vacios\n",
        "arr[:] = 100"
      ],
      "metadata": {
        "id": "uw_705FCdguk"
      },
      "execution_count": null,
      "outputs": []
    },
    {
      "cell_type": "code",
      "source": [
        "arr"
      ],
      "metadata": {
        "id": "2CkqFa0ZduFZ"
      },
      "execution_count": null,
      "outputs": []
    },
    {
      "cell_type": "markdown",
      "source": [
        "# Funciones de ndarray"
      ],
      "metadata": {
        "id": "9xkXuYyxedJ7"
      }
    },
    {
      "cell_type": "markdown",
      "source": [
        "Calculos sobre los arraglos\n",
        "\n",
        "Documentacion del objeto ndarray\n",
        "https://numpy.org/doc/stable/reference/arrays.ndarray.html"
      ],
      "metadata": {
        "id": "-vyXrLGG_Bga"
      }
    },
    {
      "cell_type": "code",
      "source": [
        "arr = np.arange(10)\n",
        "arr"
      ],
      "metadata": {
        "id": "WVNs5GDPegyo"
      },
      "execution_count": null,
      "outputs": []
    },
    {
      "cell_type": "code",
      "source": [
        "#método para calcular la media aritmética de los elementos\n",
        "arr.mean()"
      ],
      "metadata": {
        "id": "HyOjIbRselz3"
      },
      "execution_count": null,
      "outputs": []
    },
    {
      "cell_type": "code",
      "source": [
        "arr.max()"
      ],
      "metadata": {
        "id": "n_w-kkjTenqI"
      },
      "execution_count": null,
      "outputs": []
    },
    {
      "cell_type": "code",
      "source": [
        "arr.min()\n"
      ],
      "metadata": {
        "id": "OFgMLPASgTZE"
      },
      "execution_count": null,
      "outputs": []
    },
    {
      "cell_type": "code",
      "source": [
        "arr.sum()"
      ],
      "metadata": {
        "id": "rHDlEEaFgWfQ"
      },
      "execution_count": null,
      "outputs": []
    },
    {
      "cell_type": "markdown",
      "source": [
        "# Funciones globales matemáticas de numpy\n",
        "\n",
        "https://numpy.org/doc/stable/reference/routines.math.html\n"
      ],
      "metadata": {
        "id": "HkqRTRey_ruc"
      }
    },
    {
      "cell_type": "code",
      "source": [
        "import numpy as np\n",
        "arr = np.arange(20)"
      ],
      "metadata": {
        "id": "6pyAysJyAM4S"
      },
      "execution_count": null,
      "outputs": []
    },
    {
      "cell_type": "code",
      "source": [
        "arr"
      ],
      "metadata": {
        "id": "LimBYj3JOUfL"
      },
      "execution_count": null,
      "outputs": []
    },
    {
      "cell_type": "code",
      "source": [
        "#Se utiliza para calcular la raiz cuadrada de cada elemento\n",
        "np.square(arr)"
      ],
      "metadata": {
        "id": "PXNIo0GJ_8FE"
      },
      "execution_count": null,
      "outputs": []
    },
    {
      "cell_type": "code",
      "source": [
        "# el coseno de cada elemento\n",
        "np.cos(arr)"
      ],
      "metadata": {
        "id": "FA5o8LIuAS36"
      },
      "execution_count": null,
      "outputs": []
    },
    {
      "cell_type": "code",
      "source": [
        "# la media aritmética (promedio)\n",
        "np.mean(arr)"
      ],
      "metadata": {
        "id": "qan3pTxdAk33"
      },
      "execution_count": null,
      "outputs": []
    },
    {
      "cell_type": "code",
      "source": [
        "# funciones de dos parametros\n",
        "#realiza la suma elemento por elemento de dos arrays.\n",
        "#En este caso suma el array arr consigo mismo\n",
        "np.add(arr, arr)"
      ],
      "metadata": {
        "id": "noxuDmbUAa6O"
      },
      "execution_count": null,
      "outputs": []
    },
    {
      "cell_type": "code",
      "source": [
        "# se pueden combinar con tipos de python\n",
        "# combina un array con un escalar, suma elemento con elemento\n",
        "np.add(arr, 10)"
      ],
      "metadata": {
        "id": "p1n1HD-VIiUQ"
      },
      "execution_count": null,
      "outputs": []
    },
    {
      "cell_type": "code",
      "source": [
        "arr + 10"
      ],
      "metadata": {
        "id": "zIXhiUWMOiK_"
      },
      "execution_count": null,
      "outputs": []
    },
    {
      "cell_type": "markdown",
      "source": [
        "# INTRO PANDAS\n",
        "\n"
      ],
      "metadata": {
        "id": "tj1XL_OvTbK6"
      }
    },
    {
      "cell_type": "code",
      "source": [
        "import pandas as pd"
      ],
      "metadata": {
        "id": "TUAs6xjnTiKB"
      },
      "execution_count": null,
      "outputs": []
    },
    {
      "cell_type": "markdown",
      "source": [
        "## Dataframe\n",
        "Estructura de datos organizos en filas y columnas."
      ],
      "metadata": {
        "id": "MokntQ0hZ6Ad"
      }
    },
    {
      "cell_type": "markdown",
      "source": [
        "Introducimos el tipo Dataframe de pandas, con el ejemplo de la semana 1"
      ],
      "metadata": {
        "id": "3BL19kagKx9n"
      }
    },
    {
      "cell_type": "code",
      "source": [
        "data = {'Nombre': ['Juan', 'Laura', 'Sara', 'Antonio', 'Luisa'],\n",
        "        'Edad':   [25, 36, 40, 41, 29],\n",
        "        'Altura': [1.65, 1.62, 1.59, 1.68, 1.66],\n",
        "        'Genero': ['M', 'F', 'F', 'M', 'F'],\n",
        "        'Ciudad': ['Rosario', 'Rosario', 'Funes', 'Roldán', 'Rosario']}\n",
        "\n",
        "# Se crea un diccionario con listas\n",
        "#data = {'Nombre': [    'Juan',   'Laura',    'Sara',  'Antonio',    'Luisa' ],\n",
        "#        'Edad':   [        25,        36,        40,         41,         29 ],\n",
        "#        'Altura': [      1.65,      1.62,      1.59,       1.68,       1.66 ],\n",
        "#        'Genero': [       'M',       'F',       'F',        'M',        'F' ],\n",
        "#        'Ciudad': [ 'Rosario', 'Rosario',   'Funes',   'Roldán',  'Rosario' ]}"
      ],
      "metadata": {
        "id": "tTxUAecFToLm"
      },
      "execution_count": null,
      "outputs": []
    },
    {
      "cell_type": "markdown",
      "source": [
        "Documentación de DataFrame pandas: https://pandas.pydata.org/pandas-docs/stable/reference/frame.html"
      ],
      "metadata": {
        "id": "b62AokpHW6cg"
      }
    },
    {
      "cell_type": "code",
      "source": [
        "# como creamos un dataframe de pandas\n",
        "# Toma el diccionario data y lo transforma en una estructura de DataFrame\n",
        "df = pd.DataFrame(data)"
      ],
      "metadata": {
        "id": "_nLnirNTUTFR"
      },
      "execution_count": null,
      "outputs": []
    },
    {
      "cell_type": "code",
      "source": [
        "#Visaulizamos el Dataframe\n",
        "df"
      ],
      "metadata": {
        "id": "htaGCfQ-VaL5",
        "colab": {
          "base_uri": "https://localhost:8080/",
          "height": 206
        },
        "outputId": "9f0f0257-66b4-4923-dd15-76eeee5d6df9"
      },
      "execution_count": null,
      "outputs": [
        {
          "output_type": "execute_result",
          "data": {
            "text/plain": [
              "    Nombre  Edad  Altura Genero   Ciudad\n",
              "0     Juan    25    1.65      M  Rosario\n",
              "1    Laura    36    1.62      F  Rosario\n",
              "2     Sara    40    1.59      F    Funes\n",
              "3  Antonio    41    1.68      M   Roldán\n",
              "4    Luisa    29    1.66      F  Rosario"
            ],
            "text/html": [
              "\n",
              "  <div id=\"df-b6519b82-b615-4f73-8426-cec467f17006\" class=\"colab-df-container\">\n",
              "    <div>\n",
              "<style scoped>\n",
              "    .dataframe tbody tr th:only-of-type {\n",
              "        vertical-align: middle;\n",
              "    }\n",
              "\n",
              "    .dataframe tbody tr th {\n",
              "        vertical-align: top;\n",
              "    }\n",
              "\n",
              "    .dataframe thead th {\n",
              "        text-align: right;\n",
              "    }\n",
              "</style>\n",
              "<table border=\"1\" class=\"dataframe\">\n",
              "  <thead>\n",
              "    <tr style=\"text-align: right;\">\n",
              "      <th></th>\n",
              "      <th>Nombre</th>\n",
              "      <th>Edad</th>\n",
              "      <th>Altura</th>\n",
              "      <th>Genero</th>\n",
              "      <th>Ciudad</th>\n",
              "    </tr>\n",
              "  </thead>\n",
              "  <tbody>\n",
              "    <tr>\n",
              "      <th>0</th>\n",
              "      <td>Juan</td>\n",
              "      <td>25</td>\n",
              "      <td>1.65</td>\n",
              "      <td>M</td>\n",
              "      <td>Rosario</td>\n",
              "    </tr>\n",
              "    <tr>\n",
              "      <th>1</th>\n",
              "      <td>Laura</td>\n",
              "      <td>36</td>\n",
              "      <td>1.62</td>\n",
              "      <td>F</td>\n",
              "      <td>Rosario</td>\n",
              "    </tr>\n",
              "    <tr>\n",
              "      <th>2</th>\n",
              "      <td>Sara</td>\n",
              "      <td>40</td>\n",
              "      <td>1.59</td>\n",
              "      <td>F</td>\n",
              "      <td>Funes</td>\n",
              "    </tr>\n",
              "    <tr>\n",
              "      <th>3</th>\n",
              "      <td>Antonio</td>\n",
              "      <td>41</td>\n",
              "      <td>1.68</td>\n",
              "      <td>M</td>\n",
              "      <td>Roldán</td>\n",
              "    </tr>\n",
              "    <tr>\n",
              "      <th>4</th>\n",
              "      <td>Luisa</td>\n",
              "      <td>29</td>\n",
              "      <td>1.66</td>\n",
              "      <td>F</td>\n",
              "      <td>Rosario</td>\n",
              "    </tr>\n",
              "  </tbody>\n",
              "</table>\n",
              "</div>\n",
              "    <div class=\"colab-df-buttons\">\n",
              "\n",
              "  <div class=\"colab-df-container\">\n",
              "    <button class=\"colab-df-convert\" onclick=\"convertToInteractive('df-b6519b82-b615-4f73-8426-cec467f17006')\"\n",
              "            title=\"Convert this dataframe to an interactive table.\"\n",
              "            style=\"display:none;\">\n",
              "\n",
              "  <svg xmlns=\"http://www.w3.org/2000/svg\" height=\"24px\" viewBox=\"0 -960 960 960\">\n",
              "    <path d=\"M120-120v-720h720v720H120Zm60-500h600v-160H180v160Zm220 220h160v-160H400v160Zm0 220h160v-160H400v160ZM180-400h160v-160H180v160Zm440 0h160v-160H620v160ZM180-180h160v-160H180v160Zm440 0h160v-160H620v160Z\"/>\n",
              "  </svg>\n",
              "    </button>\n",
              "\n",
              "  <style>\n",
              "    .colab-df-container {\n",
              "      display:flex;\n",
              "      gap: 12px;\n",
              "    }\n",
              "\n",
              "    .colab-df-convert {\n",
              "      background-color: #E8F0FE;\n",
              "      border: none;\n",
              "      border-radius: 50%;\n",
              "      cursor: pointer;\n",
              "      display: none;\n",
              "      fill: #1967D2;\n",
              "      height: 32px;\n",
              "      padding: 0 0 0 0;\n",
              "      width: 32px;\n",
              "    }\n",
              "\n",
              "    .colab-df-convert:hover {\n",
              "      background-color: #E2EBFA;\n",
              "      box-shadow: 0px 1px 2px rgba(60, 64, 67, 0.3), 0px 1px 3px 1px rgba(60, 64, 67, 0.15);\n",
              "      fill: #174EA6;\n",
              "    }\n",
              "\n",
              "    .colab-df-buttons div {\n",
              "      margin-bottom: 4px;\n",
              "    }\n",
              "\n",
              "    [theme=dark] .colab-df-convert {\n",
              "      background-color: #3B4455;\n",
              "      fill: #D2E3FC;\n",
              "    }\n",
              "\n",
              "    [theme=dark] .colab-df-convert:hover {\n",
              "      background-color: #434B5C;\n",
              "      box-shadow: 0px 1px 3px 1px rgba(0, 0, 0, 0.15);\n",
              "      filter: drop-shadow(0px 1px 2px rgba(0, 0, 0, 0.3));\n",
              "      fill: #FFFFFF;\n",
              "    }\n",
              "  </style>\n",
              "\n",
              "    <script>\n",
              "      const buttonEl =\n",
              "        document.querySelector('#df-b6519b82-b615-4f73-8426-cec467f17006 button.colab-df-convert');\n",
              "      buttonEl.style.display =\n",
              "        google.colab.kernel.accessAllowed ? 'block' : 'none';\n",
              "\n",
              "      async function convertToInteractive(key) {\n",
              "        const element = document.querySelector('#df-b6519b82-b615-4f73-8426-cec467f17006');\n",
              "        const dataTable =\n",
              "          await google.colab.kernel.invokeFunction('convertToInteractive',\n",
              "                                                    [key], {});\n",
              "        if (!dataTable) return;\n",
              "\n",
              "        const docLinkHtml = 'Like what you see? Visit the ' +\n",
              "          '<a target=\"_blank\" href=https://colab.research.google.com/notebooks/data_table.ipynb>data table notebook</a>'\n",
              "          + ' to learn more about interactive tables.';\n",
              "        element.innerHTML = '';\n",
              "        dataTable['output_type'] = 'display_data';\n",
              "        await google.colab.output.renderOutput(dataTable, element);\n",
              "        const docLink = document.createElement('div');\n",
              "        docLink.innerHTML = docLinkHtml;\n",
              "        element.appendChild(docLink);\n",
              "      }\n",
              "    </script>\n",
              "  </div>\n",
              "\n",
              "\n",
              "    <div id=\"df-7c7d88ed-7611-4da4-8398-315f2766ca3b\">\n",
              "      <button class=\"colab-df-quickchart\" onclick=\"quickchart('df-7c7d88ed-7611-4da4-8398-315f2766ca3b')\"\n",
              "                title=\"Suggest charts\"\n",
              "                style=\"display:none;\">\n",
              "\n",
              "<svg xmlns=\"http://www.w3.org/2000/svg\" height=\"24px\"viewBox=\"0 0 24 24\"\n",
              "     width=\"24px\">\n",
              "    <g>\n",
              "        <path d=\"M19 3H5c-1.1 0-2 .9-2 2v14c0 1.1.9 2 2 2h14c1.1 0 2-.9 2-2V5c0-1.1-.9-2-2-2zM9 17H7v-7h2v7zm4 0h-2V7h2v10zm4 0h-2v-4h2v4z\"/>\n",
              "    </g>\n",
              "</svg>\n",
              "      </button>\n",
              "\n",
              "<style>\n",
              "  .colab-df-quickchart {\n",
              "      --bg-color: #E8F0FE;\n",
              "      --fill-color: #1967D2;\n",
              "      --hover-bg-color: #E2EBFA;\n",
              "      --hover-fill-color: #174EA6;\n",
              "      --disabled-fill-color: #AAA;\n",
              "      --disabled-bg-color: #DDD;\n",
              "  }\n",
              "\n",
              "  [theme=dark] .colab-df-quickchart {\n",
              "      --bg-color: #3B4455;\n",
              "      --fill-color: #D2E3FC;\n",
              "      --hover-bg-color: #434B5C;\n",
              "      --hover-fill-color: #FFFFFF;\n",
              "      --disabled-bg-color: #3B4455;\n",
              "      --disabled-fill-color: #666;\n",
              "  }\n",
              "\n",
              "  .colab-df-quickchart {\n",
              "    background-color: var(--bg-color);\n",
              "    border: none;\n",
              "    border-radius: 50%;\n",
              "    cursor: pointer;\n",
              "    display: none;\n",
              "    fill: var(--fill-color);\n",
              "    height: 32px;\n",
              "    padding: 0;\n",
              "    width: 32px;\n",
              "  }\n",
              "\n",
              "  .colab-df-quickchart:hover {\n",
              "    background-color: var(--hover-bg-color);\n",
              "    box-shadow: 0 1px 2px rgba(60, 64, 67, 0.3), 0 1px 3px 1px rgba(60, 64, 67, 0.15);\n",
              "    fill: var(--button-hover-fill-color);\n",
              "  }\n",
              "\n",
              "  .colab-df-quickchart-complete:disabled,\n",
              "  .colab-df-quickchart-complete:disabled:hover {\n",
              "    background-color: var(--disabled-bg-color);\n",
              "    fill: var(--disabled-fill-color);\n",
              "    box-shadow: none;\n",
              "  }\n",
              "\n",
              "  .colab-df-spinner {\n",
              "    border: 2px solid var(--fill-color);\n",
              "    border-color: transparent;\n",
              "    border-bottom-color: var(--fill-color);\n",
              "    animation:\n",
              "      spin 1s steps(1) infinite;\n",
              "  }\n",
              "\n",
              "  @keyframes spin {\n",
              "    0% {\n",
              "      border-color: transparent;\n",
              "      border-bottom-color: var(--fill-color);\n",
              "      border-left-color: var(--fill-color);\n",
              "    }\n",
              "    20% {\n",
              "      border-color: transparent;\n",
              "      border-left-color: var(--fill-color);\n",
              "      border-top-color: var(--fill-color);\n",
              "    }\n",
              "    30% {\n",
              "      border-color: transparent;\n",
              "      border-left-color: var(--fill-color);\n",
              "      border-top-color: var(--fill-color);\n",
              "      border-right-color: var(--fill-color);\n",
              "    }\n",
              "    40% {\n",
              "      border-color: transparent;\n",
              "      border-right-color: var(--fill-color);\n",
              "      border-top-color: var(--fill-color);\n",
              "    }\n",
              "    60% {\n",
              "      border-color: transparent;\n",
              "      border-right-color: var(--fill-color);\n",
              "    }\n",
              "    80% {\n",
              "      border-color: transparent;\n",
              "      border-right-color: var(--fill-color);\n",
              "      border-bottom-color: var(--fill-color);\n",
              "    }\n",
              "    90% {\n",
              "      border-color: transparent;\n",
              "      border-bottom-color: var(--fill-color);\n",
              "    }\n",
              "  }\n",
              "</style>\n",
              "\n",
              "      <script>\n",
              "        async function quickchart(key) {\n",
              "          const quickchartButtonEl =\n",
              "            document.querySelector('#' + key + ' button');\n",
              "          quickchartButtonEl.disabled = true;  // To prevent multiple clicks.\n",
              "          quickchartButtonEl.classList.add('colab-df-spinner');\n",
              "          try {\n",
              "            const charts = await google.colab.kernel.invokeFunction(\n",
              "                'suggestCharts', [key], {});\n",
              "          } catch (error) {\n",
              "            console.error('Error during call to suggestCharts:', error);\n",
              "          }\n",
              "          quickchartButtonEl.classList.remove('colab-df-spinner');\n",
              "          quickchartButtonEl.classList.add('colab-df-quickchart-complete');\n",
              "        }\n",
              "        (() => {\n",
              "          let quickchartButtonEl =\n",
              "            document.querySelector('#df-7c7d88ed-7611-4da4-8398-315f2766ca3b button');\n",
              "          quickchartButtonEl.style.display =\n",
              "            google.colab.kernel.accessAllowed ? 'block' : 'none';\n",
              "        })();\n",
              "      </script>\n",
              "    </div>\n",
              "\n",
              "  <div id=\"id_ed5d2758-154e-4adb-a52e-0383e4e9eca1\">\n",
              "    <style>\n",
              "      .colab-df-generate {\n",
              "        background-color: #E8F0FE;\n",
              "        border: none;\n",
              "        border-radius: 50%;\n",
              "        cursor: pointer;\n",
              "        display: none;\n",
              "        fill: #1967D2;\n",
              "        height: 32px;\n",
              "        padding: 0 0 0 0;\n",
              "        width: 32px;\n",
              "      }\n",
              "\n",
              "      .colab-df-generate:hover {\n",
              "        background-color: #E2EBFA;\n",
              "        box-shadow: 0px 1px 2px rgba(60, 64, 67, 0.3), 0px 1px 3px 1px rgba(60, 64, 67, 0.15);\n",
              "        fill: #174EA6;\n",
              "      }\n",
              "\n",
              "      [theme=dark] .colab-df-generate {\n",
              "        background-color: #3B4455;\n",
              "        fill: #D2E3FC;\n",
              "      }\n",
              "\n",
              "      [theme=dark] .colab-df-generate:hover {\n",
              "        background-color: #434B5C;\n",
              "        box-shadow: 0px 1px 3px 1px rgba(0, 0, 0, 0.15);\n",
              "        filter: drop-shadow(0px 1px 2px rgba(0, 0, 0, 0.3));\n",
              "        fill: #FFFFFF;\n",
              "      }\n",
              "    </style>\n",
              "    <button class=\"colab-df-generate\" onclick=\"generateWithVariable('df')\"\n",
              "            title=\"Generate code using this dataframe.\"\n",
              "            style=\"display:none;\">\n",
              "\n",
              "  <svg xmlns=\"http://www.w3.org/2000/svg\" height=\"24px\"viewBox=\"0 0 24 24\"\n",
              "       width=\"24px\">\n",
              "    <path d=\"M7,19H8.4L18.45,9,17,7.55,7,17.6ZM5,21V16.75L18.45,3.32a2,2,0,0,1,2.83,0l1.4,1.43a1.91,1.91,0,0,1,.58,1.4,1.91,1.91,0,0,1-.58,1.4L9.25,21ZM18.45,9,17,7.55Zm-12,3A5.31,5.31,0,0,0,4.9,8.1,5.31,5.31,0,0,0,1,6.5,5.31,5.31,0,0,0,4.9,4.9,5.31,5.31,0,0,0,6.5,1,5.31,5.31,0,0,0,8.1,4.9,5.31,5.31,0,0,0,12,6.5,5.46,5.46,0,0,0,6.5,12Z\"/>\n",
              "  </svg>\n",
              "    </button>\n",
              "    <script>\n",
              "      (() => {\n",
              "      const buttonEl =\n",
              "        document.querySelector('#id_ed5d2758-154e-4adb-a52e-0383e4e9eca1 button.colab-df-generate');\n",
              "      buttonEl.style.display =\n",
              "        google.colab.kernel.accessAllowed ? 'block' : 'none';\n",
              "\n",
              "      buttonEl.onclick = () => {\n",
              "        google.colab.notebook.generateWithVariable('df');\n",
              "      }\n",
              "      })();\n",
              "    </script>\n",
              "  </div>\n",
              "\n",
              "    </div>\n",
              "  </div>\n"
            ],
            "application/vnd.google.colaboratory.intrinsic+json": {
              "type": "dataframe",
              "variable_name": "df",
              "summary": "{\n  \"name\": \"df\",\n  \"rows\": 5,\n  \"fields\": [\n    {\n      \"column\": \"Nombre\",\n      \"properties\": {\n        \"dtype\": \"string\",\n        \"num_unique_values\": 5,\n        \"samples\": [\n          \"Laura\",\n          \"Luisa\",\n          \"Sara\"\n        ],\n        \"semantic_type\": \"\",\n        \"description\": \"\"\n      }\n    },\n    {\n      \"column\": \"Edad\",\n      \"properties\": {\n        \"dtype\": \"number\",\n        \"std\": 6,\n        \"min\": 25,\n        \"max\": 41,\n        \"num_unique_values\": 5,\n        \"samples\": [\n          36,\n          29,\n          40\n        ],\n        \"semantic_type\": \"\",\n        \"description\": \"\"\n      }\n    },\n    {\n      \"column\": \"Altura\",\n      \"properties\": {\n        \"dtype\": \"number\",\n        \"std\": 0.0353553390593273,\n        \"min\": 1.59,\n        \"max\": 1.68,\n        \"num_unique_values\": 5,\n        \"samples\": [\n          1.62,\n          1.66,\n          1.59\n        ],\n        \"semantic_type\": \"\",\n        \"description\": \"\"\n      }\n    },\n    {\n      \"column\": \"Genero\",\n      \"properties\": {\n        \"dtype\": \"category\",\n        \"num_unique_values\": 2,\n        \"samples\": [\n          \"F\",\n          \"M\"\n        ],\n        \"semantic_type\": \"\",\n        \"description\": \"\"\n      }\n    },\n    {\n      \"column\": \"Ciudad\",\n      \"properties\": {\n        \"dtype\": \"string\",\n        \"num_unique_values\": 3,\n        \"samples\": [\n          \"Rosario\",\n          \"Funes\"\n        ],\n        \"semantic_type\": \"\",\n        \"description\": \"\"\n      }\n    }\n  ]\n}"
            }
          },
          "metadata": {},
          "execution_count": 6
        }
      ]
    },
    {
      "cell_type": "code",
      "source": [
        "# informacion sobre el dataframe\n",
        "# obtener un resumen rápido y conciso de la estructura\n",
        "df.info()\n",
        "# columnas: nombre, nº de nulos, Tipo de datos\n",
        "# Dataframe: Nº filas y columnas,Índice, Uso de memoria"
      ],
      "metadata": {
        "id": "e2TKBVknVhe9",
        "colab": {
          "base_uri": "https://localhost:8080/"
        },
        "outputId": "07280542-5953-4c6e-aec7-27b310a12d5f"
      },
      "execution_count": null,
      "outputs": [
        {
          "output_type": "stream",
          "name": "stdout",
          "text": [
            "<class 'pandas.core.frame.DataFrame'>\n",
            "RangeIndex: 5 entries, 0 to 4\n",
            "Data columns (total 5 columns):\n",
            " #   Column  Non-Null Count  Dtype  \n",
            "---  ------  --------------  -----  \n",
            " 0   Nombre  5 non-null      object \n",
            " 1   Edad    5 non-null      int64  \n",
            " 2   Altura  5 non-null      float64\n",
            " 3   Genero  5 non-null      object \n",
            " 4   Ciudad  5 non-null      object \n",
            "dtypes: float64(1), int64(1), object(3)\n",
            "memory usage: 332.0+ bytes\n"
          ]
        }
      ]
    },
    {
      "cell_type": "code",
      "source": [
        "# inspeccionar las primeras filas del df\n",
        "df.head()"
      ],
      "metadata": {
        "id": "_wGvXyGZVzb-",
        "colab": {
          "base_uri": "https://localhost:8080/",
          "height": 206
        },
        "outputId": "be28e873-86c2-4517-f995-6ff78d06240a"
      },
      "execution_count": null,
      "outputs": [
        {
          "output_type": "execute_result",
          "data": {
            "text/plain": [
              "    Nombre  Edad  Altura Genero   Ciudad\n",
              "0     Juan    25    1.65      M  Rosario\n",
              "1    Laura    36    1.62      F  Rosario\n",
              "2     Sara    40    1.59      F    Funes\n",
              "3  Antonio    41    1.68      M   Roldán\n",
              "4    Luisa    29    1.66      F  Rosario"
            ],
            "text/html": [
              "\n",
              "  <div id=\"df-74260bb6-6e66-42de-b8fc-4a6770203bd1\" class=\"colab-df-container\">\n",
              "    <div>\n",
              "<style scoped>\n",
              "    .dataframe tbody tr th:only-of-type {\n",
              "        vertical-align: middle;\n",
              "    }\n",
              "\n",
              "    .dataframe tbody tr th {\n",
              "        vertical-align: top;\n",
              "    }\n",
              "\n",
              "    .dataframe thead th {\n",
              "        text-align: right;\n",
              "    }\n",
              "</style>\n",
              "<table border=\"1\" class=\"dataframe\">\n",
              "  <thead>\n",
              "    <tr style=\"text-align: right;\">\n",
              "      <th></th>\n",
              "      <th>Nombre</th>\n",
              "      <th>Edad</th>\n",
              "      <th>Altura</th>\n",
              "      <th>Genero</th>\n",
              "      <th>Ciudad</th>\n",
              "    </tr>\n",
              "  </thead>\n",
              "  <tbody>\n",
              "    <tr>\n",
              "      <th>0</th>\n",
              "      <td>Juan</td>\n",
              "      <td>25</td>\n",
              "      <td>1.65</td>\n",
              "      <td>M</td>\n",
              "      <td>Rosario</td>\n",
              "    </tr>\n",
              "    <tr>\n",
              "      <th>1</th>\n",
              "      <td>Laura</td>\n",
              "      <td>36</td>\n",
              "      <td>1.62</td>\n",
              "      <td>F</td>\n",
              "      <td>Rosario</td>\n",
              "    </tr>\n",
              "    <tr>\n",
              "      <th>2</th>\n",
              "      <td>Sara</td>\n",
              "      <td>40</td>\n",
              "      <td>1.59</td>\n",
              "      <td>F</td>\n",
              "      <td>Funes</td>\n",
              "    </tr>\n",
              "    <tr>\n",
              "      <th>3</th>\n",
              "      <td>Antonio</td>\n",
              "      <td>41</td>\n",
              "      <td>1.68</td>\n",
              "      <td>M</td>\n",
              "      <td>Roldán</td>\n",
              "    </tr>\n",
              "    <tr>\n",
              "      <th>4</th>\n",
              "      <td>Luisa</td>\n",
              "      <td>29</td>\n",
              "      <td>1.66</td>\n",
              "      <td>F</td>\n",
              "      <td>Rosario</td>\n",
              "    </tr>\n",
              "  </tbody>\n",
              "</table>\n",
              "</div>\n",
              "    <div class=\"colab-df-buttons\">\n",
              "\n",
              "  <div class=\"colab-df-container\">\n",
              "    <button class=\"colab-df-convert\" onclick=\"convertToInteractive('df-74260bb6-6e66-42de-b8fc-4a6770203bd1')\"\n",
              "            title=\"Convert this dataframe to an interactive table.\"\n",
              "            style=\"display:none;\">\n",
              "\n",
              "  <svg xmlns=\"http://www.w3.org/2000/svg\" height=\"24px\" viewBox=\"0 -960 960 960\">\n",
              "    <path d=\"M120-120v-720h720v720H120Zm60-500h600v-160H180v160Zm220 220h160v-160H400v160Zm0 220h160v-160H400v160ZM180-400h160v-160H180v160Zm440 0h160v-160H620v160ZM180-180h160v-160H180v160Zm440 0h160v-160H620v160Z\"/>\n",
              "  </svg>\n",
              "    </button>\n",
              "\n",
              "  <style>\n",
              "    .colab-df-container {\n",
              "      display:flex;\n",
              "      gap: 12px;\n",
              "    }\n",
              "\n",
              "    .colab-df-convert {\n",
              "      background-color: #E8F0FE;\n",
              "      border: none;\n",
              "      border-radius: 50%;\n",
              "      cursor: pointer;\n",
              "      display: none;\n",
              "      fill: #1967D2;\n",
              "      height: 32px;\n",
              "      padding: 0 0 0 0;\n",
              "      width: 32px;\n",
              "    }\n",
              "\n",
              "    .colab-df-convert:hover {\n",
              "      background-color: #E2EBFA;\n",
              "      box-shadow: 0px 1px 2px rgba(60, 64, 67, 0.3), 0px 1px 3px 1px rgba(60, 64, 67, 0.15);\n",
              "      fill: #174EA6;\n",
              "    }\n",
              "\n",
              "    .colab-df-buttons div {\n",
              "      margin-bottom: 4px;\n",
              "    }\n",
              "\n",
              "    [theme=dark] .colab-df-convert {\n",
              "      background-color: #3B4455;\n",
              "      fill: #D2E3FC;\n",
              "    }\n",
              "\n",
              "    [theme=dark] .colab-df-convert:hover {\n",
              "      background-color: #434B5C;\n",
              "      box-shadow: 0px 1px 3px 1px rgba(0, 0, 0, 0.15);\n",
              "      filter: drop-shadow(0px 1px 2px rgba(0, 0, 0, 0.3));\n",
              "      fill: #FFFFFF;\n",
              "    }\n",
              "  </style>\n",
              "\n",
              "    <script>\n",
              "      const buttonEl =\n",
              "        document.querySelector('#df-74260bb6-6e66-42de-b8fc-4a6770203bd1 button.colab-df-convert');\n",
              "      buttonEl.style.display =\n",
              "        google.colab.kernel.accessAllowed ? 'block' : 'none';\n",
              "\n",
              "      async function convertToInteractive(key) {\n",
              "        const element = document.querySelector('#df-74260bb6-6e66-42de-b8fc-4a6770203bd1');\n",
              "        const dataTable =\n",
              "          await google.colab.kernel.invokeFunction('convertToInteractive',\n",
              "                                                    [key], {});\n",
              "        if (!dataTable) return;\n",
              "\n",
              "        const docLinkHtml = 'Like what you see? Visit the ' +\n",
              "          '<a target=\"_blank\" href=https://colab.research.google.com/notebooks/data_table.ipynb>data table notebook</a>'\n",
              "          + ' to learn more about interactive tables.';\n",
              "        element.innerHTML = '';\n",
              "        dataTable['output_type'] = 'display_data';\n",
              "        await google.colab.output.renderOutput(dataTable, element);\n",
              "        const docLink = document.createElement('div');\n",
              "        docLink.innerHTML = docLinkHtml;\n",
              "        element.appendChild(docLink);\n",
              "      }\n",
              "    </script>\n",
              "  </div>\n",
              "\n",
              "\n",
              "    <div id=\"df-12826a41-d413-4107-a303-20864c8492d9\">\n",
              "      <button class=\"colab-df-quickchart\" onclick=\"quickchart('df-12826a41-d413-4107-a303-20864c8492d9')\"\n",
              "                title=\"Suggest charts\"\n",
              "                style=\"display:none;\">\n",
              "\n",
              "<svg xmlns=\"http://www.w3.org/2000/svg\" height=\"24px\"viewBox=\"0 0 24 24\"\n",
              "     width=\"24px\">\n",
              "    <g>\n",
              "        <path d=\"M19 3H5c-1.1 0-2 .9-2 2v14c0 1.1.9 2 2 2h14c1.1 0 2-.9 2-2V5c0-1.1-.9-2-2-2zM9 17H7v-7h2v7zm4 0h-2V7h2v10zm4 0h-2v-4h2v4z\"/>\n",
              "    </g>\n",
              "</svg>\n",
              "      </button>\n",
              "\n",
              "<style>\n",
              "  .colab-df-quickchart {\n",
              "      --bg-color: #E8F0FE;\n",
              "      --fill-color: #1967D2;\n",
              "      --hover-bg-color: #E2EBFA;\n",
              "      --hover-fill-color: #174EA6;\n",
              "      --disabled-fill-color: #AAA;\n",
              "      --disabled-bg-color: #DDD;\n",
              "  }\n",
              "\n",
              "  [theme=dark] .colab-df-quickchart {\n",
              "      --bg-color: #3B4455;\n",
              "      --fill-color: #D2E3FC;\n",
              "      --hover-bg-color: #434B5C;\n",
              "      --hover-fill-color: #FFFFFF;\n",
              "      --disabled-bg-color: #3B4455;\n",
              "      --disabled-fill-color: #666;\n",
              "  }\n",
              "\n",
              "  .colab-df-quickchart {\n",
              "    background-color: var(--bg-color);\n",
              "    border: none;\n",
              "    border-radius: 50%;\n",
              "    cursor: pointer;\n",
              "    display: none;\n",
              "    fill: var(--fill-color);\n",
              "    height: 32px;\n",
              "    padding: 0;\n",
              "    width: 32px;\n",
              "  }\n",
              "\n",
              "  .colab-df-quickchart:hover {\n",
              "    background-color: var(--hover-bg-color);\n",
              "    box-shadow: 0 1px 2px rgba(60, 64, 67, 0.3), 0 1px 3px 1px rgba(60, 64, 67, 0.15);\n",
              "    fill: var(--button-hover-fill-color);\n",
              "  }\n",
              "\n",
              "  .colab-df-quickchart-complete:disabled,\n",
              "  .colab-df-quickchart-complete:disabled:hover {\n",
              "    background-color: var(--disabled-bg-color);\n",
              "    fill: var(--disabled-fill-color);\n",
              "    box-shadow: none;\n",
              "  }\n",
              "\n",
              "  .colab-df-spinner {\n",
              "    border: 2px solid var(--fill-color);\n",
              "    border-color: transparent;\n",
              "    border-bottom-color: var(--fill-color);\n",
              "    animation:\n",
              "      spin 1s steps(1) infinite;\n",
              "  }\n",
              "\n",
              "  @keyframes spin {\n",
              "    0% {\n",
              "      border-color: transparent;\n",
              "      border-bottom-color: var(--fill-color);\n",
              "      border-left-color: var(--fill-color);\n",
              "    }\n",
              "    20% {\n",
              "      border-color: transparent;\n",
              "      border-left-color: var(--fill-color);\n",
              "      border-top-color: var(--fill-color);\n",
              "    }\n",
              "    30% {\n",
              "      border-color: transparent;\n",
              "      border-left-color: var(--fill-color);\n",
              "      border-top-color: var(--fill-color);\n",
              "      border-right-color: var(--fill-color);\n",
              "    }\n",
              "    40% {\n",
              "      border-color: transparent;\n",
              "      border-right-color: var(--fill-color);\n",
              "      border-top-color: var(--fill-color);\n",
              "    }\n",
              "    60% {\n",
              "      border-color: transparent;\n",
              "      border-right-color: var(--fill-color);\n",
              "    }\n",
              "    80% {\n",
              "      border-color: transparent;\n",
              "      border-right-color: var(--fill-color);\n",
              "      border-bottom-color: var(--fill-color);\n",
              "    }\n",
              "    90% {\n",
              "      border-color: transparent;\n",
              "      border-bottom-color: var(--fill-color);\n",
              "    }\n",
              "  }\n",
              "</style>\n",
              "\n",
              "      <script>\n",
              "        async function quickchart(key) {\n",
              "          const quickchartButtonEl =\n",
              "            document.querySelector('#' + key + ' button');\n",
              "          quickchartButtonEl.disabled = true;  // To prevent multiple clicks.\n",
              "          quickchartButtonEl.classList.add('colab-df-spinner');\n",
              "          try {\n",
              "            const charts = await google.colab.kernel.invokeFunction(\n",
              "                'suggestCharts', [key], {});\n",
              "          } catch (error) {\n",
              "            console.error('Error during call to suggestCharts:', error);\n",
              "          }\n",
              "          quickchartButtonEl.classList.remove('colab-df-spinner');\n",
              "          quickchartButtonEl.classList.add('colab-df-quickchart-complete');\n",
              "        }\n",
              "        (() => {\n",
              "          let quickchartButtonEl =\n",
              "            document.querySelector('#df-12826a41-d413-4107-a303-20864c8492d9 button');\n",
              "          quickchartButtonEl.style.display =\n",
              "            google.colab.kernel.accessAllowed ? 'block' : 'none';\n",
              "        })();\n",
              "      </script>\n",
              "    </div>\n",
              "\n",
              "    </div>\n",
              "  </div>\n"
            ],
            "application/vnd.google.colaboratory.intrinsic+json": {
              "type": "dataframe",
              "variable_name": "df",
              "summary": "{\n  \"name\": \"df\",\n  \"rows\": 5,\n  \"fields\": [\n    {\n      \"column\": \"Nombre\",\n      \"properties\": {\n        \"dtype\": \"string\",\n        \"num_unique_values\": 5,\n        \"samples\": [\n          \"Laura\",\n          \"Luisa\",\n          \"Sara\"\n        ],\n        \"semantic_type\": \"\",\n        \"description\": \"\"\n      }\n    },\n    {\n      \"column\": \"Edad\",\n      \"properties\": {\n        \"dtype\": \"number\",\n        \"std\": 6,\n        \"min\": 25,\n        \"max\": 41,\n        \"num_unique_values\": 5,\n        \"samples\": [\n          36,\n          29,\n          40\n        ],\n        \"semantic_type\": \"\",\n        \"description\": \"\"\n      }\n    },\n    {\n      \"column\": \"Altura\",\n      \"properties\": {\n        \"dtype\": \"number\",\n        \"std\": 0.0353553390593273,\n        \"min\": 1.59,\n        \"max\": 1.68,\n        \"num_unique_values\": 5,\n        \"samples\": [\n          1.62,\n          1.66,\n          1.59\n        ],\n        \"semantic_type\": \"\",\n        \"description\": \"\"\n      }\n    },\n    {\n      \"column\": \"Genero\",\n      \"properties\": {\n        \"dtype\": \"category\",\n        \"num_unique_values\": 2,\n        \"samples\": [\n          \"F\",\n          \"M\"\n        ],\n        \"semantic_type\": \"\",\n        \"description\": \"\"\n      }\n    },\n    {\n      \"column\": \"Ciudad\",\n      \"properties\": {\n        \"dtype\": \"string\",\n        \"num_unique_values\": 3,\n        \"samples\": [\n          \"Rosario\",\n          \"Funes\"\n        ],\n        \"semantic_type\": \"\",\n        \"description\": \"\"\n      }\n    }\n  ]\n}"
            }
          },
          "metadata": {},
          "execution_count": 8
        }
      ]
    },
    {
      "cell_type": "code",
      "source": [
        "# inspeccionar las últimas filas del df\n",
        "df.tail()"
      ],
      "metadata": {
        "id": "F5Rc2bVEV1yE",
        "colab": {
          "base_uri": "https://localhost:8080/",
          "height": 206
        },
        "outputId": "10c23e67-706a-4428-a125-dd7a44a11015"
      },
      "execution_count": null,
      "outputs": [
        {
          "output_type": "execute_result",
          "data": {
            "text/plain": [
              "    Nombre  Edad  Altura Genero   Ciudad\n",
              "0     Juan    25    1.65      M  Rosario\n",
              "1    Laura    36    1.62      F  Rosario\n",
              "2     Sara    40    1.59      F    Funes\n",
              "3  Antonio    41    1.68      M   Roldán\n",
              "4    Luisa    29    1.66      F  Rosario"
            ],
            "text/html": [
              "\n",
              "  <div id=\"df-35725853-9f63-4f06-8f49-7e6e0351c4e7\" class=\"colab-df-container\">\n",
              "    <div>\n",
              "<style scoped>\n",
              "    .dataframe tbody tr th:only-of-type {\n",
              "        vertical-align: middle;\n",
              "    }\n",
              "\n",
              "    .dataframe tbody tr th {\n",
              "        vertical-align: top;\n",
              "    }\n",
              "\n",
              "    .dataframe thead th {\n",
              "        text-align: right;\n",
              "    }\n",
              "</style>\n",
              "<table border=\"1\" class=\"dataframe\">\n",
              "  <thead>\n",
              "    <tr style=\"text-align: right;\">\n",
              "      <th></th>\n",
              "      <th>Nombre</th>\n",
              "      <th>Edad</th>\n",
              "      <th>Altura</th>\n",
              "      <th>Genero</th>\n",
              "      <th>Ciudad</th>\n",
              "    </tr>\n",
              "  </thead>\n",
              "  <tbody>\n",
              "    <tr>\n",
              "      <th>0</th>\n",
              "      <td>Juan</td>\n",
              "      <td>25</td>\n",
              "      <td>1.65</td>\n",
              "      <td>M</td>\n",
              "      <td>Rosario</td>\n",
              "    </tr>\n",
              "    <tr>\n",
              "      <th>1</th>\n",
              "      <td>Laura</td>\n",
              "      <td>36</td>\n",
              "      <td>1.62</td>\n",
              "      <td>F</td>\n",
              "      <td>Rosario</td>\n",
              "    </tr>\n",
              "    <tr>\n",
              "      <th>2</th>\n",
              "      <td>Sara</td>\n",
              "      <td>40</td>\n",
              "      <td>1.59</td>\n",
              "      <td>F</td>\n",
              "      <td>Funes</td>\n",
              "    </tr>\n",
              "    <tr>\n",
              "      <th>3</th>\n",
              "      <td>Antonio</td>\n",
              "      <td>41</td>\n",
              "      <td>1.68</td>\n",
              "      <td>M</td>\n",
              "      <td>Roldán</td>\n",
              "    </tr>\n",
              "    <tr>\n",
              "      <th>4</th>\n",
              "      <td>Luisa</td>\n",
              "      <td>29</td>\n",
              "      <td>1.66</td>\n",
              "      <td>F</td>\n",
              "      <td>Rosario</td>\n",
              "    </tr>\n",
              "  </tbody>\n",
              "</table>\n",
              "</div>\n",
              "    <div class=\"colab-df-buttons\">\n",
              "\n",
              "  <div class=\"colab-df-container\">\n",
              "    <button class=\"colab-df-convert\" onclick=\"convertToInteractive('df-35725853-9f63-4f06-8f49-7e6e0351c4e7')\"\n",
              "            title=\"Convert this dataframe to an interactive table.\"\n",
              "            style=\"display:none;\">\n",
              "\n",
              "  <svg xmlns=\"http://www.w3.org/2000/svg\" height=\"24px\" viewBox=\"0 -960 960 960\">\n",
              "    <path d=\"M120-120v-720h720v720H120Zm60-500h600v-160H180v160Zm220 220h160v-160H400v160Zm0 220h160v-160H400v160ZM180-400h160v-160H180v160Zm440 0h160v-160H620v160ZM180-180h160v-160H180v160Zm440 0h160v-160H620v160Z\"/>\n",
              "  </svg>\n",
              "    </button>\n",
              "\n",
              "  <style>\n",
              "    .colab-df-container {\n",
              "      display:flex;\n",
              "      gap: 12px;\n",
              "    }\n",
              "\n",
              "    .colab-df-convert {\n",
              "      background-color: #E8F0FE;\n",
              "      border: none;\n",
              "      border-radius: 50%;\n",
              "      cursor: pointer;\n",
              "      display: none;\n",
              "      fill: #1967D2;\n",
              "      height: 32px;\n",
              "      padding: 0 0 0 0;\n",
              "      width: 32px;\n",
              "    }\n",
              "\n",
              "    .colab-df-convert:hover {\n",
              "      background-color: #E2EBFA;\n",
              "      box-shadow: 0px 1px 2px rgba(60, 64, 67, 0.3), 0px 1px 3px 1px rgba(60, 64, 67, 0.15);\n",
              "      fill: #174EA6;\n",
              "    }\n",
              "\n",
              "    .colab-df-buttons div {\n",
              "      margin-bottom: 4px;\n",
              "    }\n",
              "\n",
              "    [theme=dark] .colab-df-convert {\n",
              "      background-color: #3B4455;\n",
              "      fill: #D2E3FC;\n",
              "    }\n",
              "\n",
              "    [theme=dark] .colab-df-convert:hover {\n",
              "      background-color: #434B5C;\n",
              "      box-shadow: 0px 1px 3px 1px rgba(0, 0, 0, 0.15);\n",
              "      filter: drop-shadow(0px 1px 2px rgba(0, 0, 0, 0.3));\n",
              "      fill: #FFFFFF;\n",
              "    }\n",
              "  </style>\n",
              "\n",
              "    <script>\n",
              "      const buttonEl =\n",
              "        document.querySelector('#df-35725853-9f63-4f06-8f49-7e6e0351c4e7 button.colab-df-convert');\n",
              "      buttonEl.style.display =\n",
              "        google.colab.kernel.accessAllowed ? 'block' : 'none';\n",
              "\n",
              "      async function convertToInteractive(key) {\n",
              "        const element = document.querySelector('#df-35725853-9f63-4f06-8f49-7e6e0351c4e7');\n",
              "        const dataTable =\n",
              "          await google.colab.kernel.invokeFunction('convertToInteractive',\n",
              "                                                    [key], {});\n",
              "        if (!dataTable) return;\n",
              "\n",
              "        const docLinkHtml = 'Like what you see? Visit the ' +\n",
              "          '<a target=\"_blank\" href=https://colab.research.google.com/notebooks/data_table.ipynb>data table notebook</a>'\n",
              "          + ' to learn more about interactive tables.';\n",
              "        element.innerHTML = '';\n",
              "        dataTable['output_type'] = 'display_data';\n",
              "        await google.colab.output.renderOutput(dataTable, element);\n",
              "        const docLink = document.createElement('div');\n",
              "        docLink.innerHTML = docLinkHtml;\n",
              "        element.appendChild(docLink);\n",
              "      }\n",
              "    </script>\n",
              "  </div>\n",
              "\n",
              "\n",
              "    <div id=\"df-13d5df23-09c9-4281-bb59-5ef6606c75e0\">\n",
              "      <button class=\"colab-df-quickchart\" onclick=\"quickchart('df-13d5df23-09c9-4281-bb59-5ef6606c75e0')\"\n",
              "                title=\"Suggest charts\"\n",
              "                style=\"display:none;\">\n",
              "\n",
              "<svg xmlns=\"http://www.w3.org/2000/svg\" height=\"24px\"viewBox=\"0 0 24 24\"\n",
              "     width=\"24px\">\n",
              "    <g>\n",
              "        <path d=\"M19 3H5c-1.1 0-2 .9-2 2v14c0 1.1.9 2 2 2h14c1.1 0 2-.9 2-2V5c0-1.1-.9-2-2-2zM9 17H7v-7h2v7zm4 0h-2V7h2v10zm4 0h-2v-4h2v4z\"/>\n",
              "    </g>\n",
              "</svg>\n",
              "      </button>\n",
              "\n",
              "<style>\n",
              "  .colab-df-quickchart {\n",
              "      --bg-color: #E8F0FE;\n",
              "      --fill-color: #1967D2;\n",
              "      --hover-bg-color: #E2EBFA;\n",
              "      --hover-fill-color: #174EA6;\n",
              "      --disabled-fill-color: #AAA;\n",
              "      --disabled-bg-color: #DDD;\n",
              "  }\n",
              "\n",
              "  [theme=dark] .colab-df-quickchart {\n",
              "      --bg-color: #3B4455;\n",
              "      --fill-color: #D2E3FC;\n",
              "      --hover-bg-color: #434B5C;\n",
              "      --hover-fill-color: #FFFFFF;\n",
              "      --disabled-bg-color: #3B4455;\n",
              "      --disabled-fill-color: #666;\n",
              "  }\n",
              "\n",
              "  .colab-df-quickchart {\n",
              "    background-color: var(--bg-color);\n",
              "    border: none;\n",
              "    border-radius: 50%;\n",
              "    cursor: pointer;\n",
              "    display: none;\n",
              "    fill: var(--fill-color);\n",
              "    height: 32px;\n",
              "    padding: 0;\n",
              "    width: 32px;\n",
              "  }\n",
              "\n",
              "  .colab-df-quickchart:hover {\n",
              "    background-color: var(--hover-bg-color);\n",
              "    box-shadow: 0 1px 2px rgba(60, 64, 67, 0.3), 0 1px 3px 1px rgba(60, 64, 67, 0.15);\n",
              "    fill: var(--button-hover-fill-color);\n",
              "  }\n",
              "\n",
              "  .colab-df-quickchart-complete:disabled,\n",
              "  .colab-df-quickchart-complete:disabled:hover {\n",
              "    background-color: var(--disabled-bg-color);\n",
              "    fill: var(--disabled-fill-color);\n",
              "    box-shadow: none;\n",
              "  }\n",
              "\n",
              "  .colab-df-spinner {\n",
              "    border: 2px solid var(--fill-color);\n",
              "    border-color: transparent;\n",
              "    border-bottom-color: var(--fill-color);\n",
              "    animation:\n",
              "      spin 1s steps(1) infinite;\n",
              "  }\n",
              "\n",
              "  @keyframes spin {\n",
              "    0% {\n",
              "      border-color: transparent;\n",
              "      border-bottom-color: var(--fill-color);\n",
              "      border-left-color: var(--fill-color);\n",
              "    }\n",
              "    20% {\n",
              "      border-color: transparent;\n",
              "      border-left-color: var(--fill-color);\n",
              "      border-top-color: var(--fill-color);\n",
              "    }\n",
              "    30% {\n",
              "      border-color: transparent;\n",
              "      border-left-color: var(--fill-color);\n",
              "      border-top-color: var(--fill-color);\n",
              "      border-right-color: var(--fill-color);\n",
              "    }\n",
              "    40% {\n",
              "      border-color: transparent;\n",
              "      border-right-color: var(--fill-color);\n",
              "      border-top-color: var(--fill-color);\n",
              "    }\n",
              "    60% {\n",
              "      border-color: transparent;\n",
              "      border-right-color: var(--fill-color);\n",
              "    }\n",
              "    80% {\n",
              "      border-color: transparent;\n",
              "      border-right-color: var(--fill-color);\n",
              "      border-bottom-color: var(--fill-color);\n",
              "    }\n",
              "    90% {\n",
              "      border-color: transparent;\n",
              "      border-bottom-color: var(--fill-color);\n",
              "    }\n",
              "  }\n",
              "</style>\n",
              "\n",
              "      <script>\n",
              "        async function quickchart(key) {\n",
              "          const quickchartButtonEl =\n",
              "            document.querySelector('#' + key + ' button');\n",
              "          quickchartButtonEl.disabled = true;  // To prevent multiple clicks.\n",
              "          quickchartButtonEl.classList.add('colab-df-spinner');\n",
              "          try {\n",
              "            const charts = await google.colab.kernel.invokeFunction(\n",
              "                'suggestCharts', [key], {});\n",
              "          } catch (error) {\n",
              "            console.error('Error during call to suggestCharts:', error);\n",
              "          }\n",
              "          quickchartButtonEl.classList.remove('colab-df-spinner');\n",
              "          quickchartButtonEl.classList.add('colab-df-quickchart-complete');\n",
              "        }\n",
              "        (() => {\n",
              "          let quickchartButtonEl =\n",
              "            document.querySelector('#df-13d5df23-09c9-4281-bb59-5ef6606c75e0 button');\n",
              "          quickchartButtonEl.style.display =\n",
              "            google.colab.kernel.accessAllowed ? 'block' : 'none';\n",
              "        })();\n",
              "      </script>\n",
              "    </div>\n",
              "\n",
              "    </div>\n",
              "  </div>\n"
            ],
            "application/vnd.google.colaboratory.intrinsic+json": {
              "type": "dataframe",
              "summary": "{\n  \"name\": \"df\",\n  \"rows\": 5,\n  \"fields\": [\n    {\n      \"column\": \"Nombre\",\n      \"properties\": {\n        \"dtype\": \"string\",\n        \"num_unique_values\": 5,\n        \"samples\": [\n          \"Laura\",\n          \"Luisa\",\n          \"Sara\"\n        ],\n        \"semantic_type\": \"\",\n        \"description\": \"\"\n      }\n    },\n    {\n      \"column\": \"Edad\",\n      \"properties\": {\n        \"dtype\": \"number\",\n        \"std\": 6,\n        \"min\": 25,\n        \"max\": 41,\n        \"num_unique_values\": 5,\n        \"samples\": [\n          36,\n          29,\n          40\n        ],\n        \"semantic_type\": \"\",\n        \"description\": \"\"\n      }\n    },\n    {\n      \"column\": \"Altura\",\n      \"properties\": {\n        \"dtype\": \"number\",\n        \"std\": 0.0353553390593273,\n        \"min\": 1.59,\n        \"max\": 1.68,\n        \"num_unique_values\": 5,\n        \"samples\": [\n          1.62,\n          1.66,\n          1.59\n        ],\n        \"semantic_type\": \"\",\n        \"description\": \"\"\n      }\n    },\n    {\n      \"column\": \"Genero\",\n      \"properties\": {\n        \"dtype\": \"category\",\n        \"num_unique_values\": 2,\n        \"samples\": [\n          \"F\",\n          \"M\"\n        ],\n        \"semantic_type\": \"\",\n        \"description\": \"\"\n      }\n    },\n    {\n      \"column\": \"Ciudad\",\n      \"properties\": {\n        \"dtype\": \"string\",\n        \"num_unique_values\": 3,\n        \"samples\": [\n          \"Rosario\",\n          \"Funes\"\n        ],\n        \"semantic_type\": \"\",\n        \"description\": \"\"\n      }\n    }\n  ]\n}"
            }
          },
          "metadata": {},
          "execution_count": 9
        }
      ]
    },
    {
      "cell_type": "code",
      "source": [
        "# Resumen estadístico rápido de las columnas numéricas\n",
        "#count: El número de valores no nulos en cada columna.\n",
        "#mean: La media (promedio).\n",
        "#std: La desviación estándar, que mide la dispersión de los valores alrededor de la media.\n",
        "#min\n",
        "#25%: El percentil 25 (primer cuartil).\n",
        "#50%: El percentil 50 (mediana).\n",
        "#75%: El percentil 75 (tercer cuartil).\n",
        "#max\n",
        "df.describe()"
      ],
      "metadata": {
        "id": "5ZagtdG7V5in",
        "colab": {
          "base_uri": "https://localhost:8080/",
          "height": 300
        },
        "outputId": "5b8d0da6-69b7-48ae-f020-bfce737c5052"
      },
      "execution_count": null,
      "outputs": [
        {
          "output_type": "execute_result",
          "data": {
            "text/plain": [
              "            Edad    Altura\n",
              "count   5.000000  5.000000\n",
              "mean   34.200000  1.640000\n",
              "std     6.978539  0.035355\n",
              "min    25.000000  1.590000\n",
              "25%    29.000000  1.620000\n",
              "50%    36.000000  1.650000\n",
              "75%    40.000000  1.660000\n",
              "max    41.000000  1.680000"
            ],
            "text/html": [
              "\n",
              "  <div id=\"df-b0d69838-bb51-4c1f-9254-895681a4c353\" class=\"colab-df-container\">\n",
              "    <div>\n",
              "<style scoped>\n",
              "    .dataframe tbody tr th:only-of-type {\n",
              "        vertical-align: middle;\n",
              "    }\n",
              "\n",
              "    .dataframe tbody tr th {\n",
              "        vertical-align: top;\n",
              "    }\n",
              "\n",
              "    .dataframe thead th {\n",
              "        text-align: right;\n",
              "    }\n",
              "</style>\n",
              "<table border=\"1\" class=\"dataframe\">\n",
              "  <thead>\n",
              "    <tr style=\"text-align: right;\">\n",
              "      <th></th>\n",
              "      <th>Edad</th>\n",
              "      <th>Altura</th>\n",
              "    </tr>\n",
              "  </thead>\n",
              "  <tbody>\n",
              "    <tr>\n",
              "      <th>count</th>\n",
              "      <td>5.000000</td>\n",
              "      <td>5.000000</td>\n",
              "    </tr>\n",
              "    <tr>\n",
              "      <th>mean</th>\n",
              "      <td>34.200000</td>\n",
              "      <td>1.640000</td>\n",
              "    </tr>\n",
              "    <tr>\n",
              "      <th>std</th>\n",
              "      <td>6.978539</td>\n",
              "      <td>0.035355</td>\n",
              "    </tr>\n",
              "    <tr>\n",
              "      <th>min</th>\n",
              "      <td>25.000000</td>\n",
              "      <td>1.590000</td>\n",
              "    </tr>\n",
              "    <tr>\n",
              "      <th>25%</th>\n",
              "      <td>29.000000</td>\n",
              "      <td>1.620000</td>\n",
              "    </tr>\n",
              "    <tr>\n",
              "      <th>50%</th>\n",
              "      <td>36.000000</td>\n",
              "      <td>1.650000</td>\n",
              "    </tr>\n",
              "    <tr>\n",
              "      <th>75%</th>\n",
              "      <td>40.000000</td>\n",
              "      <td>1.660000</td>\n",
              "    </tr>\n",
              "    <tr>\n",
              "      <th>max</th>\n",
              "      <td>41.000000</td>\n",
              "      <td>1.680000</td>\n",
              "    </tr>\n",
              "  </tbody>\n",
              "</table>\n",
              "</div>\n",
              "    <div class=\"colab-df-buttons\">\n",
              "\n",
              "  <div class=\"colab-df-container\">\n",
              "    <button class=\"colab-df-convert\" onclick=\"convertToInteractive('df-b0d69838-bb51-4c1f-9254-895681a4c353')\"\n",
              "            title=\"Convert this dataframe to an interactive table.\"\n",
              "            style=\"display:none;\">\n",
              "\n",
              "  <svg xmlns=\"http://www.w3.org/2000/svg\" height=\"24px\" viewBox=\"0 -960 960 960\">\n",
              "    <path d=\"M120-120v-720h720v720H120Zm60-500h600v-160H180v160Zm220 220h160v-160H400v160Zm0 220h160v-160H400v160ZM180-400h160v-160H180v160Zm440 0h160v-160H620v160ZM180-180h160v-160H180v160Zm440 0h160v-160H620v160Z\"/>\n",
              "  </svg>\n",
              "    </button>\n",
              "\n",
              "  <style>\n",
              "    .colab-df-container {\n",
              "      display:flex;\n",
              "      gap: 12px;\n",
              "    }\n",
              "\n",
              "    .colab-df-convert {\n",
              "      background-color: #E8F0FE;\n",
              "      border: none;\n",
              "      border-radius: 50%;\n",
              "      cursor: pointer;\n",
              "      display: none;\n",
              "      fill: #1967D2;\n",
              "      height: 32px;\n",
              "      padding: 0 0 0 0;\n",
              "      width: 32px;\n",
              "    }\n",
              "\n",
              "    .colab-df-convert:hover {\n",
              "      background-color: #E2EBFA;\n",
              "      box-shadow: 0px 1px 2px rgba(60, 64, 67, 0.3), 0px 1px 3px 1px rgba(60, 64, 67, 0.15);\n",
              "      fill: #174EA6;\n",
              "    }\n",
              "\n",
              "    .colab-df-buttons div {\n",
              "      margin-bottom: 4px;\n",
              "    }\n",
              "\n",
              "    [theme=dark] .colab-df-convert {\n",
              "      background-color: #3B4455;\n",
              "      fill: #D2E3FC;\n",
              "    }\n",
              "\n",
              "    [theme=dark] .colab-df-convert:hover {\n",
              "      background-color: #434B5C;\n",
              "      box-shadow: 0px 1px 3px 1px rgba(0, 0, 0, 0.15);\n",
              "      filter: drop-shadow(0px 1px 2px rgba(0, 0, 0, 0.3));\n",
              "      fill: #FFFFFF;\n",
              "    }\n",
              "  </style>\n",
              "\n",
              "    <script>\n",
              "      const buttonEl =\n",
              "        document.querySelector('#df-b0d69838-bb51-4c1f-9254-895681a4c353 button.colab-df-convert');\n",
              "      buttonEl.style.display =\n",
              "        google.colab.kernel.accessAllowed ? 'block' : 'none';\n",
              "\n",
              "      async function convertToInteractive(key) {\n",
              "        const element = document.querySelector('#df-b0d69838-bb51-4c1f-9254-895681a4c353');\n",
              "        const dataTable =\n",
              "          await google.colab.kernel.invokeFunction('convertToInteractive',\n",
              "                                                    [key], {});\n",
              "        if (!dataTable) return;\n",
              "\n",
              "        const docLinkHtml = 'Like what you see? Visit the ' +\n",
              "          '<a target=\"_blank\" href=https://colab.research.google.com/notebooks/data_table.ipynb>data table notebook</a>'\n",
              "          + ' to learn more about interactive tables.';\n",
              "        element.innerHTML = '';\n",
              "        dataTable['output_type'] = 'display_data';\n",
              "        await google.colab.output.renderOutput(dataTable, element);\n",
              "        const docLink = document.createElement('div');\n",
              "        docLink.innerHTML = docLinkHtml;\n",
              "        element.appendChild(docLink);\n",
              "      }\n",
              "    </script>\n",
              "  </div>\n",
              "\n",
              "\n",
              "    <div id=\"df-371e43d9-4749-4cd2-b298-0488257ec3c3\">\n",
              "      <button class=\"colab-df-quickchart\" onclick=\"quickchart('df-371e43d9-4749-4cd2-b298-0488257ec3c3')\"\n",
              "                title=\"Suggest charts\"\n",
              "                style=\"display:none;\">\n",
              "\n",
              "<svg xmlns=\"http://www.w3.org/2000/svg\" height=\"24px\"viewBox=\"0 0 24 24\"\n",
              "     width=\"24px\">\n",
              "    <g>\n",
              "        <path d=\"M19 3H5c-1.1 0-2 .9-2 2v14c0 1.1.9 2 2 2h14c1.1 0 2-.9 2-2V5c0-1.1-.9-2-2-2zM9 17H7v-7h2v7zm4 0h-2V7h2v10zm4 0h-2v-4h2v4z\"/>\n",
              "    </g>\n",
              "</svg>\n",
              "      </button>\n",
              "\n",
              "<style>\n",
              "  .colab-df-quickchart {\n",
              "      --bg-color: #E8F0FE;\n",
              "      --fill-color: #1967D2;\n",
              "      --hover-bg-color: #E2EBFA;\n",
              "      --hover-fill-color: #174EA6;\n",
              "      --disabled-fill-color: #AAA;\n",
              "      --disabled-bg-color: #DDD;\n",
              "  }\n",
              "\n",
              "  [theme=dark] .colab-df-quickchart {\n",
              "      --bg-color: #3B4455;\n",
              "      --fill-color: #D2E3FC;\n",
              "      --hover-bg-color: #434B5C;\n",
              "      --hover-fill-color: #FFFFFF;\n",
              "      --disabled-bg-color: #3B4455;\n",
              "      --disabled-fill-color: #666;\n",
              "  }\n",
              "\n",
              "  .colab-df-quickchart {\n",
              "    background-color: var(--bg-color);\n",
              "    border: none;\n",
              "    border-radius: 50%;\n",
              "    cursor: pointer;\n",
              "    display: none;\n",
              "    fill: var(--fill-color);\n",
              "    height: 32px;\n",
              "    padding: 0;\n",
              "    width: 32px;\n",
              "  }\n",
              "\n",
              "  .colab-df-quickchart:hover {\n",
              "    background-color: var(--hover-bg-color);\n",
              "    box-shadow: 0 1px 2px rgba(60, 64, 67, 0.3), 0 1px 3px 1px rgba(60, 64, 67, 0.15);\n",
              "    fill: var(--button-hover-fill-color);\n",
              "  }\n",
              "\n",
              "  .colab-df-quickchart-complete:disabled,\n",
              "  .colab-df-quickchart-complete:disabled:hover {\n",
              "    background-color: var(--disabled-bg-color);\n",
              "    fill: var(--disabled-fill-color);\n",
              "    box-shadow: none;\n",
              "  }\n",
              "\n",
              "  .colab-df-spinner {\n",
              "    border: 2px solid var(--fill-color);\n",
              "    border-color: transparent;\n",
              "    border-bottom-color: var(--fill-color);\n",
              "    animation:\n",
              "      spin 1s steps(1) infinite;\n",
              "  }\n",
              "\n",
              "  @keyframes spin {\n",
              "    0% {\n",
              "      border-color: transparent;\n",
              "      border-bottom-color: var(--fill-color);\n",
              "      border-left-color: var(--fill-color);\n",
              "    }\n",
              "    20% {\n",
              "      border-color: transparent;\n",
              "      border-left-color: var(--fill-color);\n",
              "      border-top-color: var(--fill-color);\n",
              "    }\n",
              "    30% {\n",
              "      border-color: transparent;\n",
              "      border-left-color: var(--fill-color);\n",
              "      border-top-color: var(--fill-color);\n",
              "      border-right-color: var(--fill-color);\n",
              "    }\n",
              "    40% {\n",
              "      border-color: transparent;\n",
              "      border-right-color: var(--fill-color);\n",
              "      border-top-color: var(--fill-color);\n",
              "    }\n",
              "    60% {\n",
              "      border-color: transparent;\n",
              "      border-right-color: var(--fill-color);\n",
              "    }\n",
              "    80% {\n",
              "      border-color: transparent;\n",
              "      border-right-color: var(--fill-color);\n",
              "      border-bottom-color: var(--fill-color);\n",
              "    }\n",
              "    90% {\n",
              "      border-color: transparent;\n",
              "      border-bottom-color: var(--fill-color);\n",
              "    }\n",
              "  }\n",
              "</style>\n",
              "\n",
              "      <script>\n",
              "        async function quickchart(key) {\n",
              "          const quickchartButtonEl =\n",
              "            document.querySelector('#' + key + ' button');\n",
              "          quickchartButtonEl.disabled = true;  // To prevent multiple clicks.\n",
              "          quickchartButtonEl.classList.add('colab-df-spinner');\n",
              "          try {\n",
              "            const charts = await google.colab.kernel.invokeFunction(\n",
              "                'suggestCharts', [key], {});\n",
              "          } catch (error) {\n",
              "            console.error('Error during call to suggestCharts:', error);\n",
              "          }\n",
              "          quickchartButtonEl.classList.remove('colab-df-spinner');\n",
              "          quickchartButtonEl.classList.add('colab-df-quickchart-complete');\n",
              "        }\n",
              "        (() => {\n",
              "          let quickchartButtonEl =\n",
              "            document.querySelector('#df-371e43d9-4749-4cd2-b298-0488257ec3c3 button');\n",
              "          quickchartButtonEl.style.display =\n",
              "            google.colab.kernel.accessAllowed ? 'block' : 'none';\n",
              "        })();\n",
              "      </script>\n",
              "    </div>\n",
              "\n",
              "    </div>\n",
              "  </div>\n"
            ],
            "application/vnd.google.colaboratory.intrinsic+json": {
              "type": "dataframe",
              "summary": "{\n  \"name\": \"df\",\n  \"rows\": 8,\n  \"fields\": [\n    {\n      \"column\": \"Edad\",\n      \"properties\": {\n        \"dtype\": \"number\",\n        \"std\": 14.094199923088054,\n        \"min\": 5.0,\n        \"max\": 41.0,\n        \"num_unique_values\": 8,\n        \"samples\": [\n          34.2,\n          36.0,\n          5.0\n        ],\n        \"semantic_type\": \"\",\n        \"description\": \"\"\n      }\n    },\n    {\n      \"column\": \"Altura\",\n      \"properties\": {\n        \"dtype\": \"number\",\n        \"std\": 1.3879237032390659,\n        \"min\": 0.0353553390593273,\n        \"max\": 5.0,\n        \"num_unique_values\": 8,\n        \"samples\": [\n          1.64,\n          1.65,\n          5.0\n        ],\n        \"semantic_type\": \"\",\n        \"description\": \"\"\n      }\n    }\n  ]\n}"
            }
          },
          "metadata": {},
          "execution_count": 10
        }
      ]
    },
    {
      "cell_type": "markdown",
      "source": [
        "## 'Partes' básicas de un Dataframe"
      ],
      "metadata": {
        "id": "bp693EWVZtz1"
      }
    },
    {
      "cell_type": "code",
      "source": [
        "df\n"
      ],
      "metadata": {
        "id": "e7U1xiyrV7ka",
        "colab": {
          "base_uri": "https://localhost:8080/",
          "height": 206
        },
        "outputId": "a0868f38-5150-485a-ba17-377ddb9705c5"
      },
      "execution_count": null,
      "outputs": [
        {
          "output_type": "execute_result",
          "data": {
            "text/plain": [
              "    Nombre  Edad  Altura Genero   Ciudad\n",
              "0     Juan    25    1.65      M  Rosario\n",
              "1    Laura    36    1.62      F  Rosario\n",
              "2     Sara    40    1.59      F    Funes\n",
              "3  Antonio    41    1.68      M   Roldán\n",
              "4    Luisa    29    1.66      F  Rosario"
            ],
            "text/html": [
              "\n",
              "  <div id=\"df-58897537-c941-4f83-b014-e1375b56b59a\" class=\"colab-df-container\">\n",
              "    <div>\n",
              "<style scoped>\n",
              "    .dataframe tbody tr th:only-of-type {\n",
              "        vertical-align: middle;\n",
              "    }\n",
              "\n",
              "    .dataframe tbody tr th {\n",
              "        vertical-align: top;\n",
              "    }\n",
              "\n",
              "    .dataframe thead th {\n",
              "        text-align: right;\n",
              "    }\n",
              "</style>\n",
              "<table border=\"1\" class=\"dataframe\">\n",
              "  <thead>\n",
              "    <tr style=\"text-align: right;\">\n",
              "      <th></th>\n",
              "      <th>Nombre</th>\n",
              "      <th>Edad</th>\n",
              "      <th>Altura</th>\n",
              "      <th>Genero</th>\n",
              "      <th>Ciudad</th>\n",
              "    </tr>\n",
              "  </thead>\n",
              "  <tbody>\n",
              "    <tr>\n",
              "      <th>0</th>\n",
              "      <td>Juan</td>\n",
              "      <td>25</td>\n",
              "      <td>1.65</td>\n",
              "      <td>M</td>\n",
              "      <td>Rosario</td>\n",
              "    </tr>\n",
              "    <tr>\n",
              "      <th>1</th>\n",
              "      <td>Laura</td>\n",
              "      <td>36</td>\n",
              "      <td>1.62</td>\n",
              "      <td>F</td>\n",
              "      <td>Rosario</td>\n",
              "    </tr>\n",
              "    <tr>\n",
              "      <th>2</th>\n",
              "      <td>Sara</td>\n",
              "      <td>40</td>\n",
              "      <td>1.59</td>\n",
              "      <td>F</td>\n",
              "      <td>Funes</td>\n",
              "    </tr>\n",
              "    <tr>\n",
              "      <th>3</th>\n",
              "      <td>Antonio</td>\n",
              "      <td>41</td>\n",
              "      <td>1.68</td>\n",
              "      <td>M</td>\n",
              "      <td>Roldán</td>\n",
              "    </tr>\n",
              "    <tr>\n",
              "      <th>4</th>\n",
              "      <td>Luisa</td>\n",
              "      <td>29</td>\n",
              "      <td>1.66</td>\n",
              "      <td>F</td>\n",
              "      <td>Rosario</td>\n",
              "    </tr>\n",
              "  </tbody>\n",
              "</table>\n",
              "</div>\n",
              "    <div class=\"colab-df-buttons\">\n",
              "\n",
              "  <div class=\"colab-df-container\">\n",
              "    <button class=\"colab-df-convert\" onclick=\"convertToInteractive('df-58897537-c941-4f83-b014-e1375b56b59a')\"\n",
              "            title=\"Convert this dataframe to an interactive table.\"\n",
              "            style=\"display:none;\">\n",
              "\n",
              "  <svg xmlns=\"http://www.w3.org/2000/svg\" height=\"24px\" viewBox=\"0 -960 960 960\">\n",
              "    <path d=\"M120-120v-720h720v720H120Zm60-500h600v-160H180v160Zm220 220h160v-160H400v160Zm0 220h160v-160H400v160ZM180-400h160v-160H180v160Zm440 0h160v-160H620v160ZM180-180h160v-160H180v160Zm440 0h160v-160H620v160Z\"/>\n",
              "  </svg>\n",
              "    </button>\n",
              "\n",
              "  <style>\n",
              "    .colab-df-container {\n",
              "      display:flex;\n",
              "      gap: 12px;\n",
              "    }\n",
              "\n",
              "    .colab-df-convert {\n",
              "      background-color: #E8F0FE;\n",
              "      border: none;\n",
              "      border-radius: 50%;\n",
              "      cursor: pointer;\n",
              "      display: none;\n",
              "      fill: #1967D2;\n",
              "      height: 32px;\n",
              "      padding: 0 0 0 0;\n",
              "      width: 32px;\n",
              "    }\n",
              "\n",
              "    .colab-df-convert:hover {\n",
              "      background-color: #E2EBFA;\n",
              "      box-shadow: 0px 1px 2px rgba(60, 64, 67, 0.3), 0px 1px 3px 1px rgba(60, 64, 67, 0.15);\n",
              "      fill: #174EA6;\n",
              "    }\n",
              "\n",
              "    .colab-df-buttons div {\n",
              "      margin-bottom: 4px;\n",
              "    }\n",
              "\n",
              "    [theme=dark] .colab-df-convert {\n",
              "      background-color: #3B4455;\n",
              "      fill: #D2E3FC;\n",
              "    }\n",
              "\n",
              "    [theme=dark] .colab-df-convert:hover {\n",
              "      background-color: #434B5C;\n",
              "      box-shadow: 0px 1px 3px 1px rgba(0, 0, 0, 0.15);\n",
              "      filter: drop-shadow(0px 1px 2px rgba(0, 0, 0, 0.3));\n",
              "      fill: #FFFFFF;\n",
              "    }\n",
              "  </style>\n",
              "\n",
              "    <script>\n",
              "      const buttonEl =\n",
              "        document.querySelector('#df-58897537-c941-4f83-b014-e1375b56b59a button.colab-df-convert');\n",
              "      buttonEl.style.display =\n",
              "        google.colab.kernel.accessAllowed ? 'block' : 'none';\n",
              "\n",
              "      async function convertToInteractive(key) {\n",
              "        const element = document.querySelector('#df-58897537-c941-4f83-b014-e1375b56b59a');\n",
              "        const dataTable =\n",
              "          await google.colab.kernel.invokeFunction('convertToInteractive',\n",
              "                                                    [key], {});\n",
              "        if (!dataTable) return;\n",
              "\n",
              "        const docLinkHtml = 'Like what you see? Visit the ' +\n",
              "          '<a target=\"_blank\" href=https://colab.research.google.com/notebooks/data_table.ipynb>data table notebook</a>'\n",
              "          + ' to learn more about interactive tables.';\n",
              "        element.innerHTML = '';\n",
              "        dataTable['output_type'] = 'display_data';\n",
              "        await google.colab.output.renderOutput(dataTable, element);\n",
              "        const docLink = document.createElement('div');\n",
              "        docLink.innerHTML = docLinkHtml;\n",
              "        element.appendChild(docLink);\n",
              "      }\n",
              "    </script>\n",
              "  </div>\n",
              "\n",
              "\n",
              "    <div id=\"df-033303f4-3f98-44c8-bf7d-02651863892d\">\n",
              "      <button class=\"colab-df-quickchart\" onclick=\"quickchart('df-033303f4-3f98-44c8-bf7d-02651863892d')\"\n",
              "                title=\"Suggest charts\"\n",
              "                style=\"display:none;\">\n",
              "\n",
              "<svg xmlns=\"http://www.w3.org/2000/svg\" height=\"24px\"viewBox=\"0 0 24 24\"\n",
              "     width=\"24px\">\n",
              "    <g>\n",
              "        <path d=\"M19 3H5c-1.1 0-2 .9-2 2v14c0 1.1.9 2 2 2h14c1.1 0 2-.9 2-2V5c0-1.1-.9-2-2-2zM9 17H7v-7h2v7zm4 0h-2V7h2v10zm4 0h-2v-4h2v4z\"/>\n",
              "    </g>\n",
              "</svg>\n",
              "      </button>\n",
              "\n",
              "<style>\n",
              "  .colab-df-quickchart {\n",
              "      --bg-color: #E8F0FE;\n",
              "      --fill-color: #1967D2;\n",
              "      --hover-bg-color: #E2EBFA;\n",
              "      --hover-fill-color: #174EA6;\n",
              "      --disabled-fill-color: #AAA;\n",
              "      --disabled-bg-color: #DDD;\n",
              "  }\n",
              "\n",
              "  [theme=dark] .colab-df-quickchart {\n",
              "      --bg-color: #3B4455;\n",
              "      --fill-color: #D2E3FC;\n",
              "      --hover-bg-color: #434B5C;\n",
              "      --hover-fill-color: #FFFFFF;\n",
              "      --disabled-bg-color: #3B4455;\n",
              "      --disabled-fill-color: #666;\n",
              "  }\n",
              "\n",
              "  .colab-df-quickchart {\n",
              "    background-color: var(--bg-color);\n",
              "    border: none;\n",
              "    border-radius: 50%;\n",
              "    cursor: pointer;\n",
              "    display: none;\n",
              "    fill: var(--fill-color);\n",
              "    height: 32px;\n",
              "    padding: 0;\n",
              "    width: 32px;\n",
              "  }\n",
              "\n",
              "  .colab-df-quickchart:hover {\n",
              "    background-color: var(--hover-bg-color);\n",
              "    box-shadow: 0 1px 2px rgba(60, 64, 67, 0.3), 0 1px 3px 1px rgba(60, 64, 67, 0.15);\n",
              "    fill: var(--button-hover-fill-color);\n",
              "  }\n",
              "\n",
              "  .colab-df-quickchart-complete:disabled,\n",
              "  .colab-df-quickchart-complete:disabled:hover {\n",
              "    background-color: var(--disabled-bg-color);\n",
              "    fill: var(--disabled-fill-color);\n",
              "    box-shadow: none;\n",
              "  }\n",
              "\n",
              "  .colab-df-spinner {\n",
              "    border: 2px solid var(--fill-color);\n",
              "    border-color: transparent;\n",
              "    border-bottom-color: var(--fill-color);\n",
              "    animation:\n",
              "      spin 1s steps(1) infinite;\n",
              "  }\n",
              "\n",
              "  @keyframes spin {\n",
              "    0% {\n",
              "      border-color: transparent;\n",
              "      border-bottom-color: var(--fill-color);\n",
              "      border-left-color: var(--fill-color);\n",
              "    }\n",
              "    20% {\n",
              "      border-color: transparent;\n",
              "      border-left-color: var(--fill-color);\n",
              "      border-top-color: var(--fill-color);\n",
              "    }\n",
              "    30% {\n",
              "      border-color: transparent;\n",
              "      border-left-color: var(--fill-color);\n",
              "      border-top-color: var(--fill-color);\n",
              "      border-right-color: var(--fill-color);\n",
              "    }\n",
              "    40% {\n",
              "      border-color: transparent;\n",
              "      border-right-color: var(--fill-color);\n",
              "      border-top-color: var(--fill-color);\n",
              "    }\n",
              "    60% {\n",
              "      border-color: transparent;\n",
              "      border-right-color: var(--fill-color);\n",
              "    }\n",
              "    80% {\n",
              "      border-color: transparent;\n",
              "      border-right-color: var(--fill-color);\n",
              "      border-bottom-color: var(--fill-color);\n",
              "    }\n",
              "    90% {\n",
              "      border-color: transparent;\n",
              "      border-bottom-color: var(--fill-color);\n",
              "    }\n",
              "  }\n",
              "</style>\n",
              "\n",
              "      <script>\n",
              "        async function quickchart(key) {\n",
              "          const quickchartButtonEl =\n",
              "            document.querySelector('#' + key + ' button');\n",
              "          quickchartButtonEl.disabled = true;  // To prevent multiple clicks.\n",
              "          quickchartButtonEl.classList.add('colab-df-spinner');\n",
              "          try {\n",
              "            const charts = await google.colab.kernel.invokeFunction(\n",
              "                'suggestCharts', [key], {});\n",
              "          } catch (error) {\n",
              "            console.error('Error during call to suggestCharts:', error);\n",
              "          }\n",
              "          quickchartButtonEl.classList.remove('colab-df-spinner');\n",
              "          quickchartButtonEl.classList.add('colab-df-quickchart-complete');\n",
              "        }\n",
              "        (() => {\n",
              "          let quickchartButtonEl =\n",
              "            document.querySelector('#df-033303f4-3f98-44c8-bf7d-02651863892d button');\n",
              "          quickchartButtonEl.style.display =\n",
              "            google.colab.kernel.accessAllowed ? 'block' : 'none';\n",
              "        })();\n",
              "      </script>\n",
              "    </div>\n",
              "\n",
              "  <div id=\"id_ab4d2d7e-040c-4021-8097-af4ba9728fc9\">\n",
              "    <style>\n",
              "      .colab-df-generate {\n",
              "        background-color: #E8F0FE;\n",
              "        border: none;\n",
              "        border-radius: 50%;\n",
              "        cursor: pointer;\n",
              "        display: none;\n",
              "        fill: #1967D2;\n",
              "        height: 32px;\n",
              "        padding: 0 0 0 0;\n",
              "        width: 32px;\n",
              "      }\n",
              "\n",
              "      .colab-df-generate:hover {\n",
              "        background-color: #E2EBFA;\n",
              "        box-shadow: 0px 1px 2px rgba(60, 64, 67, 0.3), 0px 1px 3px 1px rgba(60, 64, 67, 0.15);\n",
              "        fill: #174EA6;\n",
              "      }\n",
              "\n",
              "      [theme=dark] .colab-df-generate {\n",
              "        background-color: #3B4455;\n",
              "        fill: #D2E3FC;\n",
              "      }\n",
              "\n",
              "      [theme=dark] .colab-df-generate:hover {\n",
              "        background-color: #434B5C;\n",
              "        box-shadow: 0px 1px 3px 1px rgba(0, 0, 0, 0.15);\n",
              "        filter: drop-shadow(0px 1px 2px rgba(0, 0, 0, 0.3));\n",
              "        fill: #FFFFFF;\n",
              "      }\n",
              "    </style>\n",
              "    <button class=\"colab-df-generate\" onclick=\"generateWithVariable('df')\"\n",
              "            title=\"Generate code using this dataframe.\"\n",
              "            style=\"display:none;\">\n",
              "\n",
              "  <svg xmlns=\"http://www.w3.org/2000/svg\" height=\"24px\"viewBox=\"0 0 24 24\"\n",
              "       width=\"24px\">\n",
              "    <path d=\"M7,19H8.4L18.45,9,17,7.55,7,17.6ZM5,21V16.75L18.45,3.32a2,2,0,0,1,2.83,0l1.4,1.43a1.91,1.91,0,0,1,.58,1.4,1.91,1.91,0,0,1-.58,1.4L9.25,21ZM18.45,9,17,7.55Zm-12,3A5.31,5.31,0,0,0,4.9,8.1,5.31,5.31,0,0,0,1,6.5,5.31,5.31,0,0,0,4.9,4.9,5.31,5.31,0,0,0,6.5,1,5.31,5.31,0,0,0,8.1,4.9,5.31,5.31,0,0,0,12,6.5,5.46,5.46,0,0,0,6.5,12Z\"/>\n",
              "  </svg>\n",
              "    </button>\n",
              "    <script>\n",
              "      (() => {\n",
              "      const buttonEl =\n",
              "        document.querySelector('#id_ab4d2d7e-040c-4021-8097-af4ba9728fc9 button.colab-df-generate');\n",
              "      buttonEl.style.display =\n",
              "        google.colab.kernel.accessAllowed ? 'block' : 'none';\n",
              "\n",
              "      buttonEl.onclick = () => {\n",
              "        google.colab.notebook.generateWithVariable('df');\n",
              "      }\n",
              "      })();\n",
              "    </script>\n",
              "  </div>\n",
              "\n",
              "    </div>\n",
              "  </div>\n"
            ],
            "application/vnd.google.colaboratory.intrinsic+json": {
              "type": "dataframe",
              "variable_name": "df",
              "summary": "{\n  \"name\": \"df\",\n  \"rows\": 5,\n  \"fields\": [\n    {\n      \"column\": \"Nombre\",\n      \"properties\": {\n        \"dtype\": \"string\",\n        \"num_unique_values\": 5,\n        \"samples\": [\n          \"Laura\",\n          \"Luisa\",\n          \"Sara\"\n        ],\n        \"semantic_type\": \"\",\n        \"description\": \"\"\n      }\n    },\n    {\n      \"column\": \"Edad\",\n      \"properties\": {\n        \"dtype\": \"number\",\n        \"std\": 6,\n        \"min\": 25,\n        \"max\": 41,\n        \"num_unique_values\": 5,\n        \"samples\": [\n          36,\n          29,\n          40\n        ],\n        \"semantic_type\": \"\",\n        \"description\": \"\"\n      }\n    },\n    {\n      \"column\": \"Altura\",\n      \"properties\": {\n        \"dtype\": \"number\",\n        \"std\": 0.0353553390593273,\n        \"min\": 1.59,\n        \"max\": 1.68,\n        \"num_unique_values\": 5,\n        \"samples\": [\n          1.62,\n          1.66,\n          1.59\n        ],\n        \"semantic_type\": \"\",\n        \"description\": \"\"\n      }\n    },\n    {\n      \"column\": \"Genero\",\n      \"properties\": {\n        \"dtype\": \"category\",\n        \"num_unique_values\": 2,\n        \"samples\": [\n          \"F\",\n          \"M\"\n        ],\n        \"semantic_type\": \"\",\n        \"description\": \"\"\n      }\n    },\n    {\n      \"column\": \"Ciudad\",\n      \"properties\": {\n        \"dtype\": \"string\",\n        \"num_unique_values\": 3,\n        \"samples\": [\n          \"Rosario\",\n          \"Funes\"\n        ],\n        \"semantic_type\": \"\",\n        \"description\": \"\"\n      }\n    }\n  ]\n}"
            }
          },
          "metadata": {},
          "execution_count": 11
        }
      ]
    },
    {
      "cell_type": "code",
      "source": [
        "# acceder al índice\n",
        "df.index"
      ],
      "metadata": {
        "id": "zAfh5ngGXxNT",
        "colab": {
          "base_uri": "https://localhost:8080/"
        },
        "outputId": "588d3803-3348-40be-8f82-838028590932"
      },
      "execution_count": null,
      "outputs": [
        {
          "output_type": "execute_result",
          "data": {
            "text/plain": [
              "RangeIndex(start=0, stop=5, step=1)"
            ]
          },
          "metadata": {},
          "execution_count": 12
        }
      ]
    },
    {
      "cell_type": "code",
      "source": [
        "#  acceder a los nombres de las columnas\n",
        "df.columns"
      ],
      "metadata": {
        "id": "KeWfD3lEXz2w",
        "colab": {
          "base_uri": "https://localhost:8080/"
        },
        "outputId": "7aef35e6-e806-47dc-9754-340bfd6bcf2a"
      },
      "execution_count": null,
      "outputs": [
        {
          "output_type": "execute_result",
          "data": {
            "text/plain": [
              "Index(['Nombre', 'Edad', 'Altura', 'Genero', 'Ciudad'], dtype='object')"
            ]
          },
          "metadata": {},
          "execution_count": 13
        }
      ]
    },
    {
      "cell_type": "code",
      "source": [
        "# indexar un dataframe y seleccionar una columna por su nombre\n",
        "df[\"Nombre\"]"
      ],
      "metadata": {
        "id": "iVDOJ3GDX3bn",
        "colab": {
          "base_uri": "https://localhost:8080/",
          "height": 241
        },
        "outputId": "1c62e4c2-3be5-4f4e-942f-f076901afaf8"
      },
      "execution_count": null,
      "outputs": [
        {
          "output_type": "execute_result",
          "data": {
            "text/plain": [
              "0       Juan\n",
              "1      Laura\n",
              "2       Sara\n",
              "3    Antonio\n",
              "4      Luisa\n",
              "Name: Nombre, dtype: object"
            ],
            "text/html": [
              "<div>\n",
              "<style scoped>\n",
              "    .dataframe tbody tr th:only-of-type {\n",
              "        vertical-align: middle;\n",
              "    }\n",
              "\n",
              "    .dataframe tbody tr th {\n",
              "        vertical-align: top;\n",
              "    }\n",
              "\n",
              "    .dataframe thead th {\n",
              "        text-align: right;\n",
              "    }\n",
              "</style>\n",
              "<table border=\"1\" class=\"dataframe\">\n",
              "  <thead>\n",
              "    <tr style=\"text-align: right;\">\n",
              "      <th></th>\n",
              "      <th>Nombre</th>\n",
              "    </tr>\n",
              "  </thead>\n",
              "  <tbody>\n",
              "    <tr>\n",
              "      <th>0</th>\n",
              "      <td>Juan</td>\n",
              "    </tr>\n",
              "    <tr>\n",
              "      <th>1</th>\n",
              "      <td>Laura</td>\n",
              "    </tr>\n",
              "    <tr>\n",
              "      <th>2</th>\n",
              "      <td>Sara</td>\n",
              "    </tr>\n",
              "    <tr>\n",
              "      <th>3</th>\n",
              "      <td>Antonio</td>\n",
              "    </tr>\n",
              "    <tr>\n",
              "      <th>4</th>\n",
              "      <td>Luisa</td>\n",
              "    </tr>\n",
              "  </tbody>\n",
              "</table>\n",
              "</div><br><label><b>dtype:</b> object</label>"
            ]
          },
          "metadata": {},
          "execution_count": 14
        }
      ]
    },
    {
      "cell_type": "code",
      "source": [
        "# acceder a una serie\n",
        "df[\"Edad\"]"
      ],
      "metadata": {
        "id": "sLQSZF-pX8JI",
        "colab": {
          "base_uri": "https://localhost:8080/",
          "height": 241
        },
        "outputId": "156ea5d0-be1f-4286-b220-8eb7f7d3dd06"
      },
      "execution_count": null,
      "outputs": [
        {
          "output_type": "execute_result",
          "data": {
            "text/plain": [
              "0    25\n",
              "1    36\n",
              "2    40\n",
              "3    41\n",
              "4    29\n",
              "Name: Edad, dtype: int64"
            ],
            "text/html": [
              "<div>\n",
              "<style scoped>\n",
              "    .dataframe tbody tr th:only-of-type {\n",
              "        vertical-align: middle;\n",
              "    }\n",
              "\n",
              "    .dataframe tbody tr th {\n",
              "        vertical-align: top;\n",
              "    }\n",
              "\n",
              "    .dataframe thead th {\n",
              "        text-align: right;\n",
              "    }\n",
              "</style>\n",
              "<table border=\"1\" class=\"dataframe\">\n",
              "  <thead>\n",
              "    <tr style=\"text-align: right;\">\n",
              "      <th></th>\n",
              "      <th>Edad</th>\n",
              "    </tr>\n",
              "  </thead>\n",
              "  <tbody>\n",
              "    <tr>\n",
              "      <th>0</th>\n",
              "      <td>25</td>\n",
              "    </tr>\n",
              "    <tr>\n",
              "      <th>1</th>\n",
              "      <td>36</td>\n",
              "    </tr>\n",
              "    <tr>\n",
              "      <th>2</th>\n",
              "      <td>40</td>\n",
              "    </tr>\n",
              "    <tr>\n",
              "      <th>3</th>\n",
              "      <td>41</td>\n",
              "    </tr>\n",
              "    <tr>\n",
              "      <th>4</th>\n",
              "      <td>29</td>\n",
              "    </tr>\n",
              "  </tbody>\n",
              "</table>\n",
              "</div><br><label><b>dtype:</b> int64</label>"
            ]
          },
          "metadata": {},
          "execution_count": 15
        }
      ]
    },
    {
      "cell_type": "code",
      "source": [
        "#información sobre la naturaleza del objeto resultante de la selección\n",
        "\n",
        "#Al seleccionar una columna de un DF, No obtenés un DataFrame, sino un objeto Series de pandas\n",
        "type(df[\"Edad\"])"
      ],
      "metadata": {
        "id": "_30BrBTbYCA9",
        "colab": {
          "base_uri": "https://localhost:8080/",
          "height": 204
        },
        "outputId": "cf7c82e5-c97e-473c-fd7f-ddedbb6a3ec6"
      },
      "execution_count": null,
      "outputs": [
        {
          "output_type": "execute_result",
          "data": {
            "text/plain": [
              "pandas.core.series.Series"
            ],
            "text/html": [
              "<div style=\"max-width:800px; border: 1px solid var(--colab-border-color);\"><style>\n",
              "      pre.function-repr-contents {\n",
              "        overflow-x: auto;\n",
              "        padding: 8px 12px;\n",
              "        max-height: 500px;\n",
              "      }\n",
              "\n",
              "      pre.function-repr-contents.function-repr-contents-collapsed {\n",
              "        cursor: pointer;\n",
              "        max-height: 100px;\n",
              "      }\n",
              "    </style>\n",
              "    <pre style=\"white-space: initial; background:\n",
              "         var(--colab-secondary-surface-color); padding: 8px 12px;\n",
              "         border-bottom: 1px solid var(--colab-border-color);\"><b>pandas.core.series.Series</b><br/>def __init__(data=None, index=None, dtype: Dtype | None=None, name=None, copy: bool | None=None, fastpath: bool | lib.NoDefault=lib.no_default) -&gt; None</pre><pre class=\"function-repr-contents function-repr-contents-collapsed\" style=\"\"><a class=\"filepath\" style=\"display:none\" href=\"#\">/usr/local/lib/python3.12/dist-packages/pandas/core/series.py</a>One-dimensional ndarray with axis labels (including time series).\n",
              "\n",
              "Labels need not be unique but must be a hashable type. The object\n",
              "supports both integer- and label-based indexing and provides a host of\n",
              "methods for performing operations involving the index. Statistical\n",
              "methods from ndarray have been overridden to automatically exclude\n",
              "missing data (currently represented as NaN).\n",
              "\n",
              "Operations between Series (+, -, /, \\*, \\*\\*) align values based on their\n",
              "associated index values-- they need not be the same length. The result\n",
              "index will be the sorted union of the two indexes.\n",
              "\n",
              "Parameters\n",
              "----------\n",
              "data : array-like, Iterable, dict, or scalar value\n",
              "    Contains data stored in Series. If data is a dict, argument order is\n",
              "    maintained.\n",
              "index : array-like or Index (1d)\n",
              "    Values must be hashable and have the same length as `data`.\n",
              "    Non-unique index values are allowed. Will default to\n",
              "    RangeIndex (0, 1, 2, ..., n) if not provided. If data is dict-like\n",
              "    and index is None, then the keys in the data are used as the index. If the\n",
              "    index is not None, the resulting Series is reindexed with the index values.\n",
              "dtype : str, numpy.dtype, or ExtensionDtype, optional\n",
              "    Data type for the output Series. If not specified, this will be\n",
              "    inferred from `data`.\n",
              "    See the :ref:`user guide &lt;basics.dtypes&gt;` for more usages.\n",
              "name : Hashable, default None\n",
              "    The name to give to the Series.\n",
              "copy : bool, default False\n",
              "    Copy input data. Only affects Series or 1d ndarray input. See examples.\n",
              "\n",
              "Notes\n",
              "-----\n",
              "Please reference the :ref:`User Guide &lt;basics.series&gt;` for more information.\n",
              "\n",
              "Examples\n",
              "--------\n",
              "Constructing Series from a dictionary with an Index specified\n",
              "\n",
              "&gt;&gt;&gt; d = {&#x27;a&#x27;: 1, &#x27;b&#x27;: 2, &#x27;c&#x27;: 3}\n",
              "&gt;&gt;&gt; ser = pd.Series(data=d, index=[&#x27;a&#x27;, &#x27;b&#x27;, &#x27;c&#x27;])\n",
              "&gt;&gt;&gt; ser\n",
              "a   1\n",
              "b   2\n",
              "c   3\n",
              "dtype: int64\n",
              "\n",
              "The keys of the dictionary match with the Index values, hence the Index\n",
              "values have no effect.\n",
              "\n",
              "&gt;&gt;&gt; d = {&#x27;a&#x27;: 1, &#x27;b&#x27;: 2, &#x27;c&#x27;: 3}\n",
              "&gt;&gt;&gt; ser = pd.Series(data=d, index=[&#x27;x&#x27;, &#x27;y&#x27;, &#x27;z&#x27;])\n",
              "&gt;&gt;&gt; ser\n",
              "x   NaN\n",
              "y   NaN\n",
              "z   NaN\n",
              "dtype: float64\n",
              "\n",
              "Note that the Index is first build with the keys from the dictionary.\n",
              "After this the Series is reindexed with the given Index values, hence we\n",
              "get all NaN as a result.\n",
              "\n",
              "Constructing Series from a list with `copy=False`.\n",
              "\n",
              "&gt;&gt;&gt; r = [1, 2]\n",
              "&gt;&gt;&gt; ser = pd.Series(r, copy=False)\n",
              "&gt;&gt;&gt; ser.iloc[0] = 999\n",
              "&gt;&gt;&gt; r\n",
              "[1, 2]\n",
              "&gt;&gt;&gt; ser\n",
              "0    999\n",
              "1      2\n",
              "dtype: int64\n",
              "\n",
              "Due to input data type the Series has a `copy` of\n",
              "the original data even though `copy=False`, so\n",
              "the data is unchanged.\n",
              "\n",
              "Constructing Series from a 1d ndarray with `copy=False`.\n",
              "\n",
              "&gt;&gt;&gt; r = np.array([1, 2])\n",
              "&gt;&gt;&gt; ser = pd.Series(r, copy=False)\n",
              "&gt;&gt;&gt; ser.iloc[0] = 999\n",
              "&gt;&gt;&gt; r\n",
              "array([999,   2])\n",
              "&gt;&gt;&gt; ser\n",
              "0    999\n",
              "1      2\n",
              "dtype: int64\n",
              "\n",
              "Due to input data type the Series has a `view` on\n",
              "the original data, so\n",
              "the data is changed as well.</pre>\n",
              "      <script>\n",
              "      if (google.colab.kernel.accessAllowed && google.colab.files && google.colab.files.view) {\n",
              "        for (const element of document.querySelectorAll('.filepath')) {\n",
              "          element.style.display = 'block'\n",
              "          element.onclick = (event) => {\n",
              "            event.preventDefault();\n",
              "            event.stopPropagation();\n",
              "            google.colab.files.view(element.textContent, 263);\n",
              "          };\n",
              "        }\n",
              "      }\n",
              "      for (const element of document.querySelectorAll('.function-repr-contents')) {\n",
              "        element.onclick = (event) => {\n",
              "          event.preventDefault();\n",
              "          event.stopPropagation();\n",
              "          element.classList.toggle('function-repr-contents-collapsed');\n",
              "        };\n",
              "      }\n",
              "      </script>\n",
              "      </div>"
            ]
          },
          "metadata": {},
          "execution_count": 16
        }
      ]
    },
    {
      "cell_type": "markdown",
      "source": [
        "## Series\n",
        "Estructura de datos unidimensional etiquetada, cada elemento tiene un índice."
      ],
      "metadata": {
        "id": "0nBMj75AZQFl"
      }
    },
    {
      "cell_type": "markdown",
      "source": [
        "El tipo de pandas Series. https://pandas.pydata.org/pandas-docs/stable/reference/api/pandas.Series.html"
      ],
      "metadata": {
        "id": "oiXQ7M1jZGUI"
      }
    },
    {
      "cell_type": "markdown",
      "source": [
        "## Acceso a una serie y partes de una serie\n",
        "\n"
      ],
      "metadata": {
        "id": "7_2SDin4aRMJ"
      }
    },
    {
      "cell_type": "code",
      "source": [
        "df"
      ],
      "metadata": {
        "id": "mPpNM0Ld7_TM",
        "colab": {
          "base_uri": "https://localhost:8080/",
          "height": 206
        },
        "outputId": "e82c1d28-f1a9-4e71-e3b7-263a198a3a67"
      },
      "execution_count": null,
      "outputs": [
        {
          "output_type": "execute_result",
          "data": {
            "text/plain": [
              "    Nombre  Edad  Altura Genero   Ciudad\n",
              "0     Juan    25    1.65      M  Rosario\n",
              "1    Laura    36    1.62      F  Rosario\n",
              "2     Sara    40    1.59      F    Funes\n",
              "3  Antonio    41    1.68      M   Roldán\n",
              "4    Luisa    29    1.66      F  Rosario"
            ],
            "text/html": [
              "\n",
              "  <div id=\"df-e25a2d8f-387b-4659-9940-6c5d56188452\" class=\"colab-df-container\">\n",
              "    <div>\n",
              "<style scoped>\n",
              "    .dataframe tbody tr th:only-of-type {\n",
              "        vertical-align: middle;\n",
              "    }\n",
              "\n",
              "    .dataframe tbody tr th {\n",
              "        vertical-align: top;\n",
              "    }\n",
              "\n",
              "    .dataframe thead th {\n",
              "        text-align: right;\n",
              "    }\n",
              "</style>\n",
              "<table border=\"1\" class=\"dataframe\">\n",
              "  <thead>\n",
              "    <tr style=\"text-align: right;\">\n",
              "      <th></th>\n",
              "      <th>Nombre</th>\n",
              "      <th>Edad</th>\n",
              "      <th>Altura</th>\n",
              "      <th>Genero</th>\n",
              "      <th>Ciudad</th>\n",
              "    </tr>\n",
              "  </thead>\n",
              "  <tbody>\n",
              "    <tr>\n",
              "      <th>0</th>\n",
              "      <td>Juan</td>\n",
              "      <td>25</td>\n",
              "      <td>1.65</td>\n",
              "      <td>M</td>\n",
              "      <td>Rosario</td>\n",
              "    </tr>\n",
              "    <tr>\n",
              "      <th>1</th>\n",
              "      <td>Laura</td>\n",
              "      <td>36</td>\n",
              "      <td>1.62</td>\n",
              "      <td>F</td>\n",
              "      <td>Rosario</td>\n",
              "    </tr>\n",
              "    <tr>\n",
              "      <th>2</th>\n",
              "      <td>Sara</td>\n",
              "      <td>40</td>\n",
              "      <td>1.59</td>\n",
              "      <td>F</td>\n",
              "      <td>Funes</td>\n",
              "    </tr>\n",
              "    <tr>\n",
              "      <th>3</th>\n",
              "      <td>Antonio</td>\n",
              "      <td>41</td>\n",
              "      <td>1.68</td>\n",
              "      <td>M</td>\n",
              "      <td>Roldán</td>\n",
              "    </tr>\n",
              "    <tr>\n",
              "      <th>4</th>\n",
              "      <td>Luisa</td>\n",
              "      <td>29</td>\n",
              "      <td>1.66</td>\n",
              "      <td>F</td>\n",
              "      <td>Rosario</td>\n",
              "    </tr>\n",
              "  </tbody>\n",
              "</table>\n",
              "</div>\n",
              "    <div class=\"colab-df-buttons\">\n",
              "\n",
              "  <div class=\"colab-df-container\">\n",
              "    <button class=\"colab-df-convert\" onclick=\"convertToInteractive('df-e25a2d8f-387b-4659-9940-6c5d56188452')\"\n",
              "            title=\"Convert this dataframe to an interactive table.\"\n",
              "            style=\"display:none;\">\n",
              "\n",
              "  <svg xmlns=\"http://www.w3.org/2000/svg\" height=\"24px\" viewBox=\"0 -960 960 960\">\n",
              "    <path d=\"M120-120v-720h720v720H120Zm60-500h600v-160H180v160Zm220 220h160v-160H400v160Zm0 220h160v-160H400v160ZM180-400h160v-160H180v160Zm440 0h160v-160H620v160ZM180-180h160v-160H180v160Zm440 0h160v-160H620v160Z\"/>\n",
              "  </svg>\n",
              "    </button>\n",
              "\n",
              "  <style>\n",
              "    .colab-df-container {\n",
              "      display:flex;\n",
              "      gap: 12px;\n",
              "    }\n",
              "\n",
              "    .colab-df-convert {\n",
              "      background-color: #E8F0FE;\n",
              "      border: none;\n",
              "      border-radius: 50%;\n",
              "      cursor: pointer;\n",
              "      display: none;\n",
              "      fill: #1967D2;\n",
              "      height: 32px;\n",
              "      padding: 0 0 0 0;\n",
              "      width: 32px;\n",
              "    }\n",
              "\n",
              "    .colab-df-convert:hover {\n",
              "      background-color: #E2EBFA;\n",
              "      box-shadow: 0px 1px 2px rgba(60, 64, 67, 0.3), 0px 1px 3px 1px rgba(60, 64, 67, 0.15);\n",
              "      fill: #174EA6;\n",
              "    }\n",
              "\n",
              "    .colab-df-buttons div {\n",
              "      margin-bottom: 4px;\n",
              "    }\n",
              "\n",
              "    [theme=dark] .colab-df-convert {\n",
              "      background-color: #3B4455;\n",
              "      fill: #D2E3FC;\n",
              "    }\n",
              "\n",
              "    [theme=dark] .colab-df-convert:hover {\n",
              "      background-color: #434B5C;\n",
              "      box-shadow: 0px 1px 3px 1px rgba(0, 0, 0, 0.15);\n",
              "      filter: drop-shadow(0px 1px 2px rgba(0, 0, 0, 0.3));\n",
              "      fill: #FFFFFF;\n",
              "    }\n",
              "  </style>\n",
              "\n",
              "    <script>\n",
              "      const buttonEl =\n",
              "        document.querySelector('#df-e25a2d8f-387b-4659-9940-6c5d56188452 button.colab-df-convert');\n",
              "      buttonEl.style.display =\n",
              "        google.colab.kernel.accessAllowed ? 'block' : 'none';\n",
              "\n",
              "      async function convertToInteractive(key) {\n",
              "        const element = document.querySelector('#df-e25a2d8f-387b-4659-9940-6c5d56188452');\n",
              "        const dataTable =\n",
              "          await google.colab.kernel.invokeFunction('convertToInteractive',\n",
              "                                                    [key], {});\n",
              "        if (!dataTable) return;\n",
              "\n",
              "        const docLinkHtml = 'Like what you see? Visit the ' +\n",
              "          '<a target=\"_blank\" href=https://colab.research.google.com/notebooks/data_table.ipynb>data table notebook</a>'\n",
              "          + ' to learn more about interactive tables.';\n",
              "        element.innerHTML = '';\n",
              "        dataTable['output_type'] = 'display_data';\n",
              "        await google.colab.output.renderOutput(dataTable, element);\n",
              "        const docLink = document.createElement('div');\n",
              "        docLink.innerHTML = docLinkHtml;\n",
              "        element.appendChild(docLink);\n",
              "      }\n",
              "    </script>\n",
              "  </div>\n",
              "\n",
              "\n",
              "    <div id=\"df-65a9378d-d6f5-45c2-bcaa-5dd385baf1ae\">\n",
              "      <button class=\"colab-df-quickchart\" onclick=\"quickchart('df-65a9378d-d6f5-45c2-bcaa-5dd385baf1ae')\"\n",
              "                title=\"Suggest charts\"\n",
              "                style=\"display:none;\">\n",
              "\n",
              "<svg xmlns=\"http://www.w3.org/2000/svg\" height=\"24px\"viewBox=\"0 0 24 24\"\n",
              "     width=\"24px\">\n",
              "    <g>\n",
              "        <path d=\"M19 3H5c-1.1 0-2 .9-2 2v14c0 1.1.9 2 2 2h14c1.1 0 2-.9 2-2V5c0-1.1-.9-2-2-2zM9 17H7v-7h2v7zm4 0h-2V7h2v10zm4 0h-2v-4h2v4z\"/>\n",
              "    </g>\n",
              "</svg>\n",
              "      </button>\n",
              "\n",
              "<style>\n",
              "  .colab-df-quickchart {\n",
              "      --bg-color: #E8F0FE;\n",
              "      --fill-color: #1967D2;\n",
              "      --hover-bg-color: #E2EBFA;\n",
              "      --hover-fill-color: #174EA6;\n",
              "      --disabled-fill-color: #AAA;\n",
              "      --disabled-bg-color: #DDD;\n",
              "  }\n",
              "\n",
              "  [theme=dark] .colab-df-quickchart {\n",
              "      --bg-color: #3B4455;\n",
              "      --fill-color: #D2E3FC;\n",
              "      --hover-bg-color: #434B5C;\n",
              "      --hover-fill-color: #FFFFFF;\n",
              "      --disabled-bg-color: #3B4455;\n",
              "      --disabled-fill-color: #666;\n",
              "  }\n",
              "\n",
              "  .colab-df-quickchart {\n",
              "    background-color: var(--bg-color);\n",
              "    border: none;\n",
              "    border-radius: 50%;\n",
              "    cursor: pointer;\n",
              "    display: none;\n",
              "    fill: var(--fill-color);\n",
              "    height: 32px;\n",
              "    padding: 0;\n",
              "    width: 32px;\n",
              "  }\n",
              "\n",
              "  .colab-df-quickchart:hover {\n",
              "    background-color: var(--hover-bg-color);\n",
              "    box-shadow: 0 1px 2px rgba(60, 64, 67, 0.3), 0 1px 3px 1px rgba(60, 64, 67, 0.15);\n",
              "    fill: var(--button-hover-fill-color);\n",
              "  }\n",
              "\n",
              "  .colab-df-quickchart-complete:disabled,\n",
              "  .colab-df-quickchart-complete:disabled:hover {\n",
              "    background-color: var(--disabled-bg-color);\n",
              "    fill: var(--disabled-fill-color);\n",
              "    box-shadow: none;\n",
              "  }\n",
              "\n",
              "  .colab-df-spinner {\n",
              "    border: 2px solid var(--fill-color);\n",
              "    border-color: transparent;\n",
              "    border-bottom-color: var(--fill-color);\n",
              "    animation:\n",
              "      spin 1s steps(1) infinite;\n",
              "  }\n",
              "\n",
              "  @keyframes spin {\n",
              "    0% {\n",
              "      border-color: transparent;\n",
              "      border-bottom-color: var(--fill-color);\n",
              "      border-left-color: var(--fill-color);\n",
              "    }\n",
              "    20% {\n",
              "      border-color: transparent;\n",
              "      border-left-color: var(--fill-color);\n",
              "      border-top-color: var(--fill-color);\n",
              "    }\n",
              "    30% {\n",
              "      border-color: transparent;\n",
              "      border-left-color: var(--fill-color);\n",
              "      border-top-color: var(--fill-color);\n",
              "      border-right-color: var(--fill-color);\n",
              "    }\n",
              "    40% {\n",
              "      border-color: transparent;\n",
              "      border-right-color: var(--fill-color);\n",
              "      border-top-color: var(--fill-color);\n",
              "    }\n",
              "    60% {\n",
              "      border-color: transparent;\n",
              "      border-right-color: var(--fill-color);\n",
              "    }\n",
              "    80% {\n",
              "      border-color: transparent;\n",
              "      border-right-color: var(--fill-color);\n",
              "      border-bottom-color: var(--fill-color);\n",
              "    }\n",
              "    90% {\n",
              "      border-color: transparent;\n",
              "      border-bottom-color: var(--fill-color);\n",
              "    }\n",
              "  }\n",
              "</style>\n",
              "\n",
              "      <script>\n",
              "        async function quickchart(key) {\n",
              "          const quickchartButtonEl =\n",
              "            document.querySelector('#' + key + ' button');\n",
              "          quickchartButtonEl.disabled = true;  // To prevent multiple clicks.\n",
              "          quickchartButtonEl.classList.add('colab-df-spinner');\n",
              "          try {\n",
              "            const charts = await google.colab.kernel.invokeFunction(\n",
              "                'suggestCharts', [key], {});\n",
              "          } catch (error) {\n",
              "            console.error('Error during call to suggestCharts:', error);\n",
              "          }\n",
              "          quickchartButtonEl.classList.remove('colab-df-spinner');\n",
              "          quickchartButtonEl.classList.add('colab-df-quickchart-complete');\n",
              "        }\n",
              "        (() => {\n",
              "          let quickchartButtonEl =\n",
              "            document.querySelector('#df-65a9378d-d6f5-45c2-bcaa-5dd385baf1ae button');\n",
              "          quickchartButtonEl.style.display =\n",
              "            google.colab.kernel.accessAllowed ? 'block' : 'none';\n",
              "        })();\n",
              "      </script>\n",
              "    </div>\n",
              "\n",
              "  <div id=\"id_1b6787ec-c2bf-4a3f-bb90-c7f983ed3e9a\">\n",
              "    <style>\n",
              "      .colab-df-generate {\n",
              "        background-color: #E8F0FE;\n",
              "        border: none;\n",
              "        border-radius: 50%;\n",
              "        cursor: pointer;\n",
              "        display: none;\n",
              "        fill: #1967D2;\n",
              "        height: 32px;\n",
              "        padding: 0 0 0 0;\n",
              "        width: 32px;\n",
              "      }\n",
              "\n",
              "      .colab-df-generate:hover {\n",
              "        background-color: #E2EBFA;\n",
              "        box-shadow: 0px 1px 2px rgba(60, 64, 67, 0.3), 0px 1px 3px 1px rgba(60, 64, 67, 0.15);\n",
              "        fill: #174EA6;\n",
              "      }\n",
              "\n",
              "      [theme=dark] .colab-df-generate {\n",
              "        background-color: #3B4455;\n",
              "        fill: #D2E3FC;\n",
              "      }\n",
              "\n",
              "      [theme=dark] .colab-df-generate:hover {\n",
              "        background-color: #434B5C;\n",
              "        box-shadow: 0px 1px 3px 1px rgba(0, 0, 0, 0.15);\n",
              "        filter: drop-shadow(0px 1px 2px rgba(0, 0, 0, 0.3));\n",
              "        fill: #FFFFFF;\n",
              "      }\n",
              "    </style>\n",
              "    <button class=\"colab-df-generate\" onclick=\"generateWithVariable('df')\"\n",
              "            title=\"Generate code using this dataframe.\"\n",
              "            style=\"display:none;\">\n",
              "\n",
              "  <svg xmlns=\"http://www.w3.org/2000/svg\" height=\"24px\"viewBox=\"0 0 24 24\"\n",
              "       width=\"24px\">\n",
              "    <path d=\"M7,19H8.4L18.45,9,17,7.55,7,17.6ZM5,21V16.75L18.45,3.32a2,2,0,0,1,2.83,0l1.4,1.43a1.91,1.91,0,0,1,.58,1.4,1.91,1.91,0,0,1-.58,1.4L9.25,21ZM18.45,9,17,7.55Zm-12,3A5.31,5.31,0,0,0,4.9,8.1,5.31,5.31,0,0,0,1,6.5,5.31,5.31,0,0,0,4.9,4.9,5.31,5.31,0,0,0,6.5,1,5.31,5.31,0,0,0,8.1,4.9,5.31,5.31,0,0,0,12,6.5,5.46,5.46,0,0,0,6.5,12Z\"/>\n",
              "  </svg>\n",
              "    </button>\n",
              "    <script>\n",
              "      (() => {\n",
              "      const buttonEl =\n",
              "        document.querySelector('#id_1b6787ec-c2bf-4a3f-bb90-c7f983ed3e9a button.colab-df-generate');\n",
              "      buttonEl.style.display =\n",
              "        google.colab.kernel.accessAllowed ? 'block' : 'none';\n",
              "\n",
              "      buttonEl.onclick = () => {\n",
              "        google.colab.notebook.generateWithVariable('df');\n",
              "      }\n",
              "      })();\n",
              "    </script>\n",
              "  </div>\n",
              "\n",
              "    </div>\n",
              "  </div>\n"
            ],
            "application/vnd.google.colaboratory.intrinsic+json": {
              "type": "dataframe",
              "variable_name": "df",
              "summary": "{\n  \"name\": \"df\",\n  \"rows\": 5,\n  \"fields\": [\n    {\n      \"column\": \"Nombre\",\n      \"properties\": {\n        \"dtype\": \"string\",\n        \"num_unique_values\": 5,\n        \"samples\": [\n          \"Laura\",\n          \"Luisa\",\n          \"Sara\"\n        ],\n        \"semantic_type\": \"\",\n        \"description\": \"\"\n      }\n    },\n    {\n      \"column\": \"Edad\",\n      \"properties\": {\n        \"dtype\": \"number\",\n        \"std\": 6,\n        \"min\": 25,\n        \"max\": 41,\n        \"num_unique_values\": 5,\n        \"samples\": [\n          36,\n          29,\n          40\n        ],\n        \"semantic_type\": \"\",\n        \"description\": \"\"\n      }\n    },\n    {\n      \"column\": \"Altura\",\n      \"properties\": {\n        \"dtype\": \"number\",\n        \"std\": 0.0353553390593273,\n        \"min\": 1.59,\n        \"max\": 1.68,\n        \"num_unique_values\": 5,\n        \"samples\": [\n          1.62,\n          1.66,\n          1.59\n        ],\n        \"semantic_type\": \"\",\n        \"description\": \"\"\n      }\n    },\n    {\n      \"column\": \"Genero\",\n      \"properties\": {\n        \"dtype\": \"category\",\n        \"num_unique_values\": 2,\n        \"samples\": [\n          \"F\",\n          \"M\"\n        ],\n        \"semantic_type\": \"\",\n        \"description\": \"\"\n      }\n    },\n    {\n      \"column\": \"Ciudad\",\n      \"properties\": {\n        \"dtype\": \"string\",\n        \"num_unique_values\": 3,\n        \"samples\": [\n          \"Rosario\",\n          \"Funes\"\n        ],\n        \"semantic_type\": \"\",\n        \"description\": \"\"\n      }\n    }\n  ]\n}"
            }
          },
          "metadata": {},
          "execution_count": 17
        }
      ]
    },
    {
      "cell_type": "code",
      "source": [
        "df[\"Edad\"]"
      ],
      "metadata": {
        "id": "v77Mh8OVaWKu",
        "colab": {
          "base_uri": "https://localhost:8080/",
          "height": 241
        },
        "outputId": "c93dbe79-bb89-4c1a-d5b0-4729e7442f28"
      },
      "execution_count": null,
      "outputs": [
        {
          "output_type": "execute_result",
          "data": {
            "text/plain": [
              "0    25\n",
              "1    36\n",
              "2    40\n",
              "3    41\n",
              "4    29\n",
              "Name: Edad, dtype: int64"
            ],
            "text/html": [
              "<div>\n",
              "<style scoped>\n",
              "    .dataframe tbody tr th:only-of-type {\n",
              "        vertical-align: middle;\n",
              "    }\n",
              "\n",
              "    .dataframe tbody tr th {\n",
              "        vertical-align: top;\n",
              "    }\n",
              "\n",
              "    .dataframe thead th {\n",
              "        text-align: right;\n",
              "    }\n",
              "</style>\n",
              "<table border=\"1\" class=\"dataframe\">\n",
              "  <thead>\n",
              "    <tr style=\"text-align: right;\">\n",
              "      <th></th>\n",
              "      <th>Edad</th>\n",
              "    </tr>\n",
              "  </thead>\n",
              "  <tbody>\n",
              "    <tr>\n",
              "      <th>0</th>\n",
              "      <td>25</td>\n",
              "    </tr>\n",
              "    <tr>\n",
              "      <th>1</th>\n",
              "      <td>36</td>\n",
              "    </tr>\n",
              "    <tr>\n",
              "      <th>2</th>\n",
              "      <td>40</td>\n",
              "    </tr>\n",
              "    <tr>\n",
              "      <th>3</th>\n",
              "      <td>41</td>\n",
              "    </tr>\n",
              "    <tr>\n",
              "      <th>4</th>\n",
              "      <td>29</td>\n",
              "    </tr>\n",
              "  </tbody>\n",
              "</table>\n",
              "</div><br><label><b>dtype:</b> int64</label>"
            ]
          },
          "metadata": {},
          "execution_count": 18
        }
      ]
    },
    {
      "cell_type": "code",
      "source": [
        "type(df[\"Edad\"])"
      ],
      "metadata": {
        "id": "3GBI7EaAjMNP",
        "colab": {
          "base_uri": "https://localhost:8080/",
          "height": 204
        },
        "outputId": "8dacc31a-2873-436e-a94a-3b734b1d8ad4"
      },
      "execution_count": null,
      "outputs": [
        {
          "output_type": "execute_result",
          "data": {
            "text/plain": [
              "pandas.core.series.Series"
            ],
            "text/html": [
              "<div style=\"max-width:800px; border: 1px solid var(--colab-border-color);\"><style>\n",
              "      pre.function-repr-contents {\n",
              "        overflow-x: auto;\n",
              "        padding: 8px 12px;\n",
              "        max-height: 500px;\n",
              "      }\n",
              "\n",
              "      pre.function-repr-contents.function-repr-contents-collapsed {\n",
              "        cursor: pointer;\n",
              "        max-height: 100px;\n",
              "      }\n",
              "    </style>\n",
              "    <pre style=\"white-space: initial; background:\n",
              "         var(--colab-secondary-surface-color); padding: 8px 12px;\n",
              "         border-bottom: 1px solid var(--colab-border-color);\"><b>pandas.core.series.Series</b><br/>def __init__(data=None, index=None, dtype: Dtype | None=None, name=None, copy: bool | None=None, fastpath: bool | lib.NoDefault=lib.no_default) -&gt; None</pre><pre class=\"function-repr-contents function-repr-contents-collapsed\" style=\"\"><a class=\"filepath\" style=\"display:none\" href=\"#\">/usr/local/lib/python3.12/dist-packages/pandas/core/series.py</a>One-dimensional ndarray with axis labels (including time series).\n",
              "\n",
              "Labels need not be unique but must be a hashable type. The object\n",
              "supports both integer- and label-based indexing and provides a host of\n",
              "methods for performing operations involving the index. Statistical\n",
              "methods from ndarray have been overridden to automatically exclude\n",
              "missing data (currently represented as NaN).\n",
              "\n",
              "Operations between Series (+, -, /, \\*, \\*\\*) align values based on their\n",
              "associated index values-- they need not be the same length. The result\n",
              "index will be the sorted union of the two indexes.\n",
              "\n",
              "Parameters\n",
              "----------\n",
              "data : array-like, Iterable, dict, or scalar value\n",
              "    Contains data stored in Series. If data is a dict, argument order is\n",
              "    maintained.\n",
              "index : array-like or Index (1d)\n",
              "    Values must be hashable and have the same length as `data`.\n",
              "    Non-unique index values are allowed. Will default to\n",
              "    RangeIndex (0, 1, 2, ..., n) if not provided. If data is dict-like\n",
              "    and index is None, then the keys in the data are used as the index. If the\n",
              "    index is not None, the resulting Series is reindexed with the index values.\n",
              "dtype : str, numpy.dtype, or ExtensionDtype, optional\n",
              "    Data type for the output Series. If not specified, this will be\n",
              "    inferred from `data`.\n",
              "    See the :ref:`user guide &lt;basics.dtypes&gt;` for more usages.\n",
              "name : Hashable, default None\n",
              "    The name to give to the Series.\n",
              "copy : bool, default False\n",
              "    Copy input data. Only affects Series or 1d ndarray input. See examples.\n",
              "\n",
              "Notes\n",
              "-----\n",
              "Please reference the :ref:`User Guide &lt;basics.series&gt;` for more information.\n",
              "\n",
              "Examples\n",
              "--------\n",
              "Constructing Series from a dictionary with an Index specified\n",
              "\n",
              "&gt;&gt;&gt; d = {&#x27;a&#x27;: 1, &#x27;b&#x27;: 2, &#x27;c&#x27;: 3}\n",
              "&gt;&gt;&gt; ser = pd.Series(data=d, index=[&#x27;a&#x27;, &#x27;b&#x27;, &#x27;c&#x27;])\n",
              "&gt;&gt;&gt; ser\n",
              "a   1\n",
              "b   2\n",
              "c   3\n",
              "dtype: int64\n",
              "\n",
              "The keys of the dictionary match with the Index values, hence the Index\n",
              "values have no effect.\n",
              "\n",
              "&gt;&gt;&gt; d = {&#x27;a&#x27;: 1, &#x27;b&#x27;: 2, &#x27;c&#x27;: 3}\n",
              "&gt;&gt;&gt; ser = pd.Series(data=d, index=[&#x27;x&#x27;, &#x27;y&#x27;, &#x27;z&#x27;])\n",
              "&gt;&gt;&gt; ser\n",
              "x   NaN\n",
              "y   NaN\n",
              "z   NaN\n",
              "dtype: float64\n",
              "\n",
              "Note that the Index is first build with the keys from the dictionary.\n",
              "After this the Series is reindexed with the given Index values, hence we\n",
              "get all NaN as a result.\n",
              "\n",
              "Constructing Series from a list with `copy=False`.\n",
              "\n",
              "&gt;&gt;&gt; r = [1, 2]\n",
              "&gt;&gt;&gt; ser = pd.Series(r, copy=False)\n",
              "&gt;&gt;&gt; ser.iloc[0] = 999\n",
              "&gt;&gt;&gt; r\n",
              "[1, 2]\n",
              "&gt;&gt;&gt; ser\n",
              "0    999\n",
              "1      2\n",
              "dtype: int64\n",
              "\n",
              "Due to input data type the Series has a `copy` of\n",
              "the original data even though `copy=False`, so\n",
              "the data is unchanged.\n",
              "\n",
              "Constructing Series from a 1d ndarray with `copy=False`.\n",
              "\n",
              "&gt;&gt;&gt; r = np.array([1, 2])\n",
              "&gt;&gt;&gt; ser = pd.Series(r, copy=False)\n",
              "&gt;&gt;&gt; ser.iloc[0] = 999\n",
              "&gt;&gt;&gt; r\n",
              "array([999,   2])\n",
              "&gt;&gt;&gt; ser\n",
              "0    999\n",
              "1      2\n",
              "dtype: int64\n",
              "\n",
              "Due to input data type the Series has a `view` on\n",
              "the original data, so\n",
              "the data is changed as well.</pre>\n",
              "      <script>\n",
              "      if (google.colab.kernel.accessAllowed && google.colab.files && google.colab.files.view) {\n",
              "        for (const element of document.querySelectorAll('.filepath')) {\n",
              "          element.style.display = 'block'\n",
              "          element.onclick = (event) => {\n",
              "            event.preventDefault();\n",
              "            event.stopPropagation();\n",
              "            google.colab.files.view(element.textContent, 263);\n",
              "          };\n",
              "        }\n",
              "      }\n",
              "      for (const element of document.querySelectorAll('.function-repr-contents')) {\n",
              "        element.onclick = (event) => {\n",
              "          event.preventDefault();\n",
              "          event.stopPropagation();\n",
              "          element.classList.toggle('function-repr-contents-collapsed');\n",
              "        };\n",
              "      }\n",
              "      </script>\n",
              "      </div>"
            ]
          },
          "metadata": {},
          "execution_count": 19
        }
      ]
    },
    {
      "cell_type": "code",
      "source": [
        "# Extraer los valores de la columna y devolverlos como un array de NumPy.\n",
        "# Útil para trabajar con los datos numéricos directamente.\n",
        "df[\"Edad\"].values"
      ],
      "metadata": {
        "id": "z5WNCO4raglt",
        "colab": {
          "base_uri": "https://localhost:8080/"
        },
        "outputId": "d0f42faa-466c-4ff1-b26c-194ecffecfe6"
      },
      "execution_count": null,
      "outputs": [
        {
          "output_type": "execute_result",
          "data": {
            "text/plain": [
              "array([25, 36, 40, 41, 29])"
            ]
          },
          "metadata": {},
          "execution_count": 20
        }
      ]
    },
    {
      "cell_type": "code",
      "source": [
        "type(df[\"Edad\"].values)"
      ],
      "metadata": {
        "id": "XHJ_qIA6x9X5",
        "colab": {
          "base_uri": "https://localhost:8080/"
        },
        "outputId": "2ff9a6a1-98f7-419e-fa1e-e1533e5050bf"
      },
      "execution_count": null,
      "outputs": [
        {
          "output_type": "execute_result",
          "data": {
            "text/plain": [
              "numpy.ndarray"
            ]
          },
          "metadata": {},
          "execution_count": 21
        }
      ]
    },
    {
      "cell_type": "code",
      "source": [
        "# el indice de una serie\n",
        "df[\"Edad\"].index"
      ],
      "metadata": {
        "id": "k-XWLKZ3abJi",
        "colab": {
          "base_uri": "https://localhost:8080/"
        },
        "outputId": "1934de15-cb99-4e10-cdff-fd203734e1a7"
      },
      "execution_count": null,
      "outputs": [
        {
          "output_type": "execute_result",
          "data": {
            "text/plain": [
              "RangeIndex(start=0, stop=5, step=1)"
            ]
          },
          "metadata": {},
          "execution_count": 22
        }
      ]
    },
    {
      "cell_type": "markdown",
      "source": [
        "## Funciones mátematicas de las series"
      ],
      "metadata": {
        "id": "ZmTRMcm_Z_SA"
      }
    },
    {
      "cell_type": "code",
      "source": [
        "df[\"Edad\"]"
      ],
      "metadata": {
        "id": "mweFuTDzYQde",
        "colab": {
          "base_uri": "https://localhost:8080/",
          "height": 241
        },
        "outputId": "acfe8c77-575b-4f90-d84d-5e86ae18bc4e"
      },
      "execution_count": null,
      "outputs": [
        {
          "output_type": "execute_result",
          "data": {
            "text/plain": [
              "0    25\n",
              "1    36\n",
              "2    40\n",
              "3    41\n",
              "4    29\n",
              "Name: Edad, dtype: int64"
            ],
            "text/html": [
              "<div>\n",
              "<style scoped>\n",
              "    .dataframe tbody tr th:only-of-type {\n",
              "        vertical-align: middle;\n",
              "    }\n",
              "\n",
              "    .dataframe tbody tr th {\n",
              "        vertical-align: top;\n",
              "    }\n",
              "\n",
              "    .dataframe thead th {\n",
              "        text-align: right;\n",
              "    }\n",
              "</style>\n",
              "<table border=\"1\" class=\"dataframe\">\n",
              "  <thead>\n",
              "    <tr style=\"text-align: right;\">\n",
              "      <th></th>\n",
              "      <th>Edad</th>\n",
              "    </tr>\n",
              "  </thead>\n",
              "  <tbody>\n",
              "    <tr>\n",
              "      <th>0</th>\n",
              "      <td>25</td>\n",
              "    </tr>\n",
              "    <tr>\n",
              "      <th>1</th>\n",
              "      <td>36</td>\n",
              "    </tr>\n",
              "    <tr>\n",
              "      <th>2</th>\n",
              "      <td>40</td>\n",
              "    </tr>\n",
              "    <tr>\n",
              "      <th>3</th>\n",
              "      <td>41</td>\n",
              "    </tr>\n",
              "    <tr>\n",
              "      <th>4</th>\n",
              "      <td>29</td>\n",
              "    </tr>\n",
              "  </tbody>\n",
              "</table>\n",
              "</div><br><label><b>dtype:</b> int64</label>"
            ]
          },
          "metadata": {},
          "execution_count": 23
        }
      ]
    },
    {
      "cell_type": "code",
      "source": [
        "# promedio de valores en la serie\n",
        "df[\"Edad\"].mean()"
      ],
      "metadata": {
        "id": "SR3huRTuZjkO",
        "colab": {
          "base_uri": "https://localhost:8080/"
        },
        "outputId": "a456e3e6-664e-4537-f7b1-b6616bade77d"
      },
      "execution_count": null,
      "outputs": [
        {
          "output_type": "execute_result",
          "data": {
            "text/plain": [
              "np.float64(34.2)"
            ]
          },
          "metadata": {},
          "execution_count": 24
        }
      ]
    },
    {
      "cell_type": "code",
      "source": [
        "# otras funciones matematicas\n",
        "df[\"Edad\"].min()"
      ],
      "metadata": {
        "id": "lQjWzr-WZnWE",
        "colab": {
          "base_uri": "https://localhost:8080/"
        },
        "outputId": "f01e7ee0-b1e5-4f85-c788-5bd2b68b2941"
      },
      "execution_count": null,
      "outputs": [
        {
          "output_type": "execute_result",
          "data": {
            "text/plain": [
              "25"
            ]
          },
          "metadata": {},
          "execution_count": 25
        }
      ]
    },
    {
      "cell_type": "code",
      "source": [
        "# suma de todos los valores\n",
        "total_edades = df[\"Edad\"].sum()\n",
        "total_edades"
      ],
      "metadata": {
        "id": "sYEwFlwKZvpE",
        "colab": {
          "base_uri": "https://localhost:8080/"
        },
        "outputId": "7c724b2c-e0e2-4396-d4fc-8e1a375982f0"
      },
      "execution_count": null,
      "outputs": [
        {
          "output_type": "execute_result",
          "data": {
            "text/plain": [
              "np.int64(171)"
            ]
          },
          "metadata": {},
          "execution_count": 26
        }
      ]
    },
    {
      "cell_type": "code",
      "source": [
        "# hay muchas mas... https://pandas.pydata.org/pandas-docs/stable/reference/api/pandas.Series.html"
      ],
      "metadata": {
        "id": "CNJ5aYeRZy5w"
      },
      "execution_count": null,
      "outputs": []
    },
    {
      "cell_type": "markdown",
      "source": [
        "## Aritmética de las series"
      ],
      "metadata": {
        "id": "sMiFLswGkSso"
      }
    },
    {
      "cell_type": "code",
      "source": [
        "df[\"Edad\"]"
      ],
      "metadata": {
        "id": "cehbpqPR8nYl",
        "colab": {
          "base_uri": "https://localhost:8080/",
          "height": 241
        },
        "outputId": "c65399cf-141b-446c-d840-c745fc968eaa"
      },
      "execution_count": null,
      "outputs": [
        {
          "output_type": "execute_result",
          "data": {
            "text/plain": [
              "0    25\n",
              "1    36\n",
              "2    40\n",
              "3    41\n",
              "4    29\n",
              "Name: Edad, dtype: int64"
            ],
            "text/html": [
              "<div>\n",
              "<style scoped>\n",
              "    .dataframe tbody tr th:only-of-type {\n",
              "        vertical-align: middle;\n",
              "    }\n",
              "\n",
              "    .dataframe tbody tr th {\n",
              "        vertical-align: top;\n",
              "    }\n",
              "\n",
              "    .dataframe thead th {\n",
              "        text-align: right;\n",
              "    }\n",
              "</style>\n",
              "<table border=\"1\" class=\"dataframe\">\n",
              "  <thead>\n",
              "    <tr style=\"text-align: right;\">\n",
              "      <th></th>\n",
              "      <th>Edad</th>\n",
              "    </tr>\n",
              "  </thead>\n",
              "  <tbody>\n",
              "    <tr>\n",
              "      <th>0</th>\n",
              "      <td>25</td>\n",
              "    </tr>\n",
              "    <tr>\n",
              "      <th>1</th>\n",
              "      <td>36</td>\n",
              "    </tr>\n",
              "    <tr>\n",
              "      <th>2</th>\n",
              "      <td>40</td>\n",
              "    </tr>\n",
              "    <tr>\n",
              "      <th>3</th>\n",
              "      <td>41</td>\n",
              "    </tr>\n",
              "    <tr>\n",
              "      <th>4</th>\n",
              "      <td>29</td>\n",
              "    </tr>\n",
              "  </tbody>\n",
              "</table>\n",
              "</div><br><label><b>dtype:</b> int64</label>"
            ]
          },
          "metadata": {},
          "execution_count": 27
        }
      ]
    },
    {
      "cell_type": "code",
      "source": [
        "# ejemplos 1\n",
        "df[\"Edad\"] * 100"
      ],
      "metadata": {
        "id": "BKh3nuB3cCmD",
        "colab": {
          "base_uri": "https://localhost:8080/",
          "height": 241
        },
        "outputId": "c59292d0-47ba-426e-c14f-40f0dae0e39b"
      },
      "execution_count": null,
      "outputs": [
        {
          "output_type": "execute_result",
          "data": {
            "text/plain": [
              "0    2500\n",
              "1    3600\n",
              "2    4000\n",
              "3    4100\n",
              "4    2900\n",
              "Name: Edad, dtype: int64"
            ],
            "text/html": [
              "<div>\n",
              "<style scoped>\n",
              "    .dataframe tbody tr th:only-of-type {\n",
              "        vertical-align: middle;\n",
              "    }\n",
              "\n",
              "    .dataframe tbody tr th {\n",
              "        vertical-align: top;\n",
              "    }\n",
              "\n",
              "    .dataframe thead th {\n",
              "        text-align: right;\n",
              "    }\n",
              "</style>\n",
              "<table border=\"1\" class=\"dataframe\">\n",
              "  <thead>\n",
              "    <tr style=\"text-align: right;\">\n",
              "      <th></th>\n",
              "      <th>Edad</th>\n",
              "    </tr>\n",
              "  </thead>\n",
              "  <tbody>\n",
              "    <tr>\n",
              "      <th>0</th>\n",
              "      <td>2500</td>\n",
              "    </tr>\n",
              "    <tr>\n",
              "      <th>1</th>\n",
              "      <td>3600</td>\n",
              "    </tr>\n",
              "    <tr>\n",
              "      <th>2</th>\n",
              "      <td>4000</td>\n",
              "    </tr>\n",
              "    <tr>\n",
              "      <th>3</th>\n",
              "      <td>4100</td>\n",
              "    </tr>\n",
              "    <tr>\n",
              "      <th>4</th>\n",
              "      <td>2900</td>\n",
              "    </tr>\n",
              "  </tbody>\n",
              "</table>\n",
              "</div><br><label><b>dtype:</b> int64</label>"
            ]
          },
          "metadata": {},
          "execution_count": 28
        }
      ]
    },
    {
      "cell_type": "code",
      "source": [
        "# ejemplos 2\n",
        "df[\"Altura\"] / df[\"Edad\"]"
      ],
      "metadata": {
        "id": "V0ARZyM585G8",
        "colab": {
          "base_uri": "https://localhost:8080/",
          "height": 241
        },
        "outputId": "7653b175-557b-487c-9aca-bf5ef33833ec"
      },
      "execution_count": null,
      "outputs": [
        {
          "output_type": "execute_result",
          "data": {
            "text/plain": [
              "0    0.066000\n",
              "1    0.045000\n",
              "2    0.039750\n",
              "3    0.040976\n",
              "4    0.057241\n",
              "dtype: float64"
            ],
            "text/html": [
              "<div>\n",
              "<style scoped>\n",
              "    .dataframe tbody tr th:only-of-type {\n",
              "        vertical-align: middle;\n",
              "    }\n",
              "\n",
              "    .dataframe tbody tr th {\n",
              "        vertical-align: top;\n",
              "    }\n",
              "\n",
              "    .dataframe thead th {\n",
              "        text-align: right;\n",
              "    }\n",
              "</style>\n",
              "<table border=\"1\" class=\"dataframe\">\n",
              "  <thead>\n",
              "    <tr style=\"text-align: right;\">\n",
              "      <th></th>\n",
              "      <th>0</th>\n",
              "    </tr>\n",
              "  </thead>\n",
              "  <tbody>\n",
              "    <tr>\n",
              "      <th>0</th>\n",
              "      <td>0.066000</td>\n",
              "    </tr>\n",
              "    <tr>\n",
              "      <th>1</th>\n",
              "      <td>0.045000</td>\n",
              "    </tr>\n",
              "    <tr>\n",
              "      <th>2</th>\n",
              "      <td>0.039750</td>\n",
              "    </tr>\n",
              "    <tr>\n",
              "      <th>3</th>\n",
              "      <td>0.040976</td>\n",
              "    </tr>\n",
              "    <tr>\n",
              "      <th>4</th>\n",
              "      <td>0.057241</td>\n",
              "    </tr>\n",
              "  </tbody>\n",
              "</table>\n",
              "</div><br><label><b>dtype:</b> float64</label>"
            ]
          },
          "metadata": {},
          "execution_count": 29
        }
      ]
    },
    {
      "cell_type": "markdown",
      "source": [
        "## Operaciones lógicas en las series"
      ],
      "metadata": {
        "id": "nlPgZPqL5tH4"
      }
    },
    {
      "cell_type": "code",
      "source": [
        "df_edades = df[\"Edad\"]\n",
        "df_edades"
      ],
      "metadata": {
        "id": "eHdS1v2c5-ng",
        "colab": {
          "base_uri": "https://localhost:8080/",
          "height": 241
        },
        "outputId": "d01475c8-e549-41d3-d847-261f8b6fff28"
      },
      "execution_count": null,
      "outputs": [
        {
          "output_type": "execute_result",
          "data": {
            "text/plain": [
              "0    25\n",
              "1    36\n",
              "2    40\n",
              "3    41\n",
              "4    29\n",
              "Name: Edad, dtype: int64"
            ],
            "text/html": [
              "<div>\n",
              "<style scoped>\n",
              "    .dataframe tbody tr th:only-of-type {\n",
              "        vertical-align: middle;\n",
              "    }\n",
              "\n",
              "    .dataframe tbody tr th {\n",
              "        vertical-align: top;\n",
              "    }\n",
              "\n",
              "    .dataframe thead th {\n",
              "        text-align: right;\n",
              "    }\n",
              "</style>\n",
              "<table border=\"1\" class=\"dataframe\">\n",
              "  <thead>\n",
              "    <tr style=\"text-align: right;\">\n",
              "      <th></th>\n",
              "      <th>Edad</th>\n",
              "    </tr>\n",
              "  </thead>\n",
              "  <tbody>\n",
              "    <tr>\n",
              "      <th>0</th>\n",
              "      <td>25</td>\n",
              "    </tr>\n",
              "    <tr>\n",
              "      <th>1</th>\n",
              "      <td>36</td>\n",
              "    </tr>\n",
              "    <tr>\n",
              "      <th>2</th>\n",
              "      <td>40</td>\n",
              "    </tr>\n",
              "    <tr>\n",
              "      <th>3</th>\n",
              "      <td>41</td>\n",
              "    </tr>\n",
              "    <tr>\n",
              "      <th>4</th>\n",
              "      <td>29</td>\n",
              "    </tr>\n",
              "  </tbody>\n",
              "</table>\n",
              "</div><br><label><b>dtype:</b> int64</label>"
            ]
          },
          "metadata": {},
          "execution_count": 30
        }
      ]
    },
    {
      "cell_type": "code",
      "source": [
        "# comparación booleana en la columna \"Edad\"\n",
        "df[\"Edad\"] > 30"
      ],
      "metadata": {
        "id": "U4b_GZ4d5y_V",
        "colab": {
          "base_uri": "https://localhost:8080/",
          "height": 241
        },
        "outputId": "f71c3fe0-6148-4b47-ec55-a61111ba9bd3"
      },
      "execution_count": null,
      "outputs": [
        {
          "output_type": "execute_result",
          "data": {
            "text/plain": [
              "0    False\n",
              "1     True\n",
              "2     True\n",
              "3     True\n",
              "4    False\n",
              "Name: Edad, dtype: bool"
            ],
            "text/html": [
              "<div>\n",
              "<style scoped>\n",
              "    .dataframe tbody tr th:only-of-type {\n",
              "        vertical-align: middle;\n",
              "    }\n",
              "\n",
              "    .dataframe tbody tr th {\n",
              "        vertical-align: top;\n",
              "    }\n",
              "\n",
              "    .dataframe thead th {\n",
              "        text-align: right;\n",
              "    }\n",
              "</style>\n",
              "<table border=\"1\" class=\"dataframe\">\n",
              "  <thead>\n",
              "    <tr style=\"text-align: right;\">\n",
              "      <th></th>\n",
              "      <th>Edad</th>\n",
              "    </tr>\n",
              "  </thead>\n",
              "  <tbody>\n",
              "    <tr>\n",
              "      <th>0</th>\n",
              "      <td>False</td>\n",
              "    </tr>\n",
              "    <tr>\n",
              "      <th>1</th>\n",
              "      <td>True</td>\n",
              "    </tr>\n",
              "    <tr>\n",
              "      <th>2</th>\n",
              "      <td>True</td>\n",
              "    </tr>\n",
              "    <tr>\n",
              "      <th>3</th>\n",
              "      <td>True</td>\n",
              "    </tr>\n",
              "    <tr>\n",
              "      <th>4</th>\n",
              "      <td>False</td>\n",
              "    </tr>\n",
              "  </tbody>\n",
              "</table>\n",
              "</div><br><label><b>dtype:</b> bool</label>"
            ]
          },
          "metadata": {},
          "execution_count": 31
        }
      ]
    },
    {
      "cell_type": "markdown",
      "source": [
        "## Indexación\n",
        "Seleccionar y acceder a elementos específicos dentro de una estructura de datos."
      ],
      "metadata": {
        "id": "c78LifkF7F2B"
      }
    },
    {
      "cell_type": "code",
      "source": [
        "edades = df[\"Edad\"]\n",
        "edades"
      ],
      "metadata": {
        "id": "KBXXPK8_62f6",
        "colab": {
          "base_uri": "https://localhost:8080/",
          "height": 241
        },
        "outputId": "ad07ef64-a2de-46ce-d645-0e1e15f769db"
      },
      "execution_count": null,
      "outputs": [
        {
          "output_type": "execute_result",
          "data": {
            "text/plain": [
              "0    25\n",
              "1    36\n",
              "2    40\n",
              "3    41\n",
              "4    29\n",
              "Name: Edad, dtype: int64"
            ],
            "text/html": [
              "<div>\n",
              "<style scoped>\n",
              "    .dataframe tbody tr th:only-of-type {\n",
              "        vertical-align: middle;\n",
              "    }\n",
              "\n",
              "    .dataframe tbody tr th {\n",
              "        vertical-align: top;\n",
              "    }\n",
              "\n",
              "    .dataframe thead th {\n",
              "        text-align: right;\n",
              "    }\n",
              "</style>\n",
              "<table border=\"1\" class=\"dataframe\">\n",
              "  <thead>\n",
              "    <tr style=\"text-align: right;\">\n",
              "      <th></th>\n",
              "      <th>Edad</th>\n",
              "    </tr>\n",
              "  </thead>\n",
              "  <tbody>\n",
              "    <tr>\n",
              "      <th>0</th>\n",
              "      <td>25</td>\n",
              "    </tr>\n",
              "    <tr>\n",
              "      <th>1</th>\n",
              "      <td>36</td>\n",
              "    </tr>\n",
              "    <tr>\n",
              "      <th>2</th>\n",
              "      <td>40</td>\n",
              "    </tr>\n",
              "    <tr>\n",
              "      <th>3</th>\n",
              "      <td>41</td>\n",
              "    </tr>\n",
              "    <tr>\n",
              "      <th>4</th>\n",
              "      <td>29</td>\n",
              "    </tr>\n",
              "  </tbody>\n",
              "</table>\n",
              "</div><br><label><b>dtype:</b> int64</label>"
            ]
          },
          "metadata": {},
          "execution_count": 32
        }
      ]
    },
    {
      "cell_type": "code",
      "source": [
        "edades[4]"
      ],
      "metadata": {
        "id": "SqKXAWVE7Lf7",
        "colab": {
          "base_uri": "https://localhost:8080/"
        },
        "outputId": "37cf5c71-5590-4e38-8738-68b4360f7a45"
      },
      "execution_count": null,
      "outputs": [
        {
          "output_type": "execute_result",
          "data": {
            "text/plain": [
              "np.int64(29)"
            ]
          },
          "metadata": {},
          "execution_count": 33
        }
      ]
    },
    {
      "cell_type": "code",
      "source": [
        "edades[1:4]"
      ],
      "metadata": {
        "id": "SXGJY2r-7PE6",
        "colab": {
          "base_uri": "https://localhost:8080/",
          "height": 178
        },
        "outputId": "d89e65a2-956d-43ad-9479-60bb0a384d68"
      },
      "execution_count": null,
      "outputs": [
        {
          "output_type": "execute_result",
          "data": {
            "text/plain": [
              "1    36\n",
              "2    40\n",
              "3    41\n",
              "Name: Edad, dtype: int64"
            ],
            "text/html": [
              "<div>\n",
              "<style scoped>\n",
              "    .dataframe tbody tr th:only-of-type {\n",
              "        vertical-align: middle;\n",
              "    }\n",
              "\n",
              "    .dataframe tbody tr th {\n",
              "        vertical-align: top;\n",
              "    }\n",
              "\n",
              "    .dataframe thead th {\n",
              "        text-align: right;\n",
              "    }\n",
              "</style>\n",
              "<table border=\"1\" class=\"dataframe\">\n",
              "  <thead>\n",
              "    <tr style=\"text-align: right;\">\n",
              "      <th></th>\n",
              "      <th>Edad</th>\n",
              "    </tr>\n",
              "  </thead>\n",
              "  <tbody>\n",
              "    <tr>\n",
              "      <th>1</th>\n",
              "      <td>36</td>\n",
              "    </tr>\n",
              "    <tr>\n",
              "      <th>2</th>\n",
              "      <td>40</td>\n",
              "    </tr>\n",
              "    <tr>\n",
              "      <th>3</th>\n",
              "      <td>41</td>\n",
              "    </tr>\n",
              "  </tbody>\n",
              "</table>\n",
              "</div><br><label><b>dtype:</b> int64</label>"
            ]
          },
          "metadata": {},
          "execution_count": 34
        }
      ]
    },
    {
      "cell_type": "code",
      "source": [
        "# indexacion por array boolean\n",
        "# seleccionar elementos de la Serie donde la condición booleana es True\n",
        "edades[[True, False, True, False, False]]"
      ],
      "metadata": {
        "id": "7BZYV-V07RoN",
        "colab": {
          "base_uri": "https://localhost:8080/",
          "height": 147
        },
        "outputId": "3a8cd319-00e5-4f66-9757-7d93e44daafa"
      },
      "execution_count": null,
      "outputs": [
        {
          "output_type": "execute_result",
          "data": {
            "text/plain": [
              "0    25\n",
              "2    40\n",
              "Name: Edad, dtype: int64"
            ],
            "text/html": [
              "<div>\n",
              "<style scoped>\n",
              "    .dataframe tbody tr th:only-of-type {\n",
              "        vertical-align: middle;\n",
              "    }\n",
              "\n",
              "    .dataframe tbody tr th {\n",
              "        vertical-align: top;\n",
              "    }\n",
              "\n",
              "    .dataframe thead th {\n",
              "        text-align: right;\n",
              "    }\n",
              "</style>\n",
              "<table border=\"1\" class=\"dataframe\">\n",
              "  <thead>\n",
              "    <tr style=\"text-align: right;\">\n",
              "      <th></th>\n",
              "      <th>Edad</th>\n",
              "    </tr>\n",
              "  </thead>\n",
              "  <tbody>\n",
              "    <tr>\n",
              "      <th>0</th>\n",
              "      <td>25</td>\n",
              "    </tr>\n",
              "    <tr>\n",
              "      <th>2</th>\n",
              "      <td>40</td>\n",
              "    </tr>\n",
              "  </tbody>\n",
              "</table>\n",
              "</div><br><label><b>dtype:</b> int64</label>"
            ]
          },
          "metadata": {},
          "execution_count": 35
        }
      ]
    },
    {
      "cell_type": "code",
      "source": [
        "# recordar..\n",
        "edades>30"
      ],
      "metadata": {
        "id": "xRrqrr1Yk5wU",
        "colab": {
          "base_uri": "https://localhost:8080/",
          "height": 241
        },
        "outputId": "a9425ae4-58d1-44e1-d2bc-95c6a68dc57a"
      },
      "execution_count": null,
      "outputs": [
        {
          "output_type": "execute_result",
          "data": {
            "text/plain": [
              "0    False\n",
              "1     True\n",
              "2     True\n",
              "3     True\n",
              "4    False\n",
              "Name: Edad, dtype: bool"
            ],
            "text/html": [
              "<div>\n",
              "<style scoped>\n",
              "    .dataframe tbody tr th:only-of-type {\n",
              "        vertical-align: middle;\n",
              "    }\n",
              "\n",
              "    .dataframe tbody tr th {\n",
              "        vertical-align: top;\n",
              "    }\n",
              "\n",
              "    .dataframe thead th {\n",
              "        text-align: right;\n",
              "    }\n",
              "</style>\n",
              "<table border=\"1\" class=\"dataframe\">\n",
              "  <thead>\n",
              "    <tr style=\"text-align: right;\">\n",
              "      <th></th>\n",
              "      <th>Edad</th>\n",
              "    </tr>\n",
              "  </thead>\n",
              "  <tbody>\n",
              "    <tr>\n",
              "      <th>0</th>\n",
              "      <td>False</td>\n",
              "    </tr>\n",
              "    <tr>\n",
              "      <th>1</th>\n",
              "      <td>True</td>\n",
              "    </tr>\n",
              "    <tr>\n",
              "      <th>2</th>\n",
              "      <td>True</td>\n",
              "    </tr>\n",
              "    <tr>\n",
              "      <th>3</th>\n",
              "      <td>True</td>\n",
              "    </tr>\n",
              "    <tr>\n",
              "      <th>4</th>\n",
              "      <td>False</td>\n",
              "    </tr>\n",
              "  </tbody>\n",
              "</table>\n",
              "</div><br><label><b>dtype:</b> bool</label>"
            ]
          },
          "metadata": {},
          "execution_count": 36
        }
      ]
    },
    {
      "cell_type": "code",
      "source": [
        "#filtrar datos basados en condiciones\n",
        "# ahora podemos mezclar los dos conceptos, Indexacion boolean y aritmetica logica sobre las series.\n",
        "filtro = edades>30\n",
        "print(filtro)\n",
        "#utilizando la técnica de indexación por corchetes en la Serie\n",
        "edades[filtro]"
      ],
      "metadata": {
        "id": "8-_BYieY7ccp",
        "colab": {
          "base_uri": "https://localhost:8080/",
          "height": 288
        },
        "outputId": "1a2a1f9a-6b55-4fc0-81c5-4ed9204ac487"
      },
      "execution_count": null,
      "outputs": [
        {
          "output_type": "stream",
          "name": "stdout",
          "text": [
            "0    False\n",
            "1     True\n",
            "2     True\n",
            "3     True\n",
            "4    False\n",
            "Name: Edad, dtype: bool\n"
          ]
        },
        {
          "output_type": "execute_result",
          "data": {
            "text/plain": [
              "1    36\n",
              "2    40\n",
              "3    41\n",
              "Name: Edad, dtype: int64"
            ],
            "text/html": [
              "<div>\n",
              "<style scoped>\n",
              "    .dataframe tbody tr th:only-of-type {\n",
              "        vertical-align: middle;\n",
              "    }\n",
              "\n",
              "    .dataframe tbody tr th {\n",
              "        vertical-align: top;\n",
              "    }\n",
              "\n",
              "    .dataframe thead th {\n",
              "        text-align: right;\n",
              "    }\n",
              "</style>\n",
              "<table border=\"1\" class=\"dataframe\">\n",
              "  <thead>\n",
              "    <tr style=\"text-align: right;\">\n",
              "      <th></th>\n",
              "      <th>Edad</th>\n",
              "    </tr>\n",
              "  </thead>\n",
              "  <tbody>\n",
              "    <tr>\n",
              "      <th>1</th>\n",
              "      <td>36</td>\n",
              "    </tr>\n",
              "    <tr>\n",
              "      <th>2</th>\n",
              "      <td>40</td>\n",
              "    </tr>\n",
              "    <tr>\n",
              "      <th>3</th>\n",
              "      <td>41</td>\n",
              "    </tr>\n",
              "  </tbody>\n",
              "</table>\n",
              "</div><br><label><b>dtype:</b> int64</label>"
            ]
          },
          "metadata": {},
          "execution_count": 37
        }
      ]
    },
    {
      "cell_type": "code",
      "source": [
        "edades[edades>30]"
      ],
      "metadata": {
        "id": "0z6rGPTf7q_d",
        "colab": {
          "base_uri": "https://localhost:8080/",
          "height": 178
        },
        "outputId": "3bcd0d47-8a9b-4a61-acf7-e56565e22e88"
      },
      "execution_count": null,
      "outputs": [
        {
          "output_type": "execute_result",
          "data": {
            "text/plain": [
              "1    36\n",
              "2    40\n",
              "3    41\n",
              "Name: Edad, dtype: int64"
            ],
            "text/html": [
              "<div>\n",
              "<style scoped>\n",
              "    .dataframe tbody tr th:only-of-type {\n",
              "        vertical-align: middle;\n",
              "    }\n",
              "\n",
              "    .dataframe tbody tr th {\n",
              "        vertical-align: top;\n",
              "    }\n",
              "\n",
              "    .dataframe thead th {\n",
              "        text-align: right;\n",
              "    }\n",
              "</style>\n",
              "<table border=\"1\" class=\"dataframe\">\n",
              "  <thead>\n",
              "    <tr style=\"text-align: right;\">\n",
              "      <th></th>\n",
              "      <th>Edad</th>\n",
              "    </tr>\n",
              "  </thead>\n",
              "  <tbody>\n",
              "    <tr>\n",
              "      <th>1</th>\n",
              "      <td>36</td>\n",
              "    </tr>\n",
              "    <tr>\n",
              "      <th>2</th>\n",
              "      <td>40</td>\n",
              "    </tr>\n",
              "    <tr>\n",
              "      <th>3</th>\n",
              "      <td>41</td>\n",
              "    </tr>\n",
              "  </tbody>\n",
              "</table>\n",
              "</div><br><label><b>dtype:</b> int64</label>"
            ]
          },
          "metadata": {},
          "execution_count": 38
        }
      ]
    },
    {
      "cell_type": "code",
      "source": [
        "#filtrado y selección de columna en un solo paso\n",
        "#Filtra df para incluir solo donde el valor'Edad' es mayor que 30.\n",
        "\n",
        "df[df['Edad']>30]['Edad']"
      ],
      "metadata": {
        "id": "o3Zwn3AdStSS",
        "colab": {
          "base_uri": "https://localhost:8080/",
          "height": 178
        },
        "outputId": "83c6a677-ff24-4c04-a135-1e75414f26de"
      },
      "execution_count": null,
      "outputs": [
        {
          "output_type": "execute_result",
          "data": {
            "text/plain": [
              "1    36\n",
              "2    40\n",
              "3    41\n",
              "Name: Edad, dtype: int64"
            ],
            "text/html": [
              "<div>\n",
              "<style scoped>\n",
              "    .dataframe tbody tr th:only-of-type {\n",
              "        vertical-align: middle;\n",
              "    }\n",
              "\n",
              "    .dataframe tbody tr th {\n",
              "        vertical-align: top;\n",
              "    }\n",
              "\n",
              "    .dataframe thead th {\n",
              "        text-align: right;\n",
              "    }\n",
              "</style>\n",
              "<table border=\"1\" class=\"dataframe\">\n",
              "  <thead>\n",
              "    <tr style=\"text-align: right;\">\n",
              "      <th></th>\n",
              "      <th>Edad</th>\n",
              "    </tr>\n",
              "  </thead>\n",
              "  <tbody>\n",
              "    <tr>\n",
              "      <th>1</th>\n",
              "      <td>36</td>\n",
              "    </tr>\n",
              "    <tr>\n",
              "      <th>2</th>\n",
              "      <td>40</td>\n",
              "    </tr>\n",
              "    <tr>\n",
              "      <th>3</th>\n",
              "      <td>41</td>\n",
              "    </tr>\n",
              "  </tbody>\n",
              "</table>\n",
              "</div><br><label><b>dtype:</b> int64</label>"
            ]
          },
          "metadata": {},
          "execution_count": 39
        }
      ]
    },
    {
      "cell_type": "markdown",
      "source": [
        "## Seleccionar renglones/filas"
      ],
      "metadata": {
        "id": "u2MHP0QDd2-O"
      }
    },
    {
      "cell_type": "code",
      "source": [
        "df"
      ],
      "metadata": {
        "id": "Sy2D9MfoeeHw",
        "colab": {
          "base_uri": "https://localhost:8080/",
          "height": 206
        },
        "outputId": "714745bd-25bb-4db3-bab5-ec671858b1ae"
      },
      "execution_count": null,
      "outputs": [
        {
          "output_type": "execute_result",
          "data": {
            "text/plain": [
              "    Nombre  Edad  Altura Genero   Ciudad\n",
              "0     Juan    25    1.65      M  Rosario\n",
              "1    Laura    36    1.62      F  Rosario\n",
              "2     Sara    40    1.59      F    Funes\n",
              "3  Antonio    41    1.68      M   Roldán\n",
              "4    Luisa    29    1.66      F  Rosario"
            ],
            "text/html": [
              "\n",
              "  <div id=\"df-e543bb43-9c4a-4d1d-8cbb-b1631b906672\" class=\"colab-df-container\">\n",
              "    <div>\n",
              "<style scoped>\n",
              "    .dataframe tbody tr th:only-of-type {\n",
              "        vertical-align: middle;\n",
              "    }\n",
              "\n",
              "    .dataframe tbody tr th {\n",
              "        vertical-align: top;\n",
              "    }\n",
              "\n",
              "    .dataframe thead th {\n",
              "        text-align: right;\n",
              "    }\n",
              "</style>\n",
              "<table border=\"1\" class=\"dataframe\">\n",
              "  <thead>\n",
              "    <tr style=\"text-align: right;\">\n",
              "      <th></th>\n",
              "      <th>Nombre</th>\n",
              "      <th>Edad</th>\n",
              "      <th>Altura</th>\n",
              "      <th>Genero</th>\n",
              "      <th>Ciudad</th>\n",
              "    </tr>\n",
              "  </thead>\n",
              "  <tbody>\n",
              "    <tr>\n",
              "      <th>0</th>\n",
              "      <td>Juan</td>\n",
              "      <td>25</td>\n",
              "      <td>1.65</td>\n",
              "      <td>M</td>\n",
              "      <td>Rosario</td>\n",
              "    </tr>\n",
              "    <tr>\n",
              "      <th>1</th>\n",
              "      <td>Laura</td>\n",
              "      <td>36</td>\n",
              "      <td>1.62</td>\n",
              "      <td>F</td>\n",
              "      <td>Rosario</td>\n",
              "    </tr>\n",
              "    <tr>\n",
              "      <th>2</th>\n",
              "      <td>Sara</td>\n",
              "      <td>40</td>\n",
              "      <td>1.59</td>\n",
              "      <td>F</td>\n",
              "      <td>Funes</td>\n",
              "    </tr>\n",
              "    <tr>\n",
              "      <th>3</th>\n",
              "      <td>Antonio</td>\n",
              "      <td>41</td>\n",
              "      <td>1.68</td>\n",
              "      <td>M</td>\n",
              "      <td>Roldán</td>\n",
              "    </tr>\n",
              "    <tr>\n",
              "      <th>4</th>\n",
              "      <td>Luisa</td>\n",
              "      <td>29</td>\n",
              "      <td>1.66</td>\n",
              "      <td>F</td>\n",
              "      <td>Rosario</td>\n",
              "    </tr>\n",
              "  </tbody>\n",
              "</table>\n",
              "</div>\n",
              "    <div class=\"colab-df-buttons\">\n",
              "\n",
              "  <div class=\"colab-df-container\">\n",
              "    <button class=\"colab-df-convert\" onclick=\"convertToInteractive('df-e543bb43-9c4a-4d1d-8cbb-b1631b906672')\"\n",
              "            title=\"Convert this dataframe to an interactive table.\"\n",
              "            style=\"display:none;\">\n",
              "\n",
              "  <svg xmlns=\"http://www.w3.org/2000/svg\" height=\"24px\" viewBox=\"0 -960 960 960\">\n",
              "    <path d=\"M120-120v-720h720v720H120Zm60-500h600v-160H180v160Zm220 220h160v-160H400v160Zm0 220h160v-160H400v160ZM180-400h160v-160H180v160Zm440 0h160v-160H620v160ZM180-180h160v-160H180v160Zm440 0h160v-160H620v160Z\"/>\n",
              "  </svg>\n",
              "    </button>\n",
              "\n",
              "  <style>\n",
              "    .colab-df-container {\n",
              "      display:flex;\n",
              "      gap: 12px;\n",
              "    }\n",
              "\n",
              "    .colab-df-convert {\n",
              "      background-color: #E8F0FE;\n",
              "      border: none;\n",
              "      border-radius: 50%;\n",
              "      cursor: pointer;\n",
              "      display: none;\n",
              "      fill: #1967D2;\n",
              "      height: 32px;\n",
              "      padding: 0 0 0 0;\n",
              "      width: 32px;\n",
              "    }\n",
              "\n",
              "    .colab-df-convert:hover {\n",
              "      background-color: #E2EBFA;\n",
              "      box-shadow: 0px 1px 2px rgba(60, 64, 67, 0.3), 0px 1px 3px 1px rgba(60, 64, 67, 0.15);\n",
              "      fill: #174EA6;\n",
              "    }\n",
              "\n",
              "    .colab-df-buttons div {\n",
              "      margin-bottom: 4px;\n",
              "    }\n",
              "\n",
              "    [theme=dark] .colab-df-convert {\n",
              "      background-color: #3B4455;\n",
              "      fill: #D2E3FC;\n",
              "    }\n",
              "\n",
              "    [theme=dark] .colab-df-convert:hover {\n",
              "      background-color: #434B5C;\n",
              "      box-shadow: 0px 1px 3px 1px rgba(0, 0, 0, 0.15);\n",
              "      filter: drop-shadow(0px 1px 2px rgba(0, 0, 0, 0.3));\n",
              "      fill: #FFFFFF;\n",
              "    }\n",
              "  </style>\n",
              "\n",
              "    <script>\n",
              "      const buttonEl =\n",
              "        document.querySelector('#df-e543bb43-9c4a-4d1d-8cbb-b1631b906672 button.colab-df-convert');\n",
              "      buttonEl.style.display =\n",
              "        google.colab.kernel.accessAllowed ? 'block' : 'none';\n",
              "\n",
              "      async function convertToInteractive(key) {\n",
              "        const element = document.querySelector('#df-e543bb43-9c4a-4d1d-8cbb-b1631b906672');\n",
              "        const dataTable =\n",
              "          await google.colab.kernel.invokeFunction('convertToInteractive',\n",
              "                                                    [key], {});\n",
              "        if (!dataTable) return;\n",
              "\n",
              "        const docLinkHtml = 'Like what you see? Visit the ' +\n",
              "          '<a target=\"_blank\" href=https://colab.research.google.com/notebooks/data_table.ipynb>data table notebook</a>'\n",
              "          + ' to learn more about interactive tables.';\n",
              "        element.innerHTML = '';\n",
              "        dataTable['output_type'] = 'display_data';\n",
              "        await google.colab.output.renderOutput(dataTable, element);\n",
              "        const docLink = document.createElement('div');\n",
              "        docLink.innerHTML = docLinkHtml;\n",
              "        element.appendChild(docLink);\n",
              "      }\n",
              "    </script>\n",
              "  </div>\n",
              "\n",
              "\n",
              "    <div id=\"df-e506d78d-16ae-45a8-b48c-e80a69b4bee8\">\n",
              "      <button class=\"colab-df-quickchart\" onclick=\"quickchart('df-e506d78d-16ae-45a8-b48c-e80a69b4bee8')\"\n",
              "                title=\"Suggest charts\"\n",
              "                style=\"display:none;\">\n",
              "\n",
              "<svg xmlns=\"http://www.w3.org/2000/svg\" height=\"24px\"viewBox=\"0 0 24 24\"\n",
              "     width=\"24px\">\n",
              "    <g>\n",
              "        <path d=\"M19 3H5c-1.1 0-2 .9-2 2v14c0 1.1.9 2 2 2h14c1.1 0 2-.9 2-2V5c0-1.1-.9-2-2-2zM9 17H7v-7h2v7zm4 0h-2V7h2v10zm4 0h-2v-4h2v4z\"/>\n",
              "    </g>\n",
              "</svg>\n",
              "      </button>\n",
              "\n",
              "<style>\n",
              "  .colab-df-quickchart {\n",
              "      --bg-color: #E8F0FE;\n",
              "      --fill-color: #1967D2;\n",
              "      --hover-bg-color: #E2EBFA;\n",
              "      --hover-fill-color: #174EA6;\n",
              "      --disabled-fill-color: #AAA;\n",
              "      --disabled-bg-color: #DDD;\n",
              "  }\n",
              "\n",
              "  [theme=dark] .colab-df-quickchart {\n",
              "      --bg-color: #3B4455;\n",
              "      --fill-color: #D2E3FC;\n",
              "      --hover-bg-color: #434B5C;\n",
              "      --hover-fill-color: #FFFFFF;\n",
              "      --disabled-bg-color: #3B4455;\n",
              "      --disabled-fill-color: #666;\n",
              "  }\n",
              "\n",
              "  .colab-df-quickchart {\n",
              "    background-color: var(--bg-color);\n",
              "    border: none;\n",
              "    border-radius: 50%;\n",
              "    cursor: pointer;\n",
              "    display: none;\n",
              "    fill: var(--fill-color);\n",
              "    height: 32px;\n",
              "    padding: 0;\n",
              "    width: 32px;\n",
              "  }\n",
              "\n",
              "  .colab-df-quickchart:hover {\n",
              "    background-color: var(--hover-bg-color);\n",
              "    box-shadow: 0 1px 2px rgba(60, 64, 67, 0.3), 0 1px 3px 1px rgba(60, 64, 67, 0.15);\n",
              "    fill: var(--button-hover-fill-color);\n",
              "  }\n",
              "\n",
              "  .colab-df-quickchart-complete:disabled,\n",
              "  .colab-df-quickchart-complete:disabled:hover {\n",
              "    background-color: var(--disabled-bg-color);\n",
              "    fill: var(--disabled-fill-color);\n",
              "    box-shadow: none;\n",
              "  }\n",
              "\n",
              "  .colab-df-spinner {\n",
              "    border: 2px solid var(--fill-color);\n",
              "    border-color: transparent;\n",
              "    border-bottom-color: var(--fill-color);\n",
              "    animation:\n",
              "      spin 1s steps(1) infinite;\n",
              "  }\n",
              "\n",
              "  @keyframes spin {\n",
              "    0% {\n",
              "      border-color: transparent;\n",
              "      border-bottom-color: var(--fill-color);\n",
              "      border-left-color: var(--fill-color);\n",
              "    }\n",
              "    20% {\n",
              "      border-color: transparent;\n",
              "      border-left-color: var(--fill-color);\n",
              "      border-top-color: var(--fill-color);\n",
              "    }\n",
              "    30% {\n",
              "      border-color: transparent;\n",
              "      border-left-color: var(--fill-color);\n",
              "      border-top-color: var(--fill-color);\n",
              "      border-right-color: var(--fill-color);\n",
              "    }\n",
              "    40% {\n",
              "      border-color: transparent;\n",
              "      border-right-color: var(--fill-color);\n",
              "      border-top-color: var(--fill-color);\n",
              "    }\n",
              "    60% {\n",
              "      border-color: transparent;\n",
              "      border-right-color: var(--fill-color);\n",
              "    }\n",
              "    80% {\n",
              "      border-color: transparent;\n",
              "      border-right-color: var(--fill-color);\n",
              "      border-bottom-color: var(--fill-color);\n",
              "    }\n",
              "    90% {\n",
              "      border-color: transparent;\n",
              "      border-bottom-color: var(--fill-color);\n",
              "    }\n",
              "  }\n",
              "</style>\n",
              "\n",
              "      <script>\n",
              "        async function quickchart(key) {\n",
              "          const quickchartButtonEl =\n",
              "            document.querySelector('#' + key + ' button');\n",
              "          quickchartButtonEl.disabled = true;  // To prevent multiple clicks.\n",
              "          quickchartButtonEl.classList.add('colab-df-spinner');\n",
              "          try {\n",
              "            const charts = await google.colab.kernel.invokeFunction(\n",
              "                'suggestCharts', [key], {});\n",
              "          } catch (error) {\n",
              "            console.error('Error during call to suggestCharts:', error);\n",
              "          }\n",
              "          quickchartButtonEl.classList.remove('colab-df-spinner');\n",
              "          quickchartButtonEl.classList.add('colab-df-quickchart-complete');\n",
              "        }\n",
              "        (() => {\n",
              "          let quickchartButtonEl =\n",
              "            document.querySelector('#df-e506d78d-16ae-45a8-b48c-e80a69b4bee8 button');\n",
              "          quickchartButtonEl.style.display =\n",
              "            google.colab.kernel.accessAllowed ? 'block' : 'none';\n",
              "        })();\n",
              "      </script>\n",
              "    </div>\n",
              "\n",
              "  <div id=\"id_c541e974-5e93-46b8-b319-8636361799f6\">\n",
              "    <style>\n",
              "      .colab-df-generate {\n",
              "        background-color: #E8F0FE;\n",
              "        border: none;\n",
              "        border-radius: 50%;\n",
              "        cursor: pointer;\n",
              "        display: none;\n",
              "        fill: #1967D2;\n",
              "        height: 32px;\n",
              "        padding: 0 0 0 0;\n",
              "        width: 32px;\n",
              "      }\n",
              "\n",
              "      .colab-df-generate:hover {\n",
              "        background-color: #E2EBFA;\n",
              "        box-shadow: 0px 1px 2px rgba(60, 64, 67, 0.3), 0px 1px 3px 1px rgba(60, 64, 67, 0.15);\n",
              "        fill: #174EA6;\n",
              "      }\n",
              "\n",
              "      [theme=dark] .colab-df-generate {\n",
              "        background-color: #3B4455;\n",
              "        fill: #D2E3FC;\n",
              "      }\n",
              "\n",
              "      [theme=dark] .colab-df-generate:hover {\n",
              "        background-color: #434B5C;\n",
              "        box-shadow: 0px 1px 3px 1px rgba(0, 0, 0, 0.15);\n",
              "        filter: drop-shadow(0px 1px 2px rgba(0, 0, 0, 0.3));\n",
              "        fill: #FFFFFF;\n",
              "      }\n",
              "    </style>\n",
              "    <button class=\"colab-df-generate\" onclick=\"generateWithVariable('df')\"\n",
              "            title=\"Generate code using this dataframe.\"\n",
              "            style=\"display:none;\">\n",
              "\n",
              "  <svg xmlns=\"http://www.w3.org/2000/svg\" height=\"24px\"viewBox=\"0 0 24 24\"\n",
              "       width=\"24px\">\n",
              "    <path d=\"M7,19H8.4L18.45,9,17,7.55,7,17.6ZM5,21V16.75L18.45,3.32a2,2,0,0,1,2.83,0l1.4,1.43a1.91,1.91,0,0,1,.58,1.4,1.91,1.91,0,0,1-.58,1.4L9.25,21ZM18.45,9,17,7.55Zm-12,3A5.31,5.31,0,0,0,4.9,8.1,5.31,5.31,0,0,0,1,6.5,5.31,5.31,0,0,0,4.9,4.9,5.31,5.31,0,0,0,6.5,1,5.31,5.31,0,0,0,8.1,4.9,5.31,5.31,0,0,0,12,6.5,5.46,5.46,0,0,0,6.5,12Z\"/>\n",
              "  </svg>\n",
              "    </button>\n",
              "    <script>\n",
              "      (() => {\n",
              "      const buttonEl =\n",
              "        document.querySelector('#id_c541e974-5e93-46b8-b319-8636361799f6 button.colab-df-generate');\n",
              "      buttonEl.style.display =\n",
              "        google.colab.kernel.accessAllowed ? 'block' : 'none';\n",
              "\n",
              "      buttonEl.onclick = () => {\n",
              "        google.colab.notebook.generateWithVariable('df');\n",
              "      }\n",
              "      })();\n",
              "    </script>\n",
              "  </div>\n",
              "\n",
              "    </div>\n",
              "  </div>\n"
            ],
            "application/vnd.google.colaboratory.intrinsic+json": {
              "type": "dataframe",
              "variable_name": "df",
              "summary": "{\n  \"name\": \"df\",\n  \"rows\": 5,\n  \"fields\": [\n    {\n      \"column\": \"Nombre\",\n      \"properties\": {\n        \"dtype\": \"string\",\n        \"num_unique_values\": 5,\n        \"samples\": [\n          \"Laura\",\n          \"Luisa\",\n          \"Sara\"\n        ],\n        \"semantic_type\": \"\",\n        \"description\": \"\"\n      }\n    },\n    {\n      \"column\": \"Edad\",\n      \"properties\": {\n        \"dtype\": \"number\",\n        \"std\": 6,\n        \"min\": 25,\n        \"max\": 41,\n        \"num_unique_values\": 5,\n        \"samples\": [\n          36,\n          29,\n          40\n        ],\n        \"semantic_type\": \"\",\n        \"description\": \"\"\n      }\n    },\n    {\n      \"column\": \"Altura\",\n      \"properties\": {\n        \"dtype\": \"number\",\n        \"std\": 0.0353553390593273,\n        \"min\": 1.59,\n        \"max\": 1.68,\n        \"num_unique_values\": 5,\n        \"samples\": [\n          1.62,\n          1.66,\n          1.59\n        ],\n        \"semantic_type\": \"\",\n        \"description\": \"\"\n      }\n    },\n    {\n      \"column\": \"Genero\",\n      \"properties\": {\n        \"dtype\": \"category\",\n        \"num_unique_values\": 2,\n        \"samples\": [\n          \"F\",\n          \"M\"\n        ],\n        \"semantic_type\": \"\",\n        \"description\": \"\"\n      }\n    },\n    {\n      \"column\": \"Ciudad\",\n      \"properties\": {\n        \"dtype\": \"string\",\n        \"num_unique_values\": 3,\n        \"samples\": [\n          \"Rosario\",\n          \"Funes\"\n        ],\n        \"semantic_type\": \"\",\n        \"description\": \"\"\n      }\n    }\n  ]\n}"
            }
          },
          "metadata": {},
          "execution_count": 40
        }
      ]
    },
    {
      "cell_type": "code",
      "source": [
        "# acceder por posición, como si las filas estuvieran numeradas del 0 en adelante\n",
        "# .iloc: \"traer la fila número 0\".\n",
        "df.iloc[0]"
      ],
      "metadata": {
        "id": "NSJDC9Lhd_zI",
        "colab": {
          "base_uri": "https://localhost:8080/",
          "height": 241
        },
        "outputId": "2b822d27-eb40-4f12-9953-d36817c20bac"
      },
      "execution_count": null,
      "outputs": [
        {
          "output_type": "execute_result",
          "data": {
            "text/plain": [
              "Nombre       Juan\n",
              "Edad           25\n",
              "Altura       1.65\n",
              "Genero          M\n",
              "Ciudad    Rosario\n",
              "Name: 0, dtype: object"
            ],
            "text/html": [
              "<div>\n",
              "<style scoped>\n",
              "    .dataframe tbody tr th:only-of-type {\n",
              "        vertical-align: middle;\n",
              "    }\n",
              "\n",
              "    .dataframe tbody tr th {\n",
              "        vertical-align: top;\n",
              "    }\n",
              "\n",
              "    .dataframe thead th {\n",
              "        text-align: right;\n",
              "    }\n",
              "</style>\n",
              "<table border=\"1\" class=\"dataframe\">\n",
              "  <thead>\n",
              "    <tr style=\"text-align: right;\">\n",
              "      <th></th>\n",
              "      <th>0</th>\n",
              "    </tr>\n",
              "  </thead>\n",
              "  <tbody>\n",
              "    <tr>\n",
              "      <th>Nombre</th>\n",
              "      <td>Juan</td>\n",
              "    </tr>\n",
              "    <tr>\n",
              "      <th>Edad</th>\n",
              "      <td>25</td>\n",
              "    </tr>\n",
              "    <tr>\n",
              "      <th>Altura</th>\n",
              "      <td>1.65</td>\n",
              "    </tr>\n",
              "    <tr>\n",
              "      <th>Genero</th>\n",
              "      <td>M</td>\n",
              "    </tr>\n",
              "    <tr>\n",
              "      <th>Ciudad</th>\n",
              "      <td>Rosario</td>\n",
              "    </tr>\n",
              "  </tbody>\n",
              "</table>\n",
              "</div><br><label><b>dtype:</b> object</label>"
            ]
          },
          "metadata": {},
          "execution_count": 41
        }
      ]
    },
    {
      "cell_type": "code",
      "source": [
        "# acceder por nombre de indice\n",
        "# .loc: \"traer la fila que se llama 0\".\n",
        "df.loc[4]"
      ],
      "metadata": {
        "id": "sOWcG_5EeBJW",
        "colab": {
          "base_uri": "https://localhost:8080/",
          "height": 241
        },
        "outputId": "9cebd3fc-f0c5-480c-c3f6-8fc3d698c37d"
      },
      "execution_count": null,
      "outputs": [
        {
          "output_type": "execute_result",
          "data": {
            "text/plain": [
              "Nombre      Luisa\n",
              "Edad           29\n",
              "Altura       1.66\n",
              "Genero          F\n",
              "Ciudad    Rosario\n",
              "Name: 4, dtype: object"
            ],
            "text/html": [
              "<div>\n",
              "<style scoped>\n",
              "    .dataframe tbody tr th:only-of-type {\n",
              "        vertical-align: middle;\n",
              "    }\n",
              "\n",
              "    .dataframe tbody tr th {\n",
              "        vertical-align: top;\n",
              "    }\n",
              "\n",
              "    .dataframe thead th {\n",
              "        text-align: right;\n",
              "    }\n",
              "</style>\n",
              "<table border=\"1\" class=\"dataframe\">\n",
              "  <thead>\n",
              "    <tr style=\"text-align: right;\">\n",
              "      <th></th>\n",
              "      <th>4</th>\n",
              "    </tr>\n",
              "  </thead>\n",
              "  <tbody>\n",
              "    <tr>\n",
              "      <th>Nombre</th>\n",
              "      <td>Luisa</td>\n",
              "    </tr>\n",
              "    <tr>\n",
              "      <th>Edad</th>\n",
              "      <td>29</td>\n",
              "    </tr>\n",
              "    <tr>\n",
              "      <th>Altura</th>\n",
              "      <td>1.66</td>\n",
              "    </tr>\n",
              "    <tr>\n",
              "      <th>Genero</th>\n",
              "      <td>F</td>\n",
              "    </tr>\n",
              "    <tr>\n",
              "      <th>Ciudad</th>\n",
              "      <td>Rosario</td>\n",
              "    </tr>\n",
              "  </tbody>\n",
              "</table>\n",
              "</div><br><label><b>dtype:</b> object</label>"
            ]
          },
          "metadata": {},
          "execution_count": 42
        }
      ]
    },
    {
      "cell_type": "code",
      "source": [
        "# como ejemplo de diferenciar iloc y loc transponemos el dataframe\n",
        "# intercambiar sus filas por sus columnas\n",
        "dft = df.T\n",
        "dft\n"
      ],
      "metadata": {
        "id": "EKgDrh2Te8Wo",
        "colab": {
          "base_uri": "https://localhost:8080/",
          "height": 206
        },
        "outputId": "20033a52-4dac-4243-db03-39a277fa5ffe"
      },
      "execution_count": null,
      "outputs": [
        {
          "output_type": "execute_result",
          "data": {
            "text/plain": [
              "              0        1      2        3        4\n",
              "Nombre     Juan    Laura   Sara  Antonio    Luisa\n",
              "Edad         25       36     40       41       29\n",
              "Altura     1.65     1.62   1.59     1.68     1.66\n",
              "Genero        M        F      F        M        F\n",
              "Ciudad  Rosario  Rosario  Funes   Roldán  Rosario"
            ],
            "text/html": [
              "\n",
              "  <div id=\"df-91bdbd71-a10f-4325-ba0c-5a0f9e1d1e61\" class=\"colab-df-container\">\n",
              "    <div>\n",
              "<style scoped>\n",
              "    .dataframe tbody tr th:only-of-type {\n",
              "        vertical-align: middle;\n",
              "    }\n",
              "\n",
              "    .dataframe tbody tr th {\n",
              "        vertical-align: top;\n",
              "    }\n",
              "\n",
              "    .dataframe thead th {\n",
              "        text-align: right;\n",
              "    }\n",
              "</style>\n",
              "<table border=\"1\" class=\"dataframe\">\n",
              "  <thead>\n",
              "    <tr style=\"text-align: right;\">\n",
              "      <th></th>\n",
              "      <th>0</th>\n",
              "      <th>1</th>\n",
              "      <th>2</th>\n",
              "      <th>3</th>\n",
              "      <th>4</th>\n",
              "    </tr>\n",
              "  </thead>\n",
              "  <tbody>\n",
              "    <tr>\n",
              "      <th>Nombre</th>\n",
              "      <td>Juan</td>\n",
              "      <td>Laura</td>\n",
              "      <td>Sara</td>\n",
              "      <td>Antonio</td>\n",
              "      <td>Luisa</td>\n",
              "    </tr>\n",
              "    <tr>\n",
              "      <th>Edad</th>\n",
              "      <td>25</td>\n",
              "      <td>36</td>\n",
              "      <td>40</td>\n",
              "      <td>41</td>\n",
              "      <td>29</td>\n",
              "    </tr>\n",
              "    <tr>\n",
              "      <th>Altura</th>\n",
              "      <td>1.65</td>\n",
              "      <td>1.62</td>\n",
              "      <td>1.59</td>\n",
              "      <td>1.68</td>\n",
              "      <td>1.66</td>\n",
              "    </tr>\n",
              "    <tr>\n",
              "      <th>Genero</th>\n",
              "      <td>M</td>\n",
              "      <td>F</td>\n",
              "      <td>F</td>\n",
              "      <td>M</td>\n",
              "      <td>F</td>\n",
              "    </tr>\n",
              "    <tr>\n",
              "      <th>Ciudad</th>\n",
              "      <td>Rosario</td>\n",
              "      <td>Rosario</td>\n",
              "      <td>Funes</td>\n",
              "      <td>Roldán</td>\n",
              "      <td>Rosario</td>\n",
              "    </tr>\n",
              "  </tbody>\n",
              "</table>\n",
              "</div>\n",
              "    <div class=\"colab-df-buttons\">\n",
              "\n",
              "  <div class=\"colab-df-container\">\n",
              "    <button class=\"colab-df-convert\" onclick=\"convertToInteractive('df-91bdbd71-a10f-4325-ba0c-5a0f9e1d1e61')\"\n",
              "            title=\"Convert this dataframe to an interactive table.\"\n",
              "            style=\"display:none;\">\n",
              "\n",
              "  <svg xmlns=\"http://www.w3.org/2000/svg\" height=\"24px\" viewBox=\"0 -960 960 960\">\n",
              "    <path d=\"M120-120v-720h720v720H120Zm60-500h600v-160H180v160Zm220 220h160v-160H400v160Zm0 220h160v-160H400v160ZM180-400h160v-160H180v160Zm440 0h160v-160H620v160ZM180-180h160v-160H180v160Zm440 0h160v-160H620v160Z\"/>\n",
              "  </svg>\n",
              "    </button>\n",
              "\n",
              "  <style>\n",
              "    .colab-df-container {\n",
              "      display:flex;\n",
              "      gap: 12px;\n",
              "    }\n",
              "\n",
              "    .colab-df-convert {\n",
              "      background-color: #E8F0FE;\n",
              "      border: none;\n",
              "      border-radius: 50%;\n",
              "      cursor: pointer;\n",
              "      display: none;\n",
              "      fill: #1967D2;\n",
              "      height: 32px;\n",
              "      padding: 0 0 0 0;\n",
              "      width: 32px;\n",
              "    }\n",
              "\n",
              "    .colab-df-convert:hover {\n",
              "      background-color: #E2EBFA;\n",
              "      box-shadow: 0px 1px 2px rgba(60, 64, 67, 0.3), 0px 1px 3px 1px rgba(60, 64, 67, 0.15);\n",
              "      fill: #174EA6;\n",
              "    }\n",
              "\n",
              "    .colab-df-buttons div {\n",
              "      margin-bottom: 4px;\n",
              "    }\n",
              "\n",
              "    [theme=dark] .colab-df-convert {\n",
              "      background-color: #3B4455;\n",
              "      fill: #D2E3FC;\n",
              "    }\n",
              "\n",
              "    [theme=dark] .colab-df-convert:hover {\n",
              "      background-color: #434B5C;\n",
              "      box-shadow: 0px 1px 3px 1px rgba(0, 0, 0, 0.15);\n",
              "      filter: drop-shadow(0px 1px 2px rgba(0, 0, 0, 0.3));\n",
              "      fill: #FFFFFF;\n",
              "    }\n",
              "  </style>\n",
              "\n",
              "    <script>\n",
              "      const buttonEl =\n",
              "        document.querySelector('#df-91bdbd71-a10f-4325-ba0c-5a0f9e1d1e61 button.colab-df-convert');\n",
              "      buttonEl.style.display =\n",
              "        google.colab.kernel.accessAllowed ? 'block' : 'none';\n",
              "\n",
              "      async function convertToInteractive(key) {\n",
              "        const element = document.querySelector('#df-91bdbd71-a10f-4325-ba0c-5a0f9e1d1e61');\n",
              "        const dataTable =\n",
              "          await google.colab.kernel.invokeFunction('convertToInteractive',\n",
              "                                                    [key], {});\n",
              "        if (!dataTable) return;\n",
              "\n",
              "        const docLinkHtml = 'Like what you see? Visit the ' +\n",
              "          '<a target=\"_blank\" href=https://colab.research.google.com/notebooks/data_table.ipynb>data table notebook</a>'\n",
              "          + ' to learn more about interactive tables.';\n",
              "        element.innerHTML = '';\n",
              "        dataTable['output_type'] = 'display_data';\n",
              "        await google.colab.output.renderOutput(dataTable, element);\n",
              "        const docLink = document.createElement('div');\n",
              "        docLink.innerHTML = docLinkHtml;\n",
              "        element.appendChild(docLink);\n",
              "      }\n",
              "    </script>\n",
              "  </div>\n",
              "\n",
              "\n",
              "    <div id=\"df-8300f03c-3b80-4587-afb3-675e8e95acbc\">\n",
              "      <button class=\"colab-df-quickchart\" onclick=\"quickchart('df-8300f03c-3b80-4587-afb3-675e8e95acbc')\"\n",
              "                title=\"Suggest charts\"\n",
              "                style=\"display:none;\">\n",
              "\n",
              "<svg xmlns=\"http://www.w3.org/2000/svg\" height=\"24px\"viewBox=\"0 0 24 24\"\n",
              "     width=\"24px\">\n",
              "    <g>\n",
              "        <path d=\"M19 3H5c-1.1 0-2 .9-2 2v14c0 1.1.9 2 2 2h14c1.1 0 2-.9 2-2V5c0-1.1-.9-2-2-2zM9 17H7v-7h2v7zm4 0h-2V7h2v10zm4 0h-2v-4h2v4z\"/>\n",
              "    </g>\n",
              "</svg>\n",
              "      </button>\n",
              "\n",
              "<style>\n",
              "  .colab-df-quickchart {\n",
              "      --bg-color: #E8F0FE;\n",
              "      --fill-color: #1967D2;\n",
              "      --hover-bg-color: #E2EBFA;\n",
              "      --hover-fill-color: #174EA6;\n",
              "      --disabled-fill-color: #AAA;\n",
              "      --disabled-bg-color: #DDD;\n",
              "  }\n",
              "\n",
              "  [theme=dark] .colab-df-quickchart {\n",
              "      --bg-color: #3B4455;\n",
              "      --fill-color: #D2E3FC;\n",
              "      --hover-bg-color: #434B5C;\n",
              "      --hover-fill-color: #FFFFFF;\n",
              "      --disabled-bg-color: #3B4455;\n",
              "      --disabled-fill-color: #666;\n",
              "  }\n",
              "\n",
              "  .colab-df-quickchart {\n",
              "    background-color: var(--bg-color);\n",
              "    border: none;\n",
              "    border-radius: 50%;\n",
              "    cursor: pointer;\n",
              "    display: none;\n",
              "    fill: var(--fill-color);\n",
              "    height: 32px;\n",
              "    padding: 0;\n",
              "    width: 32px;\n",
              "  }\n",
              "\n",
              "  .colab-df-quickchart:hover {\n",
              "    background-color: var(--hover-bg-color);\n",
              "    box-shadow: 0 1px 2px rgba(60, 64, 67, 0.3), 0 1px 3px 1px rgba(60, 64, 67, 0.15);\n",
              "    fill: var(--button-hover-fill-color);\n",
              "  }\n",
              "\n",
              "  .colab-df-quickchart-complete:disabled,\n",
              "  .colab-df-quickchart-complete:disabled:hover {\n",
              "    background-color: var(--disabled-bg-color);\n",
              "    fill: var(--disabled-fill-color);\n",
              "    box-shadow: none;\n",
              "  }\n",
              "\n",
              "  .colab-df-spinner {\n",
              "    border: 2px solid var(--fill-color);\n",
              "    border-color: transparent;\n",
              "    border-bottom-color: var(--fill-color);\n",
              "    animation:\n",
              "      spin 1s steps(1) infinite;\n",
              "  }\n",
              "\n",
              "  @keyframes spin {\n",
              "    0% {\n",
              "      border-color: transparent;\n",
              "      border-bottom-color: var(--fill-color);\n",
              "      border-left-color: var(--fill-color);\n",
              "    }\n",
              "    20% {\n",
              "      border-color: transparent;\n",
              "      border-left-color: var(--fill-color);\n",
              "      border-top-color: var(--fill-color);\n",
              "    }\n",
              "    30% {\n",
              "      border-color: transparent;\n",
              "      border-left-color: var(--fill-color);\n",
              "      border-top-color: var(--fill-color);\n",
              "      border-right-color: var(--fill-color);\n",
              "    }\n",
              "    40% {\n",
              "      border-color: transparent;\n",
              "      border-right-color: var(--fill-color);\n",
              "      border-top-color: var(--fill-color);\n",
              "    }\n",
              "    60% {\n",
              "      border-color: transparent;\n",
              "      border-right-color: var(--fill-color);\n",
              "    }\n",
              "    80% {\n",
              "      border-color: transparent;\n",
              "      border-right-color: var(--fill-color);\n",
              "      border-bottom-color: var(--fill-color);\n",
              "    }\n",
              "    90% {\n",
              "      border-color: transparent;\n",
              "      border-bottom-color: var(--fill-color);\n",
              "    }\n",
              "  }\n",
              "</style>\n",
              "\n",
              "      <script>\n",
              "        async function quickchart(key) {\n",
              "          const quickchartButtonEl =\n",
              "            document.querySelector('#' + key + ' button');\n",
              "          quickchartButtonEl.disabled = true;  // To prevent multiple clicks.\n",
              "          quickchartButtonEl.classList.add('colab-df-spinner');\n",
              "          try {\n",
              "            const charts = await google.colab.kernel.invokeFunction(\n",
              "                'suggestCharts', [key], {});\n",
              "          } catch (error) {\n",
              "            console.error('Error during call to suggestCharts:', error);\n",
              "          }\n",
              "          quickchartButtonEl.classList.remove('colab-df-spinner');\n",
              "          quickchartButtonEl.classList.add('colab-df-quickchart-complete');\n",
              "        }\n",
              "        (() => {\n",
              "          let quickchartButtonEl =\n",
              "            document.querySelector('#df-8300f03c-3b80-4587-afb3-675e8e95acbc button');\n",
              "          quickchartButtonEl.style.display =\n",
              "            google.colab.kernel.accessAllowed ? 'block' : 'none';\n",
              "        })();\n",
              "      </script>\n",
              "    </div>\n",
              "\n",
              "  <div id=\"id_acbc2312-98a3-4de0-978b-38de085b07d2\">\n",
              "    <style>\n",
              "      .colab-df-generate {\n",
              "        background-color: #E8F0FE;\n",
              "        border: none;\n",
              "        border-radius: 50%;\n",
              "        cursor: pointer;\n",
              "        display: none;\n",
              "        fill: #1967D2;\n",
              "        height: 32px;\n",
              "        padding: 0 0 0 0;\n",
              "        width: 32px;\n",
              "      }\n",
              "\n",
              "      .colab-df-generate:hover {\n",
              "        background-color: #E2EBFA;\n",
              "        box-shadow: 0px 1px 2px rgba(60, 64, 67, 0.3), 0px 1px 3px 1px rgba(60, 64, 67, 0.15);\n",
              "        fill: #174EA6;\n",
              "      }\n",
              "\n",
              "      [theme=dark] .colab-df-generate {\n",
              "        background-color: #3B4455;\n",
              "        fill: #D2E3FC;\n",
              "      }\n",
              "\n",
              "      [theme=dark] .colab-df-generate:hover {\n",
              "        background-color: #434B5C;\n",
              "        box-shadow: 0px 1px 3px 1px rgba(0, 0, 0, 0.15);\n",
              "        filter: drop-shadow(0px 1px 2px rgba(0, 0, 0, 0.3));\n",
              "        fill: #FFFFFF;\n",
              "      }\n",
              "    </style>\n",
              "    <button class=\"colab-df-generate\" onclick=\"generateWithVariable('dft')\"\n",
              "            title=\"Generate code using this dataframe.\"\n",
              "            style=\"display:none;\">\n",
              "\n",
              "  <svg xmlns=\"http://www.w3.org/2000/svg\" height=\"24px\"viewBox=\"0 0 24 24\"\n",
              "       width=\"24px\">\n",
              "    <path d=\"M7,19H8.4L18.45,9,17,7.55,7,17.6ZM5,21V16.75L18.45,3.32a2,2,0,0,1,2.83,0l1.4,1.43a1.91,1.91,0,0,1,.58,1.4,1.91,1.91,0,0,1-.58,1.4L9.25,21ZM18.45,9,17,7.55Zm-12,3A5.31,5.31,0,0,0,4.9,8.1,5.31,5.31,0,0,0,1,6.5,5.31,5.31,0,0,0,4.9,4.9,5.31,5.31,0,0,0,6.5,1,5.31,5.31,0,0,0,8.1,4.9,5.31,5.31,0,0,0,12,6.5,5.46,5.46,0,0,0,6.5,12Z\"/>\n",
              "  </svg>\n",
              "    </button>\n",
              "    <script>\n",
              "      (() => {\n",
              "      const buttonEl =\n",
              "        document.querySelector('#id_acbc2312-98a3-4de0-978b-38de085b07d2 button.colab-df-generate');\n",
              "      buttonEl.style.display =\n",
              "        google.colab.kernel.accessAllowed ? 'block' : 'none';\n",
              "\n",
              "      buttonEl.onclick = () => {\n",
              "        google.colab.notebook.generateWithVariable('dft');\n",
              "      }\n",
              "      })();\n",
              "    </script>\n",
              "  </div>\n",
              "\n",
              "    </div>\n",
              "  </div>\n"
            ],
            "application/vnd.google.colaboratory.intrinsic+json": {
              "type": "dataframe",
              "variable_name": "dft",
              "summary": "{\n  \"name\": \"dft\",\n  \"rows\": 5,\n  \"fields\": [\n    {\n      \"column\": 0,\n      \"properties\": {\n        \"dtype\": \"string\",\n        \"num_unique_values\": 5,\n        \"samples\": [\n          25,\n          \"Rosario\",\n          1.65\n        ],\n        \"semantic_type\": \"\",\n        \"description\": \"\"\n      }\n    },\n    {\n      \"column\": 1,\n      \"properties\": {\n        \"dtype\": \"string\",\n        \"num_unique_values\": 5,\n        \"samples\": [\n          36,\n          \"Rosario\",\n          1.62\n        ],\n        \"semantic_type\": \"\",\n        \"description\": \"\"\n      }\n    },\n    {\n      \"column\": 2,\n      \"properties\": {\n        \"dtype\": \"string\",\n        \"num_unique_values\": 5,\n        \"samples\": [\n          40,\n          \"Funes\",\n          1.59\n        ],\n        \"semantic_type\": \"\",\n        \"description\": \"\"\n      }\n    },\n    {\n      \"column\": 3,\n      \"properties\": {\n        \"dtype\": \"string\",\n        \"num_unique_values\": 5,\n        \"samples\": [\n          41,\n          \"Rold\\u00e1n\",\n          1.68\n        ],\n        \"semantic_type\": \"\",\n        \"description\": \"\"\n      }\n    },\n    {\n      \"column\": 4,\n      \"properties\": {\n        \"dtype\": \"string\",\n        \"num_unique_values\": 5,\n        \"samples\": [\n          29,\n          \"Rosario\",\n          1.66\n        ],\n        \"semantic_type\": \"\",\n        \"description\": \"\"\n      }\n    }\n  ]\n}"
            }
          },
          "metadata": {},
          "execution_count": 43
        }
      ]
    },
    {
      "cell_type": "code",
      "source": [
        "## acceso por nombre\n",
        "dft.loc[\"Genero\"]"
      ],
      "metadata": {
        "id": "CkPNYR4lfAIa",
        "colab": {
          "base_uri": "https://localhost:8080/",
          "height": 241
        },
        "outputId": "716d8545-ae8e-4aa7-f3c1-e94acb11e1a4"
      },
      "execution_count": null,
      "outputs": [
        {
          "output_type": "execute_result",
          "data": {
            "text/plain": [
              "0    M\n",
              "1    F\n",
              "2    F\n",
              "3    M\n",
              "4    F\n",
              "Name: Genero, dtype: object"
            ],
            "text/html": [
              "<div>\n",
              "<style scoped>\n",
              "    .dataframe tbody tr th:only-of-type {\n",
              "        vertical-align: middle;\n",
              "    }\n",
              "\n",
              "    .dataframe tbody tr th {\n",
              "        vertical-align: top;\n",
              "    }\n",
              "\n",
              "    .dataframe thead th {\n",
              "        text-align: right;\n",
              "    }\n",
              "</style>\n",
              "<table border=\"1\" class=\"dataframe\">\n",
              "  <thead>\n",
              "    <tr style=\"text-align: right;\">\n",
              "      <th></th>\n",
              "      <th>Genero</th>\n",
              "    </tr>\n",
              "  </thead>\n",
              "  <tbody>\n",
              "    <tr>\n",
              "      <th>0</th>\n",
              "      <td>M</td>\n",
              "    </tr>\n",
              "    <tr>\n",
              "      <th>1</th>\n",
              "      <td>F</td>\n",
              "    </tr>\n",
              "    <tr>\n",
              "      <th>2</th>\n",
              "      <td>F</td>\n",
              "    </tr>\n",
              "    <tr>\n",
              "      <th>3</th>\n",
              "      <td>M</td>\n",
              "    </tr>\n",
              "    <tr>\n",
              "      <th>4</th>\n",
              "      <td>F</td>\n",
              "    </tr>\n",
              "  </tbody>\n",
              "</table>\n",
              "</div><br><label><b>dtype:</b> object</label>"
            ]
          },
          "metadata": {},
          "execution_count": 44
        }
      ]
    },
    {
      "cell_type": "code",
      "source": [
        "# acceso por posición\n",
        "dft.iloc[0]"
      ],
      "metadata": {
        "id": "1n9-xFmcfb3i",
        "colab": {
          "base_uri": "https://localhost:8080/",
          "height": 241
        },
        "outputId": "d567bd35-c659-401e-c6b8-3bfb2a6852fe"
      },
      "execution_count": null,
      "outputs": [
        {
          "output_type": "execute_result",
          "data": {
            "text/plain": [
              "0       Juan\n",
              "1      Laura\n",
              "2       Sara\n",
              "3    Antonio\n",
              "4      Luisa\n",
              "Name: Nombre, dtype: object"
            ],
            "text/html": [
              "<div>\n",
              "<style scoped>\n",
              "    .dataframe tbody tr th:only-of-type {\n",
              "        vertical-align: middle;\n",
              "    }\n",
              "\n",
              "    .dataframe tbody tr th {\n",
              "        vertical-align: top;\n",
              "    }\n",
              "\n",
              "    .dataframe thead th {\n",
              "        text-align: right;\n",
              "    }\n",
              "</style>\n",
              "<table border=\"1\" class=\"dataframe\">\n",
              "  <thead>\n",
              "    <tr style=\"text-align: right;\">\n",
              "      <th></th>\n",
              "      <th>Nombre</th>\n",
              "    </tr>\n",
              "  </thead>\n",
              "  <tbody>\n",
              "    <tr>\n",
              "      <th>0</th>\n",
              "      <td>Juan</td>\n",
              "    </tr>\n",
              "    <tr>\n",
              "      <th>1</th>\n",
              "      <td>Laura</td>\n",
              "    </tr>\n",
              "    <tr>\n",
              "      <th>2</th>\n",
              "      <td>Sara</td>\n",
              "    </tr>\n",
              "    <tr>\n",
              "      <th>3</th>\n",
              "      <td>Antonio</td>\n",
              "    </tr>\n",
              "    <tr>\n",
              "      <th>4</th>\n",
              "      <td>Luisa</td>\n",
              "    </tr>\n",
              "  </tbody>\n",
              "</table>\n",
              "</div><br><label><b>dtype:</b> object</label>"
            ]
          },
          "metadata": {},
          "execution_count": 45
        }
      ]
    },
    {
      "cell_type": "markdown",
      "source": [
        "![image.png](data:image/png;base64,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)"
      ],
      "metadata": {
        "id": "_PA6pwR3c_6l"
      }
    },
    {
      "cell_type": "markdown",
      "source": [
        "## Seleccionar un sub dataframe"
      ],
      "metadata": {
        "id": "ur5v3fMLf8UR"
      }
    },
    {
      "cell_type": "code",
      "source": [
        "df"
      ],
      "metadata": {
        "id": "whdT5C9if7dk",
        "colab": {
          "base_uri": "https://localhost:8080/",
          "height": 206
        },
        "outputId": "469d3313-0b11-4852-d438-eaa95d12bb0d"
      },
      "execution_count": null,
      "outputs": [
        {
          "output_type": "execute_result",
          "data": {
            "text/plain": [
              "    Nombre  Edad  Altura Genero   Ciudad\n",
              "0     Juan    25    1.65      M  Rosario\n",
              "1    Laura    36    1.62      F  Rosario\n",
              "2     Sara    40    1.59      F    Funes\n",
              "3  Antonio    41    1.68      M   Roldán\n",
              "4    Luisa    29    1.66      F  Rosario"
            ],
            "text/html": [
              "\n",
              "  <div id=\"df-6d5c06bc-80e3-4ce4-838e-d83dd3f30dfc\" class=\"colab-df-container\">\n",
              "    <div>\n",
              "<style scoped>\n",
              "    .dataframe tbody tr th:only-of-type {\n",
              "        vertical-align: middle;\n",
              "    }\n",
              "\n",
              "    .dataframe tbody tr th {\n",
              "        vertical-align: top;\n",
              "    }\n",
              "\n",
              "    .dataframe thead th {\n",
              "        text-align: right;\n",
              "    }\n",
              "</style>\n",
              "<table border=\"1\" class=\"dataframe\">\n",
              "  <thead>\n",
              "    <tr style=\"text-align: right;\">\n",
              "      <th></th>\n",
              "      <th>Nombre</th>\n",
              "      <th>Edad</th>\n",
              "      <th>Altura</th>\n",
              "      <th>Genero</th>\n",
              "      <th>Ciudad</th>\n",
              "    </tr>\n",
              "  </thead>\n",
              "  <tbody>\n",
              "    <tr>\n",
              "      <th>0</th>\n",
              "      <td>Juan</td>\n",
              "      <td>25</td>\n",
              "      <td>1.65</td>\n",
              "      <td>M</td>\n",
              "      <td>Rosario</td>\n",
              "    </tr>\n",
              "    <tr>\n",
              "      <th>1</th>\n",
              "      <td>Laura</td>\n",
              "      <td>36</td>\n",
              "      <td>1.62</td>\n",
              "      <td>F</td>\n",
              "      <td>Rosario</td>\n",
              "    </tr>\n",
              "    <tr>\n",
              "      <th>2</th>\n",
              "      <td>Sara</td>\n",
              "      <td>40</td>\n",
              "      <td>1.59</td>\n",
              "      <td>F</td>\n",
              "      <td>Funes</td>\n",
              "    </tr>\n",
              "    <tr>\n",
              "      <th>3</th>\n",
              "      <td>Antonio</td>\n",
              "      <td>41</td>\n",
              "      <td>1.68</td>\n",
              "      <td>M</td>\n",
              "      <td>Roldán</td>\n",
              "    </tr>\n",
              "    <tr>\n",
              "      <th>4</th>\n",
              "      <td>Luisa</td>\n",
              "      <td>29</td>\n",
              "      <td>1.66</td>\n",
              "      <td>F</td>\n",
              "      <td>Rosario</td>\n",
              "    </tr>\n",
              "  </tbody>\n",
              "</table>\n",
              "</div>\n",
              "    <div class=\"colab-df-buttons\">\n",
              "\n",
              "  <div class=\"colab-df-container\">\n",
              "    <button class=\"colab-df-convert\" onclick=\"convertToInteractive('df-6d5c06bc-80e3-4ce4-838e-d83dd3f30dfc')\"\n",
              "            title=\"Convert this dataframe to an interactive table.\"\n",
              "            style=\"display:none;\">\n",
              "\n",
              "  <svg xmlns=\"http://www.w3.org/2000/svg\" height=\"24px\" viewBox=\"0 -960 960 960\">\n",
              "    <path d=\"M120-120v-720h720v720H120Zm60-500h600v-160H180v160Zm220 220h160v-160H400v160Zm0 220h160v-160H400v160ZM180-400h160v-160H180v160Zm440 0h160v-160H620v160ZM180-180h160v-160H180v160Zm440 0h160v-160H620v160Z\"/>\n",
              "  </svg>\n",
              "    </button>\n",
              "\n",
              "  <style>\n",
              "    .colab-df-container {\n",
              "      display:flex;\n",
              "      gap: 12px;\n",
              "    }\n",
              "\n",
              "    .colab-df-convert {\n",
              "      background-color: #E8F0FE;\n",
              "      border: none;\n",
              "      border-radius: 50%;\n",
              "      cursor: pointer;\n",
              "      display: none;\n",
              "      fill: #1967D2;\n",
              "      height: 32px;\n",
              "      padding: 0 0 0 0;\n",
              "      width: 32px;\n",
              "    }\n",
              "\n",
              "    .colab-df-convert:hover {\n",
              "      background-color: #E2EBFA;\n",
              "      box-shadow: 0px 1px 2px rgba(60, 64, 67, 0.3), 0px 1px 3px 1px rgba(60, 64, 67, 0.15);\n",
              "      fill: #174EA6;\n",
              "    }\n",
              "\n",
              "    .colab-df-buttons div {\n",
              "      margin-bottom: 4px;\n",
              "    }\n",
              "\n",
              "    [theme=dark] .colab-df-convert {\n",
              "      background-color: #3B4455;\n",
              "      fill: #D2E3FC;\n",
              "    }\n",
              "\n",
              "    [theme=dark] .colab-df-convert:hover {\n",
              "      background-color: #434B5C;\n",
              "      box-shadow: 0px 1px 3px 1px rgba(0, 0, 0, 0.15);\n",
              "      filter: drop-shadow(0px 1px 2px rgba(0, 0, 0, 0.3));\n",
              "      fill: #FFFFFF;\n",
              "    }\n",
              "  </style>\n",
              "\n",
              "    <script>\n",
              "      const buttonEl =\n",
              "        document.querySelector('#df-6d5c06bc-80e3-4ce4-838e-d83dd3f30dfc button.colab-df-convert');\n",
              "      buttonEl.style.display =\n",
              "        google.colab.kernel.accessAllowed ? 'block' : 'none';\n",
              "\n",
              "      async function convertToInteractive(key) {\n",
              "        const element = document.querySelector('#df-6d5c06bc-80e3-4ce4-838e-d83dd3f30dfc');\n",
              "        const dataTable =\n",
              "          await google.colab.kernel.invokeFunction('convertToInteractive',\n",
              "                                                    [key], {});\n",
              "        if (!dataTable) return;\n",
              "\n",
              "        const docLinkHtml = 'Like what you see? Visit the ' +\n",
              "          '<a target=\"_blank\" href=https://colab.research.google.com/notebooks/data_table.ipynb>data table notebook</a>'\n",
              "          + ' to learn more about interactive tables.';\n",
              "        element.innerHTML = '';\n",
              "        dataTable['output_type'] = 'display_data';\n",
              "        await google.colab.output.renderOutput(dataTable, element);\n",
              "        const docLink = document.createElement('div');\n",
              "        docLink.innerHTML = docLinkHtml;\n",
              "        element.appendChild(docLink);\n",
              "      }\n",
              "    </script>\n",
              "  </div>\n",
              "\n",
              "\n",
              "    <div id=\"df-007fd61d-cb04-47ca-9b92-8c8a772a06a7\">\n",
              "      <button class=\"colab-df-quickchart\" onclick=\"quickchart('df-007fd61d-cb04-47ca-9b92-8c8a772a06a7')\"\n",
              "                title=\"Suggest charts\"\n",
              "                style=\"display:none;\">\n",
              "\n",
              "<svg xmlns=\"http://www.w3.org/2000/svg\" height=\"24px\"viewBox=\"0 0 24 24\"\n",
              "     width=\"24px\">\n",
              "    <g>\n",
              "        <path d=\"M19 3H5c-1.1 0-2 .9-2 2v14c0 1.1.9 2 2 2h14c1.1 0 2-.9 2-2V5c0-1.1-.9-2-2-2zM9 17H7v-7h2v7zm4 0h-2V7h2v10zm4 0h-2v-4h2v4z\"/>\n",
              "    </g>\n",
              "</svg>\n",
              "      </button>\n",
              "\n",
              "<style>\n",
              "  .colab-df-quickchart {\n",
              "      --bg-color: #E8F0FE;\n",
              "      --fill-color: #1967D2;\n",
              "      --hover-bg-color: #E2EBFA;\n",
              "      --hover-fill-color: #174EA6;\n",
              "      --disabled-fill-color: #AAA;\n",
              "      --disabled-bg-color: #DDD;\n",
              "  }\n",
              "\n",
              "  [theme=dark] .colab-df-quickchart {\n",
              "      --bg-color: #3B4455;\n",
              "      --fill-color: #D2E3FC;\n",
              "      --hover-bg-color: #434B5C;\n",
              "      --hover-fill-color: #FFFFFF;\n",
              "      --disabled-bg-color: #3B4455;\n",
              "      --disabled-fill-color: #666;\n",
              "  }\n",
              "\n",
              "  .colab-df-quickchart {\n",
              "    background-color: var(--bg-color);\n",
              "    border: none;\n",
              "    border-radius: 50%;\n",
              "    cursor: pointer;\n",
              "    display: none;\n",
              "    fill: var(--fill-color);\n",
              "    height: 32px;\n",
              "    padding: 0;\n",
              "    width: 32px;\n",
              "  }\n",
              "\n",
              "  .colab-df-quickchart:hover {\n",
              "    background-color: var(--hover-bg-color);\n",
              "    box-shadow: 0 1px 2px rgba(60, 64, 67, 0.3), 0 1px 3px 1px rgba(60, 64, 67, 0.15);\n",
              "    fill: var(--button-hover-fill-color);\n",
              "  }\n",
              "\n",
              "  .colab-df-quickchart-complete:disabled,\n",
              "  .colab-df-quickchart-complete:disabled:hover {\n",
              "    background-color: var(--disabled-bg-color);\n",
              "    fill: var(--disabled-fill-color);\n",
              "    box-shadow: none;\n",
              "  }\n",
              "\n",
              "  .colab-df-spinner {\n",
              "    border: 2px solid var(--fill-color);\n",
              "    border-color: transparent;\n",
              "    border-bottom-color: var(--fill-color);\n",
              "    animation:\n",
              "      spin 1s steps(1) infinite;\n",
              "  }\n",
              "\n",
              "  @keyframes spin {\n",
              "    0% {\n",
              "      border-color: transparent;\n",
              "      border-bottom-color: var(--fill-color);\n",
              "      border-left-color: var(--fill-color);\n",
              "    }\n",
              "    20% {\n",
              "      border-color: transparent;\n",
              "      border-left-color: var(--fill-color);\n",
              "      border-top-color: var(--fill-color);\n",
              "    }\n",
              "    30% {\n",
              "      border-color: transparent;\n",
              "      border-left-color: var(--fill-color);\n",
              "      border-top-color: var(--fill-color);\n",
              "      border-right-color: var(--fill-color);\n",
              "    }\n",
              "    40% {\n",
              "      border-color: transparent;\n",
              "      border-right-color: var(--fill-color);\n",
              "      border-top-color: var(--fill-color);\n",
              "    }\n",
              "    60% {\n",
              "      border-color: transparent;\n",
              "      border-right-color: var(--fill-color);\n",
              "    }\n",
              "    80% {\n",
              "      border-color: transparent;\n",
              "      border-right-color: var(--fill-color);\n",
              "      border-bottom-color: var(--fill-color);\n",
              "    }\n",
              "    90% {\n",
              "      border-color: transparent;\n",
              "      border-bottom-color: var(--fill-color);\n",
              "    }\n",
              "  }\n",
              "</style>\n",
              "\n",
              "      <script>\n",
              "        async function quickchart(key) {\n",
              "          const quickchartButtonEl =\n",
              "            document.querySelector('#' + key + ' button');\n",
              "          quickchartButtonEl.disabled = true;  // To prevent multiple clicks.\n",
              "          quickchartButtonEl.classList.add('colab-df-spinner');\n",
              "          try {\n",
              "            const charts = await google.colab.kernel.invokeFunction(\n",
              "                'suggestCharts', [key], {});\n",
              "          } catch (error) {\n",
              "            console.error('Error during call to suggestCharts:', error);\n",
              "          }\n",
              "          quickchartButtonEl.classList.remove('colab-df-spinner');\n",
              "          quickchartButtonEl.classList.add('colab-df-quickchart-complete');\n",
              "        }\n",
              "        (() => {\n",
              "          let quickchartButtonEl =\n",
              "            document.querySelector('#df-007fd61d-cb04-47ca-9b92-8c8a772a06a7 button');\n",
              "          quickchartButtonEl.style.display =\n",
              "            google.colab.kernel.accessAllowed ? 'block' : 'none';\n",
              "        })();\n",
              "      </script>\n",
              "    </div>\n",
              "\n",
              "  <div id=\"id_98f9cdf6-c878-40d4-9306-e4d1244b52dc\">\n",
              "    <style>\n",
              "      .colab-df-generate {\n",
              "        background-color: #E8F0FE;\n",
              "        border: none;\n",
              "        border-radius: 50%;\n",
              "        cursor: pointer;\n",
              "        display: none;\n",
              "        fill: #1967D2;\n",
              "        height: 32px;\n",
              "        padding: 0 0 0 0;\n",
              "        width: 32px;\n",
              "      }\n",
              "\n",
              "      .colab-df-generate:hover {\n",
              "        background-color: #E2EBFA;\n",
              "        box-shadow: 0px 1px 2px rgba(60, 64, 67, 0.3), 0px 1px 3px 1px rgba(60, 64, 67, 0.15);\n",
              "        fill: #174EA6;\n",
              "      }\n",
              "\n",
              "      [theme=dark] .colab-df-generate {\n",
              "        background-color: #3B4455;\n",
              "        fill: #D2E3FC;\n",
              "      }\n",
              "\n",
              "      [theme=dark] .colab-df-generate:hover {\n",
              "        background-color: #434B5C;\n",
              "        box-shadow: 0px 1px 3px 1px rgba(0, 0, 0, 0.15);\n",
              "        filter: drop-shadow(0px 1px 2px rgba(0, 0, 0, 0.3));\n",
              "        fill: #FFFFFF;\n",
              "      }\n",
              "    </style>\n",
              "    <button class=\"colab-df-generate\" onclick=\"generateWithVariable('df')\"\n",
              "            title=\"Generate code using this dataframe.\"\n",
              "            style=\"display:none;\">\n",
              "\n",
              "  <svg xmlns=\"http://www.w3.org/2000/svg\" height=\"24px\"viewBox=\"0 0 24 24\"\n",
              "       width=\"24px\">\n",
              "    <path d=\"M7,19H8.4L18.45,9,17,7.55,7,17.6ZM5,21V16.75L18.45,3.32a2,2,0,0,1,2.83,0l1.4,1.43a1.91,1.91,0,0,1,.58,1.4,1.91,1.91,0,0,1-.58,1.4L9.25,21ZM18.45,9,17,7.55Zm-12,3A5.31,5.31,0,0,0,4.9,8.1,5.31,5.31,0,0,0,1,6.5,5.31,5.31,0,0,0,4.9,4.9,5.31,5.31,0,0,0,6.5,1,5.31,5.31,0,0,0,8.1,4.9,5.31,5.31,0,0,0,12,6.5,5.46,5.46,0,0,0,6.5,12Z\"/>\n",
              "  </svg>\n",
              "    </button>\n",
              "    <script>\n",
              "      (() => {\n",
              "      const buttonEl =\n",
              "        document.querySelector('#id_98f9cdf6-c878-40d4-9306-e4d1244b52dc button.colab-df-generate');\n",
              "      buttonEl.style.display =\n",
              "        google.colab.kernel.accessAllowed ? 'block' : 'none';\n",
              "\n",
              "      buttonEl.onclick = () => {\n",
              "        google.colab.notebook.generateWithVariable('df');\n",
              "      }\n",
              "      })();\n",
              "    </script>\n",
              "  </div>\n",
              "\n",
              "    </div>\n",
              "  </div>\n"
            ],
            "application/vnd.google.colaboratory.intrinsic+json": {
              "type": "dataframe",
              "variable_name": "df",
              "summary": "{\n  \"name\": \"df\",\n  \"rows\": 5,\n  \"fields\": [\n    {\n      \"column\": \"Nombre\",\n      \"properties\": {\n        \"dtype\": \"string\",\n        \"num_unique_values\": 5,\n        \"samples\": [\n          \"Laura\",\n          \"Luisa\",\n          \"Sara\"\n        ],\n        \"semantic_type\": \"\",\n        \"description\": \"\"\n      }\n    },\n    {\n      \"column\": \"Edad\",\n      \"properties\": {\n        \"dtype\": \"number\",\n        \"std\": 6,\n        \"min\": 25,\n        \"max\": 41,\n        \"num_unique_values\": 5,\n        \"samples\": [\n          36,\n          29,\n          40\n        ],\n        \"semantic_type\": \"\",\n        \"description\": \"\"\n      }\n    },\n    {\n      \"column\": \"Altura\",\n      \"properties\": {\n        \"dtype\": \"number\",\n        \"std\": 0.0353553390593273,\n        \"min\": 1.59,\n        \"max\": 1.68,\n        \"num_unique_values\": 5,\n        \"samples\": [\n          1.62,\n          1.66,\n          1.59\n        ],\n        \"semantic_type\": \"\",\n        \"description\": \"\"\n      }\n    },\n    {\n      \"column\": \"Genero\",\n      \"properties\": {\n        \"dtype\": \"category\",\n        \"num_unique_values\": 2,\n        \"samples\": [\n          \"F\",\n          \"M\"\n        ],\n        \"semantic_type\": \"\",\n        \"description\": \"\"\n      }\n    },\n    {\n      \"column\": \"Ciudad\",\n      \"properties\": {\n        \"dtype\": \"string\",\n        \"num_unique_values\": 3,\n        \"samples\": [\n          \"Rosario\",\n          \"Funes\"\n        ],\n        \"semantic_type\": \"\",\n        \"description\": \"\"\n      }\n    }\n  ]\n}"
            }
          },
          "metadata": {},
          "execution_count": 46
        }
      ]
    },
    {
      "cell_type": "code",
      "source": [
        "df.iloc[1]"
      ],
      "metadata": {
        "id": "54NYiLG0gQ1z",
        "colab": {
          "base_uri": "https://localhost:8080/",
          "height": 241
        },
        "outputId": "1d353a93-9c94-45d9-85e3-b0103e2900b7"
      },
      "execution_count": null,
      "outputs": [
        {
          "output_type": "execute_result",
          "data": {
            "text/plain": [
              "Nombre      Laura\n",
              "Edad           36\n",
              "Altura       1.62\n",
              "Genero          F\n",
              "Ciudad    Rosario\n",
              "Name: 1, dtype: object"
            ],
            "text/html": [
              "<div>\n",
              "<style scoped>\n",
              "    .dataframe tbody tr th:only-of-type {\n",
              "        vertical-align: middle;\n",
              "    }\n",
              "\n",
              "    .dataframe tbody tr th {\n",
              "        vertical-align: top;\n",
              "    }\n",
              "\n",
              "    .dataframe thead th {\n",
              "        text-align: right;\n",
              "    }\n",
              "</style>\n",
              "<table border=\"1\" class=\"dataframe\">\n",
              "  <thead>\n",
              "    <tr style=\"text-align: right;\">\n",
              "      <th></th>\n",
              "      <th>1</th>\n",
              "    </tr>\n",
              "  </thead>\n",
              "  <tbody>\n",
              "    <tr>\n",
              "      <th>Nombre</th>\n",
              "      <td>Laura</td>\n",
              "    </tr>\n",
              "    <tr>\n",
              "      <th>Edad</th>\n",
              "      <td>36</td>\n",
              "    </tr>\n",
              "    <tr>\n",
              "      <th>Altura</th>\n",
              "      <td>1.62</td>\n",
              "    </tr>\n",
              "    <tr>\n",
              "      <th>Genero</th>\n",
              "      <td>F</td>\n",
              "    </tr>\n",
              "    <tr>\n",
              "      <th>Ciudad</th>\n",
              "      <td>Rosario</td>\n",
              "    </tr>\n",
              "  </tbody>\n",
              "</table>\n",
              "</div><br><label><b>dtype:</b> object</label>"
            ]
          },
          "metadata": {},
          "execution_count": 47
        }
      ]
    },
    {
      "cell_type": "code",
      "source": [
        "#selección de rango\n",
        "df.loc[1:2]"
      ],
      "metadata": {
        "id": "VO1LRW3TgB8m",
        "colab": {
          "base_uri": "https://localhost:8080/",
          "height": 112
        },
        "outputId": "77f30f18-8f24-46e1-f028-8310f6844f5a"
      },
      "execution_count": null,
      "outputs": [
        {
          "output_type": "execute_result",
          "data": {
            "text/plain": [
              "  Nombre  Edad  Altura Genero   Ciudad\n",
              "1  Laura    36    1.62      F  Rosario\n",
              "2   Sara    40    1.59      F    Funes"
            ],
            "text/html": [
              "\n",
              "  <div id=\"df-5bc64ced-7a25-4b43-9973-60fbc9ea59e2\" class=\"colab-df-container\">\n",
              "    <div>\n",
              "<style scoped>\n",
              "    .dataframe tbody tr th:only-of-type {\n",
              "        vertical-align: middle;\n",
              "    }\n",
              "\n",
              "    .dataframe tbody tr th {\n",
              "        vertical-align: top;\n",
              "    }\n",
              "\n",
              "    .dataframe thead th {\n",
              "        text-align: right;\n",
              "    }\n",
              "</style>\n",
              "<table border=\"1\" class=\"dataframe\">\n",
              "  <thead>\n",
              "    <tr style=\"text-align: right;\">\n",
              "      <th></th>\n",
              "      <th>Nombre</th>\n",
              "      <th>Edad</th>\n",
              "      <th>Altura</th>\n",
              "      <th>Genero</th>\n",
              "      <th>Ciudad</th>\n",
              "    </tr>\n",
              "  </thead>\n",
              "  <tbody>\n",
              "    <tr>\n",
              "      <th>1</th>\n",
              "      <td>Laura</td>\n",
              "      <td>36</td>\n",
              "      <td>1.62</td>\n",
              "      <td>F</td>\n",
              "      <td>Rosario</td>\n",
              "    </tr>\n",
              "    <tr>\n",
              "      <th>2</th>\n",
              "      <td>Sara</td>\n",
              "      <td>40</td>\n",
              "      <td>1.59</td>\n",
              "      <td>F</td>\n",
              "      <td>Funes</td>\n",
              "    </tr>\n",
              "  </tbody>\n",
              "</table>\n",
              "</div>\n",
              "    <div class=\"colab-df-buttons\">\n",
              "\n",
              "  <div class=\"colab-df-container\">\n",
              "    <button class=\"colab-df-convert\" onclick=\"convertToInteractive('df-5bc64ced-7a25-4b43-9973-60fbc9ea59e2')\"\n",
              "            title=\"Convert this dataframe to an interactive table.\"\n",
              "            style=\"display:none;\">\n",
              "\n",
              "  <svg xmlns=\"http://www.w3.org/2000/svg\" height=\"24px\" viewBox=\"0 -960 960 960\">\n",
              "    <path d=\"M120-120v-720h720v720H120Zm60-500h600v-160H180v160Zm220 220h160v-160H400v160Zm0 220h160v-160H400v160ZM180-400h160v-160H180v160Zm440 0h160v-160H620v160ZM180-180h160v-160H180v160Zm440 0h160v-160H620v160Z\"/>\n",
              "  </svg>\n",
              "    </button>\n",
              "\n",
              "  <style>\n",
              "    .colab-df-container {\n",
              "      display:flex;\n",
              "      gap: 12px;\n",
              "    }\n",
              "\n",
              "    .colab-df-convert {\n",
              "      background-color: #E8F0FE;\n",
              "      border: none;\n",
              "      border-radius: 50%;\n",
              "      cursor: pointer;\n",
              "      display: none;\n",
              "      fill: #1967D2;\n",
              "      height: 32px;\n",
              "      padding: 0 0 0 0;\n",
              "      width: 32px;\n",
              "    }\n",
              "\n",
              "    .colab-df-convert:hover {\n",
              "      background-color: #E2EBFA;\n",
              "      box-shadow: 0px 1px 2px rgba(60, 64, 67, 0.3), 0px 1px 3px 1px rgba(60, 64, 67, 0.15);\n",
              "      fill: #174EA6;\n",
              "    }\n",
              "\n",
              "    .colab-df-buttons div {\n",
              "      margin-bottom: 4px;\n",
              "    }\n",
              "\n",
              "    [theme=dark] .colab-df-convert {\n",
              "      background-color: #3B4455;\n",
              "      fill: #D2E3FC;\n",
              "    }\n",
              "\n",
              "    [theme=dark] .colab-df-convert:hover {\n",
              "      background-color: #434B5C;\n",
              "      box-shadow: 0px 1px 3px 1px rgba(0, 0, 0, 0.15);\n",
              "      filter: drop-shadow(0px 1px 2px rgba(0, 0, 0, 0.3));\n",
              "      fill: #FFFFFF;\n",
              "    }\n",
              "  </style>\n",
              "\n",
              "    <script>\n",
              "      const buttonEl =\n",
              "        document.querySelector('#df-5bc64ced-7a25-4b43-9973-60fbc9ea59e2 button.colab-df-convert');\n",
              "      buttonEl.style.display =\n",
              "        google.colab.kernel.accessAllowed ? 'block' : 'none';\n",
              "\n",
              "      async function convertToInteractive(key) {\n",
              "        const element = document.querySelector('#df-5bc64ced-7a25-4b43-9973-60fbc9ea59e2');\n",
              "        const dataTable =\n",
              "          await google.colab.kernel.invokeFunction('convertToInteractive',\n",
              "                                                    [key], {});\n",
              "        if (!dataTable) return;\n",
              "\n",
              "        const docLinkHtml = 'Like what you see? Visit the ' +\n",
              "          '<a target=\"_blank\" href=https://colab.research.google.com/notebooks/data_table.ipynb>data table notebook</a>'\n",
              "          + ' to learn more about interactive tables.';\n",
              "        element.innerHTML = '';\n",
              "        dataTable['output_type'] = 'display_data';\n",
              "        await google.colab.output.renderOutput(dataTable, element);\n",
              "        const docLink = document.createElement('div');\n",
              "        docLink.innerHTML = docLinkHtml;\n",
              "        element.appendChild(docLink);\n",
              "      }\n",
              "    </script>\n",
              "  </div>\n",
              "\n",
              "\n",
              "    <div id=\"df-a7aee5f3-e2d8-49a9-8767-69c2bb7440b4\">\n",
              "      <button class=\"colab-df-quickchart\" onclick=\"quickchart('df-a7aee5f3-e2d8-49a9-8767-69c2bb7440b4')\"\n",
              "                title=\"Suggest charts\"\n",
              "                style=\"display:none;\">\n",
              "\n",
              "<svg xmlns=\"http://www.w3.org/2000/svg\" height=\"24px\"viewBox=\"0 0 24 24\"\n",
              "     width=\"24px\">\n",
              "    <g>\n",
              "        <path d=\"M19 3H5c-1.1 0-2 .9-2 2v14c0 1.1.9 2 2 2h14c1.1 0 2-.9 2-2V5c0-1.1-.9-2-2-2zM9 17H7v-7h2v7zm4 0h-2V7h2v10zm4 0h-2v-4h2v4z\"/>\n",
              "    </g>\n",
              "</svg>\n",
              "      </button>\n",
              "\n",
              "<style>\n",
              "  .colab-df-quickchart {\n",
              "      --bg-color: #E8F0FE;\n",
              "      --fill-color: #1967D2;\n",
              "      --hover-bg-color: #E2EBFA;\n",
              "      --hover-fill-color: #174EA6;\n",
              "      --disabled-fill-color: #AAA;\n",
              "      --disabled-bg-color: #DDD;\n",
              "  }\n",
              "\n",
              "  [theme=dark] .colab-df-quickchart {\n",
              "      --bg-color: #3B4455;\n",
              "      --fill-color: #D2E3FC;\n",
              "      --hover-bg-color: #434B5C;\n",
              "      --hover-fill-color: #FFFFFF;\n",
              "      --disabled-bg-color: #3B4455;\n",
              "      --disabled-fill-color: #666;\n",
              "  }\n",
              "\n",
              "  .colab-df-quickchart {\n",
              "    background-color: var(--bg-color);\n",
              "    border: none;\n",
              "    border-radius: 50%;\n",
              "    cursor: pointer;\n",
              "    display: none;\n",
              "    fill: var(--fill-color);\n",
              "    height: 32px;\n",
              "    padding: 0;\n",
              "    width: 32px;\n",
              "  }\n",
              "\n",
              "  .colab-df-quickchart:hover {\n",
              "    background-color: var(--hover-bg-color);\n",
              "    box-shadow: 0 1px 2px rgba(60, 64, 67, 0.3), 0 1px 3px 1px rgba(60, 64, 67, 0.15);\n",
              "    fill: var(--button-hover-fill-color);\n",
              "  }\n",
              "\n",
              "  .colab-df-quickchart-complete:disabled,\n",
              "  .colab-df-quickchart-complete:disabled:hover {\n",
              "    background-color: var(--disabled-bg-color);\n",
              "    fill: var(--disabled-fill-color);\n",
              "    box-shadow: none;\n",
              "  }\n",
              "\n",
              "  .colab-df-spinner {\n",
              "    border: 2px solid var(--fill-color);\n",
              "    border-color: transparent;\n",
              "    border-bottom-color: var(--fill-color);\n",
              "    animation:\n",
              "      spin 1s steps(1) infinite;\n",
              "  }\n",
              "\n",
              "  @keyframes spin {\n",
              "    0% {\n",
              "      border-color: transparent;\n",
              "      border-bottom-color: var(--fill-color);\n",
              "      border-left-color: var(--fill-color);\n",
              "    }\n",
              "    20% {\n",
              "      border-color: transparent;\n",
              "      border-left-color: var(--fill-color);\n",
              "      border-top-color: var(--fill-color);\n",
              "    }\n",
              "    30% {\n",
              "      border-color: transparent;\n",
              "      border-left-color: var(--fill-color);\n",
              "      border-top-color: var(--fill-color);\n",
              "      border-right-color: var(--fill-color);\n",
              "    }\n",
              "    40% {\n",
              "      border-color: transparent;\n",
              "      border-right-color: var(--fill-color);\n",
              "      border-top-color: var(--fill-color);\n",
              "    }\n",
              "    60% {\n",
              "      border-color: transparent;\n",
              "      border-right-color: var(--fill-color);\n",
              "    }\n",
              "    80% {\n",
              "      border-color: transparent;\n",
              "      border-right-color: var(--fill-color);\n",
              "      border-bottom-color: var(--fill-color);\n",
              "    }\n",
              "    90% {\n",
              "      border-color: transparent;\n",
              "      border-bottom-color: var(--fill-color);\n",
              "    }\n",
              "  }\n",
              "</style>\n",
              "\n",
              "      <script>\n",
              "        async function quickchart(key) {\n",
              "          const quickchartButtonEl =\n",
              "            document.querySelector('#' + key + ' button');\n",
              "          quickchartButtonEl.disabled = true;  // To prevent multiple clicks.\n",
              "          quickchartButtonEl.classList.add('colab-df-spinner');\n",
              "          try {\n",
              "            const charts = await google.colab.kernel.invokeFunction(\n",
              "                'suggestCharts', [key], {});\n",
              "          } catch (error) {\n",
              "            console.error('Error during call to suggestCharts:', error);\n",
              "          }\n",
              "          quickchartButtonEl.classList.remove('colab-df-spinner');\n",
              "          quickchartButtonEl.classList.add('colab-df-quickchart-complete');\n",
              "        }\n",
              "        (() => {\n",
              "          let quickchartButtonEl =\n",
              "            document.querySelector('#df-a7aee5f3-e2d8-49a9-8767-69c2bb7440b4 button');\n",
              "          quickchartButtonEl.style.display =\n",
              "            google.colab.kernel.accessAllowed ? 'block' : 'none';\n",
              "        })();\n",
              "      </script>\n",
              "    </div>\n",
              "\n",
              "    </div>\n",
              "  </div>\n"
            ],
            "application/vnd.google.colaboratory.intrinsic+json": {
              "type": "dataframe",
              "summary": "{\n  \"name\": \"df\",\n  \"rows\": 2,\n  \"fields\": [\n    {\n      \"column\": \"Nombre\",\n      \"properties\": {\n        \"dtype\": \"string\",\n        \"num_unique_values\": 2,\n        \"samples\": [\n          \"Sara\",\n          \"Laura\"\n        ],\n        \"semantic_type\": \"\",\n        \"description\": \"\"\n      }\n    },\n    {\n      \"column\": \"Edad\",\n      \"properties\": {\n        \"dtype\": \"number\",\n        \"std\": 2,\n        \"min\": 36,\n        \"max\": 40,\n        \"num_unique_values\": 2,\n        \"samples\": [\n          40,\n          36\n        ],\n        \"semantic_type\": \"\",\n        \"description\": \"\"\n      }\n    },\n    {\n      \"column\": \"Altura\",\n      \"properties\": {\n        \"dtype\": \"number\",\n        \"std\": 0.021213203435596444,\n        \"min\": 1.59,\n        \"max\": 1.62,\n        \"num_unique_values\": 2,\n        \"samples\": [\n          1.59,\n          1.62\n        ],\n        \"semantic_type\": \"\",\n        \"description\": \"\"\n      }\n    },\n    {\n      \"column\": \"Genero\",\n      \"properties\": {\n        \"dtype\": \"string\",\n        \"num_unique_values\": 1,\n        \"samples\": [\n          \"F\"\n        ],\n        \"semantic_type\": \"\",\n        \"description\": \"\"\n      }\n    },\n    {\n      \"column\": \"Ciudad\",\n      \"properties\": {\n        \"dtype\": \"string\",\n        \"num_unique_values\": 2,\n        \"samples\": [\n          \"Funes\"\n        ],\n        \"semantic_type\": \"\",\n        \"description\": \"\"\n      }\n    }\n  ]\n}"
            }
          },
          "metadata": {},
          "execution_count": 48
        }
      ]
    },
    {
      "cell_type": "code",
      "source": [
        "df[\"Edad\"]"
      ],
      "metadata": {
        "id": "UNgRSgc1gk09",
        "colab": {
          "base_uri": "https://localhost:8080/",
          "height": 241
        },
        "outputId": "41c2648a-70f3-4012-c043-2fb21c6a1a87"
      },
      "execution_count": null,
      "outputs": [
        {
          "output_type": "execute_result",
          "data": {
            "text/plain": [
              "0    25\n",
              "1    36\n",
              "2    40\n",
              "3    41\n",
              "4    29\n",
              "Name: Edad, dtype: int64"
            ],
            "text/html": [
              "<div>\n",
              "<style scoped>\n",
              "    .dataframe tbody tr th:only-of-type {\n",
              "        vertical-align: middle;\n",
              "    }\n",
              "\n",
              "    .dataframe tbody tr th {\n",
              "        vertical-align: top;\n",
              "    }\n",
              "\n",
              "    .dataframe thead th {\n",
              "        text-align: right;\n",
              "    }\n",
              "</style>\n",
              "<table border=\"1\" class=\"dataframe\">\n",
              "  <thead>\n",
              "    <tr style=\"text-align: right;\">\n",
              "      <th></th>\n",
              "      <th>Edad</th>\n",
              "    </tr>\n",
              "  </thead>\n",
              "  <tbody>\n",
              "    <tr>\n",
              "      <th>0</th>\n",
              "      <td>25</td>\n",
              "    </tr>\n",
              "    <tr>\n",
              "      <th>1</th>\n",
              "      <td>36</td>\n",
              "    </tr>\n",
              "    <tr>\n",
              "      <th>2</th>\n",
              "      <td>40</td>\n",
              "    </tr>\n",
              "    <tr>\n",
              "      <th>3</th>\n",
              "      <td>41</td>\n",
              "    </tr>\n",
              "    <tr>\n",
              "      <th>4</th>\n",
              "      <td>29</td>\n",
              "    </tr>\n",
              "  </tbody>\n",
              "</table>\n",
              "</div><br><label><b>dtype:</b> int64</label>"
            ]
          },
          "metadata": {},
          "execution_count": 49
        }
      ]
    },
    {
      "cell_type": "code",
      "source": [
        "# Subconjunto del df con las columnas \"Edad\" y \"Altura\"\n",
        "df[[\"Edad\", \"Altura\",\"Genero\"]]"
      ],
      "metadata": {
        "id": "5BOOFf_GhHOS",
        "colab": {
          "base_uri": "https://localhost:8080/",
          "height": 206
        },
        "outputId": "a7976a91-2299-4cc6-bc6b-690040df6213"
      },
      "execution_count": null,
      "outputs": [
        {
          "output_type": "execute_result",
          "data": {
            "text/plain": [
              "   Edad  Altura Genero\n",
              "0    25    1.65      M\n",
              "1    36    1.62      F\n",
              "2    40    1.59      F\n",
              "3    41    1.68      M\n",
              "4    29    1.66      F"
            ],
            "text/html": [
              "\n",
              "  <div id=\"df-79fb1dd0-2055-42b5-aeda-72ab3e2e6ec1\" class=\"colab-df-container\">\n",
              "    <div>\n",
              "<style scoped>\n",
              "    .dataframe tbody tr th:only-of-type {\n",
              "        vertical-align: middle;\n",
              "    }\n",
              "\n",
              "    .dataframe tbody tr th {\n",
              "        vertical-align: top;\n",
              "    }\n",
              "\n",
              "    .dataframe thead th {\n",
              "        text-align: right;\n",
              "    }\n",
              "</style>\n",
              "<table border=\"1\" class=\"dataframe\">\n",
              "  <thead>\n",
              "    <tr style=\"text-align: right;\">\n",
              "      <th></th>\n",
              "      <th>Edad</th>\n",
              "      <th>Altura</th>\n",
              "      <th>Genero</th>\n",
              "    </tr>\n",
              "  </thead>\n",
              "  <tbody>\n",
              "    <tr>\n",
              "      <th>0</th>\n",
              "      <td>25</td>\n",
              "      <td>1.65</td>\n",
              "      <td>M</td>\n",
              "    </tr>\n",
              "    <tr>\n",
              "      <th>1</th>\n",
              "      <td>36</td>\n",
              "      <td>1.62</td>\n",
              "      <td>F</td>\n",
              "    </tr>\n",
              "    <tr>\n",
              "      <th>2</th>\n",
              "      <td>40</td>\n",
              "      <td>1.59</td>\n",
              "      <td>F</td>\n",
              "    </tr>\n",
              "    <tr>\n",
              "      <th>3</th>\n",
              "      <td>41</td>\n",
              "      <td>1.68</td>\n",
              "      <td>M</td>\n",
              "    </tr>\n",
              "    <tr>\n",
              "      <th>4</th>\n",
              "      <td>29</td>\n",
              "      <td>1.66</td>\n",
              "      <td>F</td>\n",
              "    </tr>\n",
              "  </tbody>\n",
              "</table>\n",
              "</div>\n",
              "    <div class=\"colab-df-buttons\">\n",
              "\n",
              "  <div class=\"colab-df-container\">\n",
              "    <button class=\"colab-df-convert\" onclick=\"convertToInteractive('df-79fb1dd0-2055-42b5-aeda-72ab3e2e6ec1')\"\n",
              "            title=\"Convert this dataframe to an interactive table.\"\n",
              "            style=\"display:none;\">\n",
              "\n",
              "  <svg xmlns=\"http://www.w3.org/2000/svg\" height=\"24px\" viewBox=\"0 -960 960 960\">\n",
              "    <path d=\"M120-120v-720h720v720H120Zm60-500h600v-160H180v160Zm220 220h160v-160H400v160Zm0 220h160v-160H400v160ZM180-400h160v-160H180v160Zm440 0h160v-160H620v160ZM180-180h160v-160H180v160Zm440 0h160v-160H620v160Z\"/>\n",
              "  </svg>\n",
              "    </button>\n",
              "\n",
              "  <style>\n",
              "    .colab-df-container {\n",
              "      display:flex;\n",
              "      gap: 12px;\n",
              "    }\n",
              "\n",
              "    .colab-df-convert {\n",
              "      background-color: #E8F0FE;\n",
              "      border: none;\n",
              "      border-radius: 50%;\n",
              "      cursor: pointer;\n",
              "      display: none;\n",
              "      fill: #1967D2;\n",
              "      height: 32px;\n",
              "      padding: 0 0 0 0;\n",
              "      width: 32px;\n",
              "    }\n",
              "\n",
              "    .colab-df-convert:hover {\n",
              "      background-color: #E2EBFA;\n",
              "      box-shadow: 0px 1px 2px rgba(60, 64, 67, 0.3), 0px 1px 3px 1px rgba(60, 64, 67, 0.15);\n",
              "      fill: #174EA6;\n",
              "    }\n",
              "\n",
              "    .colab-df-buttons div {\n",
              "      margin-bottom: 4px;\n",
              "    }\n",
              "\n",
              "    [theme=dark] .colab-df-convert {\n",
              "      background-color: #3B4455;\n",
              "      fill: #D2E3FC;\n",
              "    }\n",
              "\n",
              "    [theme=dark] .colab-df-convert:hover {\n",
              "      background-color: #434B5C;\n",
              "      box-shadow: 0px 1px 3px 1px rgba(0, 0, 0, 0.15);\n",
              "      filter: drop-shadow(0px 1px 2px rgba(0, 0, 0, 0.3));\n",
              "      fill: #FFFFFF;\n",
              "    }\n",
              "  </style>\n",
              "\n",
              "    <script>\n",
              "      const buttonEl =\n",
              "        document.querySelector('#df-79fb1dd0-2055-42b5-aeda-72ab3e2e6ec1 button.colab-df-convert');\n",
              "      buttonEl.style.display =\n",
              "        google.colab.kernel.accessAllowed ? 'block' : 'none';\n",
              "\n",
              "      async function convertToInteractive(key) {\n",
              "        const element = document.querySelector('#df-79fb1dd0-2055-42b5-aeda-72ab3e2e6ec1');\n",
              "        const dataTable =\n",
              "          await google.colab.kernel.invokeFunction('convertToInteractive',\n",
              "                                                    [key], {});\n",
              "        if (!dataTable) return;\n",
              "\n",
              "        const docLinkHtml = 'Like what you see? Visit the ' +\n",
              "          '<a target=\"_blank\" href=https://colab.research.google.com/notebooks/data_table.ipynb>data table notebook</a>'\n",
              "          + ' to learn more about interactive tables.';\n",
              "        element.innerHTML = '';\n",
              "        dataTable['output_type'] = 'display_data';\n",
              "        await google.colab.output.renderOutput(dataTable, element);\n",
              "        const docLink = document.createElement('div');\n",
              "        docLink.innerHTML = docLinkHtml;\n",
              "        element.appendChild(docLink);\n",
              "      }\n",
              "    </script>\n",
              "  </div>\n",
              "\n",
              "\n",
              "    <div id=\"df-06ad9082-9708-448f-9b2b-3f2bc0b05ca5\">\n",
              "      <button class=\"colab-df-quickchart\" onclick=\"quickchart('df-06ad9082-9708-448f-9b2b-3f2bc0b05ca5')\"\n",
              "                title=\"Suggest charts\"\n",
              "                style=\"display:none;\">\n",
              "\n",
              "<svg xmlns=\"http://www.w3.org/2000/svg\" height=\"24px\"viewBox=\"0 0 24 24\"\n",
              "     width=\"24px\">\n",
              "    <g>\n",
              "        <path d=\"M19 3H5c-1.1 0-2 .9-2 2v14c0 1.1.9 2 2 2h14c1.1 0 2-.9 2-2V5c0-1.1-.9-2-2-2zM9 17H7v-7h2v7zm4 0h-2V7h2v10zm4 0h-2v-4h2v4z\"/>\n",
              "    </g>\n",
              "</svg>\n",
              "      </button>\n",
              "\n",
              "<style>\n",
              "  .colab-df-quickchart {\n",
              "      --bg-color: #E8F0FE;\n",
              "      --fill-color: #1967D2;\n",
              "      --hover-bg-color: #E2EBFA;\n",
              "      --hover-fill-color: #174EA6;\n",
              "      --disabled-fill-color: #AAA;\n",
              "      --disabled-bg-color: #DDD;\n",
              "  }\n",
              "\n",
              "  [theme=dark] .colab-df-quickchart {\n",
              "      --bg-color: #3B4455;\n",
              "      --fill-color: #D2E3FC;\n",
              "      --hover-bg-color: #434B5C;\n",
              "      --hover-fill-color: #FFFFFF;\n",
              "      --disabled-bg-color: #3B4455;\n",
              "      --disabled-fill-color: #666;\n",
              "  }\n",
              "\n",
              "  .colab-df-quickchart {\n",
              "    background-color: var(--bg-color);\n",
              "    border: none;\n",
              "    border-radius: 50%;\n",
              "    cursor: pointer;\n",
              "    display: none;\n",
              "    fill: var(--fill-color);\n",
              "    height: 32px;\n",
              "    padding: 0;\n",
              "    width: 32px;\n",
              "  }\n",
              "\n",
              "  .colab-df-quickchart:hover {\n",
              "    background-color: var(--hover-bg-color);\n",
              "    box-shadow: 0 1px 2px rgba(60, 64, 67, 0.3), 0 1px 3px 1px rgba(60, 64, 67, 0.15);\n",
              "    fill: var(--button-hover-fill-color);\n",
              "  }\n",
              "\n",
              "  .colab-df-quickchart-complete:disabled,\n",
              "  .colab-df-quickchart-complete:disabled:hover {\n",
              "    background-color: var(--disabled-bg-color);\n",
              "    fill: var(--disabled-fill-color);\n",
              "    box-shadow: none;\n",
              "  }\n",
              "\n",
              "  .colab-df-spinner {\n",
              "    border: 2px solid var(--fill-color);\n",
              "    border-color: transparent;\n",
              "    border-bottom-color: var(--fill-color);\n",
              "    animation:\n",
              "      spin 1s steps(1) infinite;\n",
              "  }\n",
              "\n",
              "  @keyframes spin {\n",
              "    0% {\n",
              "      border-color: transparent;\n",
              "      border-bottom-color: var(--fill-color);\n",
              "      border-left-color: var(--fill-color);\n",
              "    }\n",
              "    20% {\n",
              "      border-color: transparent;\n",
              "      border-left-color: var(--fill-color);\n",
              "      border-top-color: var(--fill-color);\n",
              "    }\n",
              "    30% {\n",
              "      border-color: transparent;\n",
              "      border-left-color: var(--fill-color);\n",
              "      border-top-color: var(--fill-color);\n",
              "      border-right-color: var(--fill-color);\n",
              "    }\n",
              "    40% {\n",
              "      border-color: transparent;\n",
              "      border-right-color: var(--fill-color);\n",
              "      border-top-color: var(--fill-color);\n",
              "    }\n",
              "    60% {\n",
              "      border-color: transparent;\n",
              "      border-right-color: var(--fill-color);\n",
              "    }\n",
              "    80% {\n",
              "      border-color: transparent;\n",
              "      border-right-color: var(--fill-color);\n",
              "      border-bottom-color: var(--fill-color);\n",
              "    }\n",
              "    90% {\n",
              "      border-color: transparent;\n",
              "      border-bottom-color: var(--fill-color);\n",
              "    }\n",
              "  }\n",
              "</style>\n",
              "\n",
              "      <script>\n",
              "        async function quickchart(key) {\n",
              "          const quickchartButtonEl =\n",
              "            document.querySelector('#' + key + ' button');\n",
              "          quickchartButtonEl.disabled = true;  // To prevent multiple clicks.\n",
              "          quickchartButtonEl.classList.add('colab-df-spinner');\n",
              "          try {\n",
              "            const charts = await google.colab.kernel.invokeFunction(\n",
              "                'suggestCharts', [key], {});\n",
              "          } catch (error) {\n",
              "            console.error('Error during call to suggestCharts:', error);\n",
              "          }\n",
              "          quickchartButtonEl.classList.remove('colab-df-spinner');\n",
              "          quickchartButtonEl.classList.add('colab-df-quickchart-complete');\n",
              "        }\n",
              "        (() => {\n",
              "          let quickchartButtonEl =\n",
              "            document.querySelector('#df-06ad9082-9708-448f-9b2b-3f2bc0b05ca5 button');\n",
              "          quickchartButtonEl.style.display =\n",
              "            google.colab.kernel.accessAllowed ? 'block' : 'none';\n",
              "        })();\n",
              "      </script>\n",
              "    </div>\n",
              "\n",
              "    </div>\n",
              "  </div>\n"
            ],
            "application/vnd.google.colaboratory.intrinsic+json": {
              "type": "dataframe",
              "summary": "{\n  \"name\": \"df[[\\\"Edad\\\", \\\"Altura\\\",\\\"Genero\\\"]]\",\n  \"rows\": 5,\n  \"fields\": [\n    {\n      \"column\": \"Edad\",\n      \"properties\": {\n        \"dtype\": \"number\",\n        \"std\": 6,\n        \"min\": 25,\n        \"max\": 41,\n        \"num_unique_values\": 5,\n        \"samples\": [\n          36,\n          29,\n          40\n        ],\n        \"semantic_type\": \"\",\n        \"description\": \"\"\n      }\n    },\n    {\n      \"column\": \"Altura\",\n      \"properties\": {\n        \"dtype\": \"number\",\n        \"std\": 0.0353553390593273,\n        \"min\": 1.59,\n        \"max\": 1.68,\n        \"num_unique_values\": 5,\n        \"samples\": [\n          1.62,\n          1.66,\n          1.59\n        ],\n        \"semantic_type\": \"\",\n        \"description\": \"\"\n      }\n    },\n    {\n      \"column\": \"Genero\",\n      \"properties\": {\n        \"dtype\": \"category\",\n        \"num_unique_values\": 2,\n        \"samples\": [\n          \"F\",\n          \"M\"\n        ],\n        \"semantic_type\": \"\",\n        \"description\": \"\"\n      }\n    }\n  ]\n}"
            }
          },
          "metadata": {},
          "execution_count": 50
        }
      ]
    },
    {
      "cell_type": "code",
      "source": [
        "# ahora podemos a su seleccionar por renglones/filas con loc\n",
        "df[[\"Edad\", \"Altura\"]].loc[1:2]"
      ],
      "metadata": {
        "id": "sMHDmPtrhcyD",
        "colab": {
          "base_uri": "https://localhost:8080/",
          "height": 112
        },
        "outputId": "dbb3b4f1-ef7b-46f0-c2b2-b02ff8251aec"
      },
      "execution_count": null,
      "outputs": [
        {
          "output_type": "execute_result",
          "data": {
            "text/plain": [
              "   Edad  Altura\n",
              "1    36    1.62\n",
              "2    40    1.59"
            ],
            "text/html": [
              "\n",
              "  <div id=\"df-b92e9d77-af41-442e-90b0-a65ec1cd7661\" class=\"colab-df-container\">\n",
              "    <div>\n",
              "<style scoped>\n",
              "    .dataframe tbody tr th:only-of-type {\n",
              "        vertical-align: middle;\n",
              "    }\n",
              "\n",
              "    .dataframe tbody tr th {\n",
              "        vertical-align: top;\n",
              "    }\n",
              "\n",
              "    .dataframe thead th {\n",
              "        text-align: right;\n",
              "    }\n",
              "</style>\n",
              "<table border=\"1\" class=\"dataframe\">\n",
              "  <thead>\n",
              "    <tr style=\"text-align: right;\">\n",
              "      <th></th>\n",
              "      <th>Edad</th>\n",
              "      <th>Altura</th>\n",
              "    </tr>\n",
              "  </thead>\n",
              "  <tbody>\n",
              "    <tr>\n",
              "      <th>1</th>\n",
              "      <td>36</td>\n",
              "      <td>1.62</td>\n",
              "    </tr>\n",
              "    <tr>\n",
              "      <th>2</th>\n",
              "      <td>40</td>\n",
              "      <td>1.59</td>\n",
              "    </tr>\n",
              "  </tbody>\n",
              "</table>\n",
              "</div>\n",
              "    <div class=\"colab-df-buttons\">\n",
              "\n",
              "  <div class=\"colab-df-container\">\n",
              "    <button class=\"colab-df-convert\" onclick=\"convertToInteractive('df-b92e9d77-af41-442e-90b0-a65ec1cd7661')\"\n",
              "            title=\"Convert this dataframe to an interactive table.\"\n",
              "            style=\"display:none;\">\n",
              "\n",
              "  <svg xmlns=\"http://www.w3.org/2000/svg\" height=\"24px\" viewBox=\"0 -960 960 960\">\n",
              "    <path d=\"M120-120v-720h720v720H120Zm60-500h600v-160H180v160Zm220 220h160v-160H400v160Zm0 220h160v-160H400v160ZM180-400h160v-160H180v160Zm440 0h160v-160H620v160ZM180-180h160v-160H180v160Zm440 0h160v-160H620v160Z\"/>\n",
              "  </svg>\n",
              "    </button>\n",
              "\n",
              "  <style>\n",
              "    .colab-df-container {\n",
              "      display:flex;\n",
              "      gap: 12px;\n",
              "    }\n",
              "\n",
              "    .colab-df-convert {\n",
              "      background-color: #E8F0FE;\n",
              "      border: none;\n",
              "      border-radius: 50%;\n",
              "      cursor: pointer;\n",
              "      display: none;\n",
              "      fill: #1967D2;\n",
              "      height: 32px;\n",
              "      padding: 0 0 0 0;\n",
              "      width: 32px;\n",
              "    }\n",
              "\n",
              "    .colab-df-convert:hover {\n",
              "      background-color: #E2EBFA;\n",
              "      box-shadow: 0px 1px 2px rgba(60, 64, 67, 0.3), 0px 1px 3px 1px rgba(60, 64, 67, 0.15);\n",
              "      fill: #174EA6;\n",
              "    }\n",
              "\n",
              "    .colab-df-buttons div {\n",
              "      margin-bottom: 4px;\n",
              "    }\n",
              "\n",
              "    [theme=dark] .colab-df-convert {\n",
              "      background-color: #3B4455;\n",
              "      fill: #D2E3FC;\n",
              "    }\n",
              "\n",
              "    [theme=dark] .colab-df-convert:hover {\n",
              "      background-color: #434B5C;\n",
              "      box-shadow: 0px 1px 3px 1px rgba(0, 0, 0, 0.15);\n",
              "      filter: drop-shadow(0px 1px 2px rgba(0, 0, 0, 0.3));\n",
              "      fill: #FFFFFF;\n",
              "    }\n",
              "  </style>\n",
              "\n",
              "    <script>\n",
              "      const buttonEl =\n",
              "        document.querySelector('#df-b92e9d77-af41-442e-90b0-a65ec1cd7661 button.colab-df-convert');\n",
              "      buttonEl.style.display =\n",
              "        google.colab.kernel.accessAllowed ? 'block' : 'none';\n",
              "\n",
              "      async function convertToInteractive(key) {\n",
              "        const element = document.querySelector('#df-b92e9d77-af41-442e-90b0-a65ec1cd7661');\n",
              "        const dataTable =\n",
              "          await google.colab.kernel.invokeFunction('convertToInteractive',\n",
              "                                                    [key], {});\n",
              "        if (!dataTable) return;\n",
              "\n",
              "        const docLinkHtml = 'Like what you see? Visit the ' +\n",
              "          '<a target=\"_blank\" href=https://colab.research.google.com/notebooks/data_table.ipynb>data table notebook</a>'\n",
              "          + ' to learn more about interactive tables.';\n",
              "        element.innerHTML = '';\n",
              "        dataTable['output_type'] = 'display_data';\n",
              "        await google.colab.output.renderOutput(dataTable, element);\n",
              "        const docLink = document.createElement('div');\n",
              "        docLink.innerHTML = docLinkHtml;\n",
              "        element.appendChild(docLink);\n",
              "      }\n",
              "    </script>\n",
              "  </div>\n",
              "\n",
              "\n",
              "    <div id=\"df-b931e5a1-ff85-478e-a2fc-f4699930b5ad\">\n",
              "      <button class=\"colab-df-quickchart\" onclick=\"quickchart('df-b931e5a1-ff85-478e-a2fc-f4699930b5ad')\"\n",
              "                title=\"Suggest charts\"\n",
              "                style=\"display:none;\">\n",
              "\n",
              "<svg xmlns=\"http://www.w3.org/2000/svg\" height=\"24px\"viewBox=\"0 0 24 24\"\n",
              "     width=\"24px\">\n",
              "    <g>\n",
              "        <path d=\"M19 3H5c-1.1 0-2 .9-2 2v14c0 1.1.9 2 2 2h14c1.1 0 2-.9 2-2V5c0-1.1-.9-2-2-2zM9 17H7v-7h2v7zm4 0h-2V7h2v10zm4 0h-2v-4h2v4z\"/>\n",
              "    </g>\n",
              "</svg>\n",
              "      </button>\n",
              "\n",
              "<style>\n",
              "  .colab-df-quickchart {\n",
              "      --bg-color: #E8F0FE;\n",
              "      --fill-color: #1967D2;\n",
              "      --hover-bg-color: #E2EBFA;\n",
              "      --hover-fill-color: #174EA6;\n",
              "      --disabled-fill-color: #AAA;\n",
              "      --disabled-bg-color: #DDD;\n",
              "  }\n",
              "\n",
              "  [theme=dark] .colab-df-quickchart {\n",
              "      --bg-color: #3B4455;\n",
              "      --fill-color: #D2E3FC;\n",
              "      --hover-bg-color: #434B5C;\n",
              "      --hover-fill-color: #FFFFFF;\n",
              "      --disabled-bg-color: #3B4455;\n",
              "      --disabled-fill-color: #666;\n",
              "  }\n",
              "\n",
              "  .colab-df-quickchart {\n",
              "    background-color: var(--bg-color);\n",
              "    border: none;\n",
              "    border-radius: 50%;\n",
              "    cursor: pointer;\n",
              "    display: none;\n",
              "    fill: var(--fill-color);\n",
              "    height: 32px;\n",
              "    padding: 0;\n",
              "    width: 32px;\n",
              "  }\n",
              "\n",
              "  .colab-df-quickchart:hover {\n",
              "    background-color: var(--hover-bg-color);\n",
              "    box-shadow: 0 1px 2px rgba(60, 64, 67, 0.3), 0 1px 3px 1px rgba(60, 64, 67, 0.15);\n",
              "    fill: var(--button-hover-fill-color);\n",
              "  }\n",
              "\n",
              "  .colab-df-quickchart-complete:disabled,\n",
              "  .colab-df-quickchart-complete:disabled:hover {\n",
              "    background-color: var(--disabled-bg-color);\n",
              "    fill: var(--disabled-fill-color);\n",
              "    box-shadow: none;\n",
              "  }\n",
              "\n",
              "  .colab-df-spinner {\n",
              "    border: 2px solid var(--fill-color);\n",
              "    border-color: transparent;\n",
              "    border-bottom-color: var(--fill-color);\n",
              "    animation:\n",
              "      spin 1s steps(1) infinite;\n",
              "  }\n",
              "\n",
              "  @keyframes spin {\n",
              "    0% {\n",
              "      border-color: transparent;\n",
              "      border-bottom-color: var(--fill-color);\n",
              "      border-left-color: var(--fill-color);\n",
              "    }\n",
              "    20% {\n",
              "      border-color: transparent;\n",
              "      border-left-color: var(--fill-color);\n",
              "      border-top-color: var(--fill-color);\n",
              "    }\n",
              "    30% {\n",
              "      border-color: transparent;\n",
              "      border-left-color: var(--fill-color);\n",
              "      border-top-color: var(--fill-color);\n",
              "      border-right-color: var(--fill-color);\n",
              "    }\n",
              "    40% {\n",
              "      border-color: transparent;\n",
              "      border-right-color: var(--fill-color);\n",
              "      border-top-color: var(--fill-color);\n",
              "    }\n",
              "    60% {\n",
              "      border-color: transparent;\n",
              "      border-right-color: var(--fill-color);\n",
              "    }\n",
              "    80% {\n",
              "      border-color: transparent;\n",
              "      border-right-color: var(--fill-color);\n",
              "      border-bottom-color: var(--fill-color);\n",
              "    }\n",
              "    90% {\n",
              "      border-color: transparent;\n",
              "      border-bottom-color: var(--fill-color);\n",
              "    }\n",
              "  }\n",
              "</style>\n",
              "\n",
              "      <script>\n",
              "        async function quickchart(key) {\n",
              "          const quickchartButtonEl =\n",
              "            document.querySelector('#' + key + ' button');\n",
              "          quickchartButtonEl.disabled = true;  // To prevent multiple clicks.\n",
              "          quickchartButtonEl.classList.add('colab-df-spinner');\n",
              "          try {\n",
              "            const charts = await google.colab.kernel.invokeFunction(\n",
              "                'suggestCharts', [key], {});\n",
              "          } catch (error) {\n",
              "            console.error('Error during call to suggestCharts:', error);\n",
              "          }\n",
              "          quickchartButtonEl.classList.remove('colab-df-spinner');\n",
              "          quickchartButtonEl.classList.add('colab-df-quickchart-complete');\n",
              "        }\n",
              "        (() => {\n",
              "          let quickchartButtonEl =\n",
              "            document.querySelector('#df-b931e5a1-ff85-478e-a2fc-f4699930b5ad button');\n",
              "          quickchartButtonEl.style.display =\n",
              "            google.colab.kernel.accessAllowed ? 'block' : 'none';\n",
              "        })();\n",
              "      </script>\n",
              "    </div>\n",
              "\n",
              "    </div>\n",
              "  </div>\n"
            ],
            "application/vnd.google.colaboratory.intrinsic+json": {
              "type": "dataframe",
              "summary": "{\n  \"name\": \"df[[\\\"Edad\\\", \\\"Altura\\\"]]\",\n  \"rows\": 2,\n  \"fields\": [\n    {\n      \"column\": \"Edad\",\n      \"properties\": {\n        \"dtype\": \"number\",\n        \"std\": 2,\n        \"min\": 36,\n        \"max\": 40,\n        \"num_unique_values\": 2,\n        \"samples\": [\n          40,\n          36\n        ],\n        \"semantic_type\": \"\",\n        \"description\": \"\"\n      }\n    },\n    {\n      \"column\": \"Altura\",\n      \"properties\": {\n        \"dtype\": \"number\",\n        \"std\": 0.021213203435596444,\n        \"min\": 1.59,\n        \"max\": 1.62,\n        \"num_unique_values\": 2,\n        \"samples\": [\n          1.59,\n          1.62\n        ],\n        \"semantic_type\": \"\",\n        \"description\": \"\"\n      }\n    }\n  ]\n}"
            }
          },
          "metadata": {},
          "execution_count": 51
        }
      ]
    },
    {
      "cell_type": "code",
      "source": [
        "# existe una manera mas corta de escribir lo de arriba\n",
        "df.loc[1:2, [\"Edad\", \"Altura\"]]"
      ],
      "metadata": {
        "id": "iDHl64F9hvSN",
        "colab": {
          "base_uri": "https://localhost:8080/",
          "height": 112
        },
        "outputId": "21d02e50-cf7f-4390-e85c-baa413cbcc0d"
      },
      "execution_count": null,
      "outputs": [
        {
          "output_type": "execute_result",
          "data": {
            "text/plain": [
              "   Edad  Altura\n",
              "1    36    1.62\n",
              "2    40    1.59"
            ],
            "text/html": [
              "\n",
              "  <div id=\"df-bb01eec9-2277-40ca-9555-45f6a633888e\" class=\"colab-df-container\">\n",
              "    <div>\n",
              "<style scoped>\n",
              "    .dataframe tbody tr th:only-of-type {\n",
              "        vertical-align: middle;\n",
              "    }\n",
              "\n",
              "    .dataframe tbody tr th {\n",
              "        vertical-align: top;\n",
              "    }\n",
              "\n",
              "    .dataframe thead th {\n",
              "        text-align: right;\n",
              "    }\n",
              "</style>\n",
              "<table border=\"1\" class=\"dataframe\">\n",
              "  <thead>\n",
              "    <tr style=\"text-align: right;\">\n",
              "      <th></th>\n",
              "      <th>Edad</th>\n",
              "      <th>Altura</th>\n",
              "    </tr>\n",
              "  </thead>\n",
              "  <tbody>\n",
              "    <tr>\n",
              "      <th>1</th>\n",
              "      <td>36</td>\n",
              "      <td>1.62</td>\n",
              "    </tr>\n",
              "    <tr>\n",
              "      <th>2</th>\n",
              "      <td>40</td>\n",
              "      <td>1.59</td>\n",
              "    </tr>\n",
              "  </tbody>\n",
              "</table>\n",
              "</div>\n",
              "    <div class=\"colab-df-buttons\">\n",
              "\n",
              "  <div class=\"colab-df-container\">\n",
              "    <button class=\"colab-df-convert\" onclick=\"convertToInteractive('df-bb01eec9-2277-40ca-9555-45f6a633888e')\"\n",
              "            title=\"Convert this dataframe to an interactive table.\"\n",
              "            style=\"display:none;\">\n",
              "\n",
              "  <svg xmlns=\"http://www.w3.org/2000/svg\" height=\"24px\" viewBox=\"0 -960 960 960\">\n",
              "    <path d=\"M120-120v-720h720v720H120Zm60-500h600v-160H180v160Zm220 220h160v-160H400v160Zm0 220h160v-160H400v160ZM180-400h160v-160H180v160Zm440 0h160v-160H620v160ZM180-180h160v-160H180v160Zm440 0h160v-160H620v160Z\"/>\n",
              "  </svg>\n",
              "    </button>\n",
              "\n",
              "  <style>\n",
              "    .colab-df-container {\n",
              "      display:flex;\n",
              "      gap: 12px;\n",
              "    }\n",
              "\n",
              "    .colab-df-convert {\n",
              "      background-color: #E8F0FE;\n",
              "      border: none;\n",
              "      border-radius: 50%;\n",
              "      cursor: pointer;\n",
              "      display: none;\n",
              "      fill: #1967D2;\n",
              "      height: 32px;\n",
              "      padding: 0 0 0 0;\n",
              "      width: 32px;\n",
              "    }\n",
              "\n",
              "    .colab-df-convert:hover {\n",
              "      background-color: #E2EBFA;\n",
              "      box-shadow: 0px 1px 2px rgba(60, 64, 67, 0.3), 0px 1px 3px 1px rgba(60, 64, 67, 0.15);\n",
              "      fill: #174EA6;\n",
              "    }\n",
              "\n",
              "    .colab-df-buttons div {\n",
              "      margin-bottom: 4px;\n",
              "    }\n",
              "\n",
              "    [theme=dark] .colab-df-convert {\n",
              "      background-color: #3B4455;\n",
              "      fill: #D2E3FC;\n",
              "    }\n",
              "\n",
              "    [theme=dark] .colab-df-convert:hover {\n",
              "      background-color: #434B5C;\n",
              "      box-shadow: 0px 1px 3px 1px rgba(0, 0, 0, 0.15);\n",
              "      filter: drop-shadow(0px 1px 2px rgba(0, 0, 0, 0.3));\n",
              "      fill: #FFFFFF;\n",
              "    }\n",
              "  </style>\n",
              "\n",
              "    <script>\n",
              "      const buttonEl =\n",
              "        document.querySelector('#df-bb01eec9-2277-40ca-9555-45f6a633888e button.colab-df-convert');\n",
              "      buttonEl.style.display =\n",
              "        google.colab.kernel.accessAllowed ? 'block' : 'none';\n",
              "\n",
              "      async function convertToInteractive(key) {\n",
              "        const element = document.querySelector('#df-bb01eec9-2277-40ca-9555-45f6a633888e');\n",
              "        const dataTable =\n",
              "          await google.colab.kernel.invokeFunction('convertToInteractive',\n",
              "                                                    [key], {});\n",
              "        if (!dataTable) return;\n",
              "\n",
              "        const docLinkHtml = 'Like what you see? Visit the ' +\n",
              "          '<a target=\"_blank\" href=https://colab.research.google.com/notebooks/data_table.ipynb>data table notebook</a>'\n",
              "          + ' to learn more about interactive tables.';\n",
              "        element.innerHTML = '';\n",
              "        dataTable['output_type'] = 'display_data';\n",
              "        await google.colab.output.renderOutput(dataTable, element);\n",
              "        const docLink = document.createElement('div');\n",
              "        docLink.innerHTML = docLinkHtml;\n",
              "        element.appendChild(docLink);\n",
              "      }\n",
              "    </script>\n",
              "  </div>\n",
              "\n",
              "\n",
              "    <div id=\"df-2ad26576-2648-4b54-978d-fcda8b42c778\">\n",
              "      <button class=\"colab-df-quickchart\" onclick=\"quickchart('df-2ad26576-2648-4b54-978d-fcda8b42c778')\"\n",
              "                title=\"Suggest charts\"\n",
              "                style=\"display:none;\">\n",
              "\n",
              "<svg xmlns=\"http://www.w3.org/2000/svg\" height=\"24px\"viewBox=\"0 0 24 24\"\n",
              "     width=\"24px\">\n",
              "    <g>\n",
              "        <path d=\"M19 3H5c-1.1 0-2 .9-2 2v14c0 1.1.9 2 2 2h14c1.1 0 2-.9 2-2V5c0-1.1-.9-2-2-2zM9 17H7v-7h2v7zm4 0h-2V7h2v10zm4 0h-2v-4h2v4z\"/>\n",
              "    </g>\n",
              "</svg>\n",
              "      </button>\n",
              "\n",
              "<style>\n",
              "  .colab-df-quickchart {\n",
              "      --bg-color: #E8F0FE;\n",
              "      --fill-color: #1967D2;\n",
              "      --hover-bg-color: #E2EBFA;\n",
              "      --hover-fill-color: #174EA6;\n",
              "      --disabled-fill-color: #AAA;\n",
              "      --disabled-bg-color: #DDD;\n",
              "  }\n",
              "\n",
              "  [theme=dark] .colab-df-quickchart {\n",
              "      --bg-color: #3B4455;\n",
              "      --fill-color: #D2E3FC;\n",
              "      --hover-bg-color: #434B5C;\n",
              "      --hover-fill-color: #FFFFFF;\n",
              "      --disabled-bg-color: #3B4455;\n",
              "      --disabled-fill-color: #666;\n",
              "  }\n",
              "\n",
              "  .colab-df-quickchart {\n",
              "    background-color: var(--bg-color);\n",
              "    border: none;\n",
              "    border-radius: 50%;\n",
              "    cursor: pointer;\n",
              "    display: none;\n",
              "    fill: var(--fill-color);\n",
              "    height: 32px;\n",
              "    padding: 0;\n",
              "    width: 32px;\n",
              "  }\n",
              "\n",
              "  .colab-df-quickchart:hover {\n",
              "    background-color: var(--hover-bg-color);\n",
              "    box-shadow: 0 1px 2px rgba(60, 64, 67, 0.3), 0 1px 3px 1px rgba(60, 64, 67, 0.15);\n",
              "    fill: var(--button-hover-fill-color);\n",
              "  }\n",
              "\n",
              "  .colab-df-quickchart-complete:disabled,\n",
              "  .colab-df-quickchart-complete:disabled:hover {\n",
              "    background-color: var(--disabled-bg-color);\n",
              "    fill: var(--disabled-fill-color);\n",
              "    box-shadow: none;\n",
              "  }\n",
              "\n",
              "  .colab-df-spinner {\n",
              "    border: 2px solid var(--fill-color);\n",
              "    border-color: transparent;\n",
              "    border-bottom-color: var(--fill-color);\n",
              "    animation:\n",
              "      spin 1s steps(1) infinite;\n",
              "  }\n",
              "\n",
              "  @keyframes spin {\n",
              "    0% {\n",
              "      border-color: transparent;\n",
              "      border-bottom-color: var(--fill-color);\n",
              "      border-left-color: var(--fill-color);\n",
              "    }\n",
              "    20% {\n",
              "      border-color: transparent;\n",
              "      border-left-color: var(--fill-color);\n",
              "      border-top-color: var(--fill-color);\n",
              "    }\n",
              "    30% {\n",
              "      border-color: transparent;\n",
              "      border-left-color: var(--fill-color);\n",
              "      border-top-color: var(--fill-color);\n",
              "      border-right-color: var(--fill-color);\n",
              "    }\n",
              "    40% {\n",
              "      border-color: transparent;\n",
              "      border-right-color: var(--fill-color);\n",
              "      border-top-color: var(--fill-color);\n",
              "    }\n",
              "    60% {\n",
              "      border-color: transparent;\n",
              "      border-right-color: var(--fill-color);\n",
              "    }\n",
              "    80% {\n",
              "      border-color: transparent;\n",
              "      border-right-color: var(--fill-color);\n",
              "      border-bottom-color: var(--fill-color);\n",
              "    }\n",
              "    90% {\n",
              "      border-color: transparent;\n",
              "      border-bottom-color: var(--fill-color);\n",
              "    }\n",
              "  }\n",
              "</style>\n",
              "\n",
              "      <script>\n",
              "        async function quickchart(key) {\n",
              "          const quickchartButtonEl =\n",
              "            document.querySelector('#' + key + ' button');\n",
              "          quickchartButtonEl.disabled = true;  // To prevent multiple clicks.\n",
              "          quickchartButtonEl.classList.add('colab-df-spinner');\n",
              "          try {\n",
              "            const charts = await google.colab.kernel.invokeFunction(\n",
              "                'suggestCharts', [key], {});\n",
              "          } catch (error) {\n",
              "            console.error('Error during call to suggestCharts:', error);\n",
              "          }\n",
              "          quickchartButtonEl.classList.remove('colab-df-spinner');\n",
              "          quickchartButtonEl.classList.add('colab-df-quickchart-complete');\n",
              "        }\n",
              "        (() => {\n",
              "          let quickchartButtonEl =\n",
              "            document.querySelector('#df-2ad26576-2648-4b54-978d-fcda8b42c778 button');\n",
              "          quickchartButtonEl.style.display =\n",
              "            google.colab.kernel.accessAllowed ? 'block' : 'none';\n",
              "        })();\n",
              "      </script>\n",
              "    </div>\n",
              "\n",
              "    </div>\n",
              "  </div>\n"
            ],
            "application/vnd.google.colaboratory.intrinsic+json": {
              "type": "dataframe",
              "summary": "{\n  \"name\": \"df\",\n  \"rows\": 2,\n  \"fields\": [\n    {\n      \"column\": \"Edad\",\n      \"properties\": {\n        \"dtype\": \"number\",\n        \"std\": 2,\n        \"min\": 36,\n        \"max\": 40,\n        \"num_unique_values\": 2,\n        \"samples\": [\n          40,\n          36\n        ],\n        \"semantic_type\": \"\",\n        \"description\": \"\"\n      }\n    },\n    {\n      \"column\": \"Altura\",\n      \"properties\": {\n        \"dtype\": \"number\",\n        \"std\": 0.021213203435596444,\n        \"min\": 1.59,\n        \"max\": 1.62,\n        \"num_unique_values\": 2,\n        \"samples\": [\n          1.59,\n          1.62\n        ],\n        \"semantic_type\": \"\",\n        \"description\": \"\"\n      }\n    }\n  ]\n}"
            }
          },
          "metadata": {},
          "execution_count": 52
        }
      ]
    },
    {
      "cell_type": "code",
      "source": [
        "#operaciones para calcular la media de las columnas \"Edad\" y \"Altura\"\n",
        "#para las filas con etiquetas de índice 1 y 2\n",
        "df.loc[1:2, [\"Edad\", \"Altura\"]].mean()"
      ],
      "metadata": {
        "id": "ZvzWVGtqh31v",
        "colab": {
          "base_uri": "https://localhost:8080/",
          "height": 147
        },
        "outputId": "bbe8e792-d0a7-4f49-cc74-f6dc78c76c5a"
      },
      "execution_count": null,
      "outputs": [
        {
          "output_type": "execute_result",
          "data": {
            "text/plain": [
              "Edad      38.000\n",
              "Altura     1.605\n",
              "dtype: float64"
            ],
            "text/html": [
              "<div>\n",
              "<style scoped>\n",
              "    .dataframe tbody tr th:only-of-type {\n",
              "        vertical-align: middle;\n",
              "    }\n",
              "\n",
              "    .dataframe tbody tr th {\n",
              "        vertical-align: top;\n",
              "    }\n",
              "\n",
              "    .dataframe thead th {\n",
              "        text-align: right;\n",
              "    }\n",
              "</style>\n",
              "<table border=\"1\" class=\"dataframe\">\n",
              "  <thead>\n",
              "    <tr style=\"text-align: right;\">\n",
              "      <th></th>\n",
              "      <th>0</th>\n",
              "    </tr>\n",
              "  </thead>\n",
              "  <tbody>\n",
              "    <tr>\n",
              "      <th>Edad</th>\n",
              "      <td>38.000</td>\n",
              "    </tr>\n",
              "    <tr>\n",
              "      <th>Altura</th>\n",
              "      <td>1.605</td>\n",
              "    </tr>\n",
              "  </tbody>\n",
              "</table>\n",
              "</div><br><label><b>dtype:</b> float64</label>"
            ]
          },
          "metadata": {},
          "execution_count": 53
        }
      ]
    },
    {
      "cell_type": "code",
      "source": [
        "df.loc[1:2, [\"Edad\", \"Altura\"]].sum()"
      ],
      "metadata": {
        "id": "qlWPM4TVl94V",
        "colab": {
          "base_uri": "https://localhost:8080/",
          "height": 147
        },
        "outputId": "f69925f6-aa72-46f5-c383-c13e4610fefd"
      },
      "execution_count": null,
      "outputs": [
        {
          "output_type": "execute_result",
          "data": {
            "text/plain": [
              "Edad      76.00\n",
              "Altura     3.21\n",
              "dtype: float64"
            ],
            "text/html": [
              "<div>\n",
              "<style scoped>\n",
              "    .dataframe tbody tr th:only-of-type {\n",
              "        vertical-align: middle;\n",
              "    }\n",
              "\n",
              "    .dataframe tbody tr th {\n",
              "        vertical-align: top;\n",
              "    }\n",
              "\n",
              "    .dataframe thead th {\n",
              "        text-align: right;\n",
              "    }\n",
              "</style>\n",
              "<table border=\"1\" class=\"dataframe\">\n",
              "  <thead>\n",
              "    <tr style=\"text-align: right;\">\n",
              "      <th></th>\n",
              "      <th>0</th>\n",
              "    </tr>\n",
              "  </thead>\n",
              "  <tbody>\n",
              "    <tr>\n",
              "      <th>Edad</th>\n",
              "      <td>76.00</td>\n",
              "    </tr>\n",
              "    <tr>\n",
              "      <th>Altura</th>\n",
              "      <td>3.21</td>\n",
              "    </tr>\n",
              "  </tbody>\n",
              "</table>\n",
              "</div><br><label><b>dtype:</b> float64</label>"
            ]
          },
          "metadata": {},
          "execution_count": 54
        }
      ]
    }
  ]
}