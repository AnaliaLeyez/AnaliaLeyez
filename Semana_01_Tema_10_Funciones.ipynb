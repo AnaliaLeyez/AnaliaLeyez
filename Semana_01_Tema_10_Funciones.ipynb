{
  "nbformat": 4,
  "nbformat_minor": 0,
  "metadata": {
    "colab": {
      "provenance": [],
      "include_colab_link": true
    },
    "kernelspec": {
      "name": "python3",
      "display_name": "Python 3"
    },
    "language_info": {
      "name": "python"
    }
  },
  "cells": [
    {
      "cell_type": "markdown",
      "metadata": {
        "id": "view-in-github",
        "colab_type": "text"
      },
      "source": [
        "<a href=\"https://colab.research.google.com/github/AnaliaLeyez/AnaliaLeyez/blob/main/Semana_01_Tema_10_Funciones.ipynb\" target=\"_parent\"><img src=\"https://colab.research.google.com/assets/colab-badge.svg\" alt=\"Open In Colab\"/></a>"
      ]
    },
    {
      "cell_type": "markdown",
      "source": [
        "# Funciones y procedimientos\n",
        "\n",
        "* Los procediminetos NO retornan valores.\n",
        "\n",
        "* Las funciones retornan 1 valor.\n",
        "\n",
        "```\n",
        "def <nombre_de_funcion_o_procedimiento> (<parametro/s>):\n",
        "  # Sentencias python\n",
        "```"
      ],
      "metadata": {
        "id": "GTl81PmgaAde"
      }
    },
    {
      "cell_type": "code",
      "source": [
        "# procedimiento\n",
        "def suma_procedimiento(valor_1:float, valor_2:float):\n",
        "  \"\"\" Procedimiento que muestra la suma de 2 valores.\n",
        "\n",
        "  Args:\n",
        "    valor_1 (float): Sumando 1\n",
        "    valor_2 (float): Sumando 2\n",
        "  \"\"\"\n",
        "  print(f\"resultado de la suma por procedimiento: {valor_1+valor_2}\")"
      ],
      "metadata": {
        "id": "QJkhVbSzarEO"
      },
      "execution_count": null,
      "outputs": []
    },
    {
      "cell_type": "code",
      "source": [
        "# función\n",
        "def suma_funcion(valor_1:float, valor_2:float)->float:\n",
        "  \"\"\" Procedimiento que muestra la suma de 2 valores.\n",
        "\n",
        "  Args:\n",
        "    valor_1 (float): Sumando 1\n",
        "    valor_2 (float): Sumando 2\n",
        "\n",
        "  Return:\n",
        "    float: Retorna la suma de los valores.\n",
        "  \"\"\"\n",
        "  return valor_1 + valor_2"
      ],
      "metadata": {
        "id": "IJT0sR4OafIu"
      },
      "execution_count": null,
      "outputs": []
    },
    {
      "cell_type": "code",
      "source": [
        "valor1=10\n",
        "valor2=5"
      ],
      "metadata": {
        "id": "6927EovIbF6G"
      },
      "execution_count": null,
      "outputs": []
    },
    {
      "cell_type": "code",
      "source": [
        "suma_procedimiento(valor_1=valor1, valor_2=valor2)"
      ],
      "metadata": {
        "colab": {
          "base_uri": "https://localhost:8080/"
        },
        "id": "l8WL1xA4a-c1",
        "outputId": "2336b3e0-78ce-4cca-db84-52904bcae485"
      },
      "execution_count": null,
      "outputs": [
        {
          "output_type": "stream",
          "name": "stdout",
          "text": [
            "resultado de la suma por procedimiento: 15\n"
          ]
        }
      ]
    },
    {
      "cell_type": "code",
      "source": [
        "resultado = suma_funcion(valor1, valor2)\n",
        "#resultado = suma_funcion(valor_1=valor1, valor_2=valor2)\n",
        "print(f\"resultado de la suma por función: {resultado}\")"
      ],
      "metadata": {
        "colab": {
          "base_uri": "https://localhost:8080/"
        },
        "id": "Qs-ZKdMFbN_Y",
        "outputId": "721b6aef-9c87-4cfc-857d-a3b341fb3e33"
      },
      "execution_count": null,
      "outputs": [
        {
          "output_type": "stream",
          "name": "stdout",
          "text": [
            "resultado de la suma por función: 15\n"
          ]
        }
      ]
    }
  ]
}