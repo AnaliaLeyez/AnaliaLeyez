{
  "cells": [
    {
      "cell_type": "markdown",
      "metadata": {
        "id": "view-in-github",
        "colab_type": "text"
      },
      "source": [
        "<a href=\"https://colab.research.google.com/github/AnaliaLeyez/AnaliaLeyez/blob/main/u3_limpieza_parte.ipynb\" target=\"_parent\"><img src=\"https://colab.research.google.com/assets/colab-badge.svg\" alt=\"Open In Colab\"/></a>"
      ]
    },
    {
      "cell_type": "markdown",
      "metadata": {
        "id": "8msWVlENvR-R"
      },
      "source": [
        "# UNIDAD III - Limpieza y preparación"
      ]
    },
    {
      "cell_type": "markdown",
      "metadata": {
        "id": "oDT3Nxh8vR-W"
      },
      "source": [
        "El notebook esta basado en el contenido del libro Python for Data Analysis.\n",
        "[Chapter 7 Data Cleaning and Preparation. (Wes McKinney)](https://wesmckinney.com/book/data-cleaning)\n",
        "\n"
      ]
    },
    {
      "cell_type": "markdown",
      "metadata": {
        "id": "_Kzkhl00vR-X"
      },
      "source": [
        "# Inicializaciones"
      ]
    },
    {
      "cell_type": "markdown",
      "metadata": {
        "id": "Jr3zSvYRvR-X"
      },
      "source": [
        "## Importamos dependencias"
      ]
    },
    {
      "cell_type": "code",
      "source": [
        "import numpy as np\n",
        "import pandas as pd\n"
      ],
      "metadata": {
        "id": "s6cQGwPMLS6R"
      },
      "execution_count": null,
      "outputs": []
    },
    {
      "cell_type": "markdown",
      "metadata": {
        "id": "rS87XX3QvR-Z"
      },
      "source": [
        "### Parametros por defecto"
      ]
    },
    {
      "cell_type": "code",
      "execution_count": null,
      "metadata": {
        "id": "nN2giXAlvR-Z"
      },
      "outputs": [],
      "source": [
        "np.random.seed(12345)"
      ]
    },
    {
      "cell_type": "markdown",
      "source": [
        "# Carga y diagnóstico base"
      ],
      "metadata": {
        "id": "ohTswG52O8H1"
      }
    },
    {
      "cell_type": "code",
      "source": [
        "# Dataset sintético para practica\n",
        "practica = pd.DataFrame({\n",
        "    'id':[1,1,2,3,4,5],\n",
        "    'nombre':[' Ana ', 'ana', 'TOM', 'Luz', None, '   Marta'],\n",
        "    'monto':['1.234,00','500,50', np.nan, '100,0', '10.000,99', 'quince'],\n",
        "    'categoria':['A','a','B','B','C','C '],\n",
        "    'fecha':['2024-01-10','2024/01/11','2055-01-01', None, '01-02-2024', '2024-02-03'],\n",
        "})\n",
        "practica"
      ],
      "metadata": {
        "id": "z-XfI8gKO_to"
      },
      "execution_count": null,
      "outputs": []
    },
    {
      "cell_type": "markdown",
      "source": [
        "## Tamaño del dataset"
      ],
      "metadata": {
        "id": "GP4kLBshPEFr"
      }
    },
    {
      "cell_type": "code",
      "source": [
        "# Nro de filas y columnas)\n",
        "practica.shape"
      ],
      "metadata": {
        "id": "0EiZEilrPFFa"
      },
      "execution_count": null,
      "outputs": []
    },
    {
      "cell_type": "markdown",
      "source": [
        "## Estructura del dataset"
      ],
      "metadata": {
        "id": "aTn7uoaIPIG0"
      }
    },
    {
      "cell_type": "code",
      "source": [
        "#Resumen estándar\n",
        "practica.info()"
      ],
      "metadata": {
        "id": "nfveMz4MPLh0"
      },
      "execution_count": null,
      "outputs": []
    },
    {
      "cell_type": "markdown",
      "source": [
        "## Estadísticas descriptivas"
      ],
      "metadata": {
        "id": "iLh8ZNpkPOWg"
      }
    },
    {
      "cell_type": "code",
      "source": [
        "#(count:cantidad de valores no nulos),mean: media o promedio.std: desviación estándar (dispersión).\n",
        "# min, quartiles, max) de columnas numéricas para ver rangos/outliers\n",
        "practica.describe ()"
      ],
      "metadata": {
        "id": "4w3F9HF4PQf1"
      },
      "execution_count": null,
      "outputs": []
    },
    {
      "cell_type": "markdown",
      "source": [
        "## 2) **Tipificación**: convertir tipos (números/fechas)\n",
        "\n",
        "Muchos datasets vienen con formato local distinto al que utilizamos (puntos de miles y coma decimal) y fechas como texto. Si no tipificamos, puede ocurrir que Pandas trate esos campos como strings. Por lo cual el objetivo de la tipificacion es llevar cada columna a su tipo correcto (numérico/fecha) para poder analizar sin errores y con buena performance."
      ],
      "metadata": {
        "id": "tgegnUemPaR5"
      }
    },
    {
      "cell_type": "code",
      "source": [
        "## trabajamos sobre una copia para conservar el original\n",
        "df = practica.copy()\n",
        "\n",
        "# 1) Normalizar números en formato “AR/ES” (miles='.', decimales=',') → formato estándar con punto decimal\n",
        "# astype(str) pone toda la columna en formato texto para poder usar str de forma segura y vectorizada\n",
        "df['monto'] = (df['monto'].astype(str)\n",
        "                .str.replace('.', '', regex=False)  # quita separadores de miles\n",
        "                .str.replace(',', '.', regex=False))# convierte la coma decimal a punto\n",
        "\n",
        "# 2) Convertir a numérico y los valores inválidos a NaN\n",
        "df['monto'] = pd.to_numeric(df['monto'], errors='coerce')\n",
        "\n",
        "# 3) Parsear fechas desde texto (día/mes primero) a datetime y los valores inválidos a NaT\n",
        "df['fecha'] = pd.to_datetime(df['fecha'], errors='coerce', dayfirst=True)\n",
        "\n",
        "# 4) Ajustar tipos “óptimos” de pandas (Int64, string, boolean, etc.)\n",
        "df = df.convert_dtypes()\n",
        "\n",
        "df.dtypes  # verificación: confirma tipos finales por columna"
      ],
      "metadata": {
        "id": "_aceuL_cPe4X"
      },
      "execution_count": null,
      "outputs": []
    },
    {
      "cell_type": "markdown",
      "metadata": {
        "id": "-4OUUwUUvR-a"
      },
      "source": [
        "# Datos faltantes / perdidos"
      ]
    },
    {
      "cell_type": "markdown",
      "metadata": {
        "id": "T-fpzMocvR-b"
      },
      "source": [
        "¿Por qué importan y cómo los tratamos?\n",
        "\n",
        "En datasets reales es habitual que falten valores (no medidos, errores de carga, formatos inconsistentes). Ignorarlos distorsiona análisis y rompe modelos.\n",
        "\n",
        "Por ello nuestro objetivo es detectar, hacer visibles los faltantes (muchas veces aparecen recién al tipificar números/fechas) y decidir un tratamiento coherente con el problema.\n",
        "\n",
        "Causas típicas:\n",
        "\n",
        "- No se midió / no aplica.\n",
        "\n",
        "- Error de captura o formato (“quince”, fecha inválida).\n",
        "\n",
        "- Integración de fuentes heterogéneas.\n",
        "\n",
        "¿Còmo tratarlos?:\n",
        "\n",
        "1-Diagnosticar.\n",
        "\n",
        "2-Tipificar: convertir números y fechas para revelar NA ocultos.\n",
        "\n",
        "3-Decidir: imputar (mediana/0/forward fill), dejar NA o descartar filas/columnas según impacto.\n",
        "\n",
        "4-Validar: revisar estadísticas antes/después\n",
        "\n",
        "5-Documentar: anotar por qué se eligió cada criterio.\n",
        "\n",
        "**Importante hay que decidir con criterio, no “por defecto”; diferenciá el cero de desconocido y conservá una versión original para comparar los cambios.**\n"
      ]
    },
    {
      "cell_type": "markdown",
      "source": [
        "`isna()` retorna una serie booleana con True donde hay valores nulos (`NaN` o `None`)"
      ],
      "metadata": {
        "id": "Iu_ni7CCPyWe"
      }
    },
    {
      "cell_type": "code",
      "source": [
        "# ¿Dónde faltan datos?\n",
        "practica.isna()"
      ],
      "metadata": {
        "id": "Gm-G60yvP1vE"
      },
      "execution_count": null,
      "outputs": []
    },
    {
      "cell_type": "code",
      "source": [
        "  # ¿Dónde faltan datos? máscara booleana fila a fila\n",
        "practica['fecha'].isna()"
      ],
      "metadata": {
        "id": "PFWvNsoMP4RB"
      },
      "execution_count": null,
      "outputs": []
    },
    {
      "cell_type": "code",
      "source": [
        "# ¿Cuantos por columna?\n",
        "practica.isna().sum()"
      ],
      "metadata": {
        "id": "KmhVnHhXP6FK"
      },
      "execution_count": null,
      "outputs": []
    },
    {
      "cell_type": "code",
      "source": [
        "# ¿Que % por columna?\n",
        "practica[['nombre','monto','fecha']].isna().mean().round(2)"
      ],
      "metadata": {
        "id": "FIaf-axFP8sq"
      },
      "execution_count": null,
      "outputs": []
    },
    {
      "cell_type": "code",
      "source": [
        "# ¿que columnas tinen todos NA?\n",
        "practica.isna().all()"
      ],
      "metadata": {
        "id": "jhrylQjMP-mD"
      },
      "execution_count": null,
      "outputs": []
    },
    {
      "cell_type": "code",
      "source": [
        "# que columnas tienen al menos algun NA\n",
        "practica.isna().any()"
      ],
      "metadata": {
        "id": "ILKfo_pZQATY"
      },
      "execution_count": null,
      "outputs": []
    },
    {
      "cell_type": "code",
      "source": [
        "practica"
      ],
      "metadata": {
        "id": "tXhuwsTEQCU4"
      },
      "execution_count": null,
      "outputs": []
    },
    {
      "cell_type": "markdown",
      "source": [
        "## Como encontramos valores NA"
      ],
      "metadata": {
        "id": "QdqTASNJQHes"
      }
    },
    {
      "cell_type": "code",
      "source": [
        "# que columnas tienen al menos algun NA\n",
        "practica.isna().any()"
      ],
      "metadata": {
        "id": "2OX_A6d_QJhV"
      },
      "execution_count": null,
      "outputs": []
    },
    {
      "cell_type": "code",
      "source": [
        "#que filas tienen todos NA\n",
        "practica.isna().all(axis=1)"
      ],
      "metadata": {
        "id": "KohYepuqQSu_"
      },
      "execution_count": null,
      "outputs": []
    },
    {
      "cell_type": "code",
      "source": [
        "# que fila tienen al menos algun NA\n",
        "practica.isna().any(axis=1)"
      ],
      "metadata": {
        "id": "fQJ-QpYjQU98"
      },
      "execution_count": null,
      "outputs": []
    },
    {
      "cell_type": "code",
      "source": [
        "# cuantos na hay en cada fila\n",
        "practica.isna().sum(axis=\"columns\")"
      ],
      "metadata": {
        "id": "rFlzthAUQXKl"
      },
      "execution_count": null,
      "outputs": []
    },
    {
      "cell_type": "markdown",
      "source": [
        "## Filtrar datos perdidos (dropna)"
      ],
      "metadata": {
        "id": "dgu_scynhryA"
      }
    },
    {
      "cell_type": "markdown",
      "source": [
        "Existe dos metodos utiles para manipular datos perdidos o no disponibles\n",
        "\n",
        "* dropna() -> sirve para **quitar** datos cuando hay datos \"no disponibles\" (NA o perdidos)\n",
        "* fillna() -> sirve para **completar** cuando hay datos perdidos"
      ],
      "metadata": {
        "id": "g2Nlfl72RA1d"
      }
    },
    {
      "cell_type": "markdown",
      "source": [
        "`dropna` retorna un nuevo dataframe filtrando los valores null"
      ],
      "metadata": {
        "id": "MLf_-vDGRJ2R"
      }
    },
    {
      "cell_type": "code",
      "source": [
        "practica.dropna()"
      ],
      "metadata": {
        "id": "MgJFls7ZRJg6"
      },
      "execution_count": null,
      "outputs": []
    },
    {
      "cell_type": "markdown",
      "source": [
        "Existen muchas opciones para controlar el comportamiento de [`dropna`](https://pandas.pydata.org/pandas-docs/stable/reference/api/pandas.DataFrame.dropna.html) en series y en dataframe"
      ],
      "metadata": {
        "id": "dtfa0eMcRWwi"
      }
    },
    {
      "cell_type": "code",
      "execution_count": null,
      "metadata": {
        "id": "okQSENhJiXVJ"
      },
      "outputs": [],
      "source": [
        "# armamos un dataset con varios datos NA\n",
        "data = pd.DataFrame([[1., 6.5, 3.],\n",
        "                     [1., np.nan, np.nan],\n",
        "                     [np.nan, np.nan, np.nan],\n",
        "                     [np.nan, 6.5, 3.]])\n",
        "\n",
        "data.columns = [\"A\", \"B\", \"C\"]\n",
        "\n",
        "data"
      ]
    },
    {
      "cell_type": "code",
      "source": [
        "# quita todos los renglones con algun NA (not available)\n",
        "data.dropna()"
      ],
      "metadata": {
        "id": "7U9spnVEfdzw"
      },
      "execution_count": null,
      "outputs": []
    },
    {
      "cell_type": "markdown",
      "source": [
        "Con `how` definimos como quitar.\n",
        "* \"any\" quita la fila si al menos hay algun NA. (default)\n",
        "* \"all\" quita solo si todos son NA"
      ],
      "metadata": {
        "id": "Ed6WBHzNSIPb"
      }
    },
    {
      "cell_type": "code",
      "source": [
        "data.dropna(how=\"all\")"
      ],
      "metadata": {
        "id": "hmKA11obSUr2"
      },
      "execution_count": null,
      "outputs": []
    },
    {
      "cell_type": "markdown",
      "metadata": {
        "id": "88nDFmelvR-h"
      },
      "source": [
        "Parametro `axis` indica que eliminar.\n",
        "\n",
        "* 'index' o 0 : remueve renglones\n",
        "* 'columns' o 1 : remueve columnas."
      ]
    },
    {
      "cell_type": "code",
      "execution_count": null,
      "metadata": {
        "id": "gg3_sknzvR-i"
      },
      "outputs": [],
      "source": [
        "# agregamos una columna toda NA\n",
        "data[\"D\"] = np.nan\n",
        "\n",
        "# mostramos\n",
        "data"
      ]
    },
    {
      "cell_type": "code",
      "execution_count": null,
      "metadata": {
        "id": "00RG_LhnvR-i"
      },
      "outputs": [],
      "source": [
        "# removemos la unica columna que tiene todos sus valores NA\n",
        "data.dropna(axis=\"columns\", how=\"all\")"
      ]
    },
    {
      "cell_type": "markdown",
      "metadata": {
        "id": "CYCgaAJWvR-i"
      },
      "source": [
        "El parámetro `tresh` indica desde cuando opera `dropna`. `dropna` funciona cuando la cantidad de NA son mayor o igual a `tresh`"
      ]
    },
    {
      "cell_type": "code",
      "execution_count": null,
      "metadata": {
        "id": "au0jHShwvR-i"
      },
      "outputs": [],
      "source": [
        "#Df para ejemplo\n",
        "df = pd.DataFrame(np.random.standard_normal((7, 3)))\n",
        "df"
      ]
    },
    {
      "cell_type": "code",
      "source": [
        "# agregamos algunos NaN\n",
        "df.iloc[0:4, 1] = np.nan\n",
        "df.iloc[0:2, 2] = np.nan\n",
        "df"
      ],
      "metadata": {
        "id": "PCsZIObzSwB5"
      },
      "execution_count": null,
      "outputs": []
    },
    {
      "cell_type": "code",
      "source": [
        "df.dropna()"
      ],
      "metadata": {
        "id": "2WALWk9_S8Q1"
      },
      "execution_count": null,
      "outputs": []
    },
    {
      "cell_type": "code",
      "execution_count": null,
      "metadata": {
        "id": "1ace_uj2vR-j"
      },
      "outputs": [],
      "source": [
        "# quita cuando hay dos o mas Nan\n",
        "df.dropna(thresh=2)"
      ]
    },
    {
      "cell_type": "code",
      "source": [
        "# dropear cuando hay nan en la serie 2\n",
        "df.dropna(subset=[2])"
      ],
      "metadata": {
        "id": "G5SQoXlPTDAc"
      },
      "execution_count": null,
      "outputs": []
    },
    {
      "cell_type": "markdown",
      "source": [
        "## Llenar datos perdidos (fillna)"
      ],
      "metadata": {
        "id": "5VTXVs1UTIvB"
      }
    },
    {
      "cell_type": "markdown",
      "source": [
        "fillna se puede usar para llenar / completar los datos perdidos."
      ],
      "metadata": {
        "id": "aoKeCF72TMTR"
      }
    },
    {
      "cell_type": "code",
      "execution_count": null,
      "metadata": {
        "id": "WR_QKEJnvR-j"
      },
      "outputs": [],
      "source": [
        "# armamos dataframe de ejemplo\n",
        "df = pd.DataFrame(np.random.standard_normal((7, 3)))\n",
        "df.iloc[:4, 1] = np.nan\n",
        "df.iloc[:2, 2] = np.nan\n",
        "df"
      ]
    },
    {
      "cell_type": "markdown",
      "metadata": {
        "id": "sEOw6_d-vR-k"
      },
      "source": [
        "`fillna` retorna un DataFrame llenando cualquier valor NA con el valor especificado"
      ]
    },
    {
      "cell_type": "code",
      "execution_count": null,
      "metadata": {
        "id": "yn-s-z7_vR-l"
      },
      "outputs": [],
      "source": [
        "df.fillna(0)"
      ]
    },
    {
      "cell_type": "markdown",
      "metadata": {
        "id": "HSA6nOU3vR-l"
      },
      "source": [
        "Podemos hacer que funcione con ciertos valores para cada columna"
      ]
    },
    {
      "cell_type": "code",
      "execution_count": null,
      "metadata": {
        "id": "mKT2BV8UvR-l"
      },
      "outputs": [],
      "source": [
        "# usar 0.5 para la segunda columna y 0.0 para la última\n",
        "df.fillna({1: 0.5, 2: 7})"
      ]
    },
    {
      "cell_type": "code",
      "source": [
        "# renobramos las columnas\n",
        "df.columns = [\"A\", \"B\", \"C\"]\n",
        "df"
      ],
      "metadata": {
        "id": "dA6heJzNOnlC"
      },
      "execution_count": null,
      "outputs": []
    },
    {
      "cell_type": "code",
      "source": [
        "# Lo mas comun es tener series con nombres de strings\n",
        "df.fillna({\"B\": 0.5, \"C\": 0})"
      ],
      "metadata": {
        "id": "aX-dY4KtPUr7"
      },
      "execution_count": null,
      "outputs": []
    },
    {
      "cell_type": "markdown",
      "metadata": {
        "id": "0QMVGATDvR-l"
      },
      "source": [
        "El parámetro `method` permite definir con que valores completa.\n",
        "* `ffill` completa el valor con el último valor del eje 'yendo hacia adelante'.\n",
        "* `bfill` completa el valor con el último valor del eje 'yendo hacia atras'.\n"
      ]
    },
    {
      "cell_type": "code",
      "execution_count": null,
      "metadata": {
        "id": "G-J50eQCvR-m"
      },
      "outputs": [],
      "source": [
        "# Creamos Df de ejemplo y le agregamos NaN\n",
        "df = pd.DataFrame(np.random.standard_normal((6, 3)), columns=[\"A\", \"B\", \"C\"])\n",
        "df.iloc[2:, 1] = np.nan\n",
        "df.iloc[4:, 2] = np.nan\n",
        "df"
      ]
    },
    {
      "cell_type": "code",
      "execution_count": null,
      "metadata": {
        "id": "5I8Y6RIpvR-m"
      },
      "outputs": [],
      "source": [
        "#completa el valor con el último valor del eje 'yendo hacia adelante'.\n",
        "df.ffill()"
      ]
    },
    {
      "cell_type": "markdown",
      "source": [
        "Podemos ffill y bfill para completar datos de solo ciertas columnas usando indexación de los dataframe"
      ],
      "metadata": {
        "id": "UJ5C4o5UUbt4"
      }
    },
    {
      "cell_type": "code",
      "execution_count": null,
      "metadata": {
        "id": "2Bk4_I8CvR-m"
      },
      "outputs": [],
      "source": [
        "df[\"B\"]"
      ]
    },
    {
      "cell_type": "code",
      "source": [
        "#Completamos varias columnas (por columna, vertical)\n",
        "df[[\"B\",\"C\"]].ffill()"
      ],
      "metadata": {
        "id": "BBPuYT3oamdb"
      },
      "execution_count": null,
      "outputs": []
    },
    {
      "cell_type": "markdown",
      "metadata": {
        "id": "Fb7J5z28vR-n"
      },
      "source": [
        "Podemos usar los valores estadísticos para completar los NAs."
      ]
    },
    {
      "cell_type": "markdown",
      "metadata": {
        "id": "j4xd6NRRvR-n"
      },
      "source": [
        "Por ejemplo, completar los NA de una `Serie`| con su **media**."
      ]
    },
    {
      "cell_type": "code",
      "execution_count": null,
      "metadata": {
        "id": "HDi2SlsovR-n"
      },
      "outputs": [],
      "source": [
        "#creamos serie para el ejemplo\n",
        "data = pd.Series([1., np.nan, 3.5, np.nan, 7])\n",
        "data"
      ]
    },
    {
      "cell_type": "code",
      "source": [
        "#Rellena los NaN con la media de la serie (la media se calcula ignorando los NaN).\n",
        "data.fillna(data.mean())"
      ],
      "metadata": {
        "id": "ydl2eeDPVO7a"
      },
      "execution_count": null,
      "outputs": []
    },
    {
      "cell_type": "markdown",
      "metadata": {
        "id": "pgFIoNflvR-n"
      },
      "source": [
        "## Transformar con inplace"
      ]
    },
    {
      "cell_type": "code",
      "source": [
        "# armamos dataframe de ejemplo\n",
        "df = pd.DataFrame(np.random.standard_normal((6, 3)))\n",
        "df.iloc[2:, 1] = np.nan\n",
        "df.iloc[4:, 2] = np.nan\n",
        "df"
      ],
      "metadata": {
        "id": "NI_U6cG_VrjA"
      },
      "execution_count": null,
      "outputs": []
    },
    {
      "cell_type": "code",
      "execution_count": null,
      "metadata": {
        "id": "TKEAA6JPvR-n"
      },
      "outputs": [],
      "source": [
        "#Eliminar filas con 2 valores NO nulos\n",
        "df.dropna(thresh=2, inplace=True)\n",
        "df"
      ]
    },
    {
      "cell_type": "markdown",
      "metadata": {
        "id": "K2EK9U-vvR-o"
      },
      "source": [
        "# Transformaciones"
      ]
    },
    {
      "cell_type": "markdown",
      "source": [
        "## Quitar duplicados"
      ],
      "metadata": {
        "id": "YIuwOruTCOwg"
      }
    },
    {
      "cell_type": "markdown",
      "source": [
        "A continuación un conjunto de funciones de pandas utiles para poder transformar los datos con el fin de limpiarlos y preparlos."
      ],
      "metadata": {
        "id": "85yXp-ssIezR"
      }
    },
    {
      "cell_type": "code",
      "source": [
        "# DataFrame de ejemplo\n",
        "df = pd.DataFrame({\n",
        "    \"k1\": [\"A\",\"A\",\"B\",\"B\",\"B\",\"C\"],\n",
        "    \"k2\": [ 1 , 1 , 1 , 2 , 2 , 3 ]\n",
        "})\n",
        "print(df)"
      ],
      "metadata": {
        "id": "ZPoTDPSUKSI1"
      },
      "execution_count": null,
      "outputs": []
    },
    {
      "cell_type": "markdown",
      "source": [
        "El método `duplicate` sirve para encontrar renglones repetidos que tengan valores repetidos en todas o algunas columnas. Si hay varios duplicados, mantiene el primero y marca el resto como duplicados."
      ],
      "metadata": {
        "id": "VLbJFX7uI7Y5"
      }
    },
    {
      "cell_type": "code",
      "execution_count": null,
      "metadata": {
        "id": "TYu8KJPtvR-o"
      },
      "outputs": [],
      "source": [
        "df.duplicated()\n",
        "#devuelve una Serie booleana: False en la 1ª aparición, True en repeticiones"
      ]
    },
    {
      "cell_type": "markdown",
      "source": [
        "`drop_duplicates` sirve para elimnar los duplicados. Si hay varios duplicados, mantiene el primero y elimina el resto como duplicados."
      ],
      "metadata": {
        "id": "8UbrDm_2L7h0"
      }
    },
    {
      "cell_type": "code",
      "execution_count": null,
      "metadata": {
        "id": "obOsdtFEvR-o"
      },
      "outputs": [],
      "source": [
        "df.drop_duplicates()"
      ]
    },
    {
      "cell_type": "markdown",
      "source": [
        "Podemos elegir quedarnos con los últimos duplicados"
      ],
      "metadata": {
        "id": "-VIm6b5xlA3P"
      }
    },
    {
      "cell_type": "code",
      "source": [
        "df.drop_duplicates(subset=[\"k1\"], keep='last')"
      ],
      "metadata": {
        "id": "63fUxC6Xk7qd"
      },
      "execution_count": null,
      "outputs": []
    },
    {
      "cell_type": "markdown",
      "source": [
        "## Quitar ejes"
      ],
      "metadata": {
        "id": "2KshU13mdXgj"
      }
    },
    {
      "cell_type": "markdown",
      "source": [
        "Método `drop`\n"
      ],
      "metadata": {
        "id": "1Q5qSeq9djZg"
      }
    },
    {
      "cell_type": "code",
      "source": [
        "k1 = [\"one\", \"two\"] * 3 + [\"two\"]\n",
        "k2 = [1, 1, 2, 3, 3, 4, 4]\n",
        "v1 = [0, 1, 2, 3, 4, 5, 6]\n",
        "\n",
        "data = pd.DataFrame({\"k1\": k1,\n",
        "                     \"k2\": k2,\n",
        "                     \"v1\": v1 })\n",
        "data"
      ],
      "metadata": {
        "id": "xQ1GSenwdiVs"
      },
      "execution_count": null,
      "outputs": []
    },
    {
      "cell_type": "markdown",
      "source": [
        "Eliminar filas por su `index`"
      ],
      "metadata": {
        "id": "OhQhtwH4eG6h"
      }
    },
    {
      "cell_type": "code",
      "source": [
        "data.drop(index=[0,2,4,6])"
      ],
      "metadata": {
        "id": "1SmIhIfAeNk5"
      },
      "execution_count": null,
      "outputs": []
    },
    {
      "cell_type": "markdown",
      "source": [
        "Eliminar columnas"
      ],
      "metadata": {
        "id": "2IfRlGdkd9m1"
      }
    },
    {
      "cell_type": "code",
      "source": [
        "data.drop(columns=[\"v1\"])"
      ],
      "metadata": {
        "id": "hQhwpxSqd9Dp"
      },
      "execution_count": null,
      "outputs": []
    },
    {
      "cell_type": "markdown",
      "source": [
        "## Remplazar valores"
      ],
      "metadata": {
        "id": "hzcXLLiFWQkD"
      }
    },
    {
      "cell_type": "code",
      "execution_count": null,
      "metadata": {
        "id": "bd3d-85JvR-q"
      },
      "outputs": [],
      "source": [
        "data = pd.Series([1., -999., 2., -999., -1000., 3. ,2, 4, 7])\n",
        "data"
      ]
    },
    {
      "cell_type": "markdown",
      "source": [
        "Otra manera de realizar transformaciones es con [`replace`](https://pandas.pydata.org/pandas-docs/stable/reference/api/pandas.DataFrame.replace.html)\n",
        "\n",
        "Supongamos que detectamos valores extremos que no corresponde a una medición con sentido."
      ],
      "metadata": {
        "id": "L1VsrjLKWUlJ"
      }
    },
    {
      "cell_type": "code",
      "execution_count": null,
      "metadata": {
        "id": "imUEwYtYvR-q"
      },
      "outputs": [],
      "source": [
        "# podemos reemplazar de aun valor\n",
        "data.replace(-999, np.nan)"
      ]
    },
    {
      "cell_type": "code",
      "execution_count": null,
      "metadata": {
        "id": "z312WcVnvR-q"
      },
      "outputs": [],
      "source": [
        "# si pasamos una lista podemos reemplazar varios valores en unico valor\n",
        "data.replace([-999, -1000], np.nan)"
      ]
    },
    {
      "cell_type": "code",
      "execution_count": null,
      "metadata": {
        "id": "bGKwO3ibvR-q"
      },
      "outputs": [],
      "source": [
        "# podemos reemplazar varios valores y asignar un con una lista el valor\n",
        "# por el cual reemplazar\n",
        "data.replace([-999, -1000], [np.nan, 0])"
      ]
    },
    {
      "cell_type": "markdown",
      "source": [
        "## Renombrar indices y columnas"
      ],
      "metadata": {
        "id": "XSOwPsma5qe1"
      }
    },
    {
      "cell_type": "code",
      "execution_count": null,
      "metadata": {
        "id": "oGDd5PSGvR-r"
      },
      "outputs": [],
      "source": [
        "data = pd.DataFrame(np.arange(12).reshape((3, 4)),\n",
        "                    index=[\"Ohio\", \"Colorado\", \"New York\"],\n",
        "                    columns=[\"one\", \"two\", \"three\", \"four\"])\n",
        "data"
      ]
    },
    {
      "cell_type": "markdown",
      "source": [
        "Podemos cambiarlo obteniendo el indice y luego modificarlo"
      ],
      "metadata": {
        "id": "luRMSz0T6g-7"
      }
    },
    {
      "cell_type": "code",
      "execution_count": null,
      "metadata": {
        "id": "gyPlCJPnvR-r"
      },
      "outputs": [],
      "source": [
        "# Este es el indice original\n",
        "data.index"
      ]
    },
    {
      "cell_type": "code",
      "source": [
        "def transform(x):\n",
        "    return x[:4].upper() #toma los 4 primeros caracteres y los convierte a MAYÚSCULAS\n",
        "\n",
        "data.index.map(transform) #aplica 'transform' a cada etiqueta del índice y devuelve un NUEVO Index"
      ],
      "metadata": {
        "id": "hF2_-v3q6ZnI"
      },
      "execution_count": null,
      "outputs": []
    },
    {
      "cell_type": "code",
      "execution_count": null,
      "metadata": {
        "id": "RJDvIbV0vR-r"
      },
      "outputs": [],
      "source": [
        "# map retorna un nuevo index. Ahora actualizamos el nuevo indice\n",
        "data.index = data.index.map(transform)\n",
        "data"
      ]
    },
    {
      "cell_type": "markdown",
      "source": [
        "Con `rename` podemos cambiar los indices y las columnas de manera más concisa y flexible. Ver documentación [rename](https://pandas.pydata.org/pandas-docs/stable/reference/api/pandas.DataFrame.rename.html)  "
      ],
      "metadata": {
        "id": "X4mZJspo8gMj"
      }
    },
    {
      "cell_type": "code",
      "source": [
        "data = pd.DataFrame(np.arange(12).reshape((3, 4)),\n",
        "                    index=[\"Ohio\", \"Colorado\", \"New York\"],\n",
        "                    columns=[\"one\", \"two\", \"three\", \"four\"])\n",
        "data"
      ],
      "metadata": {
        "id": "qG03e4m4_o9b"
      },
      "execution_count": null,
      "outputs": []
    },
    {
      "cell_type": "code",
      "execution_count": null,
      "metadata": {
        "id": "jpUuHshLvR-s"
      },
      "outputs": [],
      "source": [
        "# o podemos pasar un diccionario\n",
        "data.rename(index={\"Ohio\": \"Indiana\"},\n",
        "           o\" columns={\"three\": \"peekabo})"
      ]
    },
    {
      "cell_type": "code",
      "execution_count": null,
      "metadata": {
        "id": "pwnyyiYjvR-r"
      },
      "outputs": [],
      "source": [
        "# podemos pasar funciones para que realicen el cambio\n",
        "data.rename(index=str.title, columns=str.upper)\n",
        "#El index se transforman con str.title (cada palabra en Title, 1ra letra mayuscula).\n",
        "#Las columnas se transforman con str.upper (MAYÚSCULAS)."
      ]
    },
    {
      "cell_type": "markdown",
      "source": [
        "`rename` no modifica los valores del dataframe, para eso podemos usar la opcion `inplace=True`"
      ],
      "metadata": {
        "id": "ITJg8HlIBSQ0"
      }
    },
    {
      "cell_type": "code",
      "source": [
        "data.rename(index=str.title, columns=str.upper, inplace=True)\n",
        "data"
      ],
      "metadata": {
        "id": "8vKbx28Z_U9R"
      },
      "execution_count": null,
      "outputs": []
    }
  ],
  "metadata": {
    "kernelspec": {
      "display_name": "Python 3 (ipykernel)",
      "language": "python",
      "name": "python3"
    },
    "language_info": {
      "codemirror_mode": {
        "name": "ipython",
        "version": 3
      },
      "file_extension": ".py",
      "mimetype": "text/x-python",
      "name": "python",
      "nbconvert_exporter": "python",
      "pygments_lexer": "ipython3",
      "version": "3.10.10"
    },
    "colab": {
      "provenance": [],
      "include_colab_link": true
    }
  },
  "nbformat": 4,
  "nbformat_minor": 0
}